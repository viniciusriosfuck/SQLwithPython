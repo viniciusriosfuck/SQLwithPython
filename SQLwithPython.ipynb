{
  "nbformat": 4,
  "nbformat_minor": 0,
  "metadata": {
    "colab": {
      "name": "SQLwithPython.ipynb",
      "provenance": [],
      "collapsed_sections": [
        "gsb_IiWzsX3m",
        "YWpHyr8RCBrv",
        "1KQ_wgybB_Z4",
        "g0anWxWBCN9_",
        "bWwhdMy71yDy",
        "S0MYiKQiCWlu",
        "_ezFP8E_CmIn",
        "Rq5diGfFCr5U",
        "TZn17KAcC2GK",
        "VfwV_12n3I4-"
      ],
      "toc_visible": true,
      "authorship_tag": "ABX9TyMWDhJDlMpBMbsXYmycl3qa",
      "include_colab_link": true
    },
    "kernelspec": {
      "name": "python3",
      "display_name": "Python 3"
    }
  },
  "cells": [
    {
      "cell_type": "markdown",
      "metadata": {
        "id": "view-in-github",
        "colab_type": "text"
      },
      "source": [
        "<a href=\"https://colab.research.google.com/github/viniciusriosfuck/SQLwithPython/blob/main/SQLwithPython.ipynb\" target=\"_parent\"><img src=\"https://colab.research.google.com/assets/colab-badge.svg\" alt=\"Open In Colab\"/></a>"
      ]
    },
    {
      "cell_type": "markdown",
      "metadata": {
        "id": "Lhd3prrKn9RR"
      },
      "source": [
        "# SQL with Python\r\n",
        "\r\n",
        "\r\n",
        "\r\n",
        "\r\n"
      ]
    },
    {
      "cell_type": "markdown",
      "metadata": {
        "id": "oq1rN2mjpWKP"
      },
      "source": [
        "## General stuff\r\n",
        "\r\n",
        "https://www.udemy.com/course/learn-microsoft-sql-t-sql-beginner-to-expert/\r\n",
        "\r\n",
        "ANSI: American National Standards Institute\r\n",
        "\r\n",
        "T-SQL: Transact SQL (Microsoft): declarative\r\n",
        "\r\n",
        "PL/SQL: (Oracle)\r\n",
        "\r\n",
        "\r\n",
        "RDBMS: Relation Database Management System\r\n",
        "\r\n",
        "SQL Server (Microsoft): RDBMS\r\n",
        "\r\n",
        "Oracle, MySQL, PostgreSQL\r\n",
        "\r\n",
        "Normalization Levels: Forms (1,2,3NF)\r\n",
        "* avoid data redundancy with use of Foreign Keys\r\n",
        "* 1NF\r\n",
        "    * elimante repeating groups of entities into individual tables\r\n",
        "* 2NF\r\n",
        "    * create separate tables for sets of values that apply to multiple records\r\n",
        "* 3NF\r\n",
        "    * Eliminates fields that does not depende on the PK\r\n",
        "\r\n",
        "\r\n",
        "Modifying data\r\n",
        "* INSERT\r\n",
        "* UPDATE\r\n",
        "* DELETE\r\n",
        "\r\n",
        "Filter: Where\r\n",
        "* basic equality / comparison\r\n",
        "* basic logical\r\n",
        "* string comparison\r\n",
        "* NULL comparison\r\n"
      ]
    },
    {
      "cell_type": "markdown",
      "metadata": {
        "id": "WubRBEZUs4SN"
      },
      "source": [
        "## Pandas as SQL"
      ]
    },
    {
      "cell_type": "markdown",
      "metadata": {
        "id": "V3dB60sE8iET"
      },
      "source": [
        "https://towardsdatascience.com/using-the-pandas-data-frame-as-a-database-282edec5a3ab"
      ]
    },
    {
      "cell_type": "code",
      "metadata": {
        "colab": {
          "base_uri": "https://localhost:8080/",
          "height": 197
        },
        "id": "ek03s7g-n8Fb",
        "outputId": "c242bb49-b9b9-43cd-9737-5bb7686f4c98"
      },
      "source": [
        "import pandas as pd\r\n",
        "\r\n",
        "df = pd.DataFrame({'Company Name':['Google', 'Microsoft', 'SpaceX', 'Amazon', 'Samsung'], \r\n",
        "                   'Founders':['Larry Page, Sergey Brin', 'Bill Gates, Paul Allen','Elon Musk','Jeff Bezos', 'Lee Byung-chul'], \r\n",
        "                   'Founded': [1998, 1975, 2002, 1994, 1938], \r\n",
        "                   'Number of Employees': ['103,459', '144,106', '6,500', '647,500', '320,671']})\r\n",
        "df\r\n"
      ],
      "execution_count": 1,
      "outputs": [
        {
          "output_type": "execute_result",
          "data": {
            "text/html": [
              "<div>\n",
              "<style scoped>\n",
              "    .dataframe tbody tr th:only-of-type {\n",
              "        vertical-align: middle;\n",
              "    }\n",
              "\n",
              "    .dataframe tbody tr th {\n",
              "        vertical-align: top;\n",
              "    }\n",
              "\n",
              "    .dataframe thead th {\n",
              "        text-align: right;\n",
              "    }\n",
              "</style>\n",
              "<table border=\"1\" class=\"dataframe\">\n",
              "  <thead>\n",
              "    <tr style=\"text-align: right;\">\n",
              "      <th></th>\n",
              "      <th>Company Name</th>\n",
              "      <th>Founders</th>\n",
              "      <th>Founded</th>\n",
              "      <th>Number of Employees</th>\n",
              "    </tr>\n",
              "  </thead>\n",
              "  <tbody>\n",
              "    <tr>\n",
              "      <th>0</th>\n",
              "      <td>Google</td>\n",
              "      <td>Larry Page, Sergey Brin</td>\n",
              "      <td>1998</td>\n",
              "      <td>103,459</td>\n",
              "    </tr>\n",
              "    <tr>\n",
              "      <th>1</th>\n",
              "      <td>Microsoft</td>\n",
              "      <td>Bill Gates, Paul Allen</td>\n",
              "      <td>1975</td>\n",
              "      <td>144,106</td>\n",
              "    </tr>\n",
              "    <tr>\n",
              "      <th>2</th>\n",
              "      <td>SpaceX</td>\n",
              "      <td>Elon Musk</td>\n",
              "      <td>2002</td>\n",
              "      <td>6,500</td>\n",
              "    </tr>\n",
              "    <tr>\n",
              "      <th>3</th>\n",
              "      <td>Amazon</td>\n",
              "      <td>Jeff Bezos</td>\n",
              "      <td>1994</td>\n",
              "      <td>647,500</td>\n",
              "    </tr>\n",
              "    <tr>\n",
              "      <th>4</th>\n",
              "      <td>Samsung</td>\n",
              "      <td>Lee Byung-chul</td>\n",
              "      <td>1938</td>\n",
              "      <td>320,671</td>\n",
              "    </tr>\n",
              "  </tbody>\n",
              "</table>\n",
              "</div>"
            ],
            "text/plain": [
              "  Company Name                 Founders  Founded Number of Employees\n",
              "0       Google  Larry Page, Sergey Brin     1998             103,459\n",
              "1    Microsoft   Bill Gates, Paul Allen     1975             144,106\n",
              "2       SpaceX                Elon Musk     2002               6,500\n",
              "3       Amazon               Jeff Bezos     1994             647,500\n",
              "4      Samsung           Lee Byung-chul     1938             320,671"
            ]
          },
          "metadata": {
            "tags": []
          },
          "execution_count": 1
        }
      ]
    },
    {
      "cell_type": "markdown",
      "metadata": {
        "id": "8_Yd6JlRqaHF"
      },
      "source": [
        "### Insert / Append"
      ]
    },
    {
      "cell_type": "code",
      "metadata": {
        "colab": {
          "base_uri": "https://localhost:8080/",
          "height": 227
        },
        "id": "143C1Cx2qXA_",
        "outputId": "ea013c64-c0a0-4956-ed18-462f8292439f"
      },
      "source": [
        "df1 = pd.DataFrame({'Company Name':['WhatsApp'], 'Founders':['Jan Koum, Brian Acton'], 'Founded': [2009], 'Number of Employees': ['50'] })\r\n",
        "\r\n",
        "df = df.append(df1, ignore_index=True)\r\n",
        "df"
      ],
      "execution_count": 2,
      "outputs": [
        {
          "output_type": "execute_result",
          "data": {
            "text/html": [
              "<div>\n",
              "<style scoped>\n",
              "    .dataframe tbody tr th:only-of-type {\n",
              "        vertical-align: middle;\n",
              "    }\n",
              "\n",
              "    .dataframe tbody tr th {\n",
              "        vertical-align: top;\n",
              "    }\n",
              "\n",
              "    .dataframe thead th {\n",
              "        text-align: right;\n",
              "    }\n",
              "</style>\n",
              "<table border=\"1\" class=\"dataframe\">\n",
              "  <thead>\n",
              "    <tr style=\"text-align: right;\">\n",
              "      <th></th>\n",
              "      <th>Company Name</th>\n",
              "      <th>Founders</th>\n",
              "      <th>Founded</th>\n",
              "      <th>Number of Employees</th>\n",
              "    </tr>\n",
              "  </thead>\n",
              "  <tbody>\n",
              "    <tr>\n",
              "      <th>0</th>\n",
              "      <td>Google</td>\n",
              "      <td>Larry Page, Sergey Brin</td>\n",
              "      <td>1998</td>\n",
              "      <td>103,459</td>\n",
              "    </tr>\n",
              "    <tr>\n",
              "      <th>1</th>\n",
              "      <td>Microsoft</td>\n",
              "      <td>Bill Gates, Paul Allen</td>\n",
              "      <td>1975</td>\n",
              "      <td>144,106</td>\n",
              "    </tr>\n",
              "    <tr>\n",
              "      <th>2</th>\n",
              "      <td>SpaceX</td>\n",
              "      <td>Elon Musk</td>\n",
              "      <td>2002</td>\n",
              "      <td>6,500</td>\n",
              "    </tr>\n",
              "    <tr>\n",
              "      <th>3</th>\n",
              "      <td>Amazon</td>\n",
              "      <td>Jeff Bezos</td>\n",
              "      <td>1994</td>\n",
              "      <td>647,500</td>\n",
              "    </tr>\n",
              "    <tr>\n",
              "      <th>4</th>\n",
              "      <td>Samsung</td>\n",
              "      <td>Lee Byung-chul</td>\n",
              "      <td>1938</td>\n",
              "      <td>320,671</td>\n",
              "    </tr>\n",
              "    <tr>\n",
              "      <th>5</th>\n",
              "      <td>WhatsApp</td>\n",
              "      <td>Jan Koum, Brian Acton</td>\n",
              "      <td>2009</td>\n",
              "      <td>50</td>\n",
              "    </tr>\n",
              "  </tbody>\n",
              "</table>\n",
              "</div>"
            ],
            "text/plain": [
              "  Company Name                 Founders  Founded Number of Employees\n",
              "0       Google  Larry Page, Sergey Brin     1998             103,459\n",
              "1    Microsoft   Bill Gates, Paul Allen     1975             144,106\n",
              "2       SpaceX                Elon Musk     2002               6,500\n",
              "3       Amazon               Jeff Bezos     1994             647,500\n",
              "4      Samsung           Lee Byung-chul     1938             320,671\n",
              "5     WhatsApp    Jan Koum, Brian Acton     2009                  50"
            ]
          },
          "metadata": {
            "tags": []
          },
          "execution_count": 2
        }
      ]
    },
    {
      "cell_type": "markdown",
      "metadata": {
        "id": "750xiUUlqoFN"
      },
      "source": [
        "### Delete / Drop"
      ]
    },
    {
      "cell_type": "code",
      "metadata": {
        "colab": {
          "base_uri": "https://localhost:8080/",
          "height": 197
        },
        "id": "h8qxvVDwqqku",
        "outputId": "43afd7f9-c617-4925-acb1-8251a4628547"
      },
      "source": [
        "df = df.drop([df.index[5]])\r\n",
        "df"
      ],
      "execution_count": 3,
      "outputs": [
        {
          "output_type": "execute_result",
          "data": {
            "text/html": [
              "<div>\n",
              "<style scoped>\n",
              "    .dataframe tbody tr th:only-of-type {\n",
              "        vertical-align: middle;\n",
              "    }\n",
              "\n",
              "    .dataframe tbody tr th {\n",
              "        vertical-align: top;\n",
              "    }\n",
              "\n",
              "    .dataframe thead th {\n",
              "        text-align: right;\n",
              "    }\n",
              "</style>\n",
              "<table border=\"1\" class=\"dataframe\">\n",
              "  <thead>\n",
              "    <tr style=\"text-align: right;\">\n",
              "      <th></th>\n",
              "      <th>Company Name</th>\n",
              "      <th>Founders</th>\n",
              "      <th>Founded</th>\n",
              "      <th>Number of Employees</th>\n",
              "    </tr>\n",
              "  </thead>\n",
              "  <tbody>\n",
              "    <tr>\n",
              "      <th>0</th>\n",
              "      <td>Google</td>\n",
              "      <td>Larry Page, Sergey Brin</td>\n",
              "      <td>1998</td>\n",
              "      <td>103,459</td>\n",
              "    </tr>\n",
              "    <tr>\n",
              "      <th>1</th>\n",
              "      <td>Microsoft</td>\n",
              "      <td>Bill Gates, Paul Allen</td>\n",
              "      <td>1975</td>\n",
              "      <td>144,106</td>\n",
              "    </tr>\n",
              "    <tr>\n",
              "      <th>2</th>\n",
              "      <td>SpaceX</td>\n",
              "      <td>Elon Musk</td>\n",
              "      <td>2002</td>\n",
              "      <td>6,500</td>\n",
              "    </tr>\n",
              "    <tr>\n",
              "      <th>3</th>\n",
              "      <td>Amazon</td>\n",
              "      <td>Jeff Bezos</td>\n",
              "      <td>1994</td>\n",
              "      <td>647,500</td>\n",
              "    </tr>\n",
              "    <tr>\n",
              "      <th>4</th>\n",
              "      <td>Samsung</td>\n",
              "      <td>Lee Byung-chul</td>\n",
              "      <td>1938</td>\n",
              "      <td>320,671</td>\n",
              "    </tr>\n",
              "  </tbody>\n",
              "</table>\n",
              "</div>"
            ],
            "text/plain": [
              "  Company Name                 Founders  Founded Number of Employees\n",
              "0       Google  Larry Page, Sergey Brin     1998             103,459\n",
              "1    Microsoft   Bill Gates, Paul Allen     1975             144,106\n",
              "2       SpaceX                Elon Musk     2002               6,500\n",
              "3       Amazon               Jeff Bezos     1994             647,500\n",
              "4      Samsung           Lee Byung-chul     1938             320,671"
            ]
          },
          "metadata": {
            "tags": []
          },
          "execution_count": 3
        }
      ]
    },
    {
      "cell_type": "code",
      "metadata": {
        "colab": {
          "base_uri": "https://localhost:8080/",
          "height": 167
        },
        "id": "V2SYOXvqqsG9",
        "outputId": "22628027-6749-4400-ae48-e6c2a54468e5"
      },
      "source": [
        "df = df[df.Founders != 'Larry Page, Sergey Brin']\r\n",
        "df"
      ],
      "execution_count": 4,
      "outputs": [
        {
          "output_type": "execute_result",
          "data": {
            "text/html": [
              "<div>\n",
              "<style scoped>\n",
              "    .dataframe tbody tr th:only-of-type {\n",
              "        vertical-align: middle;\n",
              "    }\n",
              "\n",
              "    .dataframe tbody tr th {\n",
              "        vertical-align: top;\n",
              "    }\n",
              "\n",
              "    .dataframe thead th {\n",
              "        text-align: right;\n",
              "    }\n",
              "</style>\n",
              "<table border=\"1\" class=\"dataframe\">\n",
              "  <thead>\n",
              "    <tr style=\"text-align: right;\">\n",
              "      <th></th>\n",
              "      <th>Company Name</th>\n",
              "      <th>Founders</th>\n",
              "      <th>Founded</th>\n",
              "      <th>Number of Employees</th>\n",
              "    </tr>\n",
              "  </thead>\n",
              "  <tbody>\n",
              "    <tr>\n",
              "      <th>1</th>\n",
              "      <td>Microsoft</td>\n",
              "      <td>Bill Gates, Paul Allen</td>\n",
              "      <td>1975</td>\n",
              "      <td>144,106</td>\n",
              "    </tr>\n",
              "    <tr>\n",
              "      <th>2</th>\n",
              "      <td>SpaceX</td>\n",
              "      <td>Elon Musk</td>\n",
              "      <td>2002</td>\n",
              "      <td>6,500</td>\n",
              "    </tr>\n",
              "    <tr>\n",
              "      <th>3</th>\n",
              "      <td>Amazon</td>\n",
              "      <td>Jeff Bezos</td>\n",
              "      <td>1994</td>\n",
              "      <td>647,500</td>\n",
              "    </tr>\n",
              "    <tr>\n",
              "      <th>4</th>\n",
              "      <td>Samsung</td>\n",
              "      <td>Lee Byung-chul</td>\n",
              "      <td>1938</td>\n",
              "      <td>320,671</td>\n",
              "    </tr>\n",
              "  </tbody>\n",
              "</table>\n",
              "</div>"
            ],
            "text/plain": [
              "  Company Name                Founders  Founded Number of Employees\n",
              "1    Microsoft  Bill Gates, Paul Allen     1975             144,106\n",
              "2       SpaceX               Elon Musk     2002               6,500\n",
              "3       Amazon              Jeff Bezos     1994             647,500\n",
              "4      Samsung          Lee Byung-chul     1938             320,671"
            ]
          },
          "metadata": {
            "tags": []
          },
          "execution_count": 4
        }
      ]
    },
    {
      "cell_type": "markdown",
      "metadata": {
        "id": "P0JxBM9QqvMQ"
      },
      "source": [
        "### Select / loc / iloc"
      ]
    },
    {
      "cell_type": "code",
      "metadata": {
        "colab": {
          "base_uri": "https://localhost:8080/"
        },
        "id": "X2m_p6w5quqn",
        "outputId": "e16e54d0-d293-4530-bac2-6d48b29ade51"
      },
      "source": [
        "df.loc[2]"
      ],
      "execution_count": 5,
      "outputs": [
        {
          "output_type": "execute_result",
          "data": {
            "text/plain": [
              "Company Name              SpaceX\n",
              "Founders               Elon Musk\n",
              "Founded                     2002\n",
              "Number of Employees        6,500\n",
              "Name: 2, dtype: object"
            ]
          },
          "metadata": {
            "tags": []
          },
          "execution_count": 5
        }
      ]
    },
    {
      "cell_type": "markdown",
      "metadata": {
        "id": "qV1s7lyWq1VX"
      },
      "source": [
        "### Update / at"
      ]
    },
    {
      "cell_type": "code",
      "metadata": {
        "colab": {
          "base_uri": "https://localhost:8080/",
          "height": 167
        },
        "id": "ftzQM_U7q0xJ",
        "outputId": "f7a70cd9-803a-4a98-d3ef-4c87ba3b8b66"
      },
      "source": [
        "df.at[1, 'Number of Employees'] = '200,000'\r\n",
        "df # This is after the change of value (Microsoft)"
      ],
      "execution_count": 6,
      "outputs": [
        {
          "output_type": "execute_result",
          "data": {
            "text/html": [
              "<div>\n",
              "<style scoped>\n",
              "    .dataframe tbody tr th:only-of-type {\n",
              "        vertical-align: middle;\n",
              "    }\n",
              "\n",
              "    .dataframe tbody tr th {\n",
              "        vertical-align: top;\n",
              "    }\n",
              "\n",
              "    .dataframe thead th {\n",
              "        text-align: right;\n",
              "    }\n",
              "</style>\n",
              "<table border=\"1\" class=\"dataframe\">\n",
              "  <thead>\n",
              "    <tr style=\"text-align: right;\">\n",
              "      <th></th>\n",
              "      <th>Company Name</th>\n",
              "      <th>Founders</th>\n",
              "      <th>Founded</th>\n",
              "      <th>Number of Employees</th>\n",
              "    </tr>\n",
              "  </thead>\n",
              "  <tbody>\n",
              "    <tr>\n",
              "      <th>1</th>\n",
              "      <td>Microsoft</td>\n",
              "      <td>Bill Gates, Paul Allen</td>\n",
              "      <td>1975</td>\n",
              "      <td>200,000</td>\n",
              "    </tr>\n",
              "    <tr>\n",
              "      <th>2</th>\n",
              "      <td>SpaceX</td>\n",
              "      <td>Elon Musk</td>\n",
              "      <td>2002</td>\n",
              "      <td>6,500</td>\n",
              "    </tr>\n",
              "    <tr>\n",
              "      <th>3</th>\n",
              "      <td>Amazon</td>\n",
              "      <td>Jeff Bezos</td>\n",
              "      <td>1994</td>\n",
              "      <td>647,500</td>\n",
              "    </tr>\n",
              "    <tr>\n",
              "      <th>4</th>\n",
              "      <td>Samsung</td>\n",
              "      <td>Lee Byung-chul</td>\n",
              "      <td>1938</td>\n",
              "      <td>320,671</td>\n",
              "    </tr>\n",
              "  </tbody>\n",
              "</table>\n",
              "</div>"
            ],
            "text/plain": [
              "  Company Name                Founders  Founded Number of Employees\n",
              "1    Microsoft  Bill Gates, Paul Allen     1975             200,000\n",
              "2       SpaceX               Elon Musk     2002               6,500\n",
              "3       Amazon              Jeff Bezos     1994             647,500\n",
              "4      Samsung          Lee Byung-chul     1938             320,671"
            ]
          },
          "metadata": {
            "tags": []
          },
          "execution_count": 6
        }
      ]
    },
    {
      "cell_type": "code",
      "metadata": {
        "colab": {
          "base_uri": "https://localhost:8080/",
          "height": 274
        },
        "id": "3G5-EMExrG7F",
        "outputId": "4f244de4-7e83-4d56-fa33-7556c8d6862b"
      },
      "source": [
        "df.iloc[3] = ['YouTube', 'Chad Hurley, Steve Chen, Jawed Karim', 2005, '2,800']\r\n",
        "df"
      ],
      "execution_count": 7,
      "outputs": [
        {
          "output_type": "stream",
          "text": [
            "/usr/local/lib/python3.7/dist-packages/pandas/core/indexing.py:1758: SettingWithCopyWarning: \n",
            "A value is trying to be set on a copy of a slice from a DataFrame.\n",
            "Try using .loc[row_indexer,col_indexer] = value instead\n",
            "\n",
            "See the caveats in the documentation: https://pandas.pydata.org/pandas-docs/stable/user_guide/indexing.html#returning-a-view-versus-a-copy\n",
            "  isetter(loc, v)\n"
          ],
          "name": "stderr"
        },
        {
          "output_type": "execute_result",
          "data": {
            "text/html": [
              "<div>\n",
              "<style scoped>\n",
              "    .dataframe tbody tr th:only-of-type {\n",
              "        vertical-align: middle;\n",
              "    }\n",
              "\n",
              "    .dataframe tbody tr th {\n",
              "        vertical-align: top;\n",
              "    }\n",
              "\n",
              "    .dataframe thead th {\n",
              "        text-align: right;\n",
              "    }\n",
              "</style>\n",
              "<table border=\"1\" class=\"dataframe\">\n",
              "  <thead>\n",
              "    <tr style=\"text-align: right;\">\n",
              "      <th></th>\n",
              "      <th>Company Name</th>\n",
              "      <th>Founders</th>\n",
              "      <th>Founded</th>\n",
              "      <th>Number of Employees</th>\n",
              "    </tr>\n",
              "  </thead>\n",
              "  <tbody>\n",
              "    <tr>\n",
              "      <th>1</th>\n",
              "      <td>Microsoft</td>\n",
              "      <td>Bill Gates, Paul Allen</td>\n",
              "      <td>1975</td>\n",
              "      <td>200,000</td>\n",
              "    </tr>\n",
              "    <tr>\n",
              "      <th>2</th>\n",
              "      <td>SpaceX</td>\n",
              "      <td>Elon Musk</td>\n",
              "      <td>2002</td>\n",
              "      <td>6,500</td>\n",
              "    </tr>\n",
              "    <tr>\n",
              "      <th>3</th>\n",
              "      <td>Amazon</td>\n",
              "      <td>Jeff Bezos</td>\n",
              "      <td>1994</td>\n",
              "      <td>647,500</td>\n",
              "    </tr>\n",
              "    <tr>\n",
              "      <th>4</th>\n",
              "      <td>YouTube</td>\n",
              "      <td>Chad Hurley, Steve Chen, Jawed Karim</td>\n",
              "      <td>2005</td>\n",
              "      <td>2,800</td>\n",
              "    </tr>\n",
              "  </tbody>\n",
              "</table>\n",
              "</div>"
            ],
            "text/plain": [
              "  Company Name  ... Number of Employees\n",
              "1    Microsoft  ...             200,000\n",
              "2       SpaceX  ...               6,500\n",
              "3       Amazon  ...             647,500\n",
              "4      YouTube  ...               2,800\n",
              "\n",
              "[4 rows x 4 columns]"
            ]
          },
          "metadata": {
            "tags": []
          },
          "execution_count": 7
        }
      ]
    },
    {
      "cell_type": "markdown",
      "metadata": {
        "id": "SrKKVtZJs6uV"
      },
      "source": [
        "## SQL in Pandas (sqlalchemy)\r\n",
        "\r\n",
        "https://stackoverflow.com/questions/12047193/how-to-convert-sql-query-result-to-pandas-data-structure"
      ]
    },
    {
      "cell_type": "markdown",
      "metadata": {
        "id": "gsb_IiWzsX3m"
      },
      "source": [
        "### df to SQL"
      ]
    },
    {
      "cell_type": "code",
      "metadata": {
        "colab": {
          "base_uri": "https://localhost:8080/"
        },
        "id": "InHsOl9-sbei",
        "outputId": "8a6b9f5f-3cb1-47c5-aa62-72b03aaa65a0"
      },
      "source": [
        "from sqlalchemy import create_engine\r\n",
        "engine = create_engine('sqlite://', echo=False)\r\n",
        "\r\n",
        "df = pd.DataFrame({'name' : ['User 1', 'User 2', 'User 3']})\r\n",
        "df.to_sql('users', con=engine)\r\n",
        "engine.execute(\"SELECT * FROM users\").fetchall()\r\n"
      ],
      "execution_count": 8,
      "outputs": [
        {
          "output_type": "execute_result",
          "data": {
            "text/plain": [
              "[(0, 'User 1'), (1, 'User 2'), (2, 'User 3')]"
            ]
          },
          "metadata": {
            "tags": []
          },
          "execution_count": 8
        }
      ]
    },
    {
      "cell_type": "code",
      "metadata": {
        "colab": {
          "base_uri": "https://localhost:8080/"
        },
        "id": "FMu6PJFnsenn",
        "outputId": "d1c1871a-9822-4bcb-c4b4-bae658bf6cb3"
      },
      "source": [
        "with engine.begin() as connection:\r\n",
        "    df1 = pd.DataFrame({'name' : ['User 4', 'User 5']})\r\n",
        "    df1.to_sql('users', con=connection, if_exists='append')\r\n",
        "engine.execute(\"SELECT * FROM users\").fetchall()"
      ],
      "execution_count": 9,
      "outputs": [
        {
          "output_type": "execute_result",
          "data": {
            "text/plain": [
              "[(0, 'User 1'), (1, 'User 2'), (2, 'User 3'), (0, 'User 4'), (1, 'User 5')]"
            ]
          },
          "metadata": {
            "tags": []
          },
          "execution_count": 9
        }
      ]
    },
    {
      "cell_type": "code",
      "metadata": {
        "colab": {
          "base_uri": "https://localhost:8080/"
        },
        "id": "Gl5GupIKq0uY",
        "outputId": "1acebb47-ac05-4e2d-c1a5-bb52e02fcdee"
      },
      "source": [
        "df2 = pd.DataFrame({'name' : ['User 6', 'User 7']})\r\n",
        "df2.to_sql('users', con=engine, if_exists='append')\r\n",
        "engine.execute(\"SELECT * FROM users\").fetchall()"
      ],
      "execution_count": 10,
      "outputs": [
        {
          "output_type": "execute_result",
          "data": {
            "text/plain": [
              "[(0, 'User 1'),\n",
              " (1, 'User 2'),\n",
              " (2, 'User 3'),\n",
              " (0, 'User 4'),\n",
              " (1, 'User 5'),\n",
              " (0, 'User 6'),\n",
              " (1, 'User 7')]"
            ]
          },
          "metadata": {
            "tags": []
          },
          "execution_count": 10
        }
      ]
    },
    {
      "cell_type": "code",
      "metadata": {
        "colab": {
          "base_uri": "https://localhost:8080/"
        },
        "id": "P0WGGr1Mq0rX",
        "outputId": "434394ee-fa6b-4d68-e379-564560285fc7"
      },
      "source": [
        "df2.to_sql('users', con=engine, if_exists='replace',\r\n",
        "           index_label='id')\r\n",
        "engine.execute(\"SELECT * FROM users\").fetchall()"
      ],
      "execution_count": 11,
      "outputs": [
        {
          "output_type": "execute_result",
          "data": {
            "text/plain": [
              "[(0, 'User 6'), (1, 'User 7')]"
            ]
          },
          "metadata": {
            "tags": []
          },
          "execution_count": 11
        }
      ]
    },
    {
      "cell_type": "code",
      "metadata": {
        "colab": {
          "base_uri": "https://localhost:8080/"
        },
        "id": "WPwmBpXBsuDN",
        "outputId": "171178bd-034a-41e1-fd02-729013aa14b9"
      },
      "source": [
        "df = pd.DataFrame({\"A\": [1, None, 2]})\r\n",
        "from sqlalchemy.types import Integer\r\n",
        "df.to_sql('integers', con=engine, index=False,\r\n",
        "          dtype={\"A\": Integer()})\r\n",
        "engine.execute(\"SELECT * FROM integers\").fetchall()"
      ],
      "execution_count": 12,
      "outputs": [
        {
          "output_type": "execute_result",
          "data": {
            "text/plain": [
              "[(1,), (None,), (2,)]"
            ]
          },
          "metadata": {
            "tags": []
          },
          "execution_count": 12
        }
      ]
    },
    {
      "cell_type": "markdown",
      "metadata": {
        "id": "EnUlyW90uBWm"
      },
      "source": [
        "https://docs.sqlalchemy.org/en/14/core/metadata.html"
      ]
    },
    {
      "cell_type": "code",
      "metadata": {
        "colab": {
          "base_uri": "https://localhost:8080/"
        },
        "id": "yQNbXsBSsxUW",
        "outputId": "14bccc99-92a9-45a5-a537-6f2b0969ef2c"
      },
      "source": [
        "from sqlalchemy import *\r\n",
        "\r\n",
        "metadata = MetaData()\r\n",
        "\r\n",
        "user = Table('user', metadata,\r\n",
        "    Column('user_id', Integer, primary_key=True),\r\n",
        "    Column('user_name', String(16), nullable=False),\r\n",
        "    Column('email_address', String(60)),\r\n",
        "    Column('nickname', String(50), nullable=False)\r\n",
        ")\r\n",
        "\r\n",
        "for t in metadata.sorted_tables:\r\n",
        "    print(t.name)"
      ],
      "execution_count": 13,
      "outputs": [
        {
          "output_type": "stream",
          "text": [
            "user\n"
          ],
          "name": "stdout"
        }
      ]
    },
    {
      "cell_type": "code",
      "metadata": {
        "id": "5RReFt2lth3m"
      },
      "source": [
        "employees = Table('employees', metadata,\r\n",
        "    Column('employee_id', Integer, primary_key=True),\r\n",
        "    Column('employee_name', String(60), nullable=False),\r\n",
        "    Column('employee_dept', Integer, ForeignKey(\"departments.department_id\"))\r\n",
        ")"
      ],
      "execution_count": 14,
      "outputs": []
    },
    {
      "cell_type": "code",
      "metadata": {
        "colab": {
          "base_uri": "https://localhost:8080/"
        },
        "id": "vesLkGceuOKs",
        "outputId": "951e4fd3-6761-45e8-bc87-1fbd7fee895d"
      },
      "source": [
        "# access the column \"EMPLOYEE_ID\":\r\n",
        "employees.columns.employee_id\r\n",
        "\r\n",
        "# or just\r\n",
        "employees.c.employee_id\r\n",
        "\r\n",
        "# via string\r\n",
        "employees.c['employee_id']\r\n",
        "\r\n",
        "# iterate through all columns\r\n",
        "for c in employees.c:\r\n",
        "    print(c)\r\n",
        "\r\n",
        "# get the table's primary key columns\r\n",
        "for primary_key in employees.primary_key:\r\n",
        "    print(primary_key)\r\n",
        "\r\n",
        "# get the table's foreign key objects:\r\n",
        "for fkey in employees.foreign_keys:\r\n",
        "    print(fkey)\r\n",
        "\r\n",
        "# access the table's MetaData:\r\n",
        "employees.metadata\r\n",
        "\r\n",
        "# access the table's bound Engine or Connection, if its MetaData is bound:\r\n",
        "employees.bind\r\n",
        "\r\n",
        "# access a column's name, type, nullable, primary key, foreign key\r\n",
        "employees.c.employee_id.name\r\n",
        "employees.c.employee_id.type\r\n",
        "employees.c.employee_id.nullable\r\n",
        "employees.c.employee_id.primary_key\r\n",
        "employees.c.employee_dept.foreign_keys\r\n",
        "\r\n",
        "# get the \"key\" of a column, which defaults to its name, but can\r\n",
        "# be any user-defined string:\r\n",
        "employees.c.employee_name.key\r\n",
        "\r\n",
        "# access a column's table:\r\n",
        "employees.c.employee_id.table is employees\r\n",
        "\r\n",
        "# get the table related by a foreign key\r\n",
        "# list(employees.c.employee_dept.foreign_keys)[0].column.table"
      ],
      "execution_count": 15,
      "outputs": [
        {
          "output_type": "stream",
          "text": [
            "employees.employee_id\n",
            "employees.employee_name\n",
            "employees.employee_dept\n",
            "employees.employee_id\n",
            "ForeignKey('departments.department_id')\n"
          ],
          "name": "stdout"
        },
        {
          "output_type": "execute_result",
          "data": {
            "text/plain": [
              "True"
            ]
          },
          "metadata": {
            "tags": []
          },
          "execution_count": 15
        }
      ]
    },
    {
      "cell_type": "code",
      "metadata": {
        "id": "xg7aEX_4uPLm"
      },
      "source": [
        "engine = create_engine('sqlite:///:memory:')\r\n",
        "\r\n",
        "metadata = MetaData()\r\n",
        "\r\n",
        "user = Table('user', metadata,\r\n",
        "    Column('user_id', Integer, primary_key=True),\r\n",
        "    Column('user_name', String(16), nullable=False),\r\n",
        "    Column('email_address', String(60), key='email'),\r\n",
        "    Column('nickname', String(50), nullable=False)\r\n",
        ")\r\n",
        "\r\n",
        "user_prefs = Table('user_prefs', metadata,\r\n",
        "    Column('pref_id', Integer, primary_key=True),\r\n",
        "    Column('user_id', Integer, ForeignKey(\"user.user_id\"), nullable=False),\r\n",
        "    Column('pref_name', String(40), nullable=False),\r\n",
        "    Column('pref_value', String(100))\r\n",
        ")\r\n",
        "\r\n",
        "metadata.create_all(engine)"
      ],
      "execution_count": 16,
      "outputs": []
    },
    {
      "cell_type": "code",
      "metadata": {
        "id": "kQZV0v1cujJu"
      },
      "source": [
        "engine = create_engine('sqlite:///:memory:')\r\n",
        "\r\n",
        "meta = MetaData()\r\n",
        "\r\n",
        "employees = Table('employees', meta,\r\n",
        "    Column('employee_id', Integer, primary_key=True),\r\n",
        "    Column('employee_name', String(60), nullable=False, key='name'),\r\n",
        "    # Column('employee_dept', Integer, ForeignKey(\"departments.department_id\"))\r\n",
        ")\r\n",
        "employees.create(engine)"
      ],
      "execution_count": 17,
      "outputs": []
    },
    {
      "cell_type": "code",
      "metadata": {
        "id": "AoOO1mWcun3G"
      },
      "source": [
        "employees.drop(engine)"
      ],
      "execution_count": 18,
      "outputs": []
    },
    {
      "cell_type": "code",
      "metadata": {
        "id": "zRvkCipTutm9"
      },
      "source": [
        "employees.create(engine, checkfirst=True)\r\n",
        "employees.drop(engine, checkfirst=False)"
      ],
      "execution_count": 19,
      "outputs": []
    },
    {
      "cell_type": "code",
      "metadata": {
        "id": "5N278hPguu_l"
      },
      "source": [
        "metadata = MetaData()\r\n",
        "\r\n",
        "financial_info = Table(\r\n",
        "    'financial_info',\r\n",
        "    metadata,\r\n",
        "    Column('id', Integer, primary_key=True),\r\n",
        "    Column('value', String(100), nullable=False),\r\n",
        "    schema='remote_banks'\r\n",
        ")"
      ],
      "execution_count": 20,
      "outputs": []
    },
    {
      "cell_type": "code",
      "metadata": {
        "id": "Sr8m44zluxdF"
      },
      "source": [
        "# print(select(financial_info))"
      ],
      "execution_count": 21,
      "outputs": []
    },
    {
      "cell_type": "code",
      "metadata": {
        "colab": {
          "base_uri": "https://localhost:8080/"
        },
        "id": "iwe0Kcq7uzNt",
        "outputId": "c461e880-1784-4680-d064-d44ba5ab668b"
      },
      "source": [
        "metadata.tables['remote_banks.financial_info']"
      ],
      "execution_count": 22,
      "outputs": [
        {
          "output_type": "execute_result",
          "data": {
            "text/plain": [
              "Table('financial_info', MetaData(bind=None), Column('id', Integer(), table=<financial_info>, primary_key=True, nullable=False), Column('value', String(length=100), table=<financial_info>, nullable=False), schema='remote_banks')"
            ]
          },
          "metadata": {
            "tags": []
          },
          "execution_count": 22
        }
      ]
    },
    {
      "cell_type": "code",
      "metadata": {
        "id": "quFI4Rf_u-UF"
      },
      "source": [
        "customer = Table(\r\n",
        "    \"customer\",\r\n",
        "    metadata,\r\n",
        "    Column('id', Integer, primary_key=True),\r\n",
        "    Column('financial_info_id', ForeignKey(\"remote_banks.financial_info.id\")),\r\n",
        "    schema='remote_banks'\r\n",
        ")"
      ],
      "execution_count": 23,
      "outputs": []
    },
    {
      "cell_type": "code",
      "metadata": {
        "id": "YjHZA-WMvBR1"
      },
      "source": [
        "schema=\"dbo.scott\""
      ],
      "execution_count": 24,
      "outputs": []
    },
    {
      "cell_type": "code",
      "metadata": {
        "id": "TC3RvVF8vC2u"
      },
      "source": [
        "metadata = MetaData(schema=\"remote_banks\")\r\n",
        "\r\n",
        "financial_info = Table(\r\n",
        "    'financial_info',\r\n",
        "    metadata,\r\n",
        "    Column('id', Integer, primary_key=True),\r\n",
        "    Column('value', String(100), nullable=False),\r\n",
        ")"
      ],
      "execution_count": 25,
      "outputs": []
    },
    {
      "cell_type": "code",
      "metadata": {
        "id": "NYGIDg49vE_d"
      },
      "source": [
        "# either will work:\r\n",
        "\r\n",
        "refers_to_financial_info = Table(\r\n",
        "    'refers_to_financial_info',\r\n",
        "    metadata,\r\n",
        "    Column('id', Integer, primary_key=True),\r\n",
        "    Column('fiid', ForeignKey('financial_info.id')),\r\n",
        ")\r\n",
        "\r\n",
        "\r\n",
        "# or\r\n",
        "\r\n",
        "# refers_to_financial_info = Table(\r\n",
        "#     'refers_to_financial_info',\r\n",
        "#     metadata,\r\n",
        "#     Column('id', Integer, primary_key=True),\r\n",
        "#     Column('fiid', ForeignKey('remote_banks.financial_info.id')),\r\n",
        "# )"
      ],
      "execution_count": 26,
      "outputs": []
    },
    {
      "cell_type": "code",
      "metadata": {
        "id": "GEqhhdYQvGrO"
      },
      "source": [
        "from sqlalchemy import BLANK_SCHEMA\r\n",
        "\r\n",
        "metadata = MetaData(schema=\"remote_banks\")\r\n",
        "\r\n",
        "financial_info = Table(\r\n",
        "    'financial_info',\r\n",
        "    metadata,\r\n",
        "    Column('id', Integer, primary_key=True),\r\n",
        "    Column('value', String(100), nullable=False),\r\n",
        "    schema=BLANK_SCHEMA  # will not use \"remote_banks\"\r\n",
        ")"
      ],
      "execution_count": 27,
      "outputs": []
    },
    {
      "cell_type": "code",
      "metadata": {
        "id": "exALY8FGvSit"
      },
      "source": [
        "addresses = Table('engine_email_addresses', meta,\r\n",
        "    Column('address_id', Integer, primary_key=True),\r\n",
        "    # Column('remote_user_id', Integer, ForeignKey(users.c.user_id)),\r\n",
        "    Column('email_address', String(20)),\r\n",
        "    mysql_engine='InnoDB'\r\n",
        ")"
      ],
      "execution_count": 28,
      "outputs": []
    },
    {
      "cell_type": "code",
      "metadata": {
        "colab": {
          "base_uri": "https://localhost:8080/"
        },
        "id": "lPUcEPeYvXfG",
        "outputId": "6a388a93-55a5-4f28-c9e1-47f2c2213dc1"
      },
      "source": [
        "for t in metadata.sorted_tables:\r\n",
        "    print(t.name)"
      ],
      "execution_count": 29,
      "outputs": [
        {
          "output_type": "stream",
          "text": [
            "financial_info\n"
          ],
          "name": "stdout"
        }
      ]
    },
    {
      "cell_type": "markdown",
      "metadata": {
        "id": "1QiA8EKpxcVy"
      },
      "source": [
        "# PandasSQL\r\n",
        "\r\n",
        "https://pypi.org/project/pandasql/\r\n",
        "\r\n",
        "https://www.kdnuggets.com/2017/02/python-speak-sql-pandasql.html"
      ]
    },
    {
      "cell_type": "code",
      "metadata": {
        "colab": {
          "base_uri": "https://localhost:8080/"
        },
        "id": "QZN9ducLxjKR",
        "outputId": "0e4cfb5a-5036-44ee-8afd-32fd0aa67c14"
      },
      "source": [
        "!pip install pandasql"
      ],
      "execution_count": 30,
      "outputs": [
        {
          "output_type": "stream",
          "text": [
            "Collecting pandasql\n",
            "  Downloading https://files.pythonhosted.org/packages/6b/c4/ee4096ffa2eeeca0c749b26f0371bd26aa5c8b611c43de99a4f86d3de0a7/pandasql-0.7.3.tar.gz\n",
            "Requirement already satisfied: numpy in /usr/local/lib/python3.7/dist-packages (from pandasql) (1.19.5)\n",
            "Requirement already satisfied: pandas in /usr/local/lib/python3.7/dist-packages (from pandasql) (1.1.5)\n",
            "Requirement already satisfied: sqlalchemy in /usr/local/lib/python3.7/dist-packages (from pandasql) (1.3.23)\n",
            "Requirement already satisfied: python-dateutil>=2.7.3 in /usr/local/lib/python3.7/dist-packages (from pandas->pandasql) (2.8.1)\n",
            "Requirement already satisfied: pytz>=2017.2 in /usr/local/lib/python3.7/dist-packages (from pandas->pandasql) (2018.9)\n",
            "Requirement already satisfied: six>=1.5 in /usr/local/lib/python3.7/dist-packages (from python-dateutil>=2.7.3->pandas->pandasql) (1.15.0)\n",
            "Building wheels for collected packages: pandasql\n",
            "  Building wheel for pandasql (setup.py) ... \u001b[?25l\u001b[?25hdone\n",
            "  Created wheel for pandasql: filename=pandasql-0.7.3-cp37-none-any.whl size=26820 sha256=b7e22582131b08ada1b4e54e807908f4cb202e19e44d09a27c35532097df5884\n",
            "  Stored in directory: /root/.cache/pip/wheels/53/6c/18/b87a2e5fa8a82e9c026311de56210b8d1c01846e18a9607fc9\n",
            "Successfully built pandasql\n",
            "Installing collected packages: pandasql\n",
            "Successfully installed pandasql-0.7.3\n"
          ],
          "name": "stdout"
        }
      ]
    },
    {
      "cell_type": "code",
      "metadata": {
        "colab": {
          "base_uri": "https://localhost:8080/",
          "height": 340
        },
        "id": "sQmxMCl1vcC1",
        "outputId": "d92e57fd-adbf-480c-d7d8-904b5eb92d75"
      },
      "source": [
        "#Checking out meat and birth data\r\n",
        "from pandasql import sqldf\r\n",
        "from pandasql import load_meat, load_births\r\n",
        "\r\n",
        "meat = load_meat()\r\n",
        "births = load_births()\r\n",
        "\r\n",
        "#You can inspect the dataframes directly if you're using Rodeo\r\n",
        "#These print statements are here just in case you want to check out your data in the editor, too\r\n",
        "print(meat.head())\r\n",
        "births.head()"
      ],
      "execution_count": 31,
      "outputs": [
        {
          "output_type": "stream",
          "text": [
            "        date   beef   veal  ...  broilers  other_chicken  turkey\n",
            "0 1944-01-01  751.0   85.0  ...       NaN            NaN     NaN\n",
            "1 1944-02-01  713.0   77.0  ...       NaN            NaN     NaN\n",
            "2 1944-03-01  741.0   90.0  ...       NaN            NaN     NaN\n",
            "3 1944-04-01  650.0   89.0  ...       NaN            NaN     NaN\n",
            "4 1944-05-01  681.0  106.0  ...       NaN            NaN     NaN\n",
            "\n",
            "[5 rows x 8 columns]\n"
          ],
          "name": "stdout"
        },
        {
          "output_type": "execute_result",
          "data": {
            "text/html": [
              "<div>\n",
              "<style scoped>\n",
              "    .dataframe tbody tr th:only-of-type {\n",
              "        vertical-align: middle;\n",
              "    }\n",
              "\n",
              "    .dataframe tbody tr th {\n",
              "        vertical-align: top;\n",
              "    }\n",
              "\n",
              "    .dataframe thead th {\n",
              "        text-align: right;\n",
              "    }\n",
              "</style>\n",
              "<table border=\"1\" class=\"dataframe\">\n",
              "  <thead>\n",
              "    <tr style=\"text-align: right;\">\n",
              "      <th></th>\n",
              "      <th>date</th>\n",
              "      <th>births</th>\n",
              "    </tr>\n",
              "  </thead>\n",
              "  <tbody>\n",
              "    <tr>\n",
              "      <th>0</th>\n",
              "      <td>1975-01-01</td>\n",
              "      <td>265775</td>\n",
              "    </tr>\n",
              "    <tr>\n",
              "      <th>1</th>\n",
              "      <td>1975-02-01</td>\n",
              "      <td>241045</td>\n",
              "    </tr>\n",
              "    <tr>\n",
              "      <th>2</th>\n",
              "      <td>1975-03-01</td>\n",
              "      <td>268849</td>\n",
              "    </tr>\n",
              "    <tr>\n",
              "      <th>3</th>\n",
              "      <td>1975-04-01</td>\n",
              "      <td>247455</td>\n",
              "    </tr>\n",
              "    <tr>\n",
              "      <th>4</th>\n",
              "      <td>1975-05-01</td>\n",
              "      <td>254545</td>\n",
              "    </tr>\n",
              "  </tbody>\n",
              "</table>\n",
              "</div>"
            ],
            "text/plain": [
              "        date  births\n",
              "0 1975-01-01  265775\n",
              "1 1975-02-01  241045\n",
              "2 1975-03-01  268849\n",
              "3 1975-04-01  247455\n",
              "4 1975-05-01  254545"
            ]
          },
          "metadata": {
            "tags": []
          },
          "execution_count": 31
        }
      ]
    },
    {
      "cell_type": "code",
      "metadata": {
        "colab": {
          "base_uri": "https://localhost:8080/",
          "height": 294
        },
        "id": "ESA-q65uwyC-",
        "outputId": "964a9cc9-711a-4912-a852-0b885cc0fe16"
      },
      "source": [
        "# Let's make a graph to visualize the data\r\n",
        "# Bet you haven't had a title quite like this before\r\n",
        "import matplotlib.pyplot as plt\r\n",
        "from pandasql import *\r\n",
        "import pandas as pd\r\n",
        "\r\n",
        "pysqldf = lambda q: sqldf(q, globals())\r\n",
        "\r\n",
        "q  = \"\"\"\r\n",
        "SELECT\r\n",
        "  m.date\r\n",
        "  , m.beef\r\n",
        "  , b.births\r\n",
        "FROM\r\n",
        "  meat m\r\n",
        "LEFT JOIN\r\n",
        "  births b\r\n",
        "    ON m.date = b.date\r\n",
        "WHERE\r\n",
        "    m.date > '1974-12-31';\r\n",
        "\"\"\"\r\n",
        "\r\n",
        "meat = load_meat()\r\n",
        "births = load_births()\r\n",
        "\r\n",
        "df = pysqldf(q)\r\n",
        "df.births = df.births.fillna(method='backfill')\r\n",
        "\r\n",
        "fig = plt.figure()\r\n",
        "ax1 = fig.add_subplot(111)\r\n",
        "ax1.plot(df[['beef']].rolling(12).mean(), color='b')\r\n",
        "ax1.set_xlabel('months since 1975')\r\n",
        "ax1.set_ylabel('cattle slaughtered', color='b')\r\n",
        "\r\n",
        "ax2 = ax1.twinx()\r\n",
        "ax2.plot(df[['births']].rolling(12).mean(), color='r')\r\n",
        "ax2.set_ylabel('babies born', color='r')\r\n",
        "plt.title(\"Beef Consumption and the Birth Rate\")\r\n",
        "plt.show()"
      ],
      "execution_count": 32,
      "outputs": [
        {
          "output_type": "display_data",
          "data": {
            "image/png": "[encoded data removed]",
            "text/plain": [
              "<Figure size 432x288 with 2 Axes>"
            ]
          },
          "metadata": {
            "tags": [],
            "needs_background": "light"
          }
        }
      ]
    },
    {
      "cell_type": "code",
      "metadata": {
        "colab": {
          "base_uri": "https://localhost:8080/"
        },
        "id": "W-qX1ESExqdF",
        "outputId": "7f6987e1-dd2b-47f1-d7be-dfe38458f184"
      },
      "source": [
        "q = \"\"\"\r\n",
        "    SELECT\r\n",
        "        *\r\n",
        "    FROM\r\n",
        "        meat\r\n",
        "    LIMIT 10;\"\"\"\r\n",
        "\r\n",
        "print(sqldf(q, locals()))"
      ],
      "execution_count": 33,
      "outputs": [
        {
          "output_type": "stream",
          "text": [
            "                         date   beef   veal  ...  broilers  other_chicken turkey\n",
            "0  1944-01-01 00:00:00.000000  751.0   85.0  ...      None           None   None\n",
            "1  1944-02-01 00:00:00.000000  713.0   77.0  ...      None           None   None\n",
            "2  1944-03-01 00:00:00.000000  741.0   90.0  ...      None           None   None\n",
            "3  1944-04-01 00:00:00.000000  650.0   89.0  ...      None           None   None\n",
            "4  1944-05-01 00:00:00.000000  681.0  106.0  ...      None           None   None\n",
            "5  1944-06-01 00:00:00.000000  658.0  125.0  ...      None           None   None\n",
            "6  1944-07-01 00:00:00.000000  662.0  142.0  ...      None           None   None\n",
            "7  1944-08-01 00:00:00.000000  787.0  175.0  ...      None           None   None\n",
            "8  1944-09-01 00:00:00.000000  774.0  182.0  ...      None           None   None\n",
            "9  1944-10-01 00:00:00.000000  834.0  215.0  ...      None           None   None\n",
            "\n",
            "[10 rows x 8 columns]\n"
          ],
          "name": "stdout"
        }
      ]
    },
    {
      "cell_type": "code",
      "metadata": {
        "colab": {
          "base_uri": "https://localhost:8080/"
        },
        "id": "sPtqzvI0yCKl",
        "outputId": "dbee77fe-b8d0-4d76-aff3-70f9b0df8277"
      },
      "source": [
        "# births per year\r\n",
        "q = \"\"\"\r\n",
        "    SELECT\r\n",
        "        strftime(\"%Y\", date)\r\n",
        "        , SUM(births)\r\n",
        "    FROM births\r\n",
        "    GROUP BY 1\r\n",
        "    ORDER BY 1;\r\n",
        "            \"\"\"\r\n",
        "\r\n",
        "print( sqldf(q, locals()))"
      ],
      "execution_count": 34,
      "outputs": [
        {
          "output_type": "stream",
          "text": [
            "   strftime(\"%Y\", date)  SUM(births)\n",
            "0                  1975      3136965\n",
            "1                  1976      6304156\n",
            "2                  1979      3333279\n",
            "3                  1982      3612258\n",
            "4                  1983      7333238\n",
            "5                  1986      7308074\n",
            "6                  1987      3760561\n",
            "7                  1988      3756547\n",
            "8                  1990      7718904\n",
            "9                  1991     11714356\n",
            "10                 1993      8194907\n",
            "11                 1995      4000240\n",
            "12                 1996      3952767\n",
            "13                 1997      3899589\n",
            "14                 1998      3891494\n",
            "15                 1999      3880894\n",
            "16                 2000      3941553\n",
            "17                 2001      8018231\n",
            "18                 2002      4025933\n",
            "19                 2003      4021726\n",
            "20                 2005      8210950\n",
            "21                 2007      4138349\n",
            "22                 2008      4265555\n",
            "23                 2011      4247694\n",
            "24                 2012      4130665\n"
          ],
          "name": "stdout"
        }
      ]
    },
    {
      "cell_type": "code",
      "metadata": {
        "colab": {
          "base_uri": "https://localhost:8080/"
        },
        "id": "CZvcqmwKyXRG",
        "outputId": "88100557-35fb-4af6-94b1-063eb48c32ec"
      },
      "source": [
        "def pysqldf(q):\r\n",
        "    return sqldf(q, globals())\r\n",
        "\r\n",
        "q = \"\"\"\r\n",
        "    SELECT\r\n",
        "        *\r\n",
        "    FROM\r\n",
        "        births\r\n",
        "    LIMIT 10;\"\"\"\r\n",
        "\r\n",
        "print(pysqldf(q))"
      ],
      "execution_count": 35,
      "outputs": [
        {
          "output_type": "stream",
          "text": [
            "                         date  births\n",
            "0  1975-01-01 00:00:00.000000  265775\n",
            "1  1975-02-01 00:00:00.000000  241045\n",
            "2  1975-03-01 00:00:00.000000  268849\n",
            "3  1975-04-01 00:00:00.000000  247455\n",
            "4  1975-05-01 00:00:00.000000  254545\n",
            "5  1975-06-01 00:00:00.000000  254096\n",
            "6  1975-07-01 00:00:00.000000  275163\n",
            "7  1975-08-01 00:00:00.000000  281300\n",
            "8  1975-09-01 00:00:00.000000  270738\n",
            "9  1975-10-01 00:00:00.000000  265494\n"
          ],
          "name": "stdout"
        }
      ]
    },
    {
      "cell_type": "code",
      "metadata": {
        "colab": {
          "base_uri": "https://localhost:8080/"
        },
        "id": "UPaPxsiGybCm",
        "outputId": "eaf9a745-2847-47be-a27b-e3edd80621d5"
      },
      "source": [
        "# joining meats + births on date\r\n",
        "q = \"\"\"\r\n",
        "    SELECT\r\n",
        "        m.date\r\n",
        "        , b.births\r\n",
        "        , m.beef\r\n",
        "    FROM\r\n",
        "        meat m\r\n",
        "    INNER JOIN\r\n",
        "        births b\r\n",
        "            on m.date = b.date\r\n",
        "    ORDER BY\r\n",
        "        m.date\r\n",
        "    LIMIT 100;\r\n",
        "    \"\"\"\r\n",
        "\r\n",
        "joined = pysqldf(q)\r\n",
        "print(joined.head())"
      ],
      "execution_count": 36,
      "outputs": [
        {
          "output_type": "stream",
          "text": [
            "                         date  births    beef\n",
            "0  1975-01-01 00:00:00.000000  265775  2106.0\n",
            "1  1975-02-01 00:00:00.000000  241045  1845.0\n",
            "2  1975-03-01 00:00:00.000000  268849  1891.0\n",
            "3  1975-04-01 00:00:00.000000  247455  1895.0\n",
            "4  1975-05-01 00:00:00.000000  254545  1849.0\n"
          ],
          "name": "stdout"
        }
      ]
    },
    {
      "cell_type": "code",
      "metadata": {
        "colab": {
          "base_uri": "https://localhost:8080/"
        },
        "id": "GmsT01tyyfL-",
        "outputId": "5ca85dbe-9542-4922-ad25-2e4f3a22a53e"
      },
      "source": [
        "q = \"\"\"\r\n",
        "    SELECT\r\n",
        "        date\r\n",
        "        , beef\r\n",
        "        , veal\r\n",
        "        , pork\r\n",
        "        , lamb_and_mutton\r\n",
        "    FROM\r\n",
        "        meat\r\n",
        "    WHERE\r\n",
        "        lamb_and_mutton >= veal\r\n",
        "    ORDER BY date DESC\r\n",
        "    LIMIT 10;\r\n",
        "    \"\"\"\r\n",
        "\r\n",
        "print(pysqldf(q))"
      ],
      "execution_count": 37,
      "outputs": [
        {
          "output_type": "stream",
          "text": [
            "                         date    beef  veal    pork  lamb_and_mutton\n",
            "0  2012-11-01 00:00:00.000000  2206.6  10.1  2078.7             12.4\n",
            "1  2012-10-01 00:00:00.000000  2343.7  10.3  2210.4             14.2\n",
            "2  2012-09-01 00:00:00.000000  2016.0   8.8  1911.0             12.5\n",
            "3  2012-08-01 00:00:00.000000  2367.5  10.1  1997.9             14.2\n",
            "4  2012-07-01 00:00:00.000000  2200.8   9.5  1721.8             12.5\n",
            "5  2012-06-01 00:00:00.000000  2252.1   8.9  1750.4             12.4\n",
            "6  2012-05-01 00:00:00.000000  2232.0  10.4  1926.8             13.6\n",
            "7  2012-04-01 00:00:00.000000  1990.6   9.9  1841.7             12.9\n",
            "8  2012-03-01 00:00:00.000000  2159.8  10.0  1987.9             14.2\n",
            "9  2012-02-01 00:00:00.000000  2009.0   9.8  1882.9             12.3\n"
          ],
          "name": "stdout"
        }
      ]
    },
    {
      "cell_type": "code",
      "metadata": {
        "colab": {
          "base_uri": "https://localhost:8080/"
        },
        "id": "8ljlAYxNyi3O",
        "outputId": "40ee912b-b888-4ac5-b90c-4a230a45a36b"
      },
      "source": [
        "#################################################\r\n",
        "# SQL FUNCTIONS\r\n",
        "# e.g. `RANDOM()`\r\n",
        "#################################################\r\n",
        "q = \"\"\"SELECT\r\n",
        "    *\r\n",
        "    FROM\r\n",
        "        meat\r\n",
        "    ORDER BY RANDOM()\r\n",
        "    LIMIT 10;\"\"\"\r\n",
        "print(pysqldf(q))\r\n",
        "#                   date  beef  veal  pork  lamb_and_mutton  broilers other_chicken  turkey\r\n",
        "# 0  1967-03-01 00:00:00  1693    65  1136               61     472.0          None    26.5\r\n",
        "# 1  1944-12-01 00:00:00   764   146  1013               91       NaN          None     NaN\r\n",
        "# 2  1969-06-01 00:00:00  1666    50   964               42     573.9          None    85.4\r\n",
        "# 3  1983-03-01 00:00:00  1892    37  1303               36    1106.2          None   182.7\r\n"
      ],
      "execution_count": 38,
      "outputs": [
        {
          "output_type": "stream",
          "text": [
            "                         date    beef   veal  ...  broilers  other_chicken  turkey\n",
            "0  2003-07-01 00:00:00.000000  2439.0   14.8  ...    2888.1           46.5   493.5\n",
            "1  1982-02-01 00:00:00.000000  1725.0   32.0  ...     902.2            NaN   123.3\n",
            "2  2012-11-01 00:00:00.000000  2206.6   10.1  ...    3006.7           37.5   515.3\n",
            "3  2006-08-01 00:00:00.000000  2450.0   12.8  ...    3133.9           46.3   501.0\n",
            "4  1988-09-01 00:00:00.000000  2041.0   33.0  ...    1378.7            NaN   365.8\n",
            "5  1961-03-01 00:00:00.000000  1242.0   82.0  ...     331.7            NaN    24.3\n",
            "6  1949-04-01 00:00:00.000000   721.0   91.0  ...       NaN            NaN     NaN\n",
            "7  1951-08-01 00:00:00.000000   767.0   98.0  ...       NaN            NaN     NaN\n",
            "8  1946-12-01 00:00:00.000000   856.0  114.0  ...       NaN            NaN     NaN\n",
            "9  2006-04-01 00:00:00.000000  1969.2   10.4  ...    2774.4           40.5   432.6\n",
            "\n",
            "[10 rows x 8 columns]\n"
          ],
          "name": "stdout"
        }
      ]
    },
    {
      "cell_type": "code",
      "metadata": {
        "colab": {
          "base_uri": "https://localhost:8080/"
        },
        "id": "SHVU-Lsuyr1J",
        "outputId": "d3825307-2ec7-4480-ba5e-f5fe922bb844"
      },
      "source": [
        "\r\n",
        "#################################################\r\n",
        "# UNION ALL\r\n",
        "#################################################\r\n",
        "q = \"\"\"\r\n",
        "        SELECT\r\n",
        "            date\r\n",
        "            , 'beef' AS meat_type\r\n",
        "            , beef AS value\r\n",
        "        FROM meat\r\n",
        "        UNION ALL\r\n",
        "        SELECT\r\n",
        "            date\r\n",
        "            , 'veal' AS meat_type\r\n",
        "            , veal AS value\r\n",
        "        FROM meat\r\n",
        "        UNION ALL\r\n",
        "        SELECT\r\n",
        "            date\r\n",
        "            , 'pork' AS meat_type\r\n",
        "            , pork AS value\r\n",
        "        FROM meat\r\n",
        "        UNION ALL\r\n",
        "        SELECT\r\n",
        "            date\r\n",
        "            , 'lamb_and_mutton' AS meat_type\r\n",
        "            , lamb_and_mutton AS value\r\n",
        "        FROM meat\r\n",
        "        ORDER BY 1\r\n",
        "    \"\"\"\r\n",
        "print(pysqldf(q).head(20))\r\n",
        "#                    date        meat_type  value\r\n",
        "# 0   1944-01-01 00:00:00             beef    751\r\n",
        "# 1   1944-01-01 00:00:00             veal     85\r\n",
        "# 2   1944-01-01 00:00:00             pork   1280\r\n",
        "# 3   1944-01-01 00:00:00  lamb_and_mutton     89\r\n"
      ],
      "execution_count": 39,
      "outputs": [
        {
          "output_type": "stream",
          "text": [
            "                          date        meat_type   value\n",
            "0   1944-01-01 00:00:00.000000             beef   751.0\n",
            "1   1944-01-01 00:00:00.000000             veal    85.0\n",
            "2   1944-01-01 00:00:00.000000             pork  1280.0\n",
            "3   1944-01-01 00:00:00.000000  lamb_and_mutton    89.0\n",
            "4   1944-02-01 00:00:00.000000             beef   713.0\n",
            "5   1944-02-01 00:00:00.000000             veal    77.0\n",
            "6   1944-02-01 00:00:00.000000             pork  1169.0\n",
            "7   1944-02-01 00:00:00.000000  lamb_and_mutton    72.0\n",
            "8   1944-03-01 00:00:00.000000             beef   741.0\n",
            "9   1944-03-01 00:00:00.000000             veal    90.0\n",
            "10  1944-03-01 00:00:00.000000             pork  1128.0\n",
            "11  1944-03-01 00:00:00.000000  lamb_and_mutton    75.0\n",
            "12  1944-04-01 00:00:00.000000             beef   650.0\n",
            "13  1944-04-01 00:00:00.000000             veal    89.0\n",
            "14  1944-04-01 00:00:00.000000             pork   978.0\n",
            "15  1944-04-01 00:00:00.000000  lamb_and_mutton    66.0\n",
            "16  1944-05-01 00:00:00.000000             beef   681.0\n",
            "17  1944-05-01 00:00:00.000000             veal   106.0\n",
            "18  1944-05-01 00:00:00.000000             pork  1029.0\n",
            "19  1944-05-01 00:00:00.000000  lamb_and_mutton    78.0\n"
          ],
          "name": "stdout"
        }
      ]
    },
    {
      "cell_type": "code",
      "metadata": {
        "colab": {
          "base_uri": "https://localhost:8080/"
        },
        "id": "v3lFfxGJyvQN",
        "outputId": "aed06a62-877f-4bdf-f293-ae6b7112417f"
      },
      "source": [
        "#################################################\r\n",
        "# subqueries\r\n",
        "# fancy!\r\n",
        "#################################################\r\n",
        "q = \"\"\"\r\n",
        "    SELECT\r\n",
        "        m1.date\r\n",
        "        , m1.beef\r\n",
        "    FROM\r\n",
        "        meat m1\r\n",
        "    WHERE m1.date IN\r\n",
        "        (SELECT\r\n",
        "            date\r\n",
        "        FROM meat\r\n",
        "        WHERE\r\n",
        "            beef >= broilers\r\n",
        "        ORDER BY date)\r\n",
        "\"\"\"\r\n",
        "\r\n",
        "more_beef_than_broilers = pysqldf(q)\r\n",
        "print(more_beef_than_broilers.head(10))\r\n",
        "#                   date  beef\r\n",
        "# 0  1960-01-01 00:00:00  1196\r\n",
        "# 1  1960-02-01 00:00:00  1089\r\n",
        "# 2  1960-03-01 00:00:00  1201\r\n",
        "# 3  1960-04-01 00:00:00  1066"
      ],
      "execution_count": 40,
      "outputs": [
        {
          "output_type": "stream",
          "text": [
            "                         date    beef\n",
            "0  1960-01-01 00:00:00.000000  1196.0\n",
            "1  1960-02-01 00:00:00.000000  1089.0\n",
            "2  1960-03-01 00:00:00.000000  1201.0\n",
            "3  1960-04-01 00:00:00.000000  1066.0\n",
            "4  1960-05-01 00:00:00.000000  1202.0\n",
            "5  1960-06-01 00:00:00.000000  1247.0\n",
            "6  1960-07-01 00:00:00.000000  1166.0\n",
            "7  1960-08-01 00:00:00.000000  1307.0\n",
            "8  1960-09-01 00:00:00.000000  1298.0\n",
            "9  1960-10-01 00:00:00.000000  1263.0\n"
          ],
          "name": "stdout"
        }
      ]
    },
    {
      "cell_type": "markdown",
      "metadata": {
        "id": "dERBs-N8AI6A"
      },
      "source": [
        "# SQLite in Python\r\n",
        "\r\n",
        "https://realpython.com/python-sql-libraries/"
      ]
    },
    {
      "cell_type": "code",
      "metadata": {
        "colab": {
          "base_uri": "https://localhost:8080/"
        },
        "id": "onPnjmENFYw4",
        "outputId": "22a2ba42-d4c2-4737-8fec-28eec6c2c06a"
      },
      "source": [
        "# Import pandas\r\n",
        "import pandas as pd \r\n",
        "\r\n",
        "# Import Twitter data as DataFrame: df\r\n",
        "# df = pd.read_csv('tweets.csv') \r\n",
        "df = pd.DataFrame(\r\n",
        "    data=[\r\n",
        "          'en',  # 1st row\r\n",
        "          'en',  # 2nd row\r\n",
        "          'und', # 3rd row\r\n",
        "          'et',  # 4th row\r\n",
        "          'und'  # 5th row\r\n",
        "          ],\r\n",
        "    columns=['lang']\r\n",
        ")\r\n",
        "\r\n",
        "# Initialize an empty dictionary: langs_count\r\n",
        "langs_count = {}\r\n",
        "\r\n",
        "# Extract column from DataFrame: col\r\n",
        "col = df['lang']\r\n",
        "\r\n",
        "print('before the loop, langs_count is an empty dict')\r\n",
        "print(langs_count, '\\n')\r\n",
        "# Iterate over lang column in DataFrame\r\n",
        "for ii, entry in enumerate(col):\r\n",
        "\r\n",
        "    # If the language is in langs_count, add 1 \r\n",
        "    if entry in langs_count.keys():\r\n",
        "        print(f'{ii}\\nif: the key \"{col.iloc[ii]}\" exists, so adds 1 to value')\r\n",
        "        langs_count[entry] += 1\r\n",
        "    # Else add the language to langs_count, set the value to 1\r\n",
        "    else:\r\n",
        "        print(f'{ii}\\nelse: the key \"{col.iloc[ii]}\" does not exist, so create it with value 1')\r\n",
        "        langs_count[entry] = 1\r\n",
        "    print(langs_count, '\\n')\r\n",
        "\r\n",
        "# Print the populated dictionary\r\n",
        "# print(langs_count)\r\n",
        "#{'en': 97, 'et': 1, 'und': 2}\r\n",
        "\r\n",
        "# the same could be reached through\r\n",
        "# without the need of loop or if / else\r\n",
        "print('value_counts solution')\r\n",
        "df['lang'].value_counts().to_dict()"
      ],
      "execution_count": 41,
      "outputs": [
        {
          "output_type": "stream",
          "text": [
            "before the loop, langs_count is an empty dict\n",
            "{} \n",
            "\n",
            "0\n",
            "else: the key \"en\" does not exist, so create it with value 1\n",
            "{'en': 1} \n",
            "\n",
            "1\n",
            "if: the key \"en\" exists, so adds 1 to value\n",
            "{'en': 2} \n",
            "\n",
            "2\n",
            "else: the key \"und\" does not exist, so create it with value 1\n",
            "{'en': 2, 'und': 1} \n",
            "\n",
            "3\n",
            "else: the key \"et\" does not exist, so create it with value 1\n",
            "{'en': 2, 'und': 1, 'et': 1} \n",
            "\n",
            "4\n",
            "if: the key \"und\" exists, so adds 1 to value\n",
            "{'en': 2, 'und': 2, 'et': 1} \n",
            "\n",
            "value_counts solution\n"
          ],
          "name": "stdout"
        },
        {
          "output_type": "execute_result",
          "data": {
            "text/plain": [
              "{'en': 2, 'et': 1, 'und': 2}"
            ]
          },
          "metadata": {
            "tags": []
          },
          "execution_count": 41
        }
      ]
    },
    {
      "cell_type": "code",
      "metadata": {
        "colab": {
          "base_uri": "https://localhost:8080/"
        },
        "id": "Cap8MK4932-f",
        "outputId": "47aa3fd4-7ec5-4e5b-d552-3011f9f7fe54"
      },
      "source": [
        "import sqlite3\r\n",
        "from sqlite3 import Error\r\n",
        "\r\n",
        "def create_connection(path):\r\n",
        "    connection = None\r\n",
        "    try:\r\n",
        "        connection = sqlite3.connect(path)\r\n",
        "        print(\"Connection to SQLite DB successful\")\r\n",
        "    except Error as e:\r\n",
        "        print(f\"The error '{e}' occurred\")\r\n",
        "\r\n",
        "    return connection\r\n",
        "\r\n",
        "\r\n",
        "def execute_query(connection, query):\r\n",
        "    cursor = connection.cursor()\r\n",
        "    try:\r\n",
        "        cursor.execute(query)\r\n",
        "        connection.commit()\r\n",
        "        print(\"Query executed successfully\")\r\n",
        "    except Error as e:\r\n",
        "        print(f\"The error '{e}' occurred\")\r\n",
        "\r\n",
        "\r\n",
        "def execute_read_query(connection, query):\r\n",
        "    # Select\r\n",
        "    cursor = connection.cursor()\r\n",
        "    result = None\r\n",
        "    try:\r\n",
        "        cursor.execute(query)\r\n",
        "        result = cursor.fetchall()\r\n",
        "        return result\r\n",
        "    except Error as e:\r\n",
        "        print(f\"The error '{e}' occurred\")\r\n",
        "\r\n",
        "\r\n",
        "connection = create_connection(\"E:\\\\sm_app.sqlite\")"
      ],
      "execution_count": 214,
      "outputs": [
        {
          "output_type": "stream",
          "text": [
            "Connection to SQLite DB successful\n"
          ],
          "name": "stdout"
        }
      ]
    },
    {
      "cell_type": "markdown",
      "metadata": {
        "id": "YWpHyr8RCBrv"
      },
      "source": [
        "### Create"
      ]
    },
    {
      "cell_type": "code",
      "metadata": {
        "colab": {
          "base_uri": "https://localhost:8080/"
        },
        "id": "SMsUYuYqA2dw",
        "outputId": "60d8f3d0-44ff-428d-985d-ff0383a14080"
      },
      "source": [
        "create_users_table = \"\"\"\r\n",
        "CREATE TABLE IF NOT EXISTS users (\r\n",
        "  id INTEGER PRIMARY KEY AUTOINCREMENT,\r\n",
        "  name TEXT NOT NULL,\r\n",
        "  age INTEGER,\r\n",
        "  gender TEXT,\r\n",
        "  nationality TEXT\r\n",
        ");\r\n",
        "\"\"\"\r\n",
        "\r\n",
        "create_posts_table = \"\"\"\r\n",
        "CREATE TABLE IF NOT EXISTS posts(\r\n",
        "  id INTEGER PRIMARY KEY AUTOINCREMENT, \r\n",
        "  title TEXT NOT NULL, \r\n",
        "  description TEXT NOT NULL, \r\n",
        "  user_id INTEGER NOT NULL, \r\n",
        "  FOREIGN KEY (user_id) REFERENCES users (id)\r\n",
        ");\r\n",
        "\"\"\"\r\n",
        "\r\n",
        "create_comments_table = \"\"\"\r\n",
        "CREATE TABLE IF NOT EXISTS comments (\r\n",
        "  id INTEGER PRIMARY KEY AUTOINCREMENT, \r\n",
        "  text TEXT NOT NULL, \r\n",
        "  user_id INTEGER NOT NULL, \r\n",
        "  post_id INTEGER NOT NULL, \r\n",
        "  FOREIGN KEY (user_id) REFERENCES users (id) FOREIGN KEY (post_id) REFERENCES posts (id)\r\n",
        ");\r\n",
        "\"\"\"\r\n",
        "\r\n",
        "create_likes_table = \"\"\"\r\n",
        "CREATE TABLE IF NOT EXISTS likes (\r\n",
        "  id INTEGER PRIMARY KEY AUTOINCREMENT, \r\n",
        "  user_id INTEGER NOT NULL, \r\n",
        "  post_id integer NOT NULL, \r\n",
        "  FOREIGN KEY (user_id) REFERENCES users (id) FOREIGN KEY (post_id) REFERENCES posts (id)\r\n",
        ");\r\n",
        "\"\"\"\r\n",
        "\r\n",
        "execute_query(connection, create_users_table) \r\n",
        "execute_query(connection, create_posts_table)\r\n",
        "execute_query(connection, create_comments_table)  \r\n",
        "execute_query(connection, create_likes_table) "
      ],
      "execution_count": 43,
      "outputs": [
        {
          "output_type": "stream",
          "text": [
            "Query executed successfully\n",
            "Query executed successfully\n",
            "Query executed successfully\n",
            "Query executed successfully\n"
          ],
          "name": "stdout"
        }
      ]
    },
    {
      "cell_type": "markdown",
      "metadata": {
        "id": "1KQ_wgybB_Z4"
      },
      "source": [
        "### Insert"
      ]
    },
    {
      "cell_type": "code",
      "metadata": {
        "colab": {
          "base_uri": "https://localhost:8080/"
        },
        "id": "N6MDq_z7A2n_",
        "outputId": "006e9bf6-9966-418a-bb3f-e3f30cc09312"
      },
      "source": [
        "create_users = \"\"\"\r\n",
        "INSERT INTO\r\n",
        "  users (name, age, gender, nationality)\r\n",
        "VALUES\r\n",
        "  ('James', 25, 'male', 'USA'),\r\n",
        "  ('Leila', 32, 'female', 'France'),\r\n",
        "  ('Brigitte', 35, 'female', 'England'),\r\n",
        "  ('Mike', 40, 'male', 'Denmark'),\r\n",
        "  ('Elizabeth', 21, 'female', 'Canada');\r\n",
        "\"\"\"\r\n",
        "\r\n",
        "create_posts = \"\"\"\r\n",
        "INSERT INTO\r\n",
        "  posts (title, description, user_id)\r\n",
        "VALUES\r\n",
        "  (\"Happy\", \"I am feeling very happy today\", 1),\r\n",
        "  (\"Hot Weather\", \"The weather is very hot today\", 2),\r\n",
        "  (\"Help\", \"I need some help with my work\", 2),\r\n",
        "  (\"Great News\", \"I am getting married\", 1),\r\n",
        "  (\"Interesting Game\", \"It was a fantastic game of tennis\", 5),\r\n",
        "  (\"Party\", \"Anyone up for a late-night party today?\", 3);\r\n",
        "\"\"\"\r\n",
        "\r\n",
        "create_comments = \"\"\"\r\n",
        "INSERT INTO\r\n",
        "  comments (text, user_id, post_id)\r\n",
        "VALUES\r\n",
        "  ('Count me in', 1, 6),\r\n",
        "  ('What sort of help?', 5, 3),\r\n",
        "  ('Congrats buddy', 2, 4),\r\n",
        "  ('I was rooting for Nadal though', 4, 5),\r\n",
        "  ('Help with your thesis?', 2, 3),\r\n",
        "  ('Many congratulations', 5, 4);\r\n",
        "\"\"\"\r\n",
        "\r\n",
        "create_likes = \"\"\"\r\n",
        "INSERT INTO\r\n",
        "  likes (user_id, post_id)\r\n",
        "VALUES\r\n",
        "  (1, 6),\r\n",
        "  (2, 3),\r\n",
        "  (1, 5),\r\n",
        "  (5, 4),\r\n",
        "  (2, 4),\r\n",
        "  (4, 2),\r\n",
        "  (3, 6);\r\n",
        "\"\"\"\r\n",
        "\r\n",
        "execute_query(connection, create_users) \r\n",
        "execute_query(connection, create_posts)\r\n",
        "execute_query(connection, create_comments)\r\n",
        "execute_query(connection, create_likes)  "
      ],
      "execution_count": 44,
      "outputs": [
        {
          "output_type": "stream",
          "text": [
            "Query executed successfully\n",
            "Query executed successfully\n",
            "Query executed successfully\n",
            "Query executed successfully\n"
          ],
          "name": "stdout"
        }
      ]
    },
    {
      "cell_type": "markdown",
      "metadata": {
        "id": "g0anWxWBCN9_"
      },
      "source": [
        "### Select"
      ]
    },
    {
      "cell_type": "code",
      "metadata": {
        "colab": {
          "base_uri": "https://localhost:8080/"
        },
        "id": "ufE-ytMOA2qg",
        "outputId": "e44a4f0b-1ae9-4136-c805-61e4811f59a8"
      },
      "source": [
        "execute_query(connection, create_users) \r\n",
        "\r\n",
        "select_users = \"SELECT * from users\"\r\n",
        "users = execute_read_query(connection, select_users)\r\n",
        "\r\n",
        "for user in users:\r\n",
        "    print(user)"
      ],
      "execution_count": 45,
      "outputs": [
        {
          "output_type": "stream",
          "text": [
            "Query executed successfully\n",
            "(1, 'James', 25, 'male', 'USA')\n",
            "(2, 'Leila', 32, 'female', 'France')\n",
            "(3, 'Brigitte', 35, 'female', 'England')\n",
            "(4, 'Mike', 40, 'male', 'Denmark')\n",
            "(5, 'Elizabeth', 21, 'female', 'Canada')\n",
            "(6, 'James', 25, 'male', 'USA')\n",
            "(7, 'Leila', 32, 'female', 'France')\n",
            "(8, 'Brigitte', 35, 'female', 'England')\n",
            "(9, 'Mike', 40, 'male', 'Denmark')\n",
            "(10, 'Elizabeth', 21, 'female', 'Canada')\n"
          ],
          "name": "stdout"
        }
      ]
    },
    {
      "cell_type": "markdown",
      "metadata": {
        "id": "bWwhdMy71yDy"
      },
      "source": [
        "#### Alias"
      ]
    },
    {
      "cell_type": "code",
      "metadata": {
        "colab": {
          "base_uri": "https://localhost:8080/"
        },
        "id": "g3o8c49b1oWF",
        "outputId": "5f2d8b59-8b08-4d50-9237-3433609053ae"
      },
      "source": [
        "select_users = \"SELECT name AS nm FROM users AS u\"\r\n",
        "users = execute_read_query(connection, select_users)\r\n",
        "\r\n",
        "for user in users:\r\n",
        "    print(user)"
      ],
      "execution_count": 46,
      "outputs": [
        {
          "output_type": "stream",
          "text": [
            "('James',)\n",
            "('Leila',)\n",
            "('Brigitte',)\n",
            "('Mike',)\n",
            "('Elizabeth',)\n",
            "('James',)\n",
            "('Leila',)\n",
            "('Brigitte',)\n",
            "('Mike',)\n",
            "('Elizabeth',)\n"
          ],
          "name": "stdout"
        }
      ]
    },
    {
      "cell_type": "code",
      "metadata": {
        "colab": {
          "base_uri": "https://localhost:8080/"
        },
        "id": "mMDH0UxAAsNX",
        "outputId": "ecd7778c-e7a6-442e-957f-193a8b86c854"
      },
      "source": [
        "select_posts = \"SELECT * FROM posts\"\r\n",
        "posts = execute_read_query(connection, select_posts)\r\n",
        "\r\n",
        "for post in posts:\r\n",
        "    print(post)"
      ],
      "execution_count": 47,
      "outputs": [
        {
          "output_type": "stream",
          "text": [
            "(1, 'Happy', 'I am feeling very happy today', 1)\n",
            "(2, 'Hot Weather', 'The weather is very hot today', 2)\n",
            "(3, 'Help', 'I need some help with my work', 2)\n",
            "(4, 'Great News', 'I am getting married', 1)\n",
            "(5, 'Interesting Game', 'It was a fantastic game of tennis', 5)\n",
            "(6, 'Party', 'Anyone up for a late-night party today?', 3)\n"
          ],
          "name": "stdout"
        }
      ]
    },
    {
      "cell_type": "markdown",
      "metadata": {
        "id": "S0MYiKQiCWlu"
      },
      "source": [
        "### Join"
      ]
    },
    {
      "cell_type": "code",
      "metadata": {
        "colab": {
          "base_uri": "https://localhost:8080/"
        },
        "id": "V0_RSiIKCUZG",
        "outputId": "bc6b3a9d-393d-4b6e-a651-f6fe6ac75e1f"
      },
      "source": [
        "select_users_posts = \"\"\"\r\n",
        "SELECT\r\n",
        "  users.id,\r\n",
        "  users.name,\r\n",
        "  posts.description\r\n",
        "FROM\r\n",
        "  posts\r\n",
        "  INNER JOIN users ON users.id = posts.user_id\r\n",
        "\"\"\"\r\n",
        "\r\n",
        "users_posts = execute_read_query(connection, select_users_posts)\r\n",
        "\r\n",
        "for users_post in users_posts:\r\n",
        "    print(users_post)"
      ],
      "execution_count": 48,
      "outputs": [
        {
          "output_type": "stream",
          "text": [
            "(1, 'James', 'I am feeling very happy today')\n",
            "(2, 'Leila', 'The weather is very hot today')\n",
            "(2, 'Leila', 'I need some help with my work')\n",
            "(1, 'James', 'I am getting married')\n",
            "(5, 'Elizabeth', 'It was a fantastic game of tennis')\n",
            "(3, 'Brigitte', 'Anyone up for a late-night party today?')\n"
          ],
          "name": "stdout"
        }
      ]
    },
    {
      "cell_type": "code",
      "metadata": {
        "colab": {
          "base_uri": "https://localhost:8080/"
        },
        "id": "WRZOQlBcCZgu",
        "outputId": "2c93243c-62c8-4eaa-a3c9-45c8d5f37455"
      },
      "source": [
        "select_posts_comments_users = \"\"\"\r\n",
        "SELECT\r\n",
        "  posts.description as post,\r\n",
        "  text as comment,\r\n",
        "  name\r\n",
        "FROM\r\n",
        "  posts\r\n",
        "  INNER JOIN comments ON posts.id = comments.post_id\r\n",
        "  INNER JOIN users ON users.id = comments.user_id\r\n",
        "\"\"\"\r\n",
        "\r\n",
        "posts_comments_users = execute_read_query(\r\n",
        "    connection, select_posts_comments_users\r\n",
        ")\r\n",
        "\r\n",
        "for posts_comments_user in posts_comments_users:\r\n",
        "    print(posts_comments_user)"
      ],
      "execution_count": 49,
      "outputs": [
        {
          "output_type": "stream",
          "text": [
            "('Anyone up for a late-night party today?', 'Count me in', 'James')\n",
            "('I need some help with my work', 'What sort of help?', 'Elizabeth')\n",
            "('I am getting married', 'Congrats buddy', 'Leila')\n",
            "('It was a fantastic game of tennis', 'I was rooting for Nadal though', 'Mike')\n",
            "('I need some help with my work', 'Help with your thesis?', 'Leila')\n",
            "('I am getting married', 'Many congratulations', 'Elizabeth')\n"
          ],
          "name": "stdout"
        }
      ]
    },
    {
      "cell_type": "code",
      "metadata": {
        "colab": {
          "base_uri": "https://localhost:8080/"
        },
        "id": "1KAm3R0gCdqC",
        "outputId": "96af1274-56b1-4524-c342-e7fdd71b47c0"
      },
      "source": [
        "cursor = connection.cursor()\r\n",
        "cursor.execute(select_posts_comments_users)\r\n",
        "cursor.fetchall()\r\n",
        "\r\n",
        "column_names = [description[0] for description in cursor.description]\r\n",
        "print(column_names)"
      ],
      "execution_count": 50,
      "outputs": [
        {
          "output_type": "stream",
          "text": [
            "['post', 'comment', 'name']\n"
          ],
          "name": "stdout"
        }
      ]
    },
    {
      "cell_type": "markdown",
      "metadata": {
        "id": "_ezFP8E_CmIn"
      },
      "source": [
        "### Where"
      ]
    },
    {
      "cell_type": "code",
      "metadata": {
        "colab": {
          "base_uri": "https://localhost:8080/"
        },
        "id": "GcWyCR9nCguW",
        "outputId": "482103e9-872e-4bd1-f059-2f497b79b95d"
      },
      "source": [
        "select_post_likes = \"\"\"\r\n",
        "SELECT\r\n",
        "  description as Post,\r\n",
        "  COUNT(likes.id) as Likes\r\n",
        "FROM\r\n",
        "  likes,\r\n",
        "  posts\r\n",
        "WHERE\r\n",
        "  posts.id = likes.post_id\r\n",
        "GROUP BY\r\n",
        "  likes.post_id\r\n",
        "\"\"\"\r\n",
        "\r\n",
        "post_likes = execute_read_query(connection, select_post_likes)\r\n",
        "\r\n",
        "for post_like in post_likes:\r\n",
        "    print(post_like)"
      ],
      "execution_count": 51,
      "outputs": [
        {
          "output_type": "stream",
          "text": [
            "('The weather is very hot today', 1)\n",
            "('I need some help with my work', 1)\n",
            "('I am getting married', 2)\n",
            "('It was a fantastic game of tennis', 1)\n",
            "('Anyone up for a late-night party today?', 2)\n"
          ],
          "name": "stdout"
        }
      ]
    },
    {
      "cell_type": "markdown",
      "metadata": {
        "id": "Rq5diGfFCr5U"
      },
      "source": [
        "### Update"
      ]
    },
    {
      "cell_type": "code",
      "metadata": {
        "colab": {
          "base_uri": "https://localhost:8080/"
        },
        "id": "DConh-FTCpXR",
        "outputId": "1b710f9a-5bc9-4483-e7aa-07a0c723d268"
      },
      "source": [
        "select_post_description = \"SELECT description FROM posts WHERE id = 2\"\r\n",
        "\r\n",
        "post_description = execute_read_query(connection, select_post_description)\r\n",
        "\r\n",
        "for description in post_description:\r\n",
        "    print(description)"
      ],
      "execution_count": 52,
      "outputs": [
        {
          "output_type": "stream",
          "text": [
            "('The weather is very hot today',)\n"
          ],
          "name": "stdout"
        }
      ]
    },
    {
      "cell_type": "code",
      "metadata": {
        "colab": {
          "base_uri": "https://localhost:8080/"
        },
        "id": "qgUAQMBfCtUn",
        "outputId": "8891c11a-02db-42b0-b265-ac529ec57ebd"
      },
      "source": [
        "update_post_description = \"\"\"\r\n",
        "UPDATE\r\n",
        "  posts\r\n",
        "SET\r\n",
        "  description = \"The weather has become pleasant now\"\r\n",
        "WHERE\r\n",
        "  id = 2\r\n",
        "\"\"\"\r\n",
        "\r\n",
        "execute_query(connection, update_post_description)"
      ],
      "execution_count": 53,
      "outputs": [
        {
          "output_type": "stream",
          "text": [
            "Query executed successfully\n"
          ],
          "name": "stdout"
        }
      ]
    },
    {
      "cell_type": "code",
      "metadata": {
        "colab": {
          "base_uri": "https://localhost:8080/"
        },
        "id": "D0Yh6aQQCvWo",
        "outputId": "2dc71ce5-3220-402c-b432-df450badccfd"
      },
      "source": [
        "post_description = execute_read_query(connection, select_post_description)\r\n",
        "\r\n",
        "for description in post_description:\r\n",
        "    print(description)"
      ],
      "execution_count": 54,
      "outputs": [
        {
          "output_type": "stream",
          "text": [
            "('The weather has become pleasant now',)\n"
          ],
          "name": "stdout"
        }
      ]
    },
    {
      "cell_type": "markdown",
      "metadata": {
        "id": "TZn17KAcC2GK"
      },
      "source": [
        "### Delete"
      ]
    },
    {
      "cell_type": "code",
      "metadata": {
        "colab": {
          "base_uri": "https://localhost:8080/"
        },
        "id": "rPYFE2JICy8n",
        "outputId": "322ff6f3-3554-432d-aa5f-e7b6b3ebf3cc"
      },
      "source": [
        "delete_comment = \"DELETE FROM comments WHERE id = 5\"\r\n",
        "execute_query(connection, delete_comment)"
      ],
      "execution_count": 55,
      "outputs": [
        {
          "output_type": "stream",
          "text": [
            "Query executed successfully\n"
          ],
          "name": "stdout"
        }
      ]
    },
    {
      "cell_type": "code",
      "metadata": {
        "colab": {
          "base_uri": "https://localhost:8080/"
        },
        "id": "lQ4KbMAlC4Pw",
        "outputId": "2a2de2a2-8f74-4afb-aaef-b0f8fb62d876"
      },
      "source": [
        "select_comments = \"SELECT * from comments\"\r\n",
        "\r\n",
        "comments = execute_read_query(connection, select_comments)\r\n",
        "\r\n",
        "for comment in comments:\r\n",
        "    print(comment)"
      ],
      "execution_count": 56,
      "outputs": [
        {
          "output_type": "stream",
          "text": [
            "(1, 'Count me in', 1, 6)\n",
            "(2, 'What sort of help?', 5, 3)\n",
            "(3, 'Congrats buddy', 2, 4)\n",
            "(4, 'I was rooting for Nadal though', 4, 5)\n",
            "(6, 'Many congratulations', 5, 4)\n"
          ],
          "name": "stdout"
        }
      ]
    },
    {
      "cell_type": "markdown",
      "metadata": {
        "id": "VfwV_12n3I4-"
      },
      "source": [
        "### Case"
      ]
    },
    {
      "cell_type": "code",
      "metadata": {
        "id": "1Zf1Wp_fDQey",
        "colab": {
          "base_uri": "https://localhost:8080/"
        },
        "outputId": "cf359509-0137-4b5a-9129-bca5a6e8ee06"
      },
      "source": [
        "print(create_users_table)"
      ],
      "execution_count": 57,
      "outputs": [
        {
          "output_type": "stream",
          "text": [
            "\n",
            "CREATE TABLE IF NOT EXISTS users (\n",
            "  id INTEGER PRIMARY KEY AUTOINCREMENT,\n",
            "  name TEXT NOT NULL,\n",
            "  age INTEGER,\n",
            "  gender TEXT,\n",
            "  nationality TEXT\n",
            ");\n",
            "\n"
          ],
          "name": "stdout"
        }
      ]
    },
    {
      "cell_type": "code",
      "metadata": {
        "colab": {
          "base_uri": "https://localhost:8080/"
        },
        "id": "O5ChIDw93LET",
        "outputId": "45f19425-747c-42d5-c634-b254677ccbd8"
      },
      "source": [
        "select_users = \"\"\"\r\n",
        "SELECT name,\r\n",
        "CASE gender\r\n",
        "    WHEN 'male' THEN 'm'\r\n",
        "    WHEN 'female' THEN 'f'\r\n",
        "    ELSE 'unknown gender'\r\n",
        "END\r\n",
        "FROM Users;\r\n",
        "\"\"\"\r\n",
        "\r\n",
        "users = execute_read_query(connection, select_users)\r\n",
        "\r\n",
        "for user in users:\r\n",
        "    print(user)"
      ],
      "execution_count": 58,
      "outputs": [
        {
          "output_type": "stream",
          "text": [
            "('James', 'm')\n",
            "('Leila', 'f')\n",
            "('Brigitte', 'f')\n",
            "('Mike', 'm')\n",
            "('Elizabeth', 'f')\n",
            "('James', 'm')\n",
            "('Leila', 'f')\n",
            "('Brigitte', 'f')\n",
            "('Mike', 'm')\n",
            "('Elizabeth', 'f')\n"
          ],
          "name": "stdout"
        }
      ]
    },
    {
      "cell_type": "code",
      "metadata": {
        "id": "TrB4pWdjqZih"
      },
      "source": [
        "connection.close()"
      ],
      "execution_count": 59,
      "outputs": []
    },
    {
      "cell_type": "markdown",
      "metadata": {
        "id": "GOBKxLP_7YkR"
      },
      "source": [
        "##  From a DB file\r\n",
        "\r\n",
        "https://www.sqlitetutorial.net/sqlite-sample-database/\r\n",
        "\r\n"
      ]
    },
    {
      "cell_type": "markdown",
      "metadata": {
        "id": "RkXUcz1H71Hl"
      },
      "source": [
        "![](https://cdn.sqlitetutorial.net/wp-content/uploads/2015/11/sqlite-sample-database-color.jpg)"
      ]
    },
    {
      "cell_type": "code",
      "metadata": {
        "colab": {
          "base_uri": "https://localhost:8080/"
        },
        "id": "kUuJ9lhX6rWf",
        "outputId": "5e1020d6-7914-49f2-d29e-8f96892b7f7f"
      },
      "source": [
        "!curl -o chinook.zip https://cdn.sqlitetutorial.net/wp-content/uploads/2018/03/chinook.zip"
      ],
      "execution_count": 60,
      "outputs": [
        {
          "output_type": "stream",
          "text": [
            "  % Total    % Received % Xferd  Average Speed   Time    Time     Time  Current\n",
            "                                 Dload  Upload   Total   Spent    Left  Speed\n",
            "100  298k  100  298k    0     0   941k      0 --:--:-- --:--:-- --:--:--  941k\n"
          ],
          "name": "stdout"
        }
      ]
    },
    {
      "cell_type": "code",
      "metadata": {
        "colab": {
          "base_uri": "https://localhost:8080/"
        },
        "id": "nPdkJ9Kt-Lm6",
        "outputId": "e60c18f9-9ed2-43a5-ed7a-5ba4e44dfbe0"
      },
      "source": [
        "!unzip chinook.zip"
      ],
      "execution_count": 61,
      "outputs": [
        {
          "output_type": "stream",
          "text": [
            "Archive:  chinook.zip\n",
            "  inflating: chinook.db              \n"
          ],
          "name": "stdout"
        }
      ]
    },
    {
      "cell_type": "code",
      "metadata": {
        "colab": {
          "base_uri": "https://localhost:8080/"
        },
        "id": "LX1iXjwl8PBu",
        "outputId": "7e328fd9-a007-4f74-c82b-8fe847e6b2de"
      },
      "source": [
        "import sqlite3\r\n",
        "con = sqlite3.connect('chinook.db')\r\n",
        "cur = con.cursor()\r\n",
        "\r\n",
        "query = \"\"\" \r\n",
        "SELECT * FROM genres;\r\n",
        "\"\"\"\r\n",
        "\r\n",
        "for row in cur.execute(query):\r\n",
        "    print(row)\r\n",
        "\r\n",
        "con.close()"
      ],
      "execution_count": 62,
      "outputs": [
        {
          "output_type": "stream",
          "text": [
            "(1, 'Rock')\n",
            "(2, 'Jazz')\n",
            "(3, 'Metal')\n",
            "(4, 'Alternative & Punk')\n",
            "(5, 'Rock And Roll')\n",
            "(6, 'Blues')\n",
            "(7, 'Latin')\n",
            "(8, 'Reggae')\n",
            "(9, 'Pop')\n",
            "(10, 'Soundtrack')\n",
            "(11, 'Bossa Nova')\n",
            "(12, 'Easy Listening')\n",
            "(13, 'Heavy Metal')\n",
            "(14, 'R&B/Soul')\n",
            "(15, 'Electronica/Dance')\n",
            "(16, 'World')\n",
            "(17, 'Hip Hop/Rap')\n",
            "(18, 'Science Fiction')\n",
            "(19, 'TV Shows')\n",
            "(20, 'Sci Fi & Fantasy')\n",
            "(21, 'Drama')\n",
            "(22, 'Comedy')\n",
            "(23, 'Alternative')\n",
            "(24, 'Classical')\n",
            "(25, 'Opera')\n"
          ],
          "name": "stdout"
        }
      ]
    },
    {
      "cell_type": "code",
      "metadata": {
        "colab": {
          "base_uri": "https://localhost:8080/",
          "height": 197
        },
        "id": "81MMtZUx8U_t",
        "outputId": "361cc9b7-2f86-40dc-a767-104cad389009"
      },
      "source": [
        "import pandas as pd\r\n",
        "import sqlite3\r\n",
        "\r\n",
        "# Read sqlite query results into a pandas DataFrame\r\n",
        "con = sqlite3.connect('chinook.db')\r\n",
        "df = pd.read_sql_query(\"SELECT * FROM genres\", con)\r\n",
        "\r\n",
        "con.close()\r\n",
        "df.head()"
      ],
      "execution_count": 63,
      "outputs": [
        {
          "output_type": "execute_result",
          "data": {
            "text/html": [
              "<div>\n",
              "<style scoped>\n",
              "    .dataframe tbody tr th:only-of-type {\n",
              "        vertical-align: middle;\n",
              "    }\n",
              "\n",
              "    .dataframe tbody tr th {\n",
              "        vertical-align: top;\n",
              "    }\n",
              "\n",
              "    .dataframe thead th {\n",
              "        text-align: right;\n",
              "    }\n",
              "</style>\n",
              "<table border=\"1\" class=\"dataframe\">\n",
              "  <thead>\n",
              "    <tr style=\"text-align: right;\">\n",
              "      <th></th>\n",
              "      <th>GenreId</th>\n",
              "      <th>Name</th>\n",
              "    </tr>\n",
              "  </thead>\n",
              "  <tbody>\n",
              "    <tr>\n",
              "      <th>0</th>\n",
              "      <td>1</td>\n",
              "      <td>Rock</td>\n",
              "    </tr>\n",
              "    <tr>\n",
              "      <th>1</th>\n",
              "      <td>2</td>\n",
              "      <td>Jazz</td>\n",
              "    </tr>\n",
              "    <tr>\n",
              "      <th>2</th>\n",
              "      <td>3</td>\n",
              "      <td>Metal</td>\n",
              "    </tr>\n",
              "    <tr>\n",
              "      <th>3</th>\n",
              "      <td>4</td>\n",
              "      <td>Alternative &amp; Punk</td>\n",
              "    </tr>\n",
              "    <tr>\n",
              "      <th>4</th>\n",
              "      <td>5</td>\n",
              "      <td>Rock And Roll</td>\n",
              "    </tr>\n",
              "  </tbody>\n",
              "</table>\n",
              "</div>"
            ],
            "text/plain": [
              "   GenreId                Name\n",
              "0        1                Rock\n",
              "1        2                Jazz\n",
              "2        3               Metal\n",
              "3        4  Alternative & Punk\n",
              "4        5       Rock And Roll"
            ]
          },
          "metadata": {
            "tags": []
          },
          "execution_count": 63
        }
      ]
    },
    {
      "cell_type": "markdown",
      "metadata": {
        "id": "c75rL4p0AGDU"
      },
      "source": [
        "## Dump all tables from db as csv\r\n",
        "\r\n",
        "https://stackoverflow.com/questions/305378/list-of-tables-db-schema-dump-etc-using-the-python-sqlite3-api"
      ]
    },
    {
      "cell_type": "code",
      "metadata": {
        "colab": {
          "base_uri": "https://localhost:8080/"
        },
        "id": "nXo38MoJ92f2",
        "outputId": "6055c7d3-f1a8-47e8-dd59-b0c2b39924b5"
      },
      "source": [
        "import sqlite3\r\n",
        "con = sqlite3.connect('chinook.db')\r\n",
        "cursor = con.cursor()\r\n",
        "cursor.execute(\"SELECT name FROM sqlite_master WHERE type='table';\")\r\n",
        "\r\n",
        "for table in cursor.fetchall():\r\n",
        "    print(table)\r\n",
        "\r\n",
        "cursor.close()\r\n",
        "con.close()"
      ],
      "execution_count": 64,
      "outputs": [
        {
          "output_type": "stream",
          "text": [
            "('albums',)\n",
            "('sqlite_sequence',)\n",
            "('artists',)\n",
            "('customers',)\n",
            "('employees',)\n",
            "('genres',)\n",
            "('invoices',)\n",
            "('invoice_items',)\n",
            "('media_types',)\n",
            "('playlists',)\n",
            "('playlist_track',)\n",
            "('tracks',)\n",
            "('sqlite_stat1',)\n"
          ],
          "name": "stdout"
        }
      ]
    },
    {
      "cell_type": "code",
      "metadata": {
        "colab": {
          "base_uri": "https://localhost:8080/",
          "height": 428
        },
        "id": "SfTsC93H_Zdq",
        "outputId": "e06223f8-5c10-4256-8b47-e3e0f829ba19"
      },
      "source": [
        "# https://stackoverflow.com/questions/305378/list-of-tables-db-schema-dump-etc-using-the-python-sqlite3-api\r\n",
        "import sqlite3\r\n",
        "import pandas as pd\r\n",
        "\r\n",
        "def to_csv():\r\n",
        "    \r\n",
        "    db = sqlite3.connect('chinook.db')\r\n",
        "    cursor = db.cursor()\r\n",
        "    cursor.execute(\"SELECT name FROM sqlite_master WHERE type='table';\")\r\n",
        "    tables = cursor.fetchall()\r\n",
        "    dct_tables = {}\r\n",
        "    for table_name in tables:\r\n",
        "        table_name = table_name[0]\r\n",
        "        table = pd.read_sql_query(\"SELECT * from %s\" % table_name, db)\r\n",
        "        table.to_csv(table_name + '.csv', index_label='index')\r\n",
        "        dct_tables[table_name] = table\r\n",
        "    cursor.close()\r\n",
        "    db.close()\r\n",
        "    return dct_tables\r\n",
        "\r\n",
        "dct_tables = to_csv()\r\n",
        "\r\n",
        "for table_name, df in dct_tables.items():\r\n",
        "    print(table_name, list(df.columns))\r\n",
        "\r\n",
        "dct_tables['albums'].head()"
      ],
      "execution_count": 65,
      "outputs": [
        {
          "output_type": "stream",
          "text": [
            "albums ['AlbumId', 'Title', 'ArtistId']\n",
            "sqlite_sequence ['name', 'seq']\n",
            "artists ['ArtistId', 'Name']\n",
            "customers ['CustomerId', 'FirstName', 'LastName', 'Company', 'Address', 'City', 'State', 'Country', 'PostalCode', 'Phone', 'Fax', 'Email', 'SupportRepId']\n",
            "employees ['EmployeeId', 'LastName', 'FirstName', 'Title', 'ReportsTo', 'BirthDate', 'HireDate', 'Address', 'City', 'State', 'Country', 'PostalCode', 'Phone', 'Fax', 'Email']\n",
            "genres ['GenreId', 'Name']\n",
            "invoices ['InvoiceId', 'CustomerId', 'InvoiceDate', 'BillingAddress', 'BillingCity', 'BillingState', 'BillingCountry', 'BillingPostalCode', 'Total']\n",
            "invoice_items ['InvoiceLineId', 'InvoiceId', 'TrackId', 'UnitPrice', 'Quantity']\n",
            "media_types ['MediaTypeId', 'Name']\n",
            "playlists ['PlaylistId', 'Name']\n",
            "playlist_track ['PlaylistId', 'TrackId']\n",
            "tracks ['TrackId', 'Name', 'AlbumId', 'MediaTypeId', 'GenreId', 'Composer', 'Milliseconds', 'Bytes', 'UnitPrice']\n",
            "sqlite_stat1 ['tbl', 'idx', 'stat']\n"
          ],
          "name": "stdout"
        },
        {
          "output_type": "execute_result",
          "data": {
            "text/html": [
              "<div>\n",
              "<style scoped>\n",
              "    .dataframe tbody tr th:only-of-type {\n",
              "        vertical-align: middle;\n",
              "    }\n",
              "\n",
              "    .dataframe tbody tr th {\n",
              "        vertical-align: top;\n",
              "    }\n",
              "\n",
              "    .dataframe thead th {\n",
              "        text-align: right;\n",
              "    }\n",
              "</style>\n",
              "<table border=\"1\" class=\"dataframe\">\n",
              "  <thead>\n",
              "    <tr style=\"text-align: right;\">\n",
              "      <th></th>\n",
              "      <th>AlbumId</th>\n",
              "      <th>Title</th>\n",
              "      <th>ArtistId</th>\n",
              "    </tr>\n",
              "  </thead>\n",
              "  <tbody>\n",
              "    <tr>\n",
              "      <th>0</th>\n",
              "      <td>1</td>\n",
              "      <td>For Those About To Rock We Salute You</td>\n",
              "      <td>1</td>\n",
              "    </tr>\n",
              "    <tr>\n",
              "      <th>1</th>\n",
              "      <td>2</td>\n",
              "      <td>Balls to the Wall</td>\n",
              "      <td>2</td>\n",
              "    </tr>\n",
              "    <tr>\n",
              "      <th>2</th>\n",
              "      <td>3</td>\n",
              "      <td>Restless and Wild</td>\n",
              "      <td>2</td>\n",
              "    </tr>\n",
              "    <tr>\n",
              "      <th>3</th>\n",
              "      <td>4</td>\n",
              "      <td>Let There Be Rock</td>\n",
              "      <td>1</td>\n",
              "    </tr>\n",
              "    <tr>\n",
              "      <th>4</th>\n",
              "      <td>5</td>\n",
              "      <td>Big Ones</td>\n",
              "      <td>3</td>\n",
              "    </tr>\n",
              "  </tbody>\n",
              "</table>\n",
              "</div>"
            ],
            "text/plain": [
              "   AlbumId                                  Title  ArtistId\n",
              "0        1  For Those About To Rock We Salute You         1\n",
              "1        2                      Balls to the Wall         2\n",
              "2        3                      Restless and Wild         2\n",
              "3        4                      Let There Be Rock         1\n",
              "4        5                               Big Ones         3"
            ]
          },
          "metadata": {
            "tags": []
          },
          "execution_count": 65
        }
      ]
    },
    {
      "cell_type": "markdown",
      "metadata": {
        "id": "qw5Pq4_g5heb"
      },
      "source": [
        "### Get schema"
      ]
    },
    {
      "cell_type": "code",
      "metadata": {
        "colab": {
          "base_uri": "https://localhost:8080/"
        },
        "id": "u6iC-Ky_EO8w",
        "outputId": "2a6ff5ac-e6d0-4ebb-c9f1-0fefd3ae170c"
      },
      "source": [
        "# https://stackoverflow.com/questions/11996394/is-there-a-way-to-get-a-schema-of-a-database-from-within-python\r\n",
        "def printSchema(connection):\r\n",
        "    for (tableName,) in connection.execute(\r\n",
        "        \"\"\"\r\n",
        "        select NAME from SQLITE_MASTER where TYPE='table' order by NAME;\r\n",
        "        \"\"\"\r\n",
        "    ):\r\n",
        "        print(\"{}:\".format(tableName))\r\n",
        "        for (\r\n",
        "            columnID, columnName, columnType,\r\n",
        "            columnNotNull, columnDefault, columnPK,\r\n",
        "        ) in connection.execute(\"pragma table_info('{}');\".format(tableName)):\r\n",
        "            print(\"  {id}: {name}({type}){null}{default}{pk}\".format(\r\n",
        "                id=columnID,\r\n",
        "                name=columnName,\r\n",
        "                type=columnType,\r\n",
        "                null=\" not null\" if columnNotNull else \"\",\r\n",
        "                default=\" [{}]\".format(columnDefault) if columnDefault else \"\",\r\n",
        "                pk=\" *{}\".format(columnPK) if columnPK else \"\",\r\n",
        "            ))\r\n",
        "with sqlite3.connect('chinook.db') as db:\r\n",
        "    printSchema(db)"
      ],
      "execution_count": 66,
      "outputs": [
        {
          "output_type": "stream",
          "text": [
            "albums:\n",
            "  0: AlbumId(INTEGER) not null *1\n",
            "  1: Title(NVARCHAR(160)) not null\n",
            "  2: ArtistId(INTEGER) not null\n",
            "artists:\n",
            "  0: ArtistId(INTEGER) not null *1\n",
            "  1: Name(NVARCHAR(120))\n",
            "customers:\n",
            "  0: CustomerId(INTEGER) not null *1\n",
            "  1: FirstName(NVARCHAR(40)) not null\n",
            "  2: LastName(NVARCHAR(20)) not null\n",
            "  3: Company(NVARCHAR(80))\n",
            "  4: Address(NVARCHAR(70))\n",
            "  5: City(NVARCHAR(40))\n",
            "  6: State(NVARCHAR(40))\n",
            "  7: Country(NVARCHAR(40))\n",
            "  8: PostalCode(NVARCHAR(10))\n",
            "  9: Phone(NVARCHAR(24))\n",
            "  10: Fax(NVARCHAR(24))\n",
            "  11: Email(NVARCHAR(60)) not null\n",
            "  12: SupportRepId(INTEGER)\n",
            "employees:\n",
            "  0: EmployeeId(INTEGER) not null *1\n",
            "  1: LastName(NVARCHAR(20)) not null\n",
            "  2: FirstName(NVARCHAR(20)) not null\n",
            "  3: Title(NVARCHAR(30))\n",
            "  4: ReportsTo(INTEGER)\n",
            "  5: BirthDate(DATETIME)\n",
            "  6: HireDate(DATETIME)\n",
            "  7: Address(NVARCHAR(70))\n",
            "  8: City(NVARCHAR(40))\n",
            "  9: State(NVARCHAR(40))\n",
            "  10: Country(NVARCHAR(40))\n",
            "  11: PostalCode(NVARCHAR(10))\n",
            "  12: Phone(NVARCHAR(24))\n",
            "  13: Fax(NVARCHAR(24))\n",
            "  14: Email(NVARCHAR(60))\n",
            "genres:\n",
            "  0: GenreId(INTEGER) not null *1\n",
            "  1: Name(NVARCHAR(120))\n",
            "invoice_items:\n",
            "  0: InvoiceLineId(INTEGER) not null *1\n",
            "  1: InvoiceId(INTEGER) not null\n",
            "  2: TrackId(INTEGER) not null\n",
            "  3: UnitPrice(NUMERIC(10,2)) not null\n",
            "  4: Quantity(INTEGER) not null\n",
            "invoices:\n",
            "  0: InvoiceId(INTEGER) not null *1\n",
            "  1: CustomerId(INTEGER) not null\n",
            "  2: InvoiceDate(DATETIME) not null\n",
            "  3: BillingAddress(NVARCHAR(70))\n",
            "  4: BillingCity(NVARCHAR(40))\n",
            "  5: BillingState(NVARCHAR(40))\n",
            "  6: BillingCountry(NVARCHAR(40))\n",
            "  7: BillingPostalCode(NVARCHAR(10))\n",
            "  8: Total(NUMERIC(10,2)) not null\n",
            "media_types:\n",
            "  0: MediaTypeId(INTEGER) not null *1\n",
            "  1: Name(NVARCHAR(120))\n",
            "playlist_track:\n",
            "  0: PlaylistId(INTEGER) not null *1\n",
            "  1: TrackId(INTEGER) not null *2\n",
            "playlists:\n",
            "  0: PlaylistId(INTEGER) not null *1\n",
            "  1: Name(NVARCHAR(120))\n",
            "sqlite_sequence:\n",
            "  0: name()\n",
            "  1: seq()\n",
            "sqlite_stat1:\n",
            "  0: tbl()\n",
            "  1: idx()\n",
            "  2: stat()\n",
            "tracks:\n",
            "  0: TrackId(INTEGER) not null *1\n",
            "  1: Name(NVARCHAR(200)) not null\n",
            "  2: AlbumId(INTEGER)\n",
            "  3: MediaTypeId(INTEGER) not null\n",
            "  4: GenreId(INTEGER)\n",
            "  5: Composer(NVARCHAR(220))\n",
            "  6: Milliseconds(INTEGER) not null\n",
            "  7: Bytes(INTEGER)\n",
            "  8: UnitPrice(NUMERIC(10,2)) not null\n"
          ],
          "name": "stdout"
        }
      ]
    },
    {
      "cell_type": "code",
      "metadata": {
        "colab": {
          "base_uri": "https://localhost:8080/"
        },
        "id": "1DYXlF6FPEt1",
        "outputId": "4bf6a9c7-49ba-401a-f5a1-399bbfea1110"
      },
      "source": [
        "# https://stackoverflow.com/questions/54412977/sqlite3-python-get-list-of-primary-and-foreign-keys\r\n",
        "with sqlite3.connect('chinook.db') as db:\r\n",
        "    rows = db.execute(\"SELECT name FROM sqlite_master WHERE type = 'table'\")\r\n",
        "tables = [row[0] for row in rows]\r\n",
        "\r\n",
        "def sql_identifier(s):\r\n",
        "    return '\"' + s.replace('\"', '\"\"') + '\"'\r\n",
        "\r\n",
        "def parse_fk(fk):\r\n",
        "    \"\"\"\r\n",
        "    https://www.oreilly.com/library/view/using-sqlite/9781449394592/re176.html\r\n",
        "\r\n",
        "\r\n",
        "    | Column name | Column type | Meaning                             |\r\n",
        "    |-------------|-------------|-------------------------------------|\r\n",
        "    | id          | Integer     | Foreign key ID number               |\r\n",
        "    | seq         | Integer     | Column sequence number for this key |\r\n",
        "    | table       | Text        | Name of foreign table               |\r\n",
        "    | from        | Text        | Local column name                   |\r\n",
        "    | to          | Text        | Foreign column name                 |\r\n",
        "    | on_update   | Text        | ON UPDATE action                    |\r\n",
        "    | on_delete   | Text        | ON DELETE action                    |\r\n",
        "    | match       | Text        | Always NONE                         |\r\n",
        "    \"\"\"\r\n",
        "    lst_col_fk = ['id', 'seq', 'table', 'from', 'to', \r\n",
        "                  'on_update', 'on_delete', 'match']\r\n",
        "\r\n",
        "    return list(zip(lst_col_fk, fk))\r\n",
        "\r\n",
        "def parse_info(info):   \r\n",
        "    \"\"\"\r\n",
        "    https://www.oreilly.com/library/view/using-sqlite/9781449394592/re205.html\r\n",
        "\r\n",
        "    | Column name | Column type | Meaning                    |\r\n",
        "    |-------------|-------------|----------------------------|\r\n",
        "    | cid         | Integer     | Column index               |\r\n",
        "    | name        | Text        | Column name                |\r\n",
        "    | type        | Text        | Column type, as given      |\r\n",
        "    | notnull     | Integer     | Has a NOT NULL constraint  |\r\n",
        "    | dflt_value  | Text        | DEFAULT value              |\r\n",
        "    | pk          | Integer     | Is part of the PRIMARY KEY |\r\n",
        "\r\n",
        "\r\n",
        "    https://www.sqlite.org/pragma.html#pragma_table_info\r\n",
        "\r\n",
        "    pk\r\n",
        "     if is not part of the primary key:  0\r\n",
        "     else:                               index of the column in the primary key\r\n",
        "\r\n",
        "    \"\"\"\r\n",
        "    lst_col_info = ['cid', 'name', 'type', 'notnull', 'dflt_value', 'pk']\r\n",
        "\r\n",
        "    return list(zip(lst_col_info, info))\r\n",
        "\r\n",
        "dct_tables = {}\r\n",
        "for table in tables:#  [-2:-1]:\r\n",
        "    print(\"table: \" + table)\r\n",
        "    with sqlite3.connect('chinook.db') as db:\r\n",
        "        info = db.execute(\"PRAGMA table_info({})\".format(sql_identifier(table)))\r\n",
        "        fk = db.execute(\"PRAGMA foreign_key_list({})\".format(sql_identifier(table)))\r\n",
        "    dct_tables[table] = {\"info\": [parse_info(tupla) for tupla in info.fetchall()]}\r\n",
        "    dct_tables[table]['fk'] = [parse_fk(tupla) for tupla in fk.fetchall()]\r\n",
        "#dct_tables"
      ],
      "execution_count": 67,
      "outputs": [
        {
          "output_type": "stream",
          "text": [
            "table: albums\n",
            "table: sqlite_sequence\n",
            "table: artists\n",
            "table: customers\n",
            "table: employees\n",
            "table: genres\n",
            "table: invoices\n",
            "table: invoice_items\n",
            "table: media_types\n",
            "table: playlists\n",
            "table: playlist_track\n",
            "table: tracks\n",
            "table: sqlite_stat1\n"
          ],
          "name": "stdout"
        }
      ]
    },
    {
      "cell_type": "code",
      "metadata": {
        "colab": {
          "base_uri": "https://localhost:8080/"
        },
        "id": "E6TtRxldPErL",
        "outputId": "cb7a9c38-6f43-4f10-95ea-564045095ece"
      },
      "source": [
        "# Foreign keys\r\n",
        "dct_df_fk = {}\r\n",
        "for table, dct in dct_tables.items():\r\n",
        "    df_fk = pd.DataFrame.from_dict([dict(lst) for lst in dct['fk']])\r\n",
        "    if not df_fk.empty:\r\n",
        "        dct_df_fk[table] = df_fk\r\n",
        "        print(f\"\\n{table}\\n{dct_df_fk[table]}\\n\")\r\n",
        "# dct_df_fk"
      ],
      "execution_count": 68,
      "outputs": [
        {
          "output_type": "stream",
          "text": [
            "\n",
            "albums\n",
            "   id  seq    table      from        to  on_update  on_delete match\n",
            "0   0    0  artists  ArtistId  ArtistId  NO ACTION  NO ACTION  NONE\n",
            "\n",
            "\n",
            "customers\n",
            "   id  seq      table          from          to  on_update  on_delete match\n",
            "0   0    0  employees  SupportRepId  EmployeeId  NO ACTION  NO ACTION  NONE\n",
            "\n",
            "\n",
            "employees\n",
            "   id  seq      table       from          to  on_update  on_delete match\n",
            "0   0    0  employees  ReportsTo  EmployeeId  NO ACTION  NO ACTION  NONE\n",
            "\n",
            "\n",
            "invoices\n",
            "   id  seq      table        from          to  on_update  on_delete match\n",
            "0   0    0  customers  CustomerId  CustomerId  NO ACTION  NO ACTION  NONE\n",
            "\n",
            "\n",
            "invoice_items\n",
            "   id  seq     table       from         to  on_update  on_delete match\n",
            "0   0    0    tracks    TrackId    TrackId  NO ACTION  NO ACTION  NONE\n",
            "1   1    0  invoices  InvoiceId  InvoiceId  NO ACTION  NO ACTION  NONE\n",
            "\n",
            "\n",
            "playlist_track\n",
            "   id  seq      table        from          to  on_update  on_delete match\n",
            "0   0    0     tracks     TrackId     TrackId  NO ACTION  NO ACTION  NONE\n",
            "1   1    0  playlists  PlaylistId  PlaylistId  NO ACTION  NO ACTION  NONE\n",
            "\n",
            "\n",
            "tracks\n",
            "   id  seq        table         from           to  on_update  on_delete match\n",
            "0   0    0  media_types  MediaTypeId  MediaTypeId  NO ACTION  NO ACTION  NONE\n",
            "1   1    0       genres      GenreId      GenreId  NO ACTION  NO ACTION  NONE\n",
            "2   2    0       albums      AlbumId      AlbumId  NO ACTION  NO ACTION  NONE\n",
            "\n"
          ],
          "name": "stdout"
        }
      ]
    },
    {
      "cell_type": "code",
      "metadata": {
        "colab": {
          "base_uri": "https://localhost:8080/"
        },
        "id": "ISecZ1KuPEor",
        "outputId": "db7b45ff-d47e-47c3-a720-6ce9d0d7e26a"
      },
      "source": [
        "# info\r\n",
        "\r\n",
        "dct_df_info = {}\r\n",
        "for table, dct in dct_tables.items():\r\n",
        "    df_info = pd.DataFrame.from_dict([dict(lst) for lst in dct['info']])\r\n",
        "    if not df_info.empty:\r\n",
        "        dct_df_info[table] = df_info\r\n",
        "        print(f\"\\n{table}\\n{dct_df_info[table]}\\n\")\r\n",
        "# dct_df_info"
      ],
      "execution_count": 69,
      "outputs": [
        {
          "output_type": "stream",
          "text": [
            "\n",
            "albums\n",
            "   cid      name           type  notnull dflt_value  pk\n",
            "0    0   AlbumId        INTEGER        1       None   1\n",
            "1    1     Title  NVARCHAR(160)        1       None   0\n",
            "2    2  ArtistId        INTEGER        1       None   0\n",
            "\n",
            "\n",
            "sqlite_sequence\n",
            "   cid  name type  notnull dflt_value  pk\n",
            "0    0  name             0       None   0\n",
            "1    1   seq             0       None   0\n",
            "\n",
            "\n",
            "artists\n",
            "   cid      name           type  notnull dflt_value  pk\n",
            "0    0  ArtistId        INTEGER        1       None   1\n",
            "1    1      Name  NVARCHAR(120)        0       None   0\n",
            "\n",
            "\n",
            "customers\n",
            "    cid          name          type  notnull dflt_value  pk\n",
            "0     0    CustomerId       INTEGER        1       None   1\n",
            "1     1     FirstName  NVARCHAR(40)        1       None   0\n",
            "2     2      LastName  NVARCHAR(20)        1       None   0\n",
            "3     3       Company  NVARCHAR(80)        0       None   0\n",
            "4     4       Address  NVARCHAR(70)        0       None   0\n",
            "5     5          City  NVARCHAR(40)        0       None   0\n",
            "6     6         State  NVARCHAR(40)        0       None   0\n",
            "7     7       Country  NVARCHAR(40)        0       None   0\n",
            "8     8    PostalCode  NVARCHAR(10)        0       None   0\n",
            "9     9         Phone  NVARCHAR(24)        0       None   0\n",
            "10   10           Fax  NVARCHAR(24)        0       None   0\n",
            "11   11         Email  NVARCHAR(60)        1       None   0\n",
            "12   12  SupportRepId       INTEGER        0       None   0\n",
            "\n",
            "\n",
            "employees\n",
            "    cid        name          type  notnull dflt_value  pk\n",
            "0     0  EmployeeId       INTEGER        1       None   1\n",
            "1     1    LastName  NVARCHAR(20)        1       None   0\n",
            "2     2   FirstName  NVARCHAR(20)        1       None   0\n",
            "3     3       Title  NVARCHAR(30)        0       None   0\n",
            "4     4   ReportsTo       INTEGER        0       None   0\n",
            "5     5   BirthDate      DATETIME        0       None   0\n",
            "6     6    HireDate      DATETIME        0       None   0\n",
            "7     7     Address  NVARCHAR(70)        0       None   0\n",
            "8     8        City  NVARCHAR(40)        0       None   0\n",
            "9     9       State  NVARCHAR(40)        0       None   0\n",
            "10   10     Country  NVARCHAR(40)        0       None   0\n",
            "11   11  PostalCode  NVARCHAR(10)        0       None   0\n",
            "12   12       Phone  NVARCHAR(24)        0       None   0\n",
            "13   13         Fax  NVARCHAR(24)        0       None   0\n",
            "14   14       Email  NVARCHAR(60)        0       None   0\n",
            "\n",
            "\n",
            "genres\n",
            "   cid     name           type  notnull dflt_value  pk\n",
            "0    0  GenreId        INTEGER        1       None   1\n",
            "1    1     Name  NVARCHAR(120)        0       None   0\n",
            "\n",
            "\n",
            "invoices\n",
            "   cid               name           type  notnull dflt_value  pk\n",
            "0    0          InvoiceId        INTEGER        1       None   1\n",
            "1    1         CustomerId        INTEGER        1       None   0\n",
            "2    2        InvoiceDate       DATETIME        1       None   0\n",
            "3    3     BillingAddress   NVARCHAR(70)        0       None   0\n",
            "4    4        BillingCity   NVARCHAR(40)        0       None   0\n",
            "5    5       BillingState   NVARCHAR(40)        0       None   0\n",
            "6    6     BillingCountry   NVARCHAR(40)        0       None   0\n",
            "7    7  BillingPostalCode   NVARCHAR(10)        0       None   0\n",
            "8    8              Total  NUMERIC(10,2)        1       None   0\n",
            "\n",
            "\n",
            "invoice_items\n",
            "   cid           name           type  notnull dflt_value  pk\n",
            "0    0  InvoiceLineId        INTEGER        1       None   1\n",
            "1    1      InvoiceId        INTEGER        1       None   0\n",
            "2    2        TrackId        INTEGER        1       None   0\n",
            "3    3      UnitPrice  NUMERIC(10,2)        1       None   0\n",
            "4    4       Quantity        INTEGER        1       None   0\n",
            "\n",
            "\n",
            "media_types\n",
            "   cid         name           type  notnull dflt_value  pk\n",
            "0    0  MediaTypeId        INTEGER        1       None   1\n",
            "1    1         Name  NVARCHAR(120)        0       None   0\n",
            "\n",
            "\n",
            "playlists\n",
            "   cid        name           type  notnull dflt_value  pk\n",
            "0    0  PlaylistId        INTEGER        1       None   1\n",
            "1    1        Name  NVARCHAR(120)        0       None   0\n",
            "\n",
            "\n",
            "playlist_track\n",
            "   cid        name     type  notnull dflt_value  pk\n",
            "0    0  PlaylistId  INTEGER        1       None   1\n",
            "1    1     TrackId  INTEGER        1       None   2\n",
            "\n",
            "\n",
            "tracks\n",
            "   cid          name           type  notnull dflt_value  pk\n",
            "0    0       TrackId        INTEGER        1       None   1\n",
            "1    1          Name  NVARCHAR(200)        1       None   0\n",
            "2    2       AlbumId        INTEGER        0       None   0\n",
            "3    3   MediaTypeId        INTEGER        1       None   0\n",
            "4    4       GenreId        INTEGER        0       None   0\n",
            "5    5      Composer  NVARCHAR(220)        0       None   0\n",
            "6    6  Milliseconds        INTEGER        1       None   0\n",
            "7    7         Bytes        INTEGER        0       None   0\n",
            "8    8     UnitPrice  NUMERIC(10,2)        1       None   0\n",
            "\n",
            "\n",
            "sqlite_stat1\n",
            "   cid  name type  notnull dflt_value  pk\n",
            "0    0   tbl             0       None   0\n",
            "1    1   idx             0       None   0\n",
            "2    2  stat             0       None   0\n",
            "\n"
          ],
          "name": "stdout"
        }
      ]
    },
    {
      "cell_type": "code",
      "metadata": {
        "colab": {
          "base_uri": "https://localhost:8080/",
          "height": 437
        },
        "id": "rTKQqqjV_jlX",
        "outputId": "b9bed90d-c7e0-47e3-f26c-46d1e5a0453c"
      },
      "source": [
        "# tables\r\n",
        "import pandas as pd\r\n",
        "import sqlite3\r\n",
        "with sqlite3.connect('chinook.db') as db:\r\n",
        "    query = \"SELECT name FROM sqlite_master WHERE type='table'\"\r\n",
        "    tables = pd.read_sql_query(query, db)\r\n",
        "tables"
      ],
      "execution_count": 70,
      "outputs": [
        {
          "output_type": "execute_result",
          "data": {
            "text/html": [
              "<div>\n",
              "<style scoped>\n",
              "    .dataframe tbody tr th:only-of-type {\n",
              "        vertical-align: middle;\n",
              "    }\n",
              "\n",
              "    .dataframe tbody tr th {\n",
              "        vertical-align: top;\n",
              "    }\n",
              "\n",
              "    .dataframe thead th {\n",
              "        text-align: right;\n",
              "    }\n",
              "</style>\n",
              "<table border=\"1\" class=\"dataframe\">\n",
              "  <thead>\n",
              "    <tr style=\"text-align: right;\">\n",
              "      <th></th>\n",
              "      <th>name</th>\n",
              "    </tr>\n",
              "  </thead>\n",
              "  <tbody>\n",
              "    <tr>\n",
              "      <th>0</th>\n",
              "      <td>albums</td>\n",
              "    </tr>\n",
              "    <tr>\n",
              "      <th>1</th>\n",
              "      <td>sqlite_sequence</td>\n",
              "    </tr>\n",
              "    <tr>\n",
              "      <th>2</th>\n",
              "      <td>artists</td>\n",
              "    </tr>\n",
              "    <tr>\n",
              "      <th>3</th>\n",
              "      <td>customers</td>\n",
              "    </tr>\n",
              "    <tr>\n",
              "      <th>4</th>\n",
              "      <td>employees</td>\n",
              "    </tr>\n",
              "    <tr>\n",
              "      <th>5</th>\n",
              "      <td>genres</td>\n",
              "    </tr>\n",
              "    <tr>\n",
              "      <th>6</th>\n",
              "      <td>invoices</td>\n",
              "    </tr>\n",
              "    <tr>\n",
              "      <th>7</th>\n",
              "      <td>invoice_items</td>\n",
              "    </tr>\n",
              "    <tr>\n",
              "      <th>8</th>\n",
              "      <td>media_types</td>\n",
              "    </tr>\n",
              "    <tr>\n",
              "      <th>9</th>\n",
              "      <td>playlists</td>\n",
              "    </tr>\n",
              "    <tr>\n",
              "      <th>10</th>\n",
              "      <td>playlist_track</td>\n",
              "    </tr>\n",
              "    <tr>\n",
              "      <th>11</th>\n",
              "      <td>tracks</td>\n",
              "    </tr>\n",
              "    <tr>\n",
              "      <th>12</th>\n",
              "      <td>sqlite_stat1</td>\n",
              "    </tr>\n",
              "  </tbody>\n",
              "</table>\n",
              "</div>"
            ],
            "text/plain": [
              "               name\n",
              "0            albums\n",
              "1   sqlite_sequence\n",
              "2           artists\n",
              "3         customers\n",
              "4         employees\n",
              "5            genres\n",
              "6          invoices\n",
              "7     invoice_items\n",
              "8       media_types\n",
              "9         playlists\n",
              "10   playlist_track\n",
              "11           tracks\n",
              "12     sqlite_stat1"
            ]
          },
          "metadata": {
            "tags": []
          },
          "execution_count": 70
        }
      ]
    },
    {
      "cell_type": "markdown",
      "metadata": {
        "id": "haUr4dBH38DS"
      },
      "source": [
        "https://sqlite.org/autoinc.html\r\n",
        "* `sqlite_sequence` automatic created when used `autoincrement`\r\n",
        "\r\n",
        "https://sqlite.org/lang_analyze.html\r\n",
        "* `sqlite_stat1` automatic created when used `Pragma`"
      ]
    },
    {
      "cell_type": "markdown",
      "metadata": {
        "id": "VqoKJZO4PXlM"
      },
      "source": [
        "## View"
      ]
    },
    {
      "cell_type": "markdown",
      "metadata": {
        "id": "4s8l_m8qPXh1"
      },
      "source": [
        "https://www.sqlitetutorial.net/sqlite-create-view/"
      ]
    },
    {
      "cell_type": "code",
      "metadata": {
        "id": "H5NedBmyDDXB"
      },
      "source": [
        "# tables\r\n",
        "import pandas as pd\r\n",
        "import sqlite3\r\n",
        "\r\n",
        "con = sqlite3.connect('chinook.db')\r\n",
        "cur = con.cursor()\r\n",
        "\r\n",
        "query = \"\"\"\r\n",
        "    CREATE VIEW v_tracks \r\n",
        "    AS \r\n",
        "    SELECT\r\n",
        "        trackid,\r\n",
        "        tracks.name,\r\n",
        "        albums.Title AS album,\r\n",
        "        media_types.Name AS media,\r\n",
        "        genres.Name AS genres\r\n",
        "    FROM\r\n",
        "        tracks\r\n",
        "    INNER JOIN albums ON Albums.AlbumId = tracks.AlbumId\r\n",
        "    INNER JOIN media_types ON media_types.MediaTypeId = tracks.MediaTypeId\r\n",
        "    INNER JOIN genres ON genres.GenreId = tracks.GenreId;\r\n",
        "\"\"\"\r\n",
        "cur.execute(query)\r\n",
        "con.commit()\r\n",
        "\r\n",
        "con.close()"
      ],
      "execution_count": 71,
      "outputs": []
    },
    {
      "cell_type": "code",
      "metadata": {
        "colab": {
          "base_uri": "https://localhost:8080/",
          "height": 77
        },
        "id": "Gs6LbkIBP5aD",
        "outputId": "534e5c54-4b52-4399-8623-4fa7f920116f"
      },
      "source": [
        "with sqlite3.connect('chinook.db') as db:\r\n",
        "    query = \"SELECT name FROM sqlite_master WHERE type='view'\"\r\n",
        "    views = pd.read_sql_query(query, db)\r\n",
        "views"
      ],
      "execution_count": 72,
      "outputs": [
        {
          "output_type": "execute_result",
          "data": {
            "text/html": [
              "<div>\n",
              "<style scoped>\n",
              "    .dataframe tbody tr th:only-of-type {\n",
              "        vertical-align: middle;\n",
              "    }\n",
              "\n",
              "    .dataframe tbody tr th {\n",
              "        vertical-align: top;\n",
              "    }\n",
              "\n",
              "    .dataframe thead th {\n",
              "        text-align: right;\n",
              "    }\n",
              "</style>\n",
              "<table border=\"1\" class=\"dataframe\">\n",
              "  <thead>\n",
              "    <tr style=\"text-align: right;\">\n",
              "      <th></th>\n",
              "      <th>name</th>\n",
              "    </tr>\n",
              "  </thead>\n",
              "  <tbody>\n",
              "    <tr>\n",
              "      <th>0</th>\n",
              "      <td>v_tracks</td>\n",
              "    </tr>\n",
              "  </tbody>\n",
              "</table>\n",
              "</div>"
            ],
            "text/plain": [
              "       name\n",
              "0  v_tracks"
            ]
          },
          "metadata": {
            "tags": []
          },
          "execution_count": 72
        }
      ]
    },
    {
      "cell_type": "code",
      "metadata": {
        "colab": {
          "base_uri": "https://localhost:8080/",
          "height": 406
        },
        "id": "khHQn_qxQD4T",
        "outputId": "44885962-4569-4c0a-c756-6e2f45d15f44"
      },
      "source": [
        "with sqlite3.connect('chinook.db') as db:\r\n",
        "\r\n",
        "    query = \"SELECT * FROM v_tracks;\"\r\n",
        "    v_tracks = pd.read_sql_query(query, db)\r\n",
        "v_tracks"
      ],
      "execution_count": 73,
      "outputs": [
        {
          "output_type": "execute_result",
          "data": {
            "text/html": [
              "<div>\n",
              "<style scoped>\n",
              "    .dataframe tbody tr th:only-of-type {\n",
              "        vertical-align: middle;\n",
              "    }\n",
              "\n",
              "    .dataframe tbody tr th {\n",
              "        vertical-align: top;\n",
              "    }\n",
              "\n",
              "    .dataframe thead th {\n",
              "        text-align: right;\n",
              "    }\n",
              "</style>\n",
              "<table border=\"1\" class=\"dataframe\">\n",
              "  <thead>\n",
              "    <tr style=\"text-align: right;\">\n",
              "      <th></th>\n",
              "      <th>TrackId</th>\n",
              "      <th>Name</th>\n",
              "      <th>album</th>\n",
              "      <th>media</th>\n",
              "      <th>genres</th>\n",
              "    </tr>\n",
              "  </thead>\n",
              "  <tbody>\n",
              "    <tr>\n",
              "      <th>0</th>\n",
              "      <td>1</td>\n",
              "      <td>For Those About To Rock (We Salute You)</td>\n",
              "      <td>For Those About To Rock We Salute You</td>\n",
              "      <td>MPEG audio file</td>\n",
              "      <td>Rock</td>\n",
              "    </tr>\n",
              "    <tr>\n",
              "      <th>1</th>\n",
              "      <td>2</td>\n",
              "      <td>Balls to the Wall</td>\n",
              "      <td>Balls to the Wall</td>\n",
              "      <td>Protected AAC audio file</td>\n",
              "      <td>Rock</td>\n",
              "    </tr>\n",
              "    <tr>\n",
              "      <th>2</th>\n",
              "      <td>3</td>\n",
              "      <td>Fast As a Shark</td>\n",
              "      <td>Restless and Wild</td>\n",
              "      <td>Protected AAC audio file</td>\n",
              "      <td>Rock</td>\n",
              "    </tr>\n",
              "    <tr>\n",
              "      <th>3</th>\n",
              "      <td>4</td>\n",
              "      <td>Restless and Wild</td>\n",
              "      <td>Restless and Wild</td>\n",
              "      <td>Protected AAC audio file</td>\n",
              "      <td>Rock</td>\n",
              "    </tr>\n",
              "    <tr>\n",
              "      <th>4</th>\n",
              "      <td>5</td>\n",
              "      <td>Princess of the Dawn</td>\n",
              "      <td>Restless and Wild</td>\n",
              "      <td>Protected AAC audio file</td>\n",
              "      <td>Rock</td>\n",
              "    </tr>\n",
              "    <tr>\n",
              "      <th>...</th>\n",
              "      <td>...</td>\n",
              "      <td>...</td>\n",
              "      <td>...</td>\n",
              "      <td>...</td>\n",
              "      <td>...</td>\n",
              "    </tr>\n",
              "    <tr>\n",
              "      <th>3498</th>\n",
              "      <td>3499</td>\n",
              "      <td>Pini Di Roma (Pinien Von Rom) \\ I Pini Della V...</td>\n",
              "      <td>Respighi:Pines of Rome</td>\n",
              "      <td>Protected AAC audio file</td>\n",
              "      <td>Classical</td>\n",
              "    </tr>\n",
              "    <tr>\n",
              "      <th>3499</th>\n",
              "      <td>3500</td>\n",
              "      <td>String Quartet No. 12 in C Minor, D. 703 \"Quar...</td>\n",
              "      <td>Schubert: The Late String Quartets &amp; String Qu...</td>\n",
              "      <td>Protected AAC audio file</td>\n",
              "      <td>Classical</td>\n",
              "    </tr>\n",
              "    <tr>\n",
              "      <th>3500</th>\n",
              "      <td>3501</td>\n",
              "      <td>L'orfeo, Act 3, Sinfonia (Orchestra)</td>\n",
              "      <td>Monteverdi: L'Orfeo</td>\n",
              "      <td>Protected AAC audio file</td>\n",
              "      <td>Classical</td>\n",
              "    </tr>\n",
              "    <tr>\n",
              "      <th>3501</th>\n",
              "      <td>3502</td>\n",
              "      <td>Quintet for Horn, Violin, 2 Violas, and Cello ...</td>\n",
              "      <td>Mozart: Chamber Music</td>\n",
              "      <td>Protected AAC audio file</td>\n",
              "      <td>Classical</td>\n",
              "    </tr>\n",
              "    <tr>\n",
              "      <th>3502</th>\n",
              "      <td>3451</td>\n",
              "      <td>Die Zauberflöte, K.620: \"Der Hölle Rache Kocht...</td>\n",
              "      <td>Mozart Gala: Famous Arias</td>\n",
              "      <td>Protected AAC audio file</td>\n",
              "      <td>Opera</td>\n",
              "    </tr>\n",
              "  </tbody>\n",
              "</table>\n",
              "<p>3503 rows × 5 columns</p>\n",
              "</div>"
            ],
            "text/plain": [
              "      TrackId  ...     genres\n",
              "0           1  ...       Rock\n",
              "1           2  ...       Rock\n",
              "2           3  ...       Rock\n",
              "3           4  ...       Rock\n",
              "4           5  ...       Rock\n",
              "...       ...  ...        ...\n",
              "3498     3499  ...  Classical\n",
              "3499     3500  ...  Classical\n",
              "3500     3501  ...  Classical\n",
              "3501     3502  ...  Classical\n",
              "3502     3451  ...      Opera\n",
              "\n",
              "[3503 rows x 5 columns]"
            ]
          },
          "metadata": {
            "tags": []
          },
          "execution_count": 73
        }
      ]
    },
    {
      "cell_type": "markdown",
      "metadata": {
        "id": "7noUwfhQL_DL"
      },
      "source": [
        "## Datetime\r\n",
        "\r\n",
        "https://sqlite.org/lang_datefunc.html\r\n",
        "\r\n"
      ]
    },
    {
      "cell_type": "code",
      "metadata": {
        "colab": {
          "base_uri": "https://localhost:8080/",
          "height": 406
        },
        "id": "SrBDckzMMK_r",
        "outputId": "d0f48c7d-c2c0-4691-f6f0-730c91f8ccbe"
      },
      "source": [
        "with sqlite3.connect('chinook.db') as db:\r\n",
        "\r\n",
        "    query = \"SELECT * FROM invoices;\"\r\n",
        "    invoices = pd.read_sql_query(query, db)\r\n",
        "invoices"
      ],
      "execution_count": 74,
      "outputs": [
        {
          "output_type": "execute_result",
          "data": {
            "text/html": [
              "<div>\n",
              "<style scoped>\n",
              "    .dataframe tbody tr th:only-of-type {\n",
              "        vertical-align: middle;\n",
              "    }\n",
              "\n",
              "    .dataframe tbody tr th {\n",
              "        vertical-align: top;\n",
              "    }\n",
              "\n",
              "    .dataframe thead th {\n",
              "        text-align: right;\n",
              "    }\n",
              "</style>\n",
              "<table border=\"1\" class=\"dataframe\">\n",
              "  <thead>\n",
              "    <tr style=\"text-align: right;\">\n",
              "      <th></th>\n",
              "      <th>InvoiceId</th>\n",
              "      <th>CustomerId</th>\n",
              "      <th>InvoiceDate</th>\n",
              "      <th>BillingAddress</th>\n",
              "      <th>BillingCity</th>\n",
              "      <th>BillingState</th>\n",
              "      <th>BillingCountry</th>\n",
              "      <th>BillingPostalCode</th>\n",
              "      <th>Total</th>\n",
              "    </tr>\n",
              "  </thead>\n",
              "  <tbody>\n",
              "    <tr>\n",
              "      <th>0</th>\n",
              "      <td>1</td>\n",
              "      <td>2</td>\n",
              "      <td>2009-01-01 00:00:00</td>\n",
              "      <td>Theodor-Heuss-Straße 34</td>\n",
              "      <td>Stuttgart</td>\n",
              "      <td>None</td>\n",
              "      <td>Germany</td>\n",
              "      <td>70174</td>\n",
              "      <td>1.98</td>\n",
              "    </tr>\n",
              "    <tr>\n",
              "      <th>1</th>\n",
              "      <td>2</td>\n",
              "      <td>4</td>\n",
              "      <td>2009-01-02 00:00:00</td>\n",
              "      <td>Ullevålsveien 14</td>\n",
              "      <td>Oslo</td>\n",
              "      <td>None</td>\n",
              "      <td>Norway</td>\n",
              "      <td>0171</td>\n",
              "      <td>3.96</td>\n",
              "    </tr>\n",
              "    <tr>\n",
              "      <th>2</th>\n",
              "      <td>3</td>\n",
              "      <td>8</td>\n",
              "      <td>2009-01-03 00:00:00</td>\n",
              "      <td>Grétrystraat 63</td>\n",
              "      <td>Brussels</td>\n",
              "      <td>None</td>\n",
              "      <td>Belgium</td>\n",
              "      <td>1000</td>\n",
              "      <td>5.94</td>\n",
              "    </tr>\n",
              "    <tr>\n",
              "      <th>3</th>\n",
              "      <td>4</td>\n",
              "      <td>14</td>\n",
              "      <td>2009-01-06 00:00:00</td>\n",
              "      <td>8210 111 ST NW</td>\n",
              "      <td>Edmonton</td>\n",
              "      <td>AB</td>\n",
              "      <td>Canada</td>\n",
              "      <td>T6G 2C7</td>\n",
              "      <td>8.91</td>\n",
              "    </tr>\n",
              "    <tr>\n",
              "      <th>4</th>\n",
              "      <td>5</td>\n",
              "      <td>23</td>\n",
              "      <td>2009-01-11 00:00:00</td>\n",
              "      <td>69 Salem Street</td>\n",
              "      <td>Boston</td>\n",
              "      <td>MA</td>\n",
              "      <td>USA</td>\n",
              "      <td>2113</td>\n",
              "      <td>13.86</td>\n",
              "    </tr>\n",
              "    <tr>\n",
              "      <th>...</th>\n",
              "      <td>...</td>\n",
              "      <td>...</td>\n",
              "      <td>...</td>\n",
              "      <td>...</td>\n",
              "      <td>...</td>\n",
              "      <td>...</td>\n",
              "      <td>...</td>\n",
              "      <td>...</td>\n",
              "      <td>...</td>\n",
              "    </tr>\n",
              "    <tr>\n",
              "      <th>407</th>\n",
              "      <td>408</td>\n",
              "      <td>25</td>\n",
              "      <td>2013-12-05 00:00:00</td>\n",
              "      <td>319 N. Frances Street</td>\n",
              "      <td>Madison</td>\n",
              "      <td>WI</td>\n",
              "      <td>USA</td>\n",
              "      <td>53703</td>\n",
              "      <td>3.96</td>\n",
              "    </tr>\n",
              "    <tr>\n",
              "      <th>408</th>\n",
              "      <td>409</td>\n",
              "      <td>29</td>\n",
              "      <td>2013-12-06 00:00:00</td>\n",
              "      <td>796 Dundas Street West</td>\n",
              "      <td>Toronto</td>\n",
              "      <td>ON</td>\n",
              "      <td>Canada</td>\n",
              "      <td>M6J 1V1</td>\n",
              "      <td>5.94</td>\n",
              "    </tr>\n",
              "    <tr>\n",
              "      <th>409</th>\n",
              "      <td>410</td>\n",
              "      <td>35</td>\n",
              "      <td>2013-12-09 00:00:00</td>\n",
              "      <td>Rua dos Campeões Europeus de Viena, 4350</td>\n",
              "      <td>Porto</td>\n",
              "      <td>None</td>\n",
              "      <td>Portugal</td>\n",
              "      <td>None</td>\n",
              "      <td>8.91</td>\n",
              "    </tr>\n",
              "    <tr>\n",
              "      <th>410</th>\n",
              "      <td>411</td>\n",
              "      <td>44</td>\n",
              "      <td>2013-12-14 00:00:00</td>\n",
              "      <td>Porthaninkatu 9</td>\n",
              "      <td>Helsinki</td>\n",
              "      <td>None</td>\n",
              "      <td>Finland</td>\n",
              "      <td>00530</td>\n",
              "      <td>13.86</td>\n",
              "    </tr>\n",
              "    <tr>\n",
              "      <th>411</th>\n",
              "      <td>412</td>\n",
              "      <td>58</td>\n",
              "      <td>2013-12-22 00:00:00</td>\n",
              "      <td>12,Community Centre</td>\n",
              "      <td>Delhi</td>\n",
              "      <td>None</td>\n",
              "      <td>India</td>\n",
              "      <td>110017</td>\n",
              "      <td>1.99</td>\n",
              "    </tr>\n",
              "  </tbody>\n",
              "</table>\n",
              "<p>412 rows × 9 columns</p>\n",
              "</div>"
            ],
            "text/plain": [
              "     InvoiceId  CustomerId  ... BillingPostalCode  Total\n",
              "0            1           2  ...             70174   1.98\n",
              "1            2           4  ...              0171   3.96\n",
              "2            3           8  ...              1000   5.94\n",
              "3            4          14  ...           T6G 2C7   8.91\n",
              "4            5          23  ...              2113  13.86\n",
              "..         ...         ...  ...               ...    ...\n",
              "407        408          25  ...             53703   3.96\n",
              "408        409          29  ...           M6J 1V1   5.94\n",
              "409        410          35  ...              None   8.91\n",
              "410        411          44  ...             00530  13.86\n",
              "411        412          58  ...            110017   1.99\n",
              "\n",
              "[412 rows x 9 columns]"
            ]
          },
          "metadata": {
            "tags": []
          },
          "execution_count": 74
        }
      ]
    },
    {
      "cell_type": "code",
      "metadata": {
        "id": "RpTr7dd9Nbwu"
      },
      "source": [
        "# https://stackoverflow.com/questions/28525203/how-to-get-current-date-time-format-in-sqlite\r\n",
        "con = sqlite3.connect('chinook.db')\r\n",
        "cur = con.cursor()\r\n",
        "\r\n",
        "query = \"\"\"\r\n",
        "UPDATE\r\n",
        "  invoices\r\n",
        "SET\r\n",
        "  InvoiceDate = strftime('%Y-%m-%d %H:%M:%S', datetime('now'))\r\n",
        "WHERE\r\n",
        "  InvoiceId = 1\r\n",
        "\"\"\"\r\n",
        "cur.execute(query)\r\n",
        "con.commit()\r\n",
        "\r\n",
        "con.close()"
      ],
      "execution_count": 75,
      "outputs": []
    },
    {
      "cell_type": "code",
      "metadata": {
        "colab": {
          "base_uri": "https://localhost:8080/",
          "height": 406
        },
        "id": "EL7h5EqhNbuI",
        "outputId": "63cfe425-f297-47c1-eeb8-4b60dee4d918"
      },
      "source": [
        "with sqlite3.connect('chinook.db') as db:\r\n",
        "    query = \"SELECT InvoiceDate FROM invoices;\"\r\n",
        "    invoices = pd.read_sql_query(query, db)\r\n",
        "invoices"
      ],
      "execution_count": 76,
      "outputs": [
        {
          "output_type": "execute_result",
          "data": {
            "text/html": [
              "<div>\n",
              "<style scoped>\n",
              "    .dataframe tbody tr th:only-of-type {\n",
              "        vertical-align: middle;\n",
              "    }\n",
              "\n",
              "    .dataframe tbody tr th {\n",
              "        vertical-align: top;\n",
              "    }\n",
              "\n",
              "    .dataframe thead th {\n",
              "        text-align: right;\n",
              "    }\n",
              "</style>\n",
              "<table border=\"1\" class=\"dataframe\">\n",
              "  <thead>\n",
              "    <tr style=\"text-align: right;\">\n",
              "      <th></th>\n",
              "      <th>InvoiceDate</th>\n",
              "    </tr>\n",
              "  </thead>\n",
              "  <tbody>\n",
              "    <tr>\n",
              "      <th>0</th>\n",
              "      <td>2021-03-04 23:21:47</td>\n",
              "    </tr>\n",
              "    <tr>\n",
              "      <th>1</th>\n",
              "      <td>2009-01-02 00:00:00</td>\n",
              "    </tr>\n",
              "    <tr>\n",
              "      <th>2</th>\n",
              "      <td>2009-01-03 00:00:00</td>\n",
              "    </tr>\n",
              "    <tr>\n",
              "      <th>3</th>\n",
              "      <td>2009-01-06 00:00:00</td>\n",
              "    </tr>\n",
              "    <tr>\n",
              "      <th>4</th>\n",
              "      <td>2009-01-11 00:00:00</td>\n",
              "    </tr>\n",
              "    <tr>\n",
              "      <th>...</th>\n",
              "      <td>...</td>\n",
              "    </tr>\n",
              "    <tr>\n",
              "      <th>407</th>\n",
              "      <td>2013-12-05 00:00:00</td>\n",
              "    </tr>\n",
              "    <tr>\n",
              "      <th>408</th>\n",
              "      <td>2013-12-06 00:00:00</td>\n",
              "    </tr>\n",
              "    <tr>\n",
              "      <th>409</th>\n",
              "      <td>2013-12-09 00:00:00</td>\n",
              "    </tr>\n",
              "    <tr>\n",
              "      <th>410</th>\n",
              "      <td>2013-12-14 00:00:00</td>\n",
              "    </tr>\n",
              "    <tr>\n",
              "      <th>411</th>\n",
              "      <td>2013-12-22 00:00:00</td>\n",
              "    </tr>\n",
              "  </tbody>\n",
              "</table>\n",
              "<p>412 rows × 1 columns</p>\n",
              "</div>"
            ],
            "text/plain": [
              "             InvoiceDate\n",
              "0    2021-03-04 23:21:47\n",
              "1    2009-01-02 00:00:00\n",
              "2    2009-01-03 00:00:00\n",
              "3    2009-01-06 00:00:00\n",
              "4    2009-01-11 00:00:00\n",
              "..                   ...\n",
              "407  2013-12-05 00:00:00\n",
              "408  2013-12-06 00:00:00\n",
              "409  2013-12-09 00:00:00\n",
              "410  2013-12-14 00:00:00\n",
              "411  2013-12-22 00:00:00\n",
              "\n",
              "[412 rows x 1 columns]"
            ]
          },
          "metadata": {
            "tags": []
          },
          "execution_count": 76
        }
      ]
    },
    {
      "cell_type": "code",
      "metadata": {
        "colab": {
          "base_uri": "https://localhost:8080/"
        },
        "id": "L0xfC3dltGeF",
        "outputId": "ecda0103-a0b7-4263-ad51-de55c0516d8d"
      },
      "source": [
        "# https://sqlite.org/lang_datefunc.html\r\n",
        "\r\n",
        "lst_queries = []\r\n",
        "# Compute the current date.\r\n",
        "lst_queries.append(\"SELECT date('now');\")\r\n",
        "\r\n",
        "# Compute the last day of the current month.\r\n",
        "lst_queries.append(\"SELECT date('now','start of month','+1 month','-1 day');\")\r\n",
        "\r\n",
        "# Compute the date and time given a unix timestamp 1092941466.\r\n",
        "lst_queries.append(\"SELECT datetime(1092941466, 'unixepoch');\")\r\n",
        "\r\n",
        "# Compute the date and time given a unix timestamp 1092941466, \r\n",
        "# and compensate for your local timezone.\r\n",
        "lst_queries.append(\"SELECT datetime(1092941466, 'unixepoch', 'localtime');\")\r\n",
        "\r\n",
        "# Compute the current unix timestamp.\r\n",
        "lst_queries.append(\"SELECT strftime('%s','now');\")\r\n",
        "\r\n",
        "# Compute the number of days since the signing of the US Declaration of Independence.\r\n",
        "lst_queries.append(\"SELECT julianday('now') - julianday('1776-07-04');\")\r\n",
        "\r\n",
        "# Compute the number of seconds since a particular moment in 2004:\r\n",
        "lst_queries.append(\"SELECT strftime('%s','now') - strftime('%s','2004-01-01 02:34:56');\")\r\n",
        "\r\n",
        "# Compute the date of the first Tuesday in October for the current year.\r\n",
        "lst_queries.append(\"SELECT date('now','start of year','+9 months','weekday 2');\")\r\n",
        "\r\n",
        "# Compute the time since the unix epoch in seconds \r\n",
        "# (like strftime('%s','now') except includes fractional part):\r\n",
        "lst_queries.append(\"SELECT (julianday('now') - 2440587.5)*86400.0;\")\r\n",
        "\r\n",
        "with sqlite3.connect('chinook.db') as db:\r\n",
        "    for query in lst_queries:\r\n",
        "        # query = \"SELECT date('now');\"\r\n",
        "        line = pd.read_sql_query(query, db)\r\n",
        "        print(line,'\\n')"
      ],
      "execution_count": 77,
      "outputs": [
        {
          "output_type": "stream",
          "text": [
            "  date('now')\n",
            "0  2021-03-04 \n",
            "\n",
            "  date('now','start of month','+1 month','-1 day')\n",
            "0                                       2021-03-31 \n",
            "\n",
            "  datetime(1092941466, 'unixepoch')\n",
            "0               2004-08-19 18:51:06 \n",
            "\n",
            "  datetime(1092941466, 'unixepoch', 'localtime')\n",
            "0                            2004-08-19 18:51:06 \n",
            "\n",
            "  strftime('%s','now')\n",
            "0           1614900107 \n",
            "\n",
            "   julianday('now') - julianday('1776-07-04')\n",
            "0                                89362.973466 \n",
            "\n",
            "   strftime('%s','now') - strftime('%s','2004-01-01 02:34:56')\n",
            "0                                          541975611           \n",
            "\n",
            "  date('now','start of year','+9 months','weekday 2')\n",
            "0                                         2021-10-05  \n",
            "\n",
            "   (julianday('now') - 2440587.5)*86400.0\n",
            "0                            1.614900e+09 \n",
            "\n"
          ],
          "name": "stdout"
        }
      ]
    },
    {
      "cell_type": "markdown",
      "metadata": {
        "id": "yi8XXmzWToXs"
      },
      "source": [
        "## Comments\r\n",
        "\r\n",
        "\r\n",
        "``` sql\r\n",
        "-- single line comment\r\n",
        "SELECT * FROM Table;\r\n",
        "/*\r\n",
        "Multiple line comment\r\n",
        "*/\r\n",
        "SELECT * FROM Table;\r\n",
        "```\r\n",
        "\r\n"
      ]
    },
    {
      "cell_type": "markdown",
      "metadata": {
        "id": "yLcLX65idLVs"
      },
      "source": [
        "## Distinct"
      ]
    },
    {
      "cell_type": "code",
      "metadata": {
        "colab": {
          "base_uri": "https://localhost:8080/",
          "height": 406
        },
        "id": "Z_w2FDHASmEb",
        "outputId": "49529fcb-220d-4e25-f147-3eb669ce06e1"
      },
      "source": [
        "with sqlite3.connect('chinook.db') as db:\r\n",
        "\r\n",
        "    query = \"SELECT DISTINCT album FROM v_tracks;\"\r\n",
        "    v_tracks = pd.read_sql_query(query, db)\r\n",
        "v_tracks"
      ],
      "execution_count": 78,
      "outputs": [
        {
          "output_type": "execute_result",
          "data": {
            "text/html": [
              "<div>\n",
              "<style scoped>\n",
              "    .dataframe tbody tr th:only-of-type {\n",
              "        vertical-align: middle;\n",
              "    }\n",
              "\n",
              "    .dataframe tbody tr th {\n",
              "        vertical-align: top;\n",
              "    }\n",
              "\n",
              "    .dataframe thead th {\n",
              "        text-align: right;\n",
              "    }\n",
              "</style>\n",
              "<table border=\"1\" class=\"dataframe\">\n",
              "  <thead>\n",
              "    <tr style=\"text-align: right;\">\n",
              "      <th></th>\n",
              "      <th>album</th>\n",
              "    </tr>\n",
              "  </thead>\n",
              "  <tbody>\n",
              "    <tr>\n",
              "      <th>0</th>\n",
              "      <td>For Those About To Rock We Salute You</td>\n",
              "    </tr>\n",
              "    <tr>\n",
              "      <th>1</th>\n",
              "      <td>Balls to the Wall</td>\n",
              "    </tr>\n",
              "    <tr>\n",
              "      <th>2</th>\n",
              "      <td>Restless and Wild</td>\n",
              "    </tr>\n",
              "    <tr>\n",
              "      <th>3</th>\n",
              "      <td>Let There Be Rock</td>\n",
              "    </tr>\n",
              "    <tr>\n",
              "      <th>4</th>\n",
              "      <td>Big Ones</td>\n",
              "    </tr>\n",
              "    <tr>\n",
              "      <th>...</th>\n",
              "      <td>...</td>\n",
              "    </tr>\n",
              "    <tr>\n",
              "      <th>342</th>\n",
              "      <td>Respighi:Pines of Rome</td>\n",
              "    </tr>\n",
              "    <tr>\n",
              "      <th>343</th>\n",
              "      <td>Schubert: The Late String Quartets &amp; String Qu...</td>\n",
              "    </tr>\n",
              "    <tr>\n",
              "      <th>344</th>\n",
              "      <td>Monteverdi: L'Orfeo</td>\n",
              "    </tr>\n",
              "    <tr>\n",
              "      <th>345</th>\n",
              "      <td>Mozart: Chamber Music</td>\n",
              "    </tr>\n",
              "    <tr>\n",
              "      <th>346</th>\n",
              "      <td>Mozart Gala: Famous Arias</td>\n",
              "    </tr>\n",
              "  </tbody>\n",
              "</table>\n",
              "<p>347 rows × 1 columns</p>\n",
              "</div>"
            ],
            "text/plain": [
              "                                                 album\n",
              "0                For Those About To Rock We Salute You\n",
              "1                                    Balls to the Wall\n",
              "2                                    Restless and Wild\n",
              "3                                    Let There Be Rock\n",
              "4                                             Big Ones\n",
              "..                                                 ...\n",
              "342                             Respighi:Pines of Rome\n",
              "343  Schubert: The Late String Quartets & String Qu...\n",
              "344                                Monteverdi: L'Orfeo\n",
              "345                              Mozart: Chamber Music\n",
              "346                          Mozart Gala: Famous Arias\n",
              "\n",
              "[347 rows x 1 columns]"
            ]
          },
          "metadata": {
            "tags": []
          },
          "execution_count": 78
        }
      ]
    },
    {
      "cell_type": "code",
      "metadata": {
        "colab": {
          "base_uri": "https://localhost:8080/",
          "height": 197
        },
        "id": "UNLPdLBfkfbU",
        "outputId": "82fd932a-6992-4b7f-f4f5-c91ccb5d40bc"
      },
      "source": [
        "with sqlite3.connect('chinook.db') as db:\r\n",
        "    query = \"SELECT DISTINCT BillingState FROM invoices\"\r\n",
        "    df = pd.read_sql_query(query, db)\r\n",
        "df.head()"
      ],
      "execution_count": 145,
      "outputs": [
        {
          "output_type": "execute_result",
          "data": {
            "text/html": [
              "<div>\n",
              "<style scoped>\n",
              "    .dataframe tbody tr th:only-of-type {\n",
              "        vertical-align: middle;\n",
              "    }\n",
              "\n",
              "    .dataframe tbody tr th {\n",
              "        vertical-align: top;\n",
              "    }\n",
              "\n",
              "    .dataframe thead th {\n",
              "        text-align: right;\n",
              "    }\n",
              "</style>\n",
              "<table border=\"1\" class=\"dataframe\">\n",
              "  <thead>\n",
              "    <tr style=\"text-align: right;\">\n",
              "      <th></th>\n",
              "      <th>BillingState</th>\n",
              "    </tr>\n",
              "  </thead>\n",
              "  <tbody>\n",
              "    <tr>\n",
              "      <th>0</th>\n",
              "      <td>None</td>\n",
              "    </tr>\n",
              "    <tr>\n",
              "      <th>1</th>\n",
              "      <td>AB</td>\n",
              "    </tr>\n",
              "    <tr>\n",
              "      <th>2</th>\n",
              "      <td>MA</td>\n",
              "    </tr>\n",
              "    <tr>\n",
              "      <th>3</th>\n",
              "      <td>Dublin</td>\n",
              "    </tr>\n",
              "    <tr>\n",
              "      <th>4</th>\n",
              "      <td>CA</td>\n",
              "    </tr>\n",
              "  </tbody>\n",
              "</table>\n",
              "</div>"
            ],
            "text/plain": [
              "  BillingState\n",
              "0         None\n",
              "1           AB\n",
              "2           MA\n",
              "3       Dublin\n",
              "4           CA"
            ]
          },
          "metadata": {
            "tags": []
          },
          "execution_count": 145
        }
      ]
    },
    {
      "cell_type": "markdown",
      "metadata": {
        "id": "imcEdT8cd6fP"
      },
      "source": [
        "## Limit"
      ]
    },
    {
      "cell_type": "code",
      "metadata": {
        "colab": {
          "base_uri": "https://localhost:8080/",
          "height": 197
        },
        "id": "I8xXSbzmdYBd",
        "outputId": "68d96937-4a94-47a5-d1fa-21c31aaaa1e7"
      },
      "source": [
        "with sqlite3.connect('chinook.db') as db:\r\n",
        "\r\n",
        "    query = \"SELECT DISTINCT album FROM v_tracks LIMIT 5;\"\r\n",
        "    v_tracks = pd.read_sql_query(query, db)\r\n",
        "v_tracks"
      ],
      "execution_count": 79,
      "outputs": [
        {
          "output_type": "execute_result",
          "data": {
            "text/html": [
              "<div>\n",
              "<style scoped>\n",
              "    .dataframe tbody tr th:only-of-type {\n",
              "        vertical-align: middle;\n",
              "    }\n",
              "\n",
              "    .dataframe tbody tr th {\n",
              "        vertical-align: top;\n",
              "    }\n",
              "\n",
              "    .dataframe thead th {\n",
              "        text-align: right;\n",
              "    }\n",
              "</style>\n",
              "<table border=\"1\" class=\"dataframe\">\n",
              "  <thead>\n",
              "    <tr style=\"text-align: right;\">\n",
              "      <th></th>\n",
              "      <th>album</th>\n",
              "    </tr>\n",
              "  </thead>\n",
              "  <tbody>\n",
              "    <tr>\n",
              "      <th>0</th>\n",
              "      <td>For Those About To Rock We Salute You</td>\n",
              "    </tr>\n",
              "    <tr>\n",
              "      <th>1</th>\n",
              "      <td>Balls to the Wall</td>\n",
              "    </tr>\n",
              "    <tr>\n",
              "      <th>2</th>\n",
              "      <td>Restless and Wild</td>\n",
              "    </tr>\n",
              "    <tr>\n",
              "      <th>3</th>\n",
              "      <td>Let There Be Rock</td>\n",
              "    </tr>\n",
              "    <tr>\n",
              "      <th>4</th>\n",
              "      <td>Big Ones</td>\n",
              "    </tr>\n",
              "  </tbody>\n",
              "</table>\n",
              "</div>"
            ],
            "text/plain": [
              "                                   album\n",
              "0  For Those About To Rock We Salute You\n",
              "1                      Balls to the Wall\n",
              "2                      Restless and Wild\n",
              "3                      Let There Be Rock\n",
              "4                               Big Ones"
            ]
          },
          "metadata": {
            "tags": []
          },
          "execution_count": 79
        }
      ]
    },
    {
      "cell_type": "markdown",
      "metadata": {
        "id": "EQklziQ0em7k"
      },
      "source": [
        "## usp: user stored procedures\r\n",
        "\r\n",
        "https://wellsr.com/python/create-scalar-and-aggregate-functions-for-python-sqlite/"
      ]
    },
    {
      "cell_type": "code",
      "metadata": {
        "colab": {
          "base_uri": "https://localhost:8080/"
        },
        "id": "DQXefTA3d42V",
        "outputId": "9032bb8a-09f5-45a2-b118-151736f107d9"
      },
      "source": [
        "#  https://docs.python.org/3/library/sqlite3.html#sqlite3.Connection.create_function\r\n",
        "import sqlite3\r\n",
        "import hashlib\r\n",
        "\r\n",
        "def md5sum(t):\r\n",
        "    return hashlib.md5(t).hexdigest()\r\n",
        "\r\n",
        "con = sqlite3.connect(\":memory:\")\r\n",
        "con.create_function(\"md5\", 1, md5sum)\r\n",
        "cur = con.cursor()\r\n",
        "cur.execute(\"select md5(?)\", (b\"foo\",))\r\n",
        "print(cur.fetchone()[0])\r\n",
        "\r\n",
        "con.close()"
      ],
      "execution_count": 80,
      "outputs": [
        {
          "output_type": "stream",
          "text": [
            "acbd18db4cc2f85cedef654fccc4a4d8\n"
          ],
          "name": "stdout"
        }
      ]
    },
    {
      "cell_type": "code",
      "metadata": {
        "colab": {
          "base_uri": "https://localhost:8080/"
        },
        "id": "nEw5E2OigB_d",
        "outputId": "8aee5da6-1e15-4464-aa0f-3e6e52b1879f"
      },
      "source": [
        "import sqlite3\r\n",
        "\r\n",
        "class MySum:\r\n",
        "    def __init__(self):\r\n",
        "        self.count = 0\r\n",
        "\r\n",
        "    def step(self, value):\r\n",
        "        self.count += value\r\n",
        "\r\n",
        "    def finalize(self):\r\n",
        "        return self.count\r\n",
        "\r\n",
        "con = sqlite3.connect(\":memory:\")\r\n",
        "con.create_aggregate(\"mysum\", 1, MySum)\r\n",
        "cur = con.cursor()\r\n",
        "cur.execute(\"create table test(i)\")\r\n",
        "cur.execute(\"insert into test(i) values (1)\")\r\n",
        "cur.execute(\"insert into test(i) values (2)\")\r\n",
        "cur.execute(\"select mysum(i) from test\")\r\n",
        "print(cur.fetchone()[0])\r\n",
        "\r\n",
        "con.close()"
      ],
      "execution_count": 81,
      "outputs": [
        {
          "output_type": "stream",
          "text": [
            "3\n"
          ],
          "name": "stdout"
        }
      ]
    },
    {
      "cell_type": "code",
      "metadata": {
        "colab": {
          "base_uri": "https://localhost:8080/"
        },
        "id": "VRjh6A9dgc48",
        "outputId": "210eecb5-7dbe-4e05-c727-9e6725697bae"
      },
      "source": [
        "import sqlite3\r\n",
        "\r\n",
        "def collate_reverse(string1, string2):\r\n",
        "    if string1 == string2:\r\n",
        "        return 0\r\n",
        "    elif string1 < string2:\r\n",
        "        return 1\r\n",
        "    else:\r\n",
        "        return -1\r\n",
        "\r\n",
        "con = sqlite3.connect(\":memory:\")\r\n",
        "con.create_collation(\"reverse\", collate_reverse)\r\n",
        "\r\n",
        "cur = con.cursor()\r\n",
        "cur.execute(\"create table test(x)\")\r\n",
        "cur.executemany(\"insert into test(x) values (?)\", [(\"a\",), (\"b\",), (\"c\",)])\r\n",
        "cur.execute(\"select x from test order by x collate reverse\")\r\n",
        "for row in cur:\r\n",
        "    print(row)\r\n",
        "con.close()"
      ],
      "execution_count": 82,
      "outputs": [
        {
          "output_type": "stream",
          "text": [
            "('c',)\n",
            "('b',)\n",
            "('a',)\n"
          ],
          "name": "stdout"
        }
      ]
    },
    {
      "cell_type": "code",
      "metadata": {
        "colab": {
          "base_uri": "https://localhost:8080/",
          "height": 357
        },
        "id": "zztf8QVFgiH1",
        "outputId": "9aac8498-5a5e-4880-af56-47b208fffc75"
      },
      "source": [
        "with sqlite3.connect('chinook.db') as db:\r\n",
        "\r\n",
        "    query = \"SELECT * FROM customers;\"\r\n",
        "    customers = pd.read_sql_query(query, db)\r\n",
        "customers.head(7)"
      ],
      "execution_count": 83,
      "outputs": [
        {
          "output_type": "execute_result",
          "data": {
            "text/html": [
              "<div>\n",
              "<style scoped>\n",
              "    .dataframe tbody tr th:only-of-type {\n",
              "        vertical-align: middle;\n",
              "    }\n",
              "\n",
              "    .dataframe tbody tr th {\n",
              "        vertical-align: top;\n",
              "    }\n",
              "\n",
              "    .dataframe thead th {\n",
              "        text-align: right;\n",
              "    }\n",
              "</style>\n",
              "<table border=\"1\" class=\"dataframe\">\n",
              "  <thead>\n",
              "    <tr style=\"text-align: right;\">\n",
              "      <th></th>\n",
              "      <th>CustomerId</th>\n",
              "      <th>FirstName</th>\n",
              "      <th>LastName</th>\n",
              "      <th>Company</th>\n",
              "      <th>Address</th>\n",
              "      <th>City</th>\n",
              "      <th>State</th>\n",
              "      <th>Country</th>\n",
              "      <th>PostalCode</th>\n",
              "      <th>Phone</th>\n",
              "      <th>Fax</th>\n",
              "      <th>Email</th>\n",
              "      <th>SupportRepId</th>\n",
              "    </tr>\n",
              "  </thead>\n",
              "  <tbody>\n",
              "    <tr>\n",
              "      <th>0</th>\n",
              "      <td>1</td>\n",
              "      <td>Luís</td>\n",
              "      <td>Gonçalves</td>\n",
              "      <td>Embraer - Empresa Brasileira de Aeronáutica S.A.</td>\n",
              "      <td>Av. Brigadeiro Faria Lima, 2170</td>\n",
              "      <td>São José dos Campos</td>\n",
              "      <td>SP</td>\n",
              "      <td>Brazil</td>\n",
              "      <td>12227-000</td>\n",
              "      <td>+55 (12) 3923-5555</td>\n",
              "      <td>+55 (12) 3923-5566</td>\n",
              "      <td>luisg@embraer.com.br</td>\n",
              "      <td>3</td>\n",
              "    </tr>\n",
              "    <tr>\n",
              "      <th>1</th>\n",
              "      <td>2</td>\n",
              "      <td>Leonie</td>\n",
              "      <td>Köhler</td>\n",
              "      <td>None</td>\n",
              "      <td>Theodor-Heuss-Straße 34</td>\n",
              "      <td>Stuttgart</td>\n",
              "      <td>None</td>\n",
              "      <td>Germany</td>\n",
              "      <td>70174</td>\n",
              "      <td>+49 0711 2842222</td>\n",
              "      <td>None</td>\n",
              "      <td>leonekohler@surfeu.de</td>\n",
              "      <td>5</td>\n",
              "    </tr>\n",
              "    <tr>\n",
              "      <th>2</th>\n",
              "      <td>3</td>\n",
              "      <td>François</td>\n",
              "      <td>Tremblay</td>\n",
              "      <td>None</td>\n",
              "      <td>1498 rue Bélanger</td>\n",
              "      <td>Montréal</td>\n",
              "      <td>QC</td>\n",
              "      <td>Canada</td>\n",
              "      <td>H2G 1A7</td>\n",
              "      <td>+1 (514) 721-4711</td>\n",
              "      <td>None</td>\n",
              "      <td>ftremblay@gmail.com</td>\n",
              "      <td>3</td>\n",
              "    </tr>\n",
              "    <tr>\n",
              "      <th>3</th>\n",
              "      <td>4</td>\n",
              "      <td>Bjørn</td>\n",
              "      <td>Hansen</td>\n",
              "      <td>None</td>\n",
              "      <td>Ullevålsveien 14</td>\n",
              "      <td>Oslo</td>\n",
              "      <td>None</td>\n",
              "      <td>Norway</td>\n",
              "      <td>0171</td>\n",
              "      <td>+47 22 44 22 22</td>\n",
              "      <td>None</td>\n",
              "      <td>bjorn.hansen@yahoo.no</td>\n",
              "      <td>4</td>\n",
              "    </tr>\n",
              "    <tr>\n",
              "      <th>4</th>\n",
              "      <td>5</td>\n",
              "      <td>František</td>\n",
              "      <td>Wichterlová</td>\n",
              "      <td>JetBrains s.r.o.</td>\n",
              "      <td>Klanova 9/506</td>\n",
              "      <td>Prague</td>\n",
              "      <td>None</td>\n",
              "      <td>Czech Republic</td>\n",
              "      <td>14700</td>\n",
              "      <td>+420 2 4172 5555</td>\n",
              "      <td>+420 2 4172 5555</td>\n",
              "      <td>frantisekw@jetbrains.com</td>\n",
              "      <td>4</td>\n",
              "    </tr>\n",
              "    <tr>\n",
              "      <th>5</th>\n",
              "      <td>6</td>\n",
              "      <td>Helena</td>\n",
              "      <td>Holý</td>\n",
              "      <td>None</td>\n",
              "      <td>Rilská 3174/6</td>\n",
              "      <td>Prague</td>\n",
              "      <td>None</td>\n",
              "      <td>Czech Republic</td>\n",
              "      <td>14300</td>\n",
              "      <td>+420 2 4177 0449</td>\n",
              "      <td>None</td>\n",
              "      <td>hholy@gmail.com</td>\n",
              "      <td>5</td>\n",
              "    </tr>\n",
              "    <tr>\n",
              "      <th>6</th>\n",
              "      <td>7</td>\n",
              "      <td>Astrid</td>\n",
              "      <td>Gruber</td>\n",
              "      <td>None</td>\n",
              "      <td>Rotenturmstraße 4, 1010 Innere Stadt</td>\n",
              "      <td>Vienne</td>\n",
              "      <td>None</td>\n",
              "      <td>Austria</td>\n",
              "      <td>1010</td>\n",
              "      <td>+43 01 5134505</td>\n",
              "      <td>None</td>\n",
              "      <td>astrid.gruber@apple.at</td>\n",
              "      <td>5</td>\n",
              "    </tr>\n",
              "  </tbody>\n",
              "</table>\n",
              "</div>"
            ],
            "text/plain": [
              "   CustomerId  FirstName  ...                     Email SupportRepId\n",
              "0           1       Luís  ...      luisg@embraer.com.br            3\n",
              "1           2     Leonie  ...     leonekohler@surfeu.de            5\n",
              "2           3   François  ...       ftremblay@gmail.com            3\n",
              "3           4      Bjørn  ...     bjorn.hansen@yahoo.no            4\n",
              "4           5  František  ...  frantisekw@jetbrains.com            4\n",
              "5           6     Helena  ...           hholy@gmail.com            5\n",
              "6           7     Astrid  ...    astrid.gruber@apple.at            5\n",
              "\n",
              "[7 rows x 13 columns]"
            ]
          },
          "metadata": {
            "tags": []
          },
          "execution_count": 83
        }
      ]
    },
    {
      "cell_type": "markdown",
      "metadata": {
        "id": "g_TBVvHYuu9u"
      },
      "source": [
        "## Concatenate"
      ]
    },
    {
      "cell_type": "code",
      "metadata": {
        "colab": {
          "base_uri": "https://localhost:8080/",
          "height": 257
        },
        "id": "uI6Ojj3omQUl",
        "outputId": "8f000d40-aa40-410f-b96b-58b100e6a793"
      },
      "source": [
        "with sqlite3.connect('chinook.db') as db:\r\n",
        "\r\n",
        "    query = \"SELECT FirstName || ' ' || LastName AS FullName FROM customers;\"\r\n",
        "    customers_full_name = pd.read_sql_query(query, db)\r\n",
        "customers_full_name.head(7)"
      ],
      "execution_count": 84,
      "outputs": [
        {
          "output_type": "execute_result",
          "data": {
            "text/html": [
              "<div>\n",
              "<style scoped>\n",
              "    .dataframe tbody tr th:only-of-type {\n",
              "        vertical-align: middle;\n",
              "    }\n",
              "\n",
              "    .dataframe tbody tr th {\n",
              "        vertical-align: top;\n",
              "    }\n",
              "\n",
              "    .dataframe thead th {\n",
              "        text-align: right;\n",
              "    }\n",
              "</style>\n",
              "<table border=\"1\" class=\"dataframe\">\n",
              "  <thead>\n",
              "    <tr style=\"text-align: right;\">\n",
              "      <th></th>\n",
              "      <th>FullName</th>\n",
              "    </tr>\n",
              "  </thead>\n",
              "  <tbody>\n",
              "    <tr>\n",
              "      <th>0</th>\n",
              "      <td>Luís Gonçalves</td>\n",
              "    </tr>\n",
              "    <tr>\n",
              "      <th>1</th>\n",
              "      <td>Leonie Köhler</td>\n",
              "    </tr>\n",
              "    <tr>\n",
              "      <th>2</th>\n",
              "      <td>François Tremblay</td>\n",
              "    </tr>\n",
              "    <tr>\n",
              "      <th>3</th>\n",
              "      <td>Bjørn Hansen</td>\n",
              "    </tr>\n",
              "    <tr>\n",
              "      <th>4</th>\n",
              "      <td>František Wichterlová</td>\n",
              "    </tr>\n",
              "    <tr>\n",
              "      <th>5</th>\n",
              "      <td>Helena Holý</td>\n",
              "    </tr>\n",
              "    <tr>\n",
              "      <th>6</th>\n",
              "      <td>Astrid Gruber</td>\n",
              "    </tr>\n",
              "  </tbody>\n",
              "</table>\n",
              "</div>"
            ],
            "text/plain": [
              "                FullName\n",
              "0         Luís Gonçalves\n",
              "1          Leonie Köhler\n",
              "2      François Tremblay\n",
              "3           Bjørn Hansen\n",
              "4  František Wichterlová\n",
              "5            Helena Holý\n",
              "6          Astrid Gruber"
            ]
          },
          "metadata": {
            "tags": []
          },
          "execution_count": 84
        }
      ]
    },
    {
      "cell_type": "markdown",
      "metadata": {
        "id": "7wffZDOWKP_W"
      },
      "source": [
        "# "
      ]
    },
    {
      "cell_type": "markdown",
      "metadata": {
        "id": "r87UooQEPiUZ"
      },
      "source": [
        "## Order by"
      ]
    },
    {
      "cell_type": "code",
      "metadata": {
        "colab": {
          "base_uri": "https://localhost:8080/",
          "height": 257
        },
        "id": "mqx2UOZTPhkx",
        "outputId": "3c76c225-1a43-4294-d884-1c9f337fe160"
      },
      "source": [
        "with sqlite3.connect('chinook.db') as db:\r\n",
        "# default: ASC\r\n",
        "    query = \"SELECT * FROM customers ORDER BY FirstName\"\r\n",
        "    customers = pd.read_sql_query(query, db)\r\n",
        "customers.head(7)"
      ],
      "execution_count": 85,
      "outputs": [
        {
          "output_type": "execute_result",
          "data": {
            "text/html": [
              "<div>\n",
              "<style scoped>\n",
              "    .dataframe tbody tr th:only-of-type {\n",
              "        vertical-align: middle;\n",
              "    }\n",
              "\n",
              "    .dataframe tbody tr th {\n",
              "        vertical-align: top;\n",
              "    }\n",
              "\n",
              "    .dataframe thead th {\n",
              "        text-align: right;\n",
              "    }\n",
              "</style>\n",
              "<table border=\"1\" class=\"dataframe\">\n",
              "  <thead>\n",
              "    <tr style=\"text-align: right;\">\n",
              "      <th></th>\n",
              "      <th>CustomerId</th>\n",
              "      <th>FirstName</th>\n",
              "      <th>LastName</th>\n",
              "      <th>Company</th>\n",
              "      <th>Address</th>\n",
              "      <th>City</th>\n",
              "      <th>State</th>\n",
              "      <th>Country</th>\n",
              "      <th>PostalCode</th>\n",
              "      <th>Phone</th>\n",
              "      <th>Fax</th>\n",
              "      <th>Email</th>\n",
              "      <th>SupportRepId</th>\n",
              "    </tr>\n",
              "  </thead>\n",
              "  <tbody>\n",
              "    <tr>\n",
              "      <th>0</th>\n",
              "      <td>32</td>\n",
              "      <td>Aaron</td>\n",
              "      <td>Mitchell</td>\n",
              "      <td>None</td>\n",
              "      <td>696 Osborne Street</td>\n",
              "      <td>Winnipeg</td>\n",
              "      <td>MB</td>\n",
              "      <td>Canada</td>\n",
              "      <td>R3L 2B9</td>\n",
              "      <td>+1 (204) 452-6452</td>\n",
              "      <td>None</td>\n",
              "      <td>aaronmitchell@yahoo.ca</td>\n",
              "      <td>4</td>\n",
              "    </tr>\n",
              "    <tr>\n",
              "      <th>1</th>\n",
              "      <td>11</td>\n",
              "      <td>Alexandre</td>\n",
              "      <td>Rocha</td>\n",
              "      <td>Banco do Brasil S.A.</td>\n",
              "      <td>Av. Paulista, 2022</td>\n",
              "      <td>São Paulo</td>\n",
              "      <td>SP</td>\n",
              "      <td>Brazil</td>\n",
              "      <td>01310-200</td>\n",
              "      <td>+55 (11) 3055-3278</td>\n",
              "      <td>+55 (11) 3055-8131</td>\n",
              "      <td>alero@uol.com.br</td>\n",
              "      <td>5</td>\n",
              "    </tr>\n",
              "    <tr>\n",
              "      <th>2</th>\n",
              "      <td>7</td>\n",
              "      <td>Astrid</td>\n",
              "      <td>Gruber</td>\n",
              "      <td>None</td>\n",
              "      <td>Rotenturmstraße 4, 1010 Innere Stadt</td>\n",
              "      <td>Vienne</td>\n",
              "      <td>None</td>\n",
              "      <td>Austria</td>\n",
              "      <td>1010</td>\n",
              "      <td>+43 01 5134505</td>\n",
              "      <td>None</td>\n",
              "      <td>astrid.gruber@apple.at</td>\n",
              "      <td>5</td>\n",
              "    </tr>\n",
              "    <tr>\n",
              "      <th>3</th>\n",
              "      <td>4</td>\n",
              "      <td>Bjørn</td>\n",
              "      <td>Hansen</td>\n",
              "      <td>None</td>\n",
              "      <td>Ullevålsveien 14</td>\n",
              "      <td>Oslo</td>\n",
              "      <td>None</td>\n",
              "      <td>Norway</td>\n",
              "      <td>0171</td>\n",
              "      <td>+47 22 44 22 22</td>\n",
              "      <td>None</td>\n",
              "      <td>bjorn.hansen@yahoo.no</td>\n",
              "      <td>4</td>\n",
              "    </tr>\n",
              "    <tr>\n",
              "      <th>4</th>\n",
              "      <td>39</td>\n",
              "      <td>Camille</td>\n",
              "      <td>Bernard</td>\n",
              "      <td>None</td>\n",
              "      <td>4, Rue Milton</td>\n",
              "      <td>Paris</td>\n",
              "      <td>None</td>\n",
              "      <td>France</td>\n",
              "      <td>75009</td>\n",
              "      <td>+33 01 49 70 65 65</td>\n",
              "      <td>None</td>\n",
              "      <td>camille.bernard@yahoo.fr</td>\n",
              "      <td>4</td>\n",
              "    </tr>\n",
              "    <tr>\n",
              "      <th>5</th>\n",
              "      <td>8</td>\n",
              "      <td>Daan</td>\n",
              "      <td>Peeters</td>\n",
              "      <td>None</td>\n",
              "      <td>Grétrystraat 63</td>\n",
              "      <td>Brussels</td>\n",
              "      <td>None</td>\n",
              "      <td>Belgium</td>\n",
              "      <td>1000</td>\n",
              "      <td>+32 02 219 03 03</td>\n",
              "      <td>None</td>\n",
              "      <td>daan_peeters@apple.be</td>\n",
              "      <td>4</td>\n",
              "    </tr>\n",
              "    <tr>\n",
              "      <th>6</th>\n",
              "      <td>20</td>\n",
              "      <td>Dan</td>\n",
              "      <td>Miller</td>\n",
              "      <td>None</td>\n",
              "      <td>541 Del Medio Avenue</td>\n",
              "      <td>Mountain View</td>\n",
              "      <td>CA</td>\n",
              "      <td>USA</td>\n",
              "      <td>94040-111</td>\n",
              "      <td>+1 (650) 644-3358</td>\n",
              "      <td>None</td>\n",
              "      <td>dmiller@comcast.com</td>\n",
              "      <td>4</td>\n",
              "    </tr>\n",
              "  </tbody>\n",
              "</table>\n",
              "</div>"
            ],
            "text/plain": [
              "   CustomerId  FirstName  ...                     Email SupportRepId\n",
              "0          32      Aaron  ...    aaronmitchell@yahoo.ca            4\n",
              "1          11  Alexandre  ...          alero@uol.com.br            5\n",
              "2           7     Astrid  ...    astrid.gruber@apple.at            5\n",
              "3           4      Bjørn  ...     bjorn.hansen@yahoo.no            4\n",
              "4          39    Camille  ...  camille.bernard@yahoo.fr            4\n",
              "5           8       Daan  ...     daan_peeters@apple.be            4\n",
              "6          20        Dan  ...       dmiller@comcast.com            4\n",
              "\n",
              "[7 rows x 13 columns]"
            ]
          },
          "metadata": {
            "tags": []
          },
          "execution_count": 85
        }
      ]
    },
    {
      "cell_type": "code",
      "metadata": {
        "colab": {
          "base_uri": "https://localhost:8080/",
          "height": 257
        },
        "id": "fIVWhswvPhhp",
        "outputId": "249ae856-8716-4065-cd14-9f5266e83ea2"
      },
      "source": [
        "with sqlite3.connect('chinook.db') as db:\r\n",
        "\r\n",
        "    query = \"SELECT * FROM customers ORDER BY FirstName ASC\"\r\n",
        "    customers = pd.read_sql_query(query, db)\r\n",
        "customers.head(7)"
      ],
      "execution_count": 86,
      "outputs": [
        {
          "output_type": "execute_result",
          "data": {
            "text/html": [
              "<div>\n",
              "<style scoped>\n",
              "    .dataframe tbody tr th:only-of-type {\n",
              "        vertical-align: middle;\n",
              "    }\n",
              "\n",
              "    .dataframe tbody tr th {\n",
              "        vertical-align: top;\n",
              "    }\n",
              "\n",
              "    .dataframe thead th {\n",
              "        text-align: right;\n",
              "    }\n",
              "</style>\n",
              "<table border=\"1\" class=\"dataframe\">\n",
              "  <thead>\n",
              "    <tr style=\"text-align: right;\">\n",
              "      <th></th>\n",
              "      <th>CustomerId</th>\n",
              "      <th>FirstName</th>\n",
              "      <th>LastName</th>\n",
              "      <th>Company</th>\n",
              "      <th>Address</th>\n",
              "      <th>City</th>\n",
              "      <th>State</th>\n",
              "      <th>Country</th>\n",
              "      <th>PostalCode</th>\n",
              "      <th>Phone</th>\n",
              "      <th>Fax</th>\n",
              "      <th>Email</th>\n",
              "      <th>SupportRepId</th>\n",
              "    </tr>\n",
              "  </thead>\n",
              "  <tbody>\n",
              "    <tr>\n",
              "      <th>0</th>\n",
              "      <td>32</td>\n",
              "      <td>Aaron</td>\n",
              "      <td>Mitchell</td>\n",
              "      <td>None</td>\n",
              "      <td>696 Osborne Street</td>\n",
              "      <td>Winnipeg</td>\n",
              "      <td>MB</td>\n",
              "      <td>Canada</td>\n",
              "      <td>R3L 2B9</td>\n",
              "      <td>+1 (204) 452-6452</td>\n",
              "      <td>None</td>\n",
              "      <td>aaronmitchell@yahoo.ca</td>\n",
              "      <td>4</td>\n",
              "    </tr>\n",
              "    <tr>\n",
              "      <th>1</th>\n",
              "      <td>11</td>\n",
              "      <td>Alexandre</td>\n",
              "      <td>Rocha</td>\n",
              "      <td>Banco do Brasil S.A.</td>\n",
              "      <td>Av. Paulista, 2022</td>\n",
              "      <td>São Paulo</td>\n",
              "      <td>SP</td>\n",
              "      <td>Brazil</td>\n",
              "      <td>01310-200</td>\n",
              "      <td>+55 (11) 3055-3278</td>\n",
              "      <td>+55 (11) 3055-8131</td>\n",
              "      <td>alero@uol.com.br</td>\n",
              "      <td>5</td>\n",
              "    </tr>\n",
              "    <tr>\n",
              "      <th>2</th>\n",
              "      <td>7</td>\n",
              "      <td>Astrid</td>\n",
              "      <td>Gruber</td>\n",
              "      <td>None</td>\n",
              "      <td>Rotenturmstraße 4, 1010 Innere Stadt</td>\n",
              "      <td>Vienne</td>\n",
              "      <td>None</td>\n",
              "      <td>Austria</td>\n",
              "      <td>1010</td>\n",
              "      <td>+43 01 5134505</td>\n",
              "      <td>None</td>\n",
              "      <td>astrid.gruber@apple.at</td>\n",
              "      <td>5</td>\n",
              "    </tr>\n",
              "    <tr>\n",
              "      <th>3</th>\n",
              "      <td>4</td>\n",
              "      <td>Bjørn</td>\n",
              "      <td>Hansen</td>\n",
              "      <td>None</td>\n",
              "      <td>Ullevålsveien 14</td>\n",
              "      <td>Oslo</td>\n",
              "      <td>None</td>\n",
              "      <td>Norway</td>\n",
              "      <td>0171</td>\n",
              "      <td>+47 22 44 22 22</td>\n",
              "      <td>None</td>\n",
              "      <td>bjorn.hansen@yahoo.no</td>\n",
              "      <td>4</td>\n",
              "    </tr>\n",
              "    <tr>\n",
              "      <th>4</th>\n",
              "      <td>39</td>\n",
              "      <td>Camille</td>\n",
              "      <td>Bernard</td>\n",
              "      <td>None</td>\n",
              "      <td>4, Rue Milton</td>\n",
              "      <td>Paris</td>\n",
              "      <td>None</td>\n",
              "      <td>France</td>\n",
              "      <td>75009</td>\n",
              "      <td>+33 01 49 70 65 65</td>\n",
              "      <td>None</td>\n",
              "      <td>camille.bernard@yahoo.fr</td>\n",
              "      <td>4</td>\n",
              "    </tr>\n",
              "    <tr>\n",
              "      <th>5</th>\n",
              "      <td>8</td>\n",
              "      <td>Daan</td>\n",
              "      <td>Peeters</td>\n",
              "      <td>None</td>\n",
              "      <td>Grétrystraat 63</td>\n",
              "      <td>Brussels</td>\n",
              "      <td>None</td>\n",
              "      <td>Belgium</td>\n",
              "      <td>1000</td>\n",
              "      <td>+32 02 219 03 03</td>\n",
              "      <td>None</td>\n",
              "      <td>daan_peeters@apple.be</td>\n",
              "      <td>4</td>\n",
              "    </tr>\n",
              "    <tr>\n",
              "      <th>6</th>\n",
              "      <td>20</td>\n",
              "      <td>Dan</td>\n",
              "      <td>Miller</td>\n",
              "      <td>None</td>\n",
              "      <td>541 Del Medio Avenue</td>\n",
              "      <td>Mountain View</td>\n",
              "      <td>CA</td>\n",
              "      <td>USA</td>\n",
              "      <td>94040-111</td>\n",
              "      <td>+1 (650) 644-3358</td>\n",
              "      <td>None</td>\n",
              "      <td>dmiller@comcast.com</td>\n",
              "      <td>4</td>\n",
              "    </tr>\n",
              "  </tbody>\n",
              "</table>\n",
              "</div>"
            ],
            "text/plain": [
              "   CustomerId  FirstName  ...                     Email SupportRepId\n",
              "0          32      Aaron  ...    aaronmitchell@yahoo.ca            4\n",
              "1          11  Alexandre  ...          alero@uol.com.br            5\n",
              "2           7     Astrid  ...    astrid.gruber@apple.at            5\n",
              "3           4      Bjørn  ...     bjorn.hansen@yahoo.no            4\n",
              "4          39    Camille  ...  camille.bernard@yahoo.fr            4\n",
              "5           8       Daan  ...     daan_peeters@apple.be            4\n",
              "6          20        Dan  ...       dmiller@comcast.com            4\n",
              "\n",
              "[7 rows x 13 columns]"
            ]
          },
          "metadata": {
            "tags": []
          },
          "execution_count": 86
        }
      ]
    },
    {
      "cell_type": "code",
      "metadata": {
        "colab": {
          "base_uri": "https://localhost:8080/",
          "height": 257
        },
        "id": "UeoSabAtPhYy",
        "outputId": "79aadb59-57f1-4236-8b02-1cf07fa7e197"
      },
      "source": [
        "with sqlite3.connect('chinook.db') as db:\r\n",
        "\r\n",
        "    query = \"SELECT * FROM customers ORDER BY FirstName DESC\"\r\n",
        "    df = pd.read_sql_query(query, db)\r\n",
        "df.head(7)"
      ],
      "execution_count": 87,
      "outputs": [
        {
          "output_type": "execute_result",
          "data": {
            "text/html": [
              "<div>\n",
              "<style scoped>\n",
              "    .dataframe tbody tr th:only-of-type {\n",
              "        vertical-align: middle;\n",
              "    }\n",
              "\n",
              "    .dataframe tbody tr th {\n",
              "        vertical-align: top;\n",
              "    }\n",
              "\n",
              "    .dataframe thead th {\n",
              "        text-align: right;\n",
              "    }\n",
              "</style>\n",
              "<table border=\"1\" class=\"dataframe\">\n",
              "  <thead>\n",
              "    <tr style=\"text-align: right;\">\n",
              "      <th></th>\n",
              "      <th>CustomerId</th>\n",
              "      <th>FirstName</th>\n",
              "      <th>LastName</th>\n",
              "      <th>Company</th>\n",
              "      <th>Address</th>\n",
              "      <th>City</th>\n",
              "      <th>State</th>\n",
              "      <th>Country</th>\n",
              "      <th>PostalCode</th>\n",
              "      <th>Phone</th>\n",
              "      <th>Fax</th>\n",
              "      <th>Email</th>\n",
              "      <th>SupportRepId</th>\n",
              "    </tr>\n",
              "  </thead>\n",
              "  <tbody>\n",
              "    <tr>\n",
              "      <th>0</th>\n",
              "      <td>42</td>\n",
              "      <td>Wyatt</td>\n",
              "      <td>Girard</td>\n",
              "      <td>None</td>\n",
              "      <td>9, Place Louis Barthou</td>\n",
              "      <td>Bordeaux</td>\n",
              "      <td>None</td>\n",
              "      <td>France</td>\n",
              "      <td>33000</td>\n",
              "      <td>+33 05 56 96 96 96</td>\n",
              "      <td>None</td>\n",
              "      <td>wyatt.girard@yahoo.fr</td>\n",
              "      <td>3</td>\n",
              "    </tr>\n",
              "    <tr>\n",
              "      <th>1</th>\n",
              "      <td>25</td>\n",
              "      <td>Victor</td>\n",
              "      <td>Stevens</td>\n",
              "      <td>None</td>\n",
              "      <td>319 N. Frances Street</td>\n",
              "      <td>Madison</td>\n",
              "      <td>WI</td>\n",
              "      <td>USA</td>\n",
              "      <td>53703</td>\n",
              "      <td>+1 (608) 257-0597</td>\n",
              "      <td>None</td>\n",
              "      <td>vstevens@yahoo.com</td>\n",
              "      <td>5</td>\n",
              "    </tr>\n",
              "    <tr>\n",
              "      <th>2</th>\n",
              "      <td>19</td>\n",
              "      <td>Tim</td>\n",
              "      <td>Goyer</td>\n",
              "      <td>Apple Inc.</td>\n",
              "      <td>1 Infinite Loop</td>\n",
              "      <td>Cupertino</td>\n",
              "      <td>CA</td>\n",
              "      <td>USA</td>\n",
              "      <td>95014</td>\n",
              "      <td>+1 (408) 996-1010</td>\n",
              "      <td>+1 (408) 996-1011</td>\n",
              "      <td>tgoyer@apple.com</td>\n",
              "      <td>3</td>\n",
              "    </tr>\n",
              "    <tr>\n",
              "      <th>3</th>\n",
              "      <td>44</td>\n",
              "      <td>Terhi</td>\n",
              "      <td>Hämäläinen</td>\n",
              "      <td>None</td>\n",
              "      <td>Porthaninkatu 9</td>\n",
              "      <td>Helsinki</td>\n",
              "      <td>None</td>\n",
              "      <td>Finland</td>\n",
              "      <td>00530</td>\n",
              "      <td>+358 09 870 2000</td>\n",
              "      <td>None</td>\n",
              "      <td>terhi.hamalainen@apple.fi</td>\n",
              "      <td>3</td>\n",
              "    </tr>\n",
              "    <tr>\n",
              "      <th>4</th>\n",
              "      <td>54</td>\n",
              "      <td>Steve</td>\n",
              "      <td>Murray</td>\n",
              "      <td>None</td>\n",
              "      <td>110 Raeburn Pl</td>\n",
              "      <td>Edinburgh</td>\n",
              "      <td>None</td>\n",
              "      <td>United Kingdom</td>\n",
              "      <td>EH4 1HH</td>\n",
              "      <td>+44 0131 315 3300</td>\n",
              "      <td>None</td>\n",
              "      <td>steve.murray@yahoo.uk</td>\n",
              "      <td>5</td>\n",
              "    </tr>\n",
              "    <tr>\n",
              "      <th>5</th>\n",
              "      <td>49</td>\n",
              "      <td>Stanisław</td>\n",
              "      <td>Wójcik</td>\n",
              "      <td>None</td>\n",
              "      <td>Ordynacka 10</td>\n",
              "      <td>Warsaw</td>\n",
              "      <td>None</td>\n",
              "      <td>Poland</td>\n",
              "      <td>00-358</td>\n",
              "      <td>+48 22 828 37 39</td>\n",
              "      <td>None</td>\n",
              "      <td>stanisław.wójcik@wp.pl</td>\n",
              "      <td>4</td>\n",
              "    </tr>\n",
              "    <tr>\n",
              "      <th>6</th>\n",
              "      <td>12</td>\n",
              "      <td>Roberto</td>\n",
              "      <td>Almeida</td>\n",
              "      <td>Riotur</td>\n",
              "      <td>Praça Pio X, 119</td>\n",
              "      <td>Rio de Janeiro</td>\n",
              "      <td>RJ</td>\n",
              "      <td>Brazil</td>\n",
              "      <td>20040-020</td>\n",
              "      <td>+55 (21) 2271-7000</td>\n",
              "      <td>+55 (21) 2271-7070</td>\n",
              "      <td>roberto.almeida@riotur.gov.br</td>\n",
              "      <td>3</td>\n",
              "    </tr>\n",
              "  </tbody>\n",
              "</table>\n",
              "</div>"
            ],
            "text/plain": [
              "   CustomerId  FirstName  ...                          Email SupportRepId\n",
              "0          42      Wyatt  ...          wyatt.girard@yahoo.fr            3\n",
              "1          25     Victor  ...             vstevens@yahoo.com            5\n",
              "2          19        Tim  ...               tgoyer@apple.com            3\n",
              "3          44      Terhi  ...      terhi.hamalainen@apple.fi            3\n",
              "4          54      Steve  ...          steve.murray@yahoo.uk            5\n",
              "5          49  Stanisław  ...         stanisław.wójcik@wp.pl            4\n",
              "6          12    Roberto  ...  roberto.almeida@riotur.gov.br            3\n",
              "\n",
              "[7 rows x 13 columns]"
            ]
          },
          "metadata": {
            "tags": []
          },
          "execution_count": 87
        }
      ]
    },
    {
      "cell_type": "markdown",
      "metadata": {
        "id": "B52xipjgRuvW"
      },
      "source": [
        ""
      ]
    },
    {
      "cell_type": "code",
      "metadata": {
        "id": "is_dxLCJjqve",
        "colab": {
          "base_uri": "https://localhost:8080/",
          "height": 357
        },
        "outputId": "de5dcd33-0536-40ad-aad7-c573a9580bf2"
      },
      "source": [
        "with sqlite3.connect('chinook.db') as db:\r\n",
        "#TODO: check if is possible order first ASC and last DESC\r\n",
        "    query = \"SELECT * FROM customers ORDER BY Country, FirstName DESC\"\r\n",
        "    df = pd.read_sql_query(query, db)\r\n",
        "df.head(7)"
      ],
      "execution_count": 88,
      "outputs": [
        {
          "output_type": "execute_result",
          "data": {
            "text/html": [
              "<div>\n",
              "<style scoped>\n",
              "    .dataframe tbody tr th:only-of-type {\n",
              "        vertical-align: middle;\n",
              "    }\n",
              "\n",
              "    .dataframe tbody tr th {\n",
              "        vertical-align: top;\n",
              "    }\n",
              "\n",
              "    .dataframe thead th {\n",
              "        text-align: right;\n",
              "    }\n",
              "</style>\n",
              "<table border=\"1\" class=\"dataframe\">\n",
              "  <thead>\n",
              "    <tr style=\"text-align: right;\">\n",
              "      <th></th>\n",
              "      <th>CustomerId</th>\n",
              "      <th>FirstName</th>\n",
              "      <th>LastName</th>\n",
              "      <th>Company</th>\n",
              "      <th>Address</th>\n",
              "      <th>City</th>\n",
              "      <th>State</th>\n",
              "      <th>Country</th>\n",
              "      <th>PostalCode</th>\n",
              "      <th>Phone</th>\n",
              "      <th>Fax</th>\n",
              "      <th>Email</th>\n",
              "      <th>SupportRepId</th>\n",
              "    </tr>\n",
              "  </thead>\n",
              "  <tbody>\n",
              "    <tr>\n",
              "      <th>0</th>\n",
              "      <td>56</td>\n",
              "      <td>Diego</td>\n",
              "      <td>Gutiérrez</td>\n",
              "      <td>None</td>\n",
              "      <td>307 Macacha Güemes</td>\n",
              "      <td>Buenos Aires</td>\n",
              "      <td>None</td>\n",
              "      <td>Argentina</td>\n",
              "      <td>1106</td>\n",
              "      <td>+54 (0)11 4311 4333</td>\n",
              "      <td>None</td>\n",
              "      <td>diego.gutierrez@yahoo.ar</td>\n",
              "      <td>4</td>\n",
              "    </tr>\n",
              "    <tr>\n",
              "      <th>1</th>\n",
              "      <td>55</td>\n",
              "      <td>Mark</td>\n",
              "      <td>Taylor</td>\n",
              "      <td>None</td>\n",
              "      <td>421 Bourke Street</td>\n",
              "      <td>Sidney</td>\n",
              "      <td>NSW</td>\n",
              "      <td>Australia</td>\n",
              "      <td>2010</td>\n",
              "      <td>+61 (02) 9332 3633</td>\n",
              "      <td>None</td>\n",
              "      <td>mark.taylor@yahoo.au</td>\n",
              "      <td>4</td>\n",
              "    </tr>\n",
              "    <tr>\n",
              "      <th>2</th>\n",
              "      <td>7</td>\n",
              "      <td>Astrid</td>\n",
              "      <td>Gruber</td>\n",
              "      <td>None</td>\n",
              "      <td>Rotenturmstraße 4, 1010 Innere Stadt</td>\n",
              "      <td>Vienne</td>\n",
              "      <td>None</td>\n",
              "      <td>Austria</td>\n",
              "      <td>1010</td>\n",
              "      <td>+43 01 5134505</td>\n",
              "      <td>None</td>\n",
              "      <td>astrid.gruber@apple.at</td>\n",
              "      <td>5</td>\n",
              "    </tr>\n",
              "    <tr>\n",
              "      <th>3</th>\n",
              "      <td>8</td>\n",
              "      <td>Daan</td>\n",
              "      <td>Peeters</td>\n",
              "      <td>None</td>\n",
              "      <td>Grétrystraat 63</td>\n",
              "      <td>Brussels</td>\n",
              "      <td>None</td>\n",
              "      <td>Belgium</td>\n",
              "      <td>1000</td>\n",
              "      <td>+32 02 219 03 03</td>\n",
              "      <td>None</td>\n",
              "      <td>daan_peeters@apple.be</td>\n",
              "      <td>4</td>\n",
              "    </tr>\n",
              "    <tr>\n",
              "      <th>4</th>\n",
              "      <td>12</td>\n",
              "      <td>Roberto</td>\n",
              "      <td>Almeida</td>\n",
              "      <td>Riotur</td>\n",
              "      <td>Praça Pio X, 119</td>\n",
              "      <td>Rio de Janeiro</td>\n",
              "      <td>RJ</td>\n",
              "      <td>Brazil</td>\n",
              "      <td>20040-020</td>\n",
              "      <td>+55 (21) 2271-7000</td>\n",
              "      <td>+55 (21) 2271-7070</td>\n",
              "      <td>roberto.almeida@riotur.gov.br</td>\n",
              "      <td>3</td>\n",
              "    </tr>\n",
              "    <tr>\n",
              "      <th>5</th>\n",
              "      <td>1</td>\n",
              "      <td>Luís</td>\n",
              "      <td>Gonçalves</td>\n",
              "      <td>Embraer - Empresa Brasileira de Aeronáutica S.A.</td>\n",
              "      <td>Av. Brigadeiro Faria Lima, 2170</td>\n",
              "      <td>São José dos Campos</td>\n",
              "      <td>SP</td>\n",
              "      <td>Brazil</td>\n",
              "      <td>12227-000</td>\n",
              "      <td>+55 (12) 3923-5555</td>\n",
              "      <td>+55 (12) 3923-5566</td>\n",
              "      <td>luisg@embraer.com.br</td>\n",
              "      <td>3</td>\n",
              "    </tr>\n",
              "    <tr>\n",
              "      <th>6</th>\n",
              "      <td>13</td>\n",
              "      <td>Fernanda</td>\n",
              "      <td>Ramos</td>\n",
              "      <td>None</td>\n",
              "      <td>Qe 7 Bloco G</td>\n",
              "      <td>Brasília</td>\n",
              "      <td>DF</td>\n",
              "      <td>Brazil</td>\n",
              "      <td>71020-677</td>\n",
              "      <td>+55 (61) 3363-5547</td>\n",
              "      <td>+55 (61) 3363-7855</td>\n",
              "      <td>fernadaramos4@uol.com.br</td>\n",
              "      <td>4</td>\n",
              "    </tr>\n",
              "  </tbody>\n",
              "</table>\n",
              "</div>"
            ],
            "text/plain": [
              "   CustomerId FirstName  ...                          Email SupportRepId\n",
              "0          56     Diego  ...       diego.gutierrez@yahoo.ar            4\n",
              "1          55      Mark  ...           mark.taylor@yahoo.au            4\n",
              "2           7    Astrid  ...         astrid.gruber@apple.at            5\n",
              "3           8      Daan  ...          daan_peeters@apple.be            4\n",
              "4          12   Roberto  ...  roberto.almeida@riotur.gov.br            3\n",
              "5           1      Luís  ...           luisg@embraer.com.br            3\n",
              "6          13  Fernanda  ...       fernadaramos4@uol.com.br            4\n",
              "\n",
              "[7 rows x 13 columns]"
            ]
          },
          "metadata": {
            "tags": []
          },
          "execution_count": 88
        }
      ]
    },
    {
      "cell_type": "markdown",
      "metadata": {
        "id": "MyCas1fjSQoT"
      },
      "source": [
        "## Where / filter\r\n",
        "* basic equality / comparison\r\n",
        "* basic logical\r\n",
        "* string comparison\r\n",
        "* NULL comparison"
      ]
    },
    {
      "cell_type": "code",
      "metadata": {
        "colab": {
          "base_uri": "https://localhost:8080/",
          "height": 257
        },
        "id": "NEd13cupRfqY",
        "outputId": "0bf7efa9-6226-4649-d668-976020e43555"
      },
      "source": [
        "with sqlite3.connect('chinook.db') as db:\r\n",
        "    query = \"SELECT * FROM customers WHERE Country = 'USA'\"\r\n",
        "    df = pd.read_sql_query(query, db)\r\n",
        "df.head(7)"
      ],
      "execution_count": 89,
      "outputs": [
        {
          "output_type": "execute_result",
          "data": {
            "text/html": [
              "<div>\n",
              "<style scoped>\n",
              "    .dataframe tbody tr th:only-of-type {\n",
              "        vertical-align: middle;\n",
              "    }\n",
              "\n",
              "    .dataframe tbody tr th {\n",
              "        vertical-align: top;\n",
              "    }\n",
              "\n",
              "    .dataframe thead th {\n",
              "        text-align: right;\n",
              "    }\n",
              "</style>\n",
              "<table border=\"1\" class=\"dataframe\">\n",
              "  <thead>\n",
              "    <tr style=\"text-align: right;\">\n",
              "      <th></th>\n",
              "      <th>CustomerId</th>\n",
              "      <th>FirstName</th>\n",
              "      <th>LastName</th>\n",
              "      <th>Company</th>\n",
              "      <th>Address</th>\n",
              "      <th>City</th>\n",
              "      <th>State</th>\n",
              "      <th>Country</th>\n",
              "      <th>PostalCode</th>\n",
              "      <th>Phone</th>\n",
              "      <th>Fax</th>\n",
              "      <th>Email</th>\n",
              "      <th>SupportRepId</th>\n",
              "    </tr>\n",
              "  </thead>\n",
              "  <tbody>\n",
              "    <tr>\n",
              "      <th>0</th>\n",
              "      <td>16</td>\n",
              "      <td>Frank</td>\n",
              "      <td>Harris</td>\n",
              "      <td>Google Inc.</td>\n",
              "      <td>1600 Amphitheatre Parkway</td>\n",
              "      <td>Mountain View</td>\n",
              "      <td>CA</td>\n",
              "      <td>USA</td>\n",
              "      <td>94043-1351</td>\n",
              "      <td>+1 (650) 253-0000</td>\n",
              "      <td>+1 (650) 253-0000</td>\n",
              "      <td>fharris@google.com</td>\n",
              "      <td>4</td>\n",
              "    </tr>\n",
              "    <tr>\n",
              "      <th>1</th>\n",
              "      <td>17</td>\n",
              "      <td>Jack</td>\n",
              "      <td>Smith</td>\n",
              "      <td>Microsoft Corporation</td>\n",
              "      <td>1 Microsoft Way</td>\n",
              "      <td>Redmond</td>\n",
              "      <td>WA</td>\n",
              "      <td>USA</td>\n",
              "      <td>98052-8300</td>\n",
              "      <td>+1 (425) 882-8080</td>\n",
              "      <td>+1 (425) 882-8081</td>\n",
              "      <td>jacksmith@microsoft.com</td>\n",
              "      <td>5</td>\n",
              "    </tr>\n",
              "    <tr>\n",
              "      <th>2</th>\n",
              "      <td>18</td>\n",
              "      <td>Michelle</td>\n",
              "      <td>Brooks</td>\n",
              "      <td>None</td>\n",
              "      <td>627 Broadway</td>\n",
              "      <td>New York</td>\n",
              "      <td>NY</td>\n",
              "      <td>USA</td>\n",
              "      <td>10012-2612</td>\n",
              "      <td>+1 (212) 221-3546</td>\n",
              "      <td>+1 (212) 221-4679</td>\n",
              "      <td>michelleb@aol.com</td>\n",
              "      <td>3</td>\n",
              "    </tr>\n",
              "    <tr>\n",
              "      <th>3</th>\n",
              "      <td>19</td>\n",
              "      <td>Tim</td>\n",
              "      <td>Goyer</td>\n",
              "      <td>Apple Inc.</td>\n",
              "      <td>1 Infinite Loop</td>\n",
              "      <td>Cupertino</td>\n",
              "      <td>CA</td>\n",
              "      <td>USA</td>\n",
              "      <td>95014</td>\n",
              "      <td>+1 (408) 996-1010</td>\n",
              "      <td>+1 (408) 996-1011</td>\n",
              "      <td>tgoyer@apple.com</td>\n",
              "      <td>3</td>\n",
              "    </tr>\n",
              "    <tr>\n",
              "      <th>4</th>\n",
              "      <td>20</td>\n",
              "      <td>Dan</td>\n",
              "      <td>Miller</td>\n",
              "      <td>None</td>\n",
              "      <td>541 Del Medio Avenue</td>\n",
              "      <td>Mountain View</td>\n",
              "      <td>CA</td>\n",
              "      <td>USA</td>\n",
              "      <td>94040-111</td>\n",
              "      <td>+1 (650) 644-3358</td>\n",
              "      <td>None</td>\n",
              "      <td>dmiller@comcast.com</td>\n",
              "      <td>4</td>\n",
              "    </tr>\n",
              "    <tr>\n",
              "      <th>5</th>\n",
              "      <td>21</td>\n",
              "      <td>Kathy</td>\n",
              "      <td>Chase</td>\n",
              "      <td>None</td>\n",
              "      <td>801 W 4th Street</td>\n",
              "      <td>Reno</td>\n",
              "      <td>NV</td>\n",
              "      <td>USA</td>\n",
              "      <td>89503</td>\n",
              "      <td>+1 (775) 223-7665</td>\n",
              "      <td>None</td>\n",
              "      <td>kachase@hotmail.com</td>\n",
              "      <td>5</td>\n",
              "    </tr>\n",
              "    <tr>\n",
              "      <th>6</th>\n",
              "      <td>22</td>\n",
              "      <td>Heather</td>\n",
              "      <td>Leacock</td>\n",
              "      <td>None</td>\n",
              "      <td>120 S Orange Ave</td>\n",
              "      <td>Orlando</td>\n",
              "      <td>FL</td>\n",
              "      <td>USA</td>\n",
              "      <td>32801</td>\n",
              "      <td>+1 (407) 999-7788</td>\n",
              "      <td>None</td>\n",
              "      <td>hleacock@gmail.com</td>\n",
              "      <td>4</td>\n",
              "    </tr>\n",
              "  </tbody>\n",
              "</table>\n",
              "</div>"
            ],
            "text/plain": [
              "   CustomerId FirstName  ...                    Email SupportRepId\n",
              "0          16     Frank  ...       fharris@google.com            4\n",
              "1          17      Jack  ...  jacksmith@microsoft.com            5\n",
              "2          18  Michelle  ...        michelleb@aol.com            3\n",
              "3          19       Tim  ...         tgoyer@apple.com            3\n",
              "4          20       Dan  ...      dmiller@comcast.com            4\n",
              "5          21     Kathy  ...      kachase@hotmail.com            5\n",
              "6          22   Heather  ...       hleacock@gmail.com            4\n",
              "\n",
              "[7 rows x 13 columns]"
            ]
          },
          "metadata": {
            "tags": []
          },
          "execution_count": 89
        }
      ]
    },
    {
      "cell_type": "code",
      "metadata": {
        "colab": {
          "base_uri": "https://localhost:8080/",
          "height": 357
        },
        "id": "zLBQKfvdS9k-",
        "outputId": "26320375-eb32-414d-bb02-ae09e9b5766a"
      },
      "source": [
        "with sqlite3.connect('chinook.db') as db:\r\n",
        "# <> not equals to\r\n",
        "    query = \"SELECT * FROM customers WHERE Country <> 'USA'\"\r\n",
        "    df = pd.read_sql_query(query, db)\r\n",
        "df.head(7)"
      ],
      "execution_count": 90,
      "outputs": [
        {
          "output_type": "execute_result",
          "data": {
            "text/html": [
              "<div>\n",
              "<style scoped>\n",
              "    .dataframe tbody tr th:only-of-type {\n",
              "        vertical-align: middle;\n",
              "    }\n",
              "\n",
              "    .dataframe tbody tr th {\n",
              "        vertical-align: top;\n",
              "    }\n",
              "\n",
              "    .dataframe thead th {\n",
              "        text-align: right;\n",
              "    }\n",
              "</style>\n",
              "<table border=\"1\" class=\"dataframe\">\n",
              "  <thead>\n",
              "    <tr style=\"text-align: right;\">\n",
              "      <th></th>\n",
              "      <th>CustomerId</th>\n",
              "      <th>FirstName</th>\n",
              "      <th>LastName</th>\n",
              "      <th>Company</th>\n",
              "      <th>Address</th>\n",
              "      <th>City</th>\n",
              "      <th>State</th>\n",
              "      <th>Country</th>\n",
              "      <th>PostalCode</th>\n",
              "      <th>Phone</th>\n",
              "      <th>Fax</th>\n",
              "      <th>Email</th>\n",
              "      <th>SupportRepId</th>\n",
              "    </tr>\n",
              "  </thead>\n",
              "  <tbody>\n",
              "    <tr>\n",
              "      <th>0</th>\n",
              "      <td>1</td>\n",
              "      <td>Luís</td>\n",
              "      <td>Gonçalves</td>\n",
              "      <td>Embraer - Empresa Brasileira de Aeronáutica S.A.</td>\n",
              "      <td>Av. Brigadeiro Faria Lima, 2170</td>\n",
              "      <td>São José dos Campos</td>\n",
              "      <td>SP</td>\n",
              "      <td>Brazil</td>\n",
              "      <td>12227-000</td>\n",
              "      <td>+55 (12) 3923-5555</td>\n",
              "      <td>+55 (12) 3923-5566</td>\n",
              "      <td>luisg@embraer.com.br</td>\n",
              "      <td>3</td>\n",
              "    </tr>\n",
              "    <tr>\n",
              "      <th>1</th>\n",
              "      <td>2</td>\n",
              "      <td>Leonie</td>\n",
              "      <td>Köhler</td>\n",
              "      <td>None</td>\n",
              "      <td>Theodor-Heuss-Straße 34</td>\n",
              "      <td>Stuttgart</td>\n",
              "      <td>None</td>\n",
              "      <td>Germany</td>\n",
              "      <td>70174</td>\n",
              "      <td>+49 0711 2842222</td>\n",
              "      <td>None</td>\n",
              "      <td>leonekohler@surfeu.de</td>\n",
              "      <td>5</td>\n",
              "    </tr>\n",
              "    <tr>\n",
              "      <th>2</th>\n",
              "      <td>3</td>\n",
              "      <td>François</td>\n",
              "      <td>Tremblay</td>\n",
              "      <td>None</td>\n",
              "      <td>1498 rue Bélanger</td>\n",
              "      <td>Montréal</td>\n",
              "      <td>QC</td>\n",
              "      <td>Canada</td>\n",
              "      <td>H2G 1A7</td>\n",
              "      <td>+1 (514) 721-4711</td>\n",
              "      <td>None</td>\n",
              "      <td>ftremblay@gmail.com</td>\n",
              "      <td>3</td>\n",
              "    </tr>\n",
              "    <tr>\n",
              "      <th>3</th>\n",
              "      <td>4</td>\n",
              "      <td>Bjørn</td>\n",
              "      <td>Hansen</td>\n",
              "      <td>None</td>\n",
              "      <td>Ullevålsveien 14</td>\n",
              "      <td>Oslo</td>\n",
              "      <td>None</td>\n",
              "      <td>Norway</td>\n",
              "      <td>0171</td>\n",
              "      <td>+47 22 44 22 22</td>\n",
              "      <td>None</td>\n",
              "      <td>bjorn.hansen@yahoo.no</td>\n",
              "      <td>4</td>\n",
              "    </tr>\n",
              "    <tr>\n",
              "      <th>4</th>\n",
              "      <td>5</td>\n",
              "      <td>František</td>\n",
              "      <td>Wichterlová</td>\n",
              "      <td>JetBrains s.r.o.</td>\n",
              "      <td>Klanova 9/506</td>\n",
              "      <td>Prague</td>\n",
              "      <td>None</td>\n",
              "      <td>Czech Republic</td>\n",
              "      <td>14700</td>\n",
              "      <td>+420 2 4172 5555</td>\n",
              "      <td>+420 2 4172 5555</td>\n",
              "      <td>frantisekw@jetbrains.com</td>\n",
              "      <td>4</td>\n",
              "    </tr>\n",
              "    <tr>\n",
              "      <th>5</th>\n",
              "      <td>6</td>\n",
              "      <td>Helena</td>\n",
              "      <td>Holý</td>\n",
              "      <td>None</td>\n",
              "      <td>Rilská 3174/6</td>\n",
              "      <td>Prague</td>\n",
              "      <td>None</td>\n",
              "      <td>Czech Republic</td>\n",
              "      <td>14300</td>\n",
              "      <td>+420 2 4177 0449</td>\n",
              "      <td>None</td>\n",
              "      <td>hholy@gmail.com</td>\n",
              "      <td>5</td>\n",
              "    </tr>\n",
              "    <tr>\n",
              "      <th>6</th>\n",
              "      <td>7</td>\n",
              "      <td>Astrid</td>\n",
              "      <td>Gruber</td>\n",
              "      <td>None</td>\n",
              "      <td>Rotenturmstraße 4, 1010 Innere Stadt</td>\n",
              "      <td>Vienne</td>\n",
              "      <td>None</td>\n",
              "      <td>Austria</td>\n",
              "      <td>1010</td>\n",
              "      <td>+43 01 5134505</td>\n",
              "      <td>None</td>\n",
              "      <td>astrid.gruber@apple.at</td>\n",
              "      <td>5</td>\n",
              "    </tr>\n",
              "  </tbody>\n",
              "</table>\n",
              "</div>"
            ],
            "text/plain": [
              "   CustomerId  FirstName  ...                     Email SupportRepId\n",
              "0           1       Luís  ...      luisg@embraer.com.br            3\n",
              "1           2     Leonie  ...     leonekohler@surfeu.de            5\n",
              "2           3   François  ...       ftremblay@gmail.com            3\n",
              "3           4      Bjørn  ...     bjorn.hansen@yahoo.no            4\n",
              "4           5  František  ...  frantisekw@jetbrains.com            4\n",
              "5           6     Helena  ...           hholy@gmail.com            5\n",
              "6           7     Astrid  ...    astrid.gruber@apple.at            5\n",
              "\n",
              "[7 rows x 13 columns]"
            ]
          },
          "metadata": {
            "tags": []
          },
          "execution_count": 90
        }
      ]
    },
    {
      "cell_type": "code",
      "metadata": {
        "colab": {
          "base_uri": "https://localhost:8080/",
          "height": 257
        },
        "id": "vZZXi0F0TTba",
        "outputId": "1d185821-5bee-4c6e-d238-f10b6443823c"
      },
      "source": [
        "with sqlite3.connect('chinook.db') as db:\r\n",
        "    query = \"SELECT * FROM invoices\"\r\n",
        "    df = pd.read_sql_query(query, db)\r\n",
        "df.head(7)"
      ],
      "execution_count": 91,
      "outputs": [
        {
          "output_type": "execute_result",
          "data": {
            "text/html": [
              "<div>\n",
              "<style scoped>\n",
              "    .dataframe tbody tr th:only-of-type {\n",
              "        vertical-align: middle;\n",
              "    }\n",
              "\n",
              "    .dataframe tbody tr th {\n",
              "        vertical-align: top;\n",
              "    }\n",
              "\n",
              "    .dataframe thead th {\n",
              "        text-align: right;\n",
              "    }\n",
              "</style>\n",
              "<table border=\"1\" class=\"dataframe\">\n",
              "  <thead>\n",
              "    <tr style=\"text-align: right;\">\n",
              "      <th></th>\n",
              "      <th>InvoiceId</th>\n",
              "      <th>CustomerId</th>\n",
              "      <th>InvoiceDate</th>\n",
              "      <th>BillingAddress</th>\n",
              "      <th>BillingCity</th>\n",
              "      <th>BillingState</th>\n",
              "      <th>BillingCountry</th>\n",
              "      <th>BillingPostalCode</th>\n",
              "      <th>Total</th>\n",
              "    </tr>\n",
              "  </thead>\n",
              "  <tbody>\n",
              "    <tr>\n",
              "      <th>0</th>\n",
              "      <td>1</td>\n",
              "      <td>2</td>\n",
              "      <td>2021-03-04 23:21:47</td>\n",
              "      <td>Theodor-Heuss-Straße 34</td>\n",
              "      <td>Stuttgart</td>\n",
              "      <td>None</td>\n",
              "      <td>Germany</td>\n",
              "      <td>70174</td>\n",
              "      <td>1.98</td>\n",
              "    </tr>\n",
              "    <tr>\n",
              "      <th>1</th>\n",
              "      <td>2</td>\n",
              "      <td>4</td>\n",
              "      <td>2009-01-02 00:00:00</td>\n",
              "      <td>Ullevålsveien 14</td>\n",
              "      <td>Oslo</td>\n",
              "      <td>None</td>\n",
              "      <td>Norway</td>\n",
              "      <td>0171</td>\n",
              "      <td>3.96</td>\n",
              "    </tr>\n",
              "    <tr>\n",
              "      <th>2</th>\n",
              "      <td>3</td>\n",
              "      <td>8</td>\n",
              "      <td>2009-01-03 00:00:00</td>\n",
              "      <td>Grétrystraat 63</td>\n",
              "      <td>Brussels</td>\n",
              "      <td>None</td>\n",
              "      <td>Belgium</td>\n",
              "      <td>1000</td>\n",
              "      <td>5.94</td>\n",
              "    </tr>\n",
              "    <tr>\n",
              "      <th>3</th>\n",
              "      <td>4</td>\n",
              "      <td>14</td>\n",
              "      <td>2009-01-06 00:00:00</td>\n",
              "      <td>8210 111 ST NW</td>\n",
              "      <td>Edmonton</td>\n",
              "      <td>AB</td>\n",
              "      <td>Canada</td>\n",
              "      <td>T6G 2C7</td>\n",
              "      <td>8.91</td>\n",
              "    </tr>\n",
              "    <tr>\n",
              "      <th>4</th>\n",
              "      <td>5</td>\n",
              "      <td>23</td>\n",
              "      <td>2009-01-11 00:00:00</td>\n",
              "      <td>69 Salem Street</td>\n",
              "      <td>Boston</td>\n",
              "      <td>MA</td>\n",
              "      <td>USA</td>\n",
              "      <td>2113</td>\n",
              "      <td>13.86</td>\n",
              "    </tr>\n",
              "    <tr>\n",
              "      <th>5</th>\n",
              "      <td>6</td>\n",
              "      <td>37</td>\n",
              "      <td>2009-01-19 00:00:00</td>\n",
              "      <td>Berger Straße 10</td>\n",
              "      <td>Frankfurt</td>\n",
              "      <td>None</td>\n",
              "      <td>Germany</td>\n",
              "      <td>60316</td>\n",
              "      <td>0.99</td>\n",
              "    </tr>\n",
              "    <tr>\n",
              "      <th>6</th>\n",
              "      <td>7</td>\n",
              "      <td>38</td>\n",
              "      <td>2009-02-01 00:00:00</td>\n",
              "      <td>Barbarossastraße 19</td>\n",
              "      <td>Berlin</td>\n",
              "      <td>None</td>\n",
              "      <td>Germany</td>\n",
              "      <td>10779</td>\n",
              "      <td>1.98</td>\n",
              "    </tr>\n",
              "  </tbody>\n",
              "</table>\n",
              "</div>"
            ],
            "text/plain": [
              "   InvoiceId  CustomerId  ... BillingPostalCode  Total\n",
              "0          1           2  ...             70174   1.98\n",
              "1          2           4  ...              0171   3.96\n",
              "2          3           8  ...              1000   5.94\n",
              "3          4          14  ...           T6G 2C7   8.91\n",
              "4          5          23  ...              2113  13.86\n",
              "5          6          37  ...             60316   0.99\n",
              "6          7          38  ...             10779   1.98\n",
              "\n",
              "[7 rows x 9 columns]"
            ]
          },
          "metadata": {
            "tags": []
          },
          "execution_count": 91
        }
      ]
    },
    {
      "cell_type": "code",
      "metadata": {
        "colab": {
          "base_uri": "https://localhost:8080/",
          "height": 257
        },
        "id": "jzTLZfUrTg8F",
        "outputId": "24b58f94-42a5-408f-f2eb-2aed259c2bf3"
      },
      "source": [
        "with sqlite3.connect('chinook.db') as db:\r\n",
        "    query = \"SELECT * FROM invoices WHERE Total <= 1\"\r\n",
        "    df = pd.read_sql_query(query, db)\r\n",
        "df.head(7)"
      ],
      "execution_count": 92,
      "outputs": [
        {
          "output_type": "execute_result",
          "data": {
            "text/html": [
              "<div>\n",
              "<style scoped>\n",
              "    .dataframe tbody tr th:only-of-type {\n",
              "        vertical-align: middle;\n",
              "    }\n",
              "\n",
              "    .dataframe tbody tr th {\n",
              "        vertical-align: top;\n",
              "    }\n",
              "\n",
              "    .dataframe thead th {\n",
              "        text-align: right;\n",
              "    }\n",
              "</style>\n",
              "<table border=\"1\" class=\"dataframe\">\n",
              "  <thead>\n",
              "    <tr style=\"text-align: right;\">\n",
              "      <th></th>\n",
              "      <th>InvoiceId</th>\n",
              "      <th>CustomerId</th>\n",
              "      <th>InvoiceDate</th>\n",
              "      <th>BillingAddress</th>\n",
              "      <th>BillingCity</th>\n",
              "      <th>BillingState</th>\n",
              "      <th>BillingCountry</th>\n",
              "      <th>BillingPostalCode</th>\n",
              "      <th>Total</th>\n",
              "    </tr>\n",
              "  </thead>\n",
              "  <tbody>\n",
              "    <tr>\n",
              "      <th>0</th>\n",
              "      <td>6</td>\n",
              "      <td>37</td>\n",
              "      <td>2009-01-19 00:00:00</td>\n",
              "      <td>Berger Straße 10</td>\n",
              "      <td>Frankfurt</td>\n",
              "      <td>None</td>\n",
              "      <td>Germany</td>\n",
              "      <td>60316</td>\n",
              "      <td>0.99</td>\n",
              "    </tr>\n",
              "    <tr>\n",
              "      <th>1</th>\n",
              "      <td>13</td>\n",
              "      <td>16</td>\n",
              "      <td>2009-02-19 00:00:00</td>\n",
              "      <td>1600 Amphitheatre Parkway</td>\n",
              "      <td>Mountain View</td>\n",
              "      <td>CA</td>\n",
              "      <td>USA</td>\n",
              "      <td>94043-1351</td>\n",
              "      <td>0.99</td>\n",
              "    </tr>\n",
              "    <tr>\n",
              "      <th>2</th>\n",
              "      <td>20</td>\n",
              "      <td>54</td>\n",
              "      <td>2009-03-22 00:00:00</td>\n",
              "      <td>110 Raeburn Pl</td>\n",
              "      <td>Edinburgh</td>\n",
              "      <td>None</td>\n",
              "      <td>United Kingdom</td>\n",
              "      <td>EH4 1HH</td>\n",
              "      <td>0.99</td>\n",
              "    </tr>\n",
              "    <tr>\n",
              "      <th>3</th>\n",
              "      <td>27</td>\n",
              "      <td>33</td>\n",
              "      <td>2009-04-22 00:00:00</td>\n",
              "      <td>5112 48 Street</td>\n",
              "      <td>Yellowknife</td>\n",
              "      <td>NT</td>\n",
              "      <td>Canada</td>\n",
              "      <td>X1A 1N6</td>\n",
              "      <td>0.99</td>\n",
              "    </tr>\n",
              "    <tr>\n",
              "      <th>4</th>\n",
              "      <td>34</td>\n",
              "      <td>12</td>\n",
              "      <td>2009-05-23 00:00:00</td>\n",
              "      <td>Praça Pio X, 119</td>\n",
              "      <td>Rio de Janeiro</td>\n",
              "      <td>RJ</td>\n",
              "      <td>Brazil</td>\n",
              "      <td>20040-020</td>\n",
              "      <td>0.99</td>\n",
              "    </tr>\n",
              "    <tr>\n",
              "      <th>5</th>\n",
              "      <td>41</td>\n",
              "      <td>50</td>\n",
              "      <td>2009-06-23 00:00:00</td>\n",
              "      <td>C/ San Bernardo 85</td>\n",
              "      <td>Madrid</td>\n",
              "      <td>None</td>\n",
              "      <td>Spain</td>\n",
              "      <td>28015</td>\n",
              "      <td>0.99</td>\n",
              "    </tr>\n",
              "    <tr>\n",
              "      <th>6</th>\n",
              "      <td>48</td>\n",
              "      <td>29</td>\n",
              "      <td>2009-07-24 00:00:00</td>\n",
              "      <td>796 Dundas Street West</td>\n",
              "      <td>Toronto</td>\n",
              "      <td>ON</td>\n",
              "      <td>Canada</td>\n",
              "      <td>M6J 1V1</td>\n",
              "      <td>0.99</td>\n",
              "    </tr>\n",
              "  </tbody>\n",
              "</table>\n",
              "</div>"
            ],
            "text/plain": [
              "   InvoiceId  CustomerId  ... BillingPostalCode Total\n",
              "0          6          37  ...             60316  0.99\n",
              "1         13          16  ...        94043-1351  0.99\n",
              "2         20          54  ...           EH4 1HH  0.99\n",
              "3         27          33  ...           X1A 1N6  0.99\n",
              "4         34          12  ...         20040-020  0.99\n",
              "5         41          50  ...             28015  0.99\n",
              "6         48          29  ...           M6J 1V1  0.99\n",
              "\n",
              "[7 rows x 9 columns]"
            ]
          },
          "metadata": {
            "tags": []
          },
          "execution_count": 92
        }
      ]
    },
    {
      "cell_type": "code",
      "metadata": {
        "colab": {
          "base_uri": "https://localhost:8080/",
          "height": 257
        },
        "id": "WLnZQKo5Tg40",
        "outputId": "4651dc9b-ce04-4461-fa33-9084d34a7a4a"
      },
      "source": [
        "with sqlite3.connect('chinook.db') as db:\r\n",
        "    query = \"SELECT * FROM invoices WHERE Total >= 10\"\r\n",
        "    df = pd.read_sql_query(query, db)\r\n",
        "df.head(7)"
      ],
      "execution_count": 93,
      "outputs": [
        {
          "output_type": "execute_result",
          "data": {
            "text/html": [
              "<div>\n",
              "<style scoped>\n",
              "    .dataframe tbody tr th:only-of-type {\n",
              "        vertical-align: middle;\n",
              "    }\n",
              "\n",
              "    .dataframe tbody tr th {\n",
              "        vertical-align: top;\n",
              "    }\n",
              "\n",
              "    .dataframe thead th {\n",
              "        text-align: right;\n",
              "    }\n",
              "</style>\n",
              "<table border=\"1\" class=\"dataframe\">\n",
              "  <thead>\n",
              "    <tr style=\"text-align: right;\">\n",
              "      <th></th>\n",
              "      <th>InvoiceId</th>\n",
              "      <th>CustomerId</th>\n",
              "      <th>InvoiceDate</th>\n",
              "      <th>BillingAddress</th>\n",
              "      <th>BillingCity</th>\n",
              "      <th>BillingState</th>\n",
              "      <th>BillingCountry</th>\n",
              "      <th>BillingPostalCode</th>\n",
              "      <th>Total</th>\n",
              "    </tr>\n",
              "  </thead>\n",
              "  <tbody>\n",
              "    <tr>\n",
              "      <th>0</th>\n",
              "      <td>5</td>\n",
              "      <td>23</td>\n",
              "      <td>2009-01-11 00:00:00</td>\n",
              "      <td>69 Salem Street</td>\n",
              "      <td>Boston</td>\n",
              "      <td>MA</td>\n",
              "      <td>USA</td>\n",
              "      <td>2113</td>\n",
              "      <td>13.86</td>\n",
              "    </tr>\n",
              "    <tr>\n",
              "      <th>1</th>\n",
              "      <td>12</td>\n",
              "      <td>2</td>\n",
              "      <td>2009-02-11 00:00:00</td>\n",
              "      <td>Theodor-Heuss-Straße 34</td>\n",
              "      <td>Stuttgart</td>\n",
              "      <td>None</td>\n",
              "      <td>Germany</td>\n",
              "      <td>70174</td>\n",
              "      <td>13.86</td>\n",
              "    </tr>\n",
              "    <tr>\n",
              "      <th>2</th>\n",
              "      <td>19</td>\n",
              "      <td>40</td>\n",
              "      <td>2009-03-14 00:00:00</td>\n",
              "      <td>8, Rue Hanovre</td>\n",
              "      <td>Paris</td>\n",
              "      <td>None</td>\n",
              "      <td>France</td>\n",
              "      <td>75002</td>\n",
              "      <td>13.86</td>\n",
              "    </tr>\n",
              "    <tr>\n",
              "      <th>3</th>\n",
              "      <td>26</td>\n",
              "      <td>19</td>\n",
              "      <td>2009-04-14 00:00:00</td>\n",
              "      <td>1 Infinite Loop</td>\n",
              "      <td>Cupertino</td>\n",
              "      <td>CA</td>\n",
              "      <td>USA</td>\n",
              "      <td>95014</td>\n",
              "      <td>13.86</td>\n",
              "    </tr>\n",
              "    <tr>\n",
              "      <th>4</th>\n",
              "      <td>33</td>\n",
              "      <td>57</td>\n",
              "      <td>2009-05-15 00:00:00</td>\n",
              "      <td>Calle Lira, 198</td>\n",
              "      <td>Santiago</td>\n",
              "      <td>None</td>\n",
              "      <td>Chile</td>\n",
              "      <td>None</td>\n",
              "      <td>13.86</td>\n",
              "    </tr>\n",
              "    <tr>\n",
              "      <th>5</th>\n",
              "      <td>40</td>\n",
              "      <td>36</td>\n",
              "      <td>2009-06-15 00:00:00</td>\n",
              "      <td>Tauentzienstraße 8</td>\n",
              "      <td>Berlin</td>\n",
              "      <td>None</td>\n",
              "      <td>Germany</td>\n",
              "      <td>10789</td>\n",
              "      <td>13.86</td>\n",
              "    </tr>\n",
              "    <tr>\n",
              "      <th>6</th>\n",
              "      <td>47</td>\n",
              "      <td>15</td>\n",
              "      <td>2009-07-16 00:00:00</td>\n",
              "      <td>700 W Pender Street</td>\n",
              "      <td>Vancouver</td>\n",
              "      <td>BC</td>\n",
              "      <td>Canada</td>\n",
              "      <td>V6C 1G8</td>\n",
              "      <td>13.86</td>\n",
              "    </tr>\n",
              "  </tbody>\n",
              "</table>\n",
              "</div>"
            ],
            "text/plain": [
              "   InvoiceId  CustomerId  ... BillingPostalCode  Total\n",
              "0          5          23  ...              2113  13.86\n",
              "1         12           2  ...             70174  13.86\n",
              "2         19          40  ...             75002  13.86\n",
              "3         26          19  ...             95014  13.86\n",
              "4         33          57  ...              None  13.86\n",
              "5         40          36  ...             10789  13.86\n",
              "6         47          15  ...           V6C 1G8  13.86\n",
              "\n",
              "[7 rows x 9 columns]"
            ]
          },
          "metadata": {
            "tags": []
          },
          "execution_count": 93
        }
      ]
    },
    {
      "cell_type": "code",
      "metadata": {
        "colab": {
          "base_uri": "https://localhost:8080/",
          "height": 257
        },
        "id": "3wVKvpyCTg2d",
        "outputId": "9e4e6221-cabb-4906-aac0-443824a5de69"
      },
      "source": [
        "with sqlite3.connect('chinook.db') as db:\r\n",
        "    query = \"SELECT * FROM invoices WHERE BillingCountry >= 'USA'\"\r\n",
        "    df = pd.read_sql_query(query, db)\r\n",
        "df.head(7)"
      ],
      "execution_count": 94,
      "outputs": [
        {
          "output_type": "execute_result",
          "data": {
            "text/html": [
              "<div>\n",
              "<style scoped>\n",
              "    .dataframe tbody tr th:only-of-type {\n",
              "        vertical-align: middle;\n",
              "    }\n",
              "\n",
              "    .dataframe tbody tr th {\n",
              "        vertical-align: top;\n",
              "    }\n",
              "\n",
              "    .dataframe thead th {\n",
              "        text-align: right;\n",
              "    }\n",
              "</style>\n",
              "<table border=\"1\" class=\"dataframe\">\n",
              "  <thead>\n",
              "    <tr style=\"text-align: right;\">\n",
              "      <th></th>\n",
              "      <th>InvoiceId</th>\n",
              "      <th>CustomerId</th>\n",
              "      <th>InvoiceDate</th>\n",
              "      <th>BillingAddress</th>\n",
              "      <th>BillingCity</th>\n",
              "      <th>BillingState</th>\n",
              "      <th>BillingCountry</th>\n",
              "      <th>BillingPostalCode</th>\n",
              "      <th>Total</th>\n",
              "    </tr>\n",
              "  </thead>\n",
              "  <tbody>\n",
              "    <tr>\n",
              "      <th>0</th>\n",
              "      <td>5</td>\n",
              "      <td>23</td>\n",
              "      <td>2009-01-11 00:00:00</td>\n",
              "      <td>69 Salem Street</td>\n",
              "      <td>Boston</td>\n",
              "      <td>MA</td>\n",
              "      <td>USA</td>\n",
              "      <td>2113</td>\n",
              "      <td>13.86</td>\n",
              "    </tr>\n",
              "    <tr>\n",
              "      <th>1</th>\n",
              "      <td>11</td>\n",
              "      <td>52</td>\n",
              "      <td>2009-02-06 00:00:00</td>\n",
              "      <td>202 Hoxton Street</td>\n",
              "      <td>London</td>\n",
              "      <td>None</td>\n",
              "      <td>United Kingdom</td>\n",
              "      <td>N1 5LH</td>\n",
              "      <td>8.91</td>\n",
              "    </tr>\n",
              "    <tr>\n",
              "      <th>2</th>\n",
              "      <td>13</td>\n",
              "      <td>16</td>\n",
              "      <td>2009-02-19 00:00:00</td>\n",
              "      <td>1600 Amphitheatre Parkway</td>\n",
              "      <td>Mountain View</td>\n",
              "      <td>CA</td>\n",
              "      <td>USA</td>\n",
              "      <td>94043-1351</td>\n",
              "      <td>0.99</td>\n",
              "    </tr>\n",
              "    <tr>\n",
              "      <th>3</th>\n",
              "      <td>14</td>\n",
              "      <td>17</td>\n",
              "      <td>2009-03-04 00:00:00</td>\n",
              "      <td>1 Microsoft Way</td>\n",
              "      <td>Redmond</td>\n",
              "      <td>WA</td>\n",
              "      <td>USA</td>\n",
              "      <td>98052-8300</td>\n",
              "      <td>1.98</td>\n",
              "    </tr>\n",
              "    <tr>\n",
              "      <th>4</th>\n",
              "      <td>15</td>\n",
              "      <td>19</td>\n",
              "      <td>2009-03-04 00:00:00</td>\n",
              "      <td>1 Infinite Loop</td>\n",
              "      <td>Cupertino</td>\n",
              "      <td>CA</td>\n",
              "      <td>USA</td>\n",
              "      <td>95014</td>\n",
              "      <td>1.98</td>\n",
              "    </tr>\n",
              "    <tr>\n",
              "      <th>5</th>\n",
              "      <td>16</td>\n",
              "      <td>21</td>\n",
              "      <td>2009-03-05 00:00:00</td>\n",
              "      <td>801 W 4th Street</td>\n",
              "      <td>Reno</td>\n",
              "      <td>NV</td>\n",
              "      <td>USA</td>\n",
              "      <td>89503</td>\n",
              "      <td>3.96</td>\n",
              "    </tr>\n",
              "    <tr>\n",
              "      <th>6</th>\n",
              "      <td>17</td>\n",
              "      <td>25</td>\n",
              "      <td>2009-03-06 00:00:00</td>\n",
              "      <td>319 N. Frances Street</td>\n",
              "      <td>Madison</td>\n",
              "      <td>WI</td>\n",
              "      <td>USA</td>\n",
              "      <td>53703</td>\n",
              "      <td>5.94</td>\n",
              "    </tr>\n",
              "  </tbody>\n",
              "</table>\n",
              "</div>"
            ],
            "text/plain": [
              "   InvoiceId  CustomerId  ... BillingPostalCode  Total\n",
              "0          5          23  ...              2113  13.86\n",
              "1         11          52  ...            N1 5LH   8.91\n",
              "2         13          16  ...        94043-1351   0.99\n",
              "3         14          17  ...        98052-8300   1.98\n",
              "4         15          19  ...             95014   1.98\n",
              "5         16          21  ...             89503   3.96\n",
              "6         17          25  ...             53703   5.94\n",
              "\n",
              "[7 rows x 9 columns]"
            ]
          },
          "metadata": {
            "tags": []
          },
          "execution_count": 94
        }
      ]
    },
    {
      "cell_type": "code",
      "metadata": {
        "colab": {
          "base_uri": "https://localhost:8080/",
          "height": 257
        },
        "id": "sdhbyC08UW2h",
        "outputId": "6996ab23-a064-46df-8726-52ed13d9391c"
      },
      "source": [
        "with sqlite3.connect('chinook.db') as db:\r\n",
        "    query = \"SELECT * FROM invoices WHERE BillingCountry > 'USA'\"\r\n",
        "    df = pd.read_sql_query(query, db)\r\n",
        "df.head(7)"
      ],
      "execution_count": 95,
      "outputs": [
        {
          "output_type": "execute_result",
          "data": {
            "text/html": [
              "<div>\n",
              "<style scoped>\n",
              "    .dataframe tbody tr th:only-of-type {\n",
              "        vertical-align: middle;\n",
              "    }\n",
              "\n",
              "    .dataframe tbody tr th {\n",
              "        vertical-align: top;\n",
              "    }\n",
              "\n",
              "    .dataframe thead th {\n",
              "        text-align: right;\n",
              "    }\n",
              "</style>\n",
              "<table border=\"1\" class=\"dataframe\">\n",
              "  <thead>\n",
              "    <tr style=\"text-align: right;\">\n",
              "      <th></th>\n",
              "      <th>InvoiceId</th>\n",
              "      <th>CustomerId</th>\n",
              "      <th>InvoiceDate</th>\n",
              "      <th>BillingAddress</th>\n",
              "      <th>BillingCity</th>\n",
              "      <th>BillingState</th>\n",
              "      <th>BillingCountry</th>\n",
              "      <th>BillingPostalCode</th>\n",
              "      <th>Total</th>\n",
              "    </tr>\n",
              "  </thead>\n",
              "  <tbody>\n",
              "    <tr>\n",
              "      <th>0</th>\n",
              "      <td>11</td>\n",
              "      <td>52</td>\n",
              "      <td>2009-02-06 00:00:00</td>\n",
              "      <td>202 Hoxton Street</td>\n",
              "      <td>London</td>\n",
              "      <td>None</td>\n",
              "      <td>United Kingdom</td>\n",
              "      <td>N1 5LH</td>\n",
              "      <td>8.91</td>\n",
              "    </tr>\n",
              "    <tr>\n",
              "      <th>1</th>\n",
              "      <td>20</td>\n",
              "      <td>54</td>\n",
              "      <td>2009-03-22 00:00:00</td>\n",
              "      <td>110 Raeburn Pl</td>\n",
              "      <td>Edinburgh</td>\n",
              "      <td>None</td>\n",
              "      <td>United Kingdom</td>\n",
              "      <td>EH4 1HH</td>\n",
              "      <td>0.99</td>\n",
              "    </tr>\n",
              "    <tr>\n",
              "      <th>2</th>\n",
              "      <td>43</td>\n",
              "      <td>53</td>\n",
              "      <td>2009-07-06 00:00:00</td>\n",
              "      <td>113 Lupus St</td>\n",
              "      <td>London</td>\n",
              "      <td>None</td>\n",
              "      <td>United Kingdom</td>\n",
              "      <td>SW1V 3EN</td>\n",
              "      <td>1.98</td>\n",
              "    </tr>\n",
              "    <tr>\n",
              "      <th>3</th>\n",
              "      <td>54</td>\n",
              "      <td>53</td>\n",
              "      <td>2009-08-16 00:00:00</td>\n",
              "      <td>113 Lupus St</td>\n",
              "      <td>London</td>\n",
              "      <td>None</td>\n",
              "      <td>United Kingdom</td>\n",
              "      <td>SW1V 3EN</td>\n",
              "      <td>13.86</td>\n",
              "    </tr>\n",
              "    <tr>\n",
              "      <th>4</th>\n",
              "      <td>109</td>\n",
              "      <td>53</td>\n",
              "      <td>2010-04-16 00:00:00</td>\n",
              "      <td>113 Lupus St</td>\n",
              "      <td>London</td>\n",
              "      <td>None</td>\n",
              "      <td>United Kingdom</td>\n",
              "      <td>SW1V 3EN</td>\n",
              "      <td>8.91</td>\n",
              "    </tr>\n",
              "    <tr>\n",
              "      <th>5</th>\n",
              "      <td>140</td>\n",
              "      <td>52</td>\n",
              "      <td>2010-09-13 00:00:00</td>\n",
              "      <td>202 Hoxton Street</td>\n",
              "      <td>London</td>\n",
              "      <td>None</td>\n",
              "      <td>United Kingdom</td>\n",
              "      <td>N1 5LH</td>\n",
              "      <td>1.98</td>\n",
              "    </tr>\n",
              "    <tr>\n",
              "      <th>6</th>\n",
              "      <td>141</td>\n",
              "      <td>54</td>\n",
              "      <td>2010-09-13 00:00:00</td>\n",
              "      <td>110 Raeburn Pl</td>\n",
              "      <td>Edinburgh</td>\n",
              "      <td>None</td>\n",
              "      <td>United Kingdom</td>\n",
              "      <td>EH4 1HH</td>\n",
              "      <td>1.98</td>\n",
              "    </tr>\n",
              "  </tbody>\n",
              "</table>\n",
              "</div>"
            ],
            "text/plain": [
              "   InvoiceId  CustomerId  ... BillingPostalCode  Total\n",
              "0         11          52  ...            N1 5LH   8.91\n",
              "1         20          54  ...           EH4 1HH   0.99\n",
              "2         43          53  ...          SW1V 3EN   1.98\n",
              "3         54          53  ...          SW1V 3EN  13.86\n",
              "4        109          53  ...          SW1V 3EN   8.91\n",
              "5        140          52  ...            N1 5LH   1.98\n",
              "6        141          54  ...           EH4 1HH   1.98\n",
              "\n",
              "[7 rows x 9 columns]"
            ]
          },
          "metadata": {
            "tags": []
          },
          "execution_count": 95
        }
      ]
    },
    {
      "cell_type": "markdown",
      "metadata": {
        "id": "7hGFH6omSf0i"
      },
      "source": [
        "### OR"
      ]
    },
    {
      "cell_type": "code",
      "metadata": {
        "colab": {
          "base_uri": "https://localhost:8080/",
          "height": 257
        },
        "id": "P2EKe_eGSnlY",
        "outputId": "d0e058cd-a19a-4e3a-e062-188b8e1a2a20"
      },
      "source": [
        "with sqlite3.connect('chinook.db') as db:\r\n",
        "    query = \"SELECT * FROM invoices WHERE BillingCountry = 'United Kingdom' OR BillingCountry = 'Brazil'\"\r\n",
        "    df = pd.read_sql_query(query, db)\r\n",
        "df.head(7)"
      ],
      "execution_count": 96,
      "outputs": [
        {
          "output_type": "execute_result",
          "data": {
            "text/html": [
              "<div>\n",
              "<style scoped>\n",
              "    .dataframe tbody tr th:only-of-type {\n",
              "        vertical-align: middle;\n",
              "    }\n",
              "\n",
              "    .dataframe tbody tr th {\n",
              "        vertical-align: top;\n",
              "    }\n",
              "\n",
              "    .dataframe thead th {\n",
              "        text-align: right;\n",
              "    }\n",
              "</style>\n",
              "<table border=\"1\" class=\"dataframe\">\n",
              "  <thead>\n",
              "    <tr style=\"text-align: right;\">\n",
              "      <th></th>\n",
              "      <th>InvoiceId</th>\n",
              "      <th>CustomerId</th>\n",
              "      <th>InvoiceDate</th>\n",
              "      <th>BillingAddress</th>\n",
              "      <th>BillingCity</th>\n",
              "      <th>BillingState</th>\n",
              "      <th>BillingCountry</th>\n",
              "      <th>BillingPostalCode</th>\n",
              "      <th>Total</th>\n",
              "    </tr>\n",
              "  </thead>\n",
              "  <tbody>\n",
              "    <tr>\n",
              "      <th>0</th>\n",
              "      <td>11</td>\n",
              "      <td>52</td>\n",
              "      <td>2009-02-06 00:00:00</td>\n",
              "      <td>202 Hoxton Street</td>\n",
              "      <td>London</td>\n",
              "      <td>None</td>\n",
              "      <td>United Kingdom</td>\n",
              "      <td>N1 5LH</td>\n",
              "      <td>8.91</td>\n",
              "    </tr>\n",
              "    <tr>\n",
              "      <th>1</th>\n",
              "      <td>20</td>\n",
              "      <td>54</td>\n",
              "      <td>2009-03-22 00:00:00</td>\n",
              "      <td>110 Raeburn Pl</td>\n",
              "      <td>Edinburgh</td>\n",
              "      <td>None</td>\n",
              "      <td>United Kingdom</td>\n",
              "      <td>EH4 1HH</td>\n",
              "      <td>0.99</td>\n",
              "    </tr>\n",
              "    <tr>\n",
              "      <th>2</th>\n",
              "      <td>25</td>\n",
              "      <td>10</td>\n",
              "      <td>2009-04-09 00:00:00</td>\n",
              "      <td>Rua Dr. Falcão Filho, 155</td>\n",
              "      <td>São Paulo</td>\n",
              "      <td>SP</td>\n",
              "      <td>Brazil</td>\n",
              "      <td>01007-010</td>\n",
              "      <td>8.91</td>\n",
              "    </tr>\n",
              "    <tr>\n",
              "      <th>3</th>\n",
              "      <td>34</td>\n",
              "      <td>12</td>\n",
              "      <td>2009-05-23 00:00:00</td>\n",
              "      <td>Praça Pio X, 119</td>\n",
              "      <td>Rio de Janeiro</td>\n",
              "      <td>RJ</td>\n",
              "      <td>Brazil</td>\n",
              "      <td>20040-020</td>\n",
              "      <td>0.99</td>\n",
              "    </tr>\n",
              "    <tr>\n",
              "      <th>4</th>\n",
              "      <td>35</td>\n",
              "      <td>13</td>\n",
              "      <td>2009-06-05 00:00:00</td>\n",
              "      <td>Qe 7 Bloco G</td>\n",
              "      <td>Brasília</td>\n",
              "      <td>DF</td>\n",
              "      <td>Brazil</td>\n",
              "      <td>71020-677</td>\n",
              "      <td>1.98</td>\n",
              "    </tr>\n",
              "    <tr>\n",
              "      <th>5</th>\n",
              "      <td>43</td>\n",
              "      <td>53</td>\n",
              "      <td>2009-07-06 00:00:00</td>\n",
              "      <td>113 Lupus St</td>\n",
              "      <td>London</td>\n",
              "      <td>None</td>\n",
              "      <td>United Kingdom</td>\n",
              "      <td>SW1V 3EN</td>\n",
              "      <td>1.98</td>\n",
              "    </tr>\n",
              "    <tr>\n",
              "      <th>6</th>\n",
              "      <td>54</td>\n",
              "      <td>53</td>\n",
              "      <td>2009-08-16 00:00:00</td>\n",
              "      <td>113 Lupus St</td>\n",
              "      <td>London</td>\n",
              "      <td>None</td>\n",
              "      <td>United Kingdom</td>\n",
              "      <td>SW1V 3EN</td>\n",
              "      <td>13.86</td>\n",
              "    </tr>\n",
              "  </tbody>\n",
              "</table>\n",
              "</div>"
            ],
            "text/plain": [
              "   InvoiceId  CustomerId  ... BillingPostalCode  Total\n",
              "0         11          52  ...            N1 5LH   8.91\n",
              "1         20          54  ...           EH4 1HH   0.99\n",
              "2         25          10  ...         01007-010   8.91\n",
              "3         34          12  ...         20040-020   0.99\n",
              "4         35          13  ...         71020-677   1.98\n",
              "5         43          53  ...          SW1V 3EN   1.98\n",
              "6         54          53  ...          SW1V 3EN  13.86\n",
              "\n",
              "[7 rows x 9 columns]"
            ]
          },
          "metadata": {
            "tags": []
          },
          "execution_count": 96
        }
      ]
    },
    {
      "cell_type": "markdown",
      "metadata": {
        "id": "qYWMxDMoWLfh"
      },
      "source": [
        "### AND"
      ]
    },
    {
      "cell_type": "code",
      "metadata": {
        "colab": {
          "base_uri": "https://localhost:8080/",
          "height": 257
        },
        "id": "Ft6erhLRVDQn",
        "outputId": "d08f9bfd-6b9d-42af-e514-eca9d2c9c0a1"
      },
      "source": [
        "with sqlite3.connect('chinook.db') as db:\r\n",
        "    query = \"SELECT * FROM invoices WHERE BillingState = 'SP' AND BillingCountry = 'Brazil'\"\r\n",
        "    df = pd.read_sql_query(query, db)\r\n",
        "df.head(7)"
      ],
      "execution_count": 97,
      "outputs": [
        {
          "output_type": "execute_result",
          "data": {
            "text/html": [
              "<div>\n",
              "<style scoped>\n",
              "    .dataframe tbody tr th:only-of-type {\n",
              "        vertical-align: middle;\n",
              "    }\n",
              "\n",
              "    .dataframe tbody tr th {\n",
              "        vertical-align: top;\n",
              "    }\n",
              "\n",
              "    .dataframe thead th {\n",
              "        text-align: right;\n",
              "    }\n",
              "</style>\n",
              "<table border=\"1\" class=\"dataframe\">\n",
              "  <thead>\n",
              "    <tr style=\"text-align: right;\">\n",
              "      <th></th>\n",
              "      <th>InvoiceId</th>\n",
              "      <th>CustomerId</th>\n",
              "      <th>InvoiceDate</th>\n",
              "      <th>BillingAddress</th>\n",
              "      <th>BillingCity</th>\n",
              "      <th>BillingState</th>\n",
              "      <th>BillingCountry</th>\n",
              "      <th>BillingPostalCode</th>\n",
              "      <th>Total</th>\n",
              "    </tr>\n",
              "  </thead>\n",
              "  <tbody>\n",
              "    <tr>\n",
              "      <th>0</th>\n",
              "      <td>25</td>\n",
              "      <td>10</td>\n",
              "      <td>2009-04-09 00:00:00</td>\n",
              "      <td>Rua Dr. Falcão Filho, 155</td>\n",
              "      <td>São Paulo</td>\n",
              "      <td>SP</td>\n",
              "      <td>Brazil</td>\n",
              "      <td>01007-010</td>\n",
              "      <td>8.91</td>\n",
              "    </tr>\n",
              "    <tr>\n",
              "      <th>1</th>\n",
              "      <td>57</td>\n",
              "      <td>11</td>\n",
              "      <td>2009-09-06 00:00:00</td>\n",
              "      <td>Av. Paulista, 2022</td>\n",
              "      <td>São Paulo</td>\n",
              "      <td>SP</td>\n",
              "      <td>Brazil</td>\n",
              "      <td>01310-200</td>\n",
              "      <td>1.98</td>\n",
              "    </tr>\n",
              "    <tr>\n",
              "      <th>2</th>\n",
              "      <td>68</td>\n",
              "      <td>11</td>\n",
              "      <td>2009-10-17 00:00:00</td>\n",
              "      <td>Av. Paulista, 2022</td>\n",
              "      <td>São Paulo</td>\n",
              "      <td>SP</td>\n",
              "      <td>Brazil</td>\n",
              "      <td>01310-200</td>\n",
              "      <td>13.86</td>\n",
              "    </tr>\n",
              "    <tr>\n",
              "      <th>3</th>\n",
              "      <td>98</td>\n",
              "      <td>1</td>\n",
              "      <td>2010-03-11 00:00:00</td>\n",
              "      <td>Av. Brigadeiro Faria Lima, 2170</td>\n",
              "      <td>São José dos Campos</td>\n",
              "      <td>SP</td>\n",
              "      <td>Brazil</td>\n",
              "      <td>12227-000</td>\n",
              "      <td>3.98</td>\n",
              "    </tr>\n",
              "    <tr>\n",
              "      <th>4</th>\n",
              "      <td>121</td>\n",
              "      <td>1</td>\n",
              "      <td>2010-06-13 00:00:00</td>\n",
              "      <td>Av. Brigadeiro Faria Lima, 2170</td>\n",
              "      <td>São José dos Campos</td>\n",
              "      <td>SP</td>\n",
              "      <td>Brazil</td>\n",
              "      <td>12227-000</td>\n",
              "      <td>3.96</td>\n",
              "    </tr>\n",
              "    <tr>\n",
              "      <th>5</th>\n",
              "      <td>123</td>\n",
              "      <td>11</td>\n",
              "      <td>2010-06-17 00:00:00</td>\n",
              "      <td>Av. Paulista, 2022</td>\n",
              "      <td>São Paulo</td>\n",
              "      <td>SP</td>\n",
              "      <td>Brazil</td>\n",
              "      <td>01310-200</td>\n",
              "      <td>8.91</td>\n",
              "    </tr>\n",
              "    <tr>\n",
              "      <th>6</th>\n",
              "      <td>143</td>\n",
              "      <td>1</td>\n",
              "      <td>2010-09-15 00:00:00</td>\n",
              "      <td>Av. Brigadeiro Faria Lima, 2170</td>\n",
              "      <td>São José dos Campos</td>\n",
              "      <td>SP</td>\n",
              "      <td>Brazil</td>\n",
              "      <td>12227-000</td>\n",
              "      <td>5.94</td>\n",
              "    </tr>\n",
              "  </tbody>\n",
              "</table>\n",
              "</div>"
            ],
            "text/plain": [
              "   InvoiceId  CustomerId  ... BillingPostalCode  Total\n",
              "0         25          10  ...         01007-010   8.91\n",
              "1         57          11  ...         01310-200   1.98\n",
              "2         68          11  ...         01310-200  13.86\n",
              "3         98           1  ...         12227-000   3.98\n",
              "4        121           1  ...         12227-000   3.96\n",
              "5        123          11  ...         01310-200   8.91\n",
              "6        143           1  ...         12227-000   5.94\n",
              "\n",
              "[7 rows x 9 columns]"
            ]
          },
          "metadata": {
            "tags": []
          },
          "execution_count": 97
        }
      ]
    },
    {
      "cell_type": "code",
      "metadata": {
        "colab": {
          "base_uri": "https://localhost:8080/",
          "height": 47
        },
        "id": "UaFLHmi0VTaQ",
        "outputId": "5363307c-c94d-4752-a027-3e1f83d8c376"
      },
      "source": [
        "with sqlite3.connect('chinook.db') as db:\r\n",
        "    query = \"SELECT * FROM invoices WHERE BillingState = 'SC' AND BillingCountry = 'Brazil'\"\r\n",
        "    df = pd.read_sql_query(query, db)\r\n",
        "df.head(7)"
      ],
      "execution_count": 98,
      "outputs": [
        {
          "output_type": "execute_result",
          "data": {
            "text/html": [
              "<div>\n",
              "<style scoped>\n",
              "    .dataframe tbody tr th:only-of-type {\n",
              "        vertical-align: middle;\n",
              "    }\n",
              "\n",
              "    .dataframe tbody tr th {\n",
              "        vertical-align: top;\n",
              "    }\n",
              "\n",
              "    .dataframe thead th {\n",
              "        text-align: right;\n",
              "    }\n",
              "</style>\n",
              "<table border=\"1\" class=\"dataframe\">\n",
              "  <thead>\n",
              "    <tr style=\"text-align: right;\">\n",
              "      <th></th>\n",
              "      <th>InvoiceId</th>\n",
              "      <th>CustomerId</th>\n",
              "      <th>InvoiceDate</th>\n",
              "      <th>BillingAddress</th>\n",
              "      <th>BillingCity</th>\n",
              "      <th>BillingState</th>\n",
              "      <th>BillingCountry</th>\n",
              "      <th>BillingPostalCode</th>\n",
              "      <th>Total</th>\n",
              "    </tr>\n",
              "  </thead>\n",
              "  <tbody>\n",
              "  </tbody>\n",
              "</table>\n",
              "</div>"
            ],
            "text/plain": [
              "Empty DataFrame\n",
              "Columns: [InvoiceId, CustomerId, InvoiceDate, BillingAddress, BillingCity, BillingState, BillingCountry, BillingPostalCode, Total]\n",
              "Index: []"
            ]
          },
          "metadata": {
            "tags": []
          },
          "execution_count": 98
        }
      ]
    },
    {
      "cell_type": "markdown",
      "metadata": {
        "id": "HUTJz010WGUL"
      },
      "source": [
        "### IN"
      ]
    },
    {
      "cell_type": "code",
      "metadata": {
        "colab": {
          "base_uri": "https://localhost:8080/",
          "height": 257
        },
        "id": "DuHba9D8VgDq",
        "outputId": "f05e8de9-7484-48dc-d408-25dd9705888a"
      },
      "source": [
        "with sqlite3.connect('chinook.db') as db:\r\n",
        "    query = \"SELECT * FROM invoices WHERE BillingState IN ('SP','RJ')\"\r\n",
        "    df = pd.read_sql_query(query, db)\r\n",
        "df.head(7)"
      ],
      "execution_count": 99,
      "outputs": [
        {
          "output_type": "execute_result",
          "data": {
            "text/html": [
              "<div>\n",
              "<style scoped>\n",
              "    .dataframe tbody tr th:only-of-type {\n",
              "        vertical-align: middle;\n",
              "    }\n",
              "\n",
              "    .dataframe tbody tr th {\n",
              "        vertical-align: top;\n",
              "    }\n",
              "\n",
              "    .dataframe thead th {\n",
              "        text-align: right;\n",
              "    }\n",
              "</style>\n",
              "<table border=\"1\" class=\"dataframe\">\n",
              "  <thead>\n",
              "    <tr style=\"text-align: right;\">\n",
              "      <th></th>\n",
              "      <th>InvoiceId</th>\n",
              "      <th>CustomerId</th>\n",
              "      <th>InvoiceDate</th>\n",
              "      <th>BillingAddress</th>\n",
              "      <th>BillingCity</th>\n",
              "      <th>BillingState</th>\n",
              "      <th>BillingCountry</th>\n",
              "      <th>BillingPostalCode</th>\n",
              "      <th>Total</th>\n",
              "    </tr>\n",
              "  </thead>\n",
              "  <tbody>\n",
              "    <tr>\n",
              "      <th>0</th>\n",
              "      <td>25</td>\n",
              "      <td>10</td>\n",
              "      <td>2009-04-09 00:00:00</td>\n",
              "      <td>Rua Dr. Falcão Filho, 155</td>\n",
              "      <td>São Paulo</td>\n",
              "      <td>SP</td>\n",
              "      <td>Brazil</td>\n",
              "      <td>01007-010</td>\n",
              "      <td>8.91</td>\n",
              "    </tr>\n",
              "    <tr>\n",
              "      <th>1</th>\n",
              "      <td>34</td>\n",
              "      <td>12</td>\n",
              "      <td>2009-05-23 00:00:00</td>\n",
              "      <td>Praça Pio X, 119</td>\n",
              "      <td>Rio de Janeiro</td>\n",
              "      <td>RJ</td>\n",
              "      <td>Brazil</td>\n",
              "      <td>20040-020</td>\n",
              "      <td>0.99</td>\n",
              "    </tr>\n",
              "    <tr>\n",
              "      <th>2</th>\n",
              "      <td>57</td>\n",
              "      <td>11</td>\n",
              "      <td>2009-09-06 00:00:00</td>\n",
              "      <td>Av. Paulista, 2022</td>\n",
              "      <td>São Paulo</td>\n",
              "      <td>SP</td>\n",
              "      <td>Brazil</td>\n",
              "      <td>01310-200</td>\n",
              "      <td>1.98</td>\n",
              "    </tr>\n",
              "    <tr>\n",
              "      <th>3</th>\n",
              "      <td>68</td>\n",
              "      <td>11</td>\n",
              "      <td>2009-10-17 00:00:00</td>\n",
              "      <td>Av. Paulista, 2022</td>\n",
              "      <td>São Paulo</td>\n",
              "      <td>SP</td>\n",
              "      <td>Brazil</td>\n",
              "      <td>01310-200</td>\n",
              "      <td>13.86</td>\n",
              "    </tr>\n",
              "    <tr>\n",
              "      <th>4</th>\n",
              "      <td>98</td>\n",
              "      <td>1</td>\n",
              "      <td>2010-03-11 00:00:00</td>\n",
              "      <td>Av. Brigadeiro Faria Lima, 2170</td>\n",
              "      <td>São José dos Campos</td>\n",
              "      <td>SP</td>\n",
              "      <td>Brazil</td>\n",
              "      <td>12227-000</td>\n",
              "      <td>3.98</td>\n",
              "    </tr>\n",
              "    <tr>\n",
              "      <th>5</th>\n",
              "      <td>121</td>\n",
              "      <td>1</td>\n",
              "      <td>2010-06-13 00:00:00</td>\n",
              "      <td>Av. Brigadeiro Faria Lima, 2170</td>\n",
              "      <td>São José dos Campos</td>\n",
              "      <td>SP</td>\n",
              "      <td>Brazil</td>\n",
              "      <td>12227-000</td>\n",
              "      <td>3.96</td>\n",
              "    </tr>\n",
              "    <tr>\n",
              "      <th>6</th>\n",
              "      <td>123</td>\n",
              "      <td>11</td>\n",
              "      <td>2010-06-17 00:00:00</td>\n",
              "      <td>Av. Paulista, 2022</td>\n",
              "      <td>São Paulo</td>\n",
              "      <td>SP</td>\n",
              "      <td>Brazil</td>\n",
              "      <td>01310-200</td>\n",
              "      <td>8.91</td>\n",
              "    </tr>\n",
              "  </tbody>\n",
              "</table>\n",
              "</div>"
            ],
            "text/plain": [
              "   InvoiceId  CustomerId  ... BillingPostalCode  Total\n",
              "0         25          10  ...         01007-010   8.91\n",
              "1         34          12  ...         20040-020   0.99\n",
              "2         57          11  ...         01310-200   1.98\n",
              "3         68          11  ...         01310-200  13.86\n",
              "4         98           1  ...         12227-000   3.98\n",
              "5        121           1  ...         12227-000   3.96\n",
              "6        123          11  ...         01310-200   8.91\n",
              "\n",
              "[7 rows x 9 columns]"
            ]
          },
          "metadata": {
            "tags": []
          },
          "execution_count": 99
        }
      ]
    },
    {
      "cell_type": "markdown",
      "metadata": {
        "id": "8fi6U1giWEU7"
      },
      "source": [
        "### BETWEEN"
      ]
    },
    {
      "cell_type": "code",
      "metadata": {
        "colab": {
          "base_uri": "https://localhost:8080/",
          "height": 257
        },
        "id": "eAyFqd6aVxpB",
        "outputId": "8c8bb250-0ba4-445b-db41-32000579afdb"
      },
      "source": [
        "with sqlite3.connect('chinook.db') as db:\r\n",
        "    query = \"SELECT * FROM invoices WHERE Total BETWEEN 0 AND 1\"\r\n",
        "    df = pd.read_sql_query(query, db)\r\n",
        "df.head(7)"
      ],
      "execution_count": 100,
      "outputs": [
        {
          "output_type": "execute_result",
          "data": {
            "text/html": [
              "<div>\n",
              "<style scoped>\n",
              "    .dataframe tbody tr th:only-of-type {\n",
              "        vertical-align: middle;\n",
              "    }\n",
              "\n",
              "    .dataframe tbody tr th {\n",
              "        vertical-align: top;\n",
              "    }\n",
              "\n",
              "    .dataframe thead th {\n",
              "        text-align: right;\n",
              "    }\n",
              "</style>\n",
              "<table border=\"1\" class=\"dataframe\">\n",
              "  <thead>\n",
              "    <tr style=\"text-align: right;\">\n",
              "      <th></th>\n",
              "      <th>InvoiceId</th>\n",
              "      <th>CustomerId</th>\n",
              "      <th>InvoiceDate</th>\n",
              "      <th>BillingAddress</th>\n",
              "      <th>BillingCity</th>\n",
              "      <th>BillingState</th>\n",
              "      <th>BillingCountry</th>\n",
              "      <th>BillingPostalCode</th>\n",
              "      <th>Total</th>\n",
              "    </tr>\n",
              "  </thead>\n",
              "  <tbody>\n",
              "    <tr>\n",
              "      <th>0</th>\n",
              "      <td>6</td>\n",
              "      <td>37</td>\n",
              "      <td>2009-01-19 00:00:00</td>\n",
              "      <td>Berger Straße 10</td>\n",
              "      <td>Frankfurt</td>\n",
              "      <td>None</td>\n",
              "      <td>Germany</td>\n",
              "      <td>60316</td>\n",
              "      <td>0.99</td>\n",
              "    </tr>\n",
              "    <tr>\n",
              "      <th>1</th>\n",
              "      <td>13</td>\n",
              "      <td>16</td>\n",
              "      <td>2009-02-19 00:00:00</td>\n",
              "      <td>1600 Amphitheatre Parkway</td>\n",
              "      <td>Mountain View</td>\n",
              "      <td>CA</td>\n",
              "      <td>USA</td>\n",
              "      <td>94043-1351</td>\n",
              "      <td>0.99</td>\n",
              "    </tr>\n",
              "    <tr>\n",
              "      <th>2</th>\n",
              "      <td>20</td>\n",
              "      <td>54</td>\n",
              "      <td>2009-03-22 00:00:00</td>\n",
              "      <td>110 Raeburn Pl</td>\n",
              "      <td>Edinburgh</td>\n",
              "      <td>None</td>\n",
              "      <td>United Kingdom</td>\n",
              "      <td>EH4 1HH</td>\n",
              "      <td>0.99</td>\n",
              "    </tr>\n",
              "    <tr>\n",
              "      <th>3</th>\n",
              "      <td>27</td>\n",
              "      <td>33</td>\n",
              "      <td>2009-04-22 00:00:00</td>\n",
              "      <td>5112 48 Street</td>\n",
              "      <td>Yellowknife</td>\n",
              "      <td>NT</td>\n",
              "      <td>Canada</td>\n",
              "      <td>X1A 1N6</td>\n",
              "      <td>0.99</td>\n",
              "    </tr>\n",
              "    <tr>\n",
              "      <th>4</th>\n",
              "      <td>34</td>\n",
              "      <td>12</td>\n",
              "      <td>2009-05-23 00:00:00</td>\n",
              "      <td>Praça Pio X, 119</td>\n",
              "      <td>Rio de Janeiro</td>\n",
              "      <td>RJ</td>\n",
              "      <td>Brazil</td>\n",
              "      <td>20040-020</td>\n",
              "      <td>0.99</td>\n",
              "    </tr>\n",
              "    <tr>\n",
              "      <th>5</th>\n",
              "      <td>41</td>\n",
              "      <td>50</td>\n",
              "      <td>2009-06-23 00:00:00</td>\n",
              "      <td>C/ San Bernardo 85</td>\n",
              "      <td>Madrid</td>\n",
              "      <td>None</td>\n",
              "      <td>Spain</td>\n",
              "      <td>28015</td>\n",
              "      <td>0.99</td>\n",
              "    </tr>\n",
              "    <tr>\n",
              "      <th>6</th>\n",
              "      <td>48</td>\n",
              "      <td>29</td>\n",
              "      <td>2009-07-24 00:00:00</td>\n",
              "      <td>796 Dundas Street West</td>\n",
              "      <td>Toronto</td>\n",
              "      <td>ON</td>\n",
              "      <td>Canada</td>\n",
              "      <td>M6J 1V1</td>\n",
              "      <td>0.99</td>\n",
              "    </tr>\n",
              "  </tbody>\n",
              "</table>\n",
              "</div>"
            ],
            "text/plain": [
              "   InvoiceId  CustomerId  ... BillingPostalCode Total\n",
              "0          6          37  ...             60316  0.99\n",
              "1         13          16  ...        94043-1351  0.99\n",
              "2         20          54  ...           EH4 1HH  0.99\n",
              "3         27          33  ...           X1A 1N6  0.99\n",
              "4         34          12  ...         20040-020  0.99\n",
              "5         41          50  ...             28015  0.99\n",
              "6         48          29  ...           M6J 1V1  0.99\n",
              "\n",
              "[7 rows x 9 columns]"
            ]
          },
          "metadata": {
            "tags": []
          },
          "execution_count": 100
        }
      ]
    },
    {
      "cell_type": "markdown",
      "metadata": {
        "id": "i-kUMfEQSgNv"
      },
      "source": [
        "### LIKE\r\n",
        "\r\n",
        "* string comparison\r\n",
        "* Wildcards\r\n",
        "    * %: 0 or more characters\r\n",
        "    * _: 1 single character"
      ]
    },
    {
      "cell_type": "code",
      "metadata": {
        "colab": {
          "base_uri": "https://localhost:8080/",
          "height": 197
        },
        "id": "iEqM7mBhSoFi",
        "outputId": "4cd03004-8b31-4574-abb9-088a8d447f3c"
      },
      "source": [
        "with sqlite3.connect('chinook.db') as db:\r\n",
        "    query = \"SELECT * FROM invoices WHERE BillingAddress LIKE '%Straß%'\"\r\n",
        "    df = pd.read_sql_query(query, db)\r\n",
        "df.head()"
      ],
      "execution_count": 101,
      "outputs": [
        {
          "output_type": "execute_result",
          "data": {
            "text/html": [
              "<div>\n",
              "<style scoped>\n",
              "    .dataframe tbody tr th:only-of-type {\n",
              "        vertical-align: middle;\n",
              "    }\n",
              "\n",
              "    .dataframe tbody tr th {\n",
              "        vertical-align: top;\n",
              "    }\n",
              "\n",
              "    .dataframe thead th {\n",
              "        text-align: right;\n",
              "    }\n",
              "</style>\n",
              "<table border=\"1\" class=\"dataframe\">\n",
              "  <thead>\n",
              "    <tr style=\"text-align: right;\">\n",
              "      <th></th>\n",
              "      <th>InvoiceId</th>\n",
              "      <th>CustomerId</th>\n",
              "      <th>InvoiceDate</th>\n",
              "      <th>BillingAddress</th>\n",
              "      <th>BillingCity</th>\n",
              "      <th>BillingState</th>\n",
              "      <th>BillingCountry</th>\n",
              "      <th>BillingPostalCode</th>\n",
              "      <th>Total</th>\n",
              "    </tr>\n",
              "  </thead>\n",
              "  <tbody>\n",
              "    <tr>\n",
              "      <th>0</th>\n",
              "      <td>1</td>\n",
              "      <td>2</td>\n",
              "      <td>2021-03-04 23:21:47</td>\n",
              "      <td>Theodor-Heuss-Straße 34</td>\n",
              "      <td>Stuttgart</td>\n",
              "      <td>None</td>\n",
              "      <td>Germany</td>\n",
              "      <td>70174</td>\n",
              "      <td>1.98</td>\n",
              "    </tr>\n",
              "    <tr>\n",
              "      <th>1</th>\n",
              "      <td>6</td>\n",
              "      <td>37</td>\n",
              "      <td>2009-01-19 00:00:00</td>\n",
              "      <td>Berger Straße 10</td>\n",
              "      <td>Frankfurt</td>\n",
              "      <td>None</td>\n",
              "      <td>Germany</td>\n",
              "      <td>60316</td>\n",
              "      <td>0.99</td>\n",
              "    </tr>\n",
              "    <tr>\n",
              "      <th>2</th>\n",
              "      <td>7</td>\n",
              "      <td>38</td>\n",
              "      <td>2009-02-01 00:00:00</td>\n",
              "      <td>Barbarossastraße 19</td>\n",
              "      <td>Berlin</td>\n",
              "      <td>None</td>\n",
              "      <td>Germany</td>\n",
              "      <td>10779</td>\n",
              "      <td>1.98</td>\n",
              "    </tr>\n",
              "    <tr>\n",
              "      <th>3</th>\n",
              "      <td>12</td>\n",
              "      <td>2</td>\n",
              "      <td>2009-02-11 00:00:00</td>\n",
              "      <td>Theodor-Heuss-Straße 34</td>\n",
              "      <td>Stuttgart</td>\n",
              "      <td>None</td>\n",
              "      <td>Germany</td>\n",
              "      <td>70174</td>\n",
              "      <td>13.86</td>\n",
              "    </tr>\n",
              "    <tr>\n",
              "      <th>4</th>\n",
              "      <td>29</td>\n",
              "      <td>36</td>\n",
              "      <td>2009-05-05 00:00:00</td>\n",
              "      <td>Tauentzienstraße 8</td>\n",
              "      <td>Berlin</td>\n",
              "      <td>None</td>\n",
              "      <td>Germany</td>\n",
              "      <td>10789</td>\n",
              "      <td>1.98</td>\n",
              "    </tr>\n",
              "  </tbody>\n",
              "</table>\n",
              "</div>"
            ],
            "text/plain": [
              "   InvoiceId  CustomerId  ... BillingPostalCode  Total\n",
              "0          1           2  ...             70174   1.98\n",
              "1          6          37  ...             60316   0.99\n",
              "2          7          38  ...             10779   1.98\n",
              "3         12           2  ...             70174  13.86\n",
              "4         29          36  ...             10789   1.98\n",
              "\n",
              "[5 rows x 9 columns]"
            ]
          },
          "metadata": {
            "tags": []
          },
          "execution_count": 101
        }
      ]
    },
    {
      "cell_type": "code",
      "metadata": {
        "colab": {
          "base_uri": "https://localhost:8080/",
          "height": 197
        },
        "id": "wRDutDu7XD9B",
        "outputId": "d67ef3bd-63b5-4d24-ed37-f20801fdb6eb"
      },
      "source": [
        "with sqlite3.connect('chinook.db') as db:\r\n",
        "    query = \"SELECT * FROM invoices WHERE BillingState LIKE 'R_'\"\r\n",
        "    df = pd.read_sql_query(query, db)\r\n",
        "df.head()"
      ],
      "execution_count": 102,
      "outputs": [
        {
          "output_type": "execute_result",
          "data": {
            "text/html": [
              "<div>\n",
              "<style scoped>\n",
              "    .dataframe tbody tr th:only-of-type {\n",
              "        vertical-align: middle;\n",
              "    }\n",
              "\n",
              "    .dataframe tbody tr th {\n",
              "        vertical-align: top;\n",
              "    }\n",
              "\n",
              "    .dataframe thead th {\n",
              "        text-align: right;\n",
              "    }\n",
              "</style>\n",
              "<table border=\"1\" class=\"dataframe\">\n",
              "  <thead>\n",
              "    <tr style=\"text-align: right;\">\n",
              "      <th></th>\n",
              "      <th>InvoiceId</th>\n",
              "      <th>CustomerId</th>\n",
              "      <th>InvoiceDate</th>\n",
              "      <th>BillingAddress</th>\n",
              "      <th>BillingCity</th>\n",
              "      <th>BillingState</th>\n",
              "      <th>BillingCountry</th>\n",
              "      <th>BillingPostalCode</th>\n",
              "      <th>Total</th>\n",
              "    </tr>\n",
              "  </thead>\n",
              "  <tbody>\n",
              "    <tr>\n",
              "      <th>0</th>\n",
              "      <td>34</td>\n",
              "      <td>12</td>\n",
              "      <td>2009-05-23 00:00:00</td>\n",
              "      <td>Praça Pio X, 119</td>\n",
              "      <td>Rio de Janeiro</td>\n",
              "      <td>RJ</td>\n",
              "      <td>Brazil</td>\n",
              "      <td>20040-020</td>\n",
              "      <td>0.99</td>\n",
              "    </tr>\n",
              "    <tr>\n",
              "      <th>1</th>\n",
              "      <td>63</td>\n",
              "      <td>47</td>\n",
              "      <td>2009-10-07 00:00:00</td>\n",
              "      <td>Via Degli Scipioni, 43</td>\n",
              "      <td>Rome</td>\n",
              "      <td>RM</td>\n",
              "      <td>Italy</td>\n",
              "      <td>00192</td>\n",
              "      <td>1.98</td>\n",
              "    </tr>\n",
              "    <tr>\n",
              "      <th>2</th>\n",
              "      <td>86</td>\n",
              "      <td>47</td>\n",
              "      <td>2010-01-09 00:00:00</td>\n",
              "      <td>Via Degli Scipioni, 43</td>\n",
              "      <td>Rome</td>\n",
              "      <td>RM</td>\n",
              "      <td>Italy</td>\n",
              "      <td>00192</td>\n",
              "      <td>3.96</td>\n",
              "    </tr>\n",
              "    <tr>\n",
              "      <th>3</th>\n",
              "      <td>108</td>\n",
              "      <td>47</td>\n",
              "      <td>2010-04-13 00:00:00</td>\n",
              "      <td>Via Degli Scipioni, 43</td>\n",
              "      <td>Rome</td>\n",
              "      <td>RM</td>\n",
              "      <td>Italy</td>\n",
              "      <td>00192</td>\n",
              "      <td>5.94</td>\n",
              "    </tr>\n",
              "    <tr>\n",
              "      <th>4</th>\n",
              "      <td>155</td>\n",
              "      <td>12</td>\n",
              "      <td>2010-11-14 00:00:00</td>\n",
              "      <td>Praça Pio X, 119</td>\n",
              "      <td>Rio de Janeiro</td>\n",
              "      <td>RJ</td>\n",
              "      <td>Brazil</td>\n",
              "      <td>20040-020</td>\n",
              "      <td>1.98</td>\n",
              "    </tr>\n",
              "  </tbody>\n",
              "</table>\n",
              "</div>"
            ],
            "text/plain": [
              "   InvoiceId  CustomerId  ... BillingPostalCode Total\n",
              "0         34          12  ...         20040-020  0.99\n",
              "1         63          47  ...             00192  1.98\n",
              "2         86          47  ...             00192  3.96\n",
              "3        108          47  ...             00192  5.94\n",
              "4        155          12  ...         20040-020  1.98\n",
              "\n",
              "[5 rows x 9 columns]"
            ]
          },
          "metadata": {
            "tags": []
          },
          "execution_count": 102
        }
      ]
    },
    {
      "cell_type": "code",
      "metadata": {
        "colab": {
          "base_uri": "https://localhost:8080/",
          "height": 197
        },
        "id": "HRN1tb-VXmNm",
        "outputId": "6375ee03-8a4f-4dbe-ed94-4e4afff55f58"
      },
      "source": [
        "with sqlite3.connect('chinook.db') as db:\r\n",
        "    query = \"SELECT * FROM invoices\"\r\n",
        "    df = pd.read_sql_query(query, db)\r\n",
        "df.head()"
      ],
      "execution_count": 103,
      "outputs": [
        {
          "output_type": "execute_result",
          "data": {
            "text/html": [
              "<div>\n",
              "<style scoped>\n",
              "    .dataframe tbody tr th:only-of-type {\n",
              "        vertical-align: middle;\n",
              "    }\n",
              "\n",
              "    .dataframe tbody tr th {\n",
              "        vertical-align: top;\n",
              "    }\n",
              "\n",
              "    .dataframe thead th {\n",
              "        text-align: right;\n",
              "    }\n",
              "</style>\n",
              "<table border=\"1\" class=\"dataframe\">\n",
              "  <thead>\n",
              "    <tr style=\"text-align: right;\">\n",
              "      <th></th>\n",
              "      <th>InvoiceId</th>\n",
              "      <th>CustomerId</th>\n",
              "      <th>InvoiceDate</th>\n",
              "      <th>BillingAddress</th>\n",
              "      <th>BillingCity</th>\n",
              "      <th>BillingState</th>\n",
              "      <th>BillingCountry</th>\n",
              "      <th>BillingPostalCode</th>\n",
              "      <th>Total</th>\n",
              "    </tr>\n",
              "  </thead>\n",
              "  <tbody>\n",
              "    <tr>\n",
              "      <th>0</th>\n",
              "      <td>1</td>\n",
              "      <td>2</td>\n",
              "      <td>2021-03-04 23:21:47</td>\n",
              "      <td>Theodor-Heuss-Straße 34</td>\n",
              "      <td>Stuttgart</td>\n",
              "      <td>None</td>\n",
              "      <td>Germany</td>\n",
              "      <td>70174</td>\n",
              "      <td>1.98</td>\n",
              "    </tr>\n",
              "    <tr>\n",
              "      <th>1</th>\n",
              "      <td>2</td>\n",
              "      <td>4</td>\n",
              "      <td>2009-01-02 00:00:00</td>\n",
              "      <td>Ullevålsveien 14</td>\n",
              "      <td>Oslo</td>\n",
              "      <td>None</td>\n",
              "      <td>Norway</td>\n",
              "      <td>0171</td>\n",
              "      <td>3.96</td>\n",
              "    </tr>\n",
              "    <tr>\n",
              "      <th>2</th>\n",
              "      <td>3</td>\n",
              "      <td>8</td>\n",
              "      <td>2009-01-03 00:00:00</td>\n",
              "      <td>Grétrystraat 63</td>\n",
              "      <td>Brussels</td>\n",
              "      <td>None</td>\n",
              "      <td>Belgium</td>\n",
              "      <td>1000</td>\n",
              "      <td>5.94</td>\n",
              "    </tr>\n",
              "    <tr>\n",
              "      <th>3</th>\n",
              "      <td>4</td>\n",
              "      <td>14</td>\n",
              "      <td>2009-01-06 00:00:00</td>\n",
              "      <td>8210 111 ST NW</td>\n",
              "      <td>Edmonton</td>\n",
              "      <td>AB</td>\n",
              "      <td>Canada</td>\n",
              "      <td>T6G 2C7</td>\n",
              "      <td>8.91</td>\n",
              "    </tr>\n",
              "    <tr>\n",
              "      <th>4</th>\n",
              "      <td>5</td>\n",
              "      <td>23</td>\n",
              "      <td>2009-01-11 00:00:00</td>\n",
              "      <td>69 Salem Street</td>\n",
              "      <td>Boston</td>\n",
              "      <td>MA</td>\n",
              "      <td>USA</td>\n",
              "      <td>2113</td>\n",
              "      <td>13.86</td>\n",
              "    </tr>\n",
              "  </tbody>\n",
              "</table>\n",
              "</div>"
            ],
            "text/plain": [
              "   InvoiceId  CustomerId  ... BillingPostalCode  Total\n",
              "0          1           2  ...             70174   1.98\n",
              "1          2           4  ...              0171   3.96\n",
              "2          3           8  ...              1000   5.94\n",
              "3          4          14  ...           T6G 2C7   8.91\n",
              "4          5          23  ...              2113  13.86\n",
              "\n",
              "[5 rows x 9 columns]"
            ]
          },
          "metadata": {
            "tags": []
          },
          "execution_count": 103
        }
      ]
    },
    {
      "cell_type": "code",
      "metadata": {
        "colab": {
          "base_uri": "https://localhost:8080/",
          "height": 197
        },
        "id": "7lnTPPHsXd0Y",
        "outputId": "9d55b9d9-b781-4e4d-960f-d773ba40fd2a"
      },
      "source": [
        "with sqlite3.connect('chinook.db') as db:\r\n",
        "# TODO: check why it drops NULL\r\n",
        "    query = \"SELECT * FROM invoices WHERE BillingState NOT LIKE '_A'\"\r\n",
        "    df = pd.read_sql_query(query, db)\r\n",
        "df.head()"
      ],
      "execution_count": 104,
      "outputs": [
        {
          "output_type": "execute_result",
          "data": {
            "text/html": [
              "<div>\n",
              "<style scoped>\n",
              "    .dataframe tbody tr th:only-of-type {\n",
              "        vertical-align: middle;\n",
              "    }\n",
              "\n",
              "    .dataframe tbody tr th {\n",
              "        vertical-align: top;\n",
              "    }\n",
              "\n",
              "    .dataframe thead th {\n",
              "        text-align: right;\n",
              "    }\n",
              "</style>\n",
              "<table border=\"1\" class=\"dataframe\">\n",
              "  <thead>\n",
              "    <tr style=\"text-align: right;\">\n",
              "      <th></th>\n",
              "      <th>InvoiceId</th>\n",
              "      <th>CustomerId</th>\n",
              "      <th>InvoiceDate</th>\n",
              "      <th>BillingAddress</th>\n",
              "      <th>BillingCity</th>\n",
              "      <th>BillingState</th>\n",
              "      <th>BillingCountry</th>\n",
              "      <th>BillingPostalCode</th>\n",
              "      <th>Total</th>\n",
              "    </tr>\n",
              "  </thead>\n",
              "  <tbody>\n",
              "    <tr>\n",
              "      <th>0</th>\n",
              "      <td>4</td>\n",
              "      <td>14</td>\n",
              "      <td>2009-01-06 00:00:00</td>\n",
              "      <td>8210 111 ST NW</td>\n",
              "      <td>Edmonton</td>\n",
              "      <td>AB</td>\n",
              "      <td>Canada</td>\n",
              "      <td>T6G 2C7</td>\n",
              "      <td>8.91</td>\n",
              "    </tr>\n",
              "    <tr>\n",
              "      <th>1</th>\n",
              "      <td>10</td>\n",
              "      <td>46</td>\n",
              "      <td>2009-02-03 00:00:00</td>\n",
              "      <td>3 Chatham Street</td>\n",
              "      <td>Dublin</td>\n",
              "      <td>Dublin</td>\n",
              "      <td>Ireland</td>\n",
              "      <td>None</td>\n",
              "      <td>5.94</td>\n",
              "    </tr>\n",
              "    <tr>\n",
              "      <th>2</th>\n",
              "      <td>16</td>\n",
              "      <td>21</td>\n",
              "      <td>2009-03-05 00:00:00</td>\n",
              "      <td>801 W 4th Street</td>\n",
              "      <td>Reno</td>\n",
              "      <td>NV</td>\n",
              "      <td>USA</td>\n",
              "      <td>89503</td>\n",
              "      <td>3.96</td>\n",
              "    </tr>\n",
              "    <tr>\n",
              "      <th>3</th>\n",
              "      <td>17</td>\n",
              "      <td>25</td>\n",
              "      <td>2009-03-06 00:00:00</td>\n",
              "      <td>319 N. Frances Street</td>\n",
              "      <td>Madison</td>\n",
              "      <td>WI</td>\n",
              "      <td>USA</td>\n",
              "      <td>53703</td>\n",
              "      <td>5.94</td>\n",
              "    </tr>\n",
              "    <tr>\n",
              "      <th>4</th>\n",
              "      <td>18</td>\n",
              "      <td>31</td>\n",
              "      <td>2009-03-09 00:00:00</td>\n",
              "      <td>194A Chain Lake Drive</td>\n",
              "      <td>Halifax</td>\n",
              "      <td>NS</td>\n",
              "      <td>Canada</td>\n",
              "      <td>B3S 1C5</td>\n",
              "      <td>8.91</td>\n",
              "    </tr>\n",
              "  </tbody>\n",
              "</table>\n",
              "</div>"
            ],
            "text/plain": [
              "   InvoiceId  CustomerId  ... BillingPostalCode Total\n",
              "0          4          14  ...           T6G 2C7  8.91\n",
              "1         10          46  ...              None  5.94\n",
              "2         16          21  ...             89503  3.96\n",
              "3         17          25  ...             53703  5.94\n",
              "4         18          31  ...           B3S 1C5  8.91\n",
              "\n",
              "[5 rows x 9 columns]"
            ]
          },
          "metadata": {
            "tags": []
          },
          "execution_count": 104
        }
      ]
    },
    {
      "cell_type": "markdown",
      "metadata": {
        "id": "Xx9qX7ERSjxx"
      },
      "source": [
        "### NULL comparison"
      ]
    },
    {
      "cell_type": "code",
      "metadata": {
        "colab": {
          "base_uri": "https://localhost:8080/",
          "height": 197
        },
        "id": "ORIZde4qXvn-",
        "outputId": "d4e67d0f-a0a6-4e35-851b-dd3f9a14d5bf"
      },
      "source": [
        "with sqlite3.connect('chinook.db') as db:\r\n",
        "    query = \"SELECT * FROM invoices WHERE BillingState IS NULL\"\r\n",
        "    df = pd.read_sql_query(query, db)\r\n",
        "df.head()"
      ],
      "execution_count": 105,
      "outputs": [
        {
          "output_type": "execute_result",
          "data": {
            "text/html": [
              "<div>\n",
              "<style scoped>\n",
              "    .dataframe tbody tr th:only-of-type {\n",
              "        vertical-align: middle;\n",
              "    }\n",
              "\n",
              "    .dataframe tbody tr th {\n",
              "        vertical-align: top;\n",
              "    }\n",
              "\n",
              "    .dataframe thead th {\n",
              "        text-align: right;\n",
              "    }\n",
              "</style>\n",
              "<table border=\"1\" class=\"dataframe\">\n",
              "  <thead>\n",
              "    <tr style=\"text-align: right;\">\n",
              "      <th></th>\n",
              "      <th>InvoiceId</th>\n",
              "      <th>CustomerId</th>\n",
              "      <th>InvoiceDate</th>\n",
              "      <th>BillingAddress</th>\n",
              "      <th>BillingCity</th>\n",
              "      <th>BillingState</th>\n",
              "      <th>BillingCountry</th>\n",
              "      <th>BillingPostalCode</th>\n",
              "      <th>Total</th>\n",
              "    </tr>\n",
              "  </thead>\n",
              "  <tbody>\n",
              "    <tr>\n",
              "      <th>0</th>\n",
              "      <td>1</td>\n",
              "      <td>2</td>\n",
              "      <td>2021-03-04 23:21:47</td>\n",
              "      <td>Theodor-Heuss-Straße 34</td>\n",
              "      <td>Stuttgart</td>\n",
              "      <td>None</td>\n",
              "      <td>Germany</td>\n",
              "      <td>70174</td>\n",
              "      <td>1.98</td>\n",
              "    </tr>\n",
              "    <tr>\n",
              "      <th>1</th>\n",
              "      <td>2</td>\n",
              "      <td>4</td>\n",
              "      <td>2009-01-02 00:00:00</td>\n",
              "      <td>Ullevålsveien 14</td>\n",
              "      <td>Oslo</td>\n",
              "      <td>None</td>\n",
              "      <td>Norway</td>\n",
              "      <td>0171</td>\n",
              "      <td>3.96</td>\n",
              "    </tr>\n",
              "    <tr>\n",
              "      <th>2</th>\n",
              "      <td>3</td>\n",
              "      <td>8</td>\n",
              "      <td>2009-01-03 00:00:00</td>\n",
              "      <td>Grétrystraat 63</td>\n",
              "      <td>Brussels</td>\n",
              "      <td>None</td>\n",
              "      <td>Belgium</td>\n",
              "      <td>1000</td>\n",
              "      <td>5.94</td>\n",
              "    </tr>\n",
              "    <tr>\n",
              "      <th>3</th>\n",
              "      <td>6</td>\n",
              "      <td>37</td>\n",
              "      <td>2009-01-19 00:00:00</td>\n",
              "      <td>Berger Straße 10</td>\n",
              "      <td>Frankfurt</td>\n",
              "      <td>None</td>\n",
              "      <td>Germany</td>\n",
              "      <td>60316</td>\n",
              "      <td>0.99</td>\n",
              "    </tr>\n",
              "    <tr>\n",
              "      <th>4</th>\n",
              "      <td>7</td>\n",
              "      <td>38</td>\n",
              "      <td>2009-02-01 00:00:00</td>\n",
              "      <td>Barbarossastraße 19</td>\n",
              "      <td>Berlin</td>\n",
              "      <td>None</td>\n",
              "      <td>Germany</td>\n",
              "      <td>10779</td>\n",
              "      <td>1.98</td>\n",
              "    </tr>\n",
              "  </tbody>\n",
              "</table>\n",
              "</div>"
            ],
            "text/plain": [
              "   InvoiceId  CustomerId  ... BillingPostalCode Total\n",
              "0          1           2  ...             70174  1.98\n",
              "1          2           4  ...              0171  3.96\n",
              "2          3           8  ...              1000  5.94\n",
              "3          6          37  ...             60316  0.99\n",
              "4          7          38  ...             10779  1.98\n",
              "\n",
              "[5 rows x 9 columns]"
            ]
          },
          "metadata": {
            "tags": []
          },
          "execution_count": 105
        }
      ]
    },
    {
      "cell_type": "code",
      "metadata": {
        "colab": {
          "base_uri": "https://localhost:8080/",
          "height": 197
        },
        "id": "IMXMV8-mX9nD",
        "outputId": "d5b4dfe7-1611-43c7-b354-9c27c8aa3c05"
      },
      "source": [
        "with sqlite3.connect('chinook.db') as db:\r\n",
        "    query = \"SELECT * FROM invoices WHERE BillingState IS NOT NULL\"\r\n",
        "    df = pd.read_sql_query(query, db)\r\n",
        "df.head()"
      ],
      "execution_count": 106,
      "outputs": [
        {
          "output_type": "execute_result",
          "data": {
            "text/html": [
              "<div>\n",
              "<style scoped>\n",
              "    .dataframe tbody tr th:only-of-type {\n",
              "        vertical-align: middle;\n",
              "    }\n",
              "\n",
              "    .dataframe tbody tr th {\n",
              "        vertical-align: top;\n",
              "    }\n",
              "\n",
              "    .dataframe thead th {\n",
              "        text-align: right;\n",
              "    }\n",
              "</style>\n",
              "<table border=\"1\" class=\"dataframe\">\n",
              "  <thead>\n",
              "    <tr style=\"text-align: right;\">\n",
              "      <th></th>\n",
              "      <th>InvoiceId</th>\n",
              "      <th>CustomerId</th>\n",
              "      <th>InvoiceDate</th>\n",
              "      <th>BillingAddress</th>\n",
              "      <th>BillingCity</th>\n",
              "      <th>BillingState</th>\n",
              "      <th>BillingCountry</th>\n",
              "      <th>BillingPostalCode</th>\n",
              "      <th>Total</th>\n",
              "    </tr>\n",
              "  </thead>\n",
              "  <tbody>\n",
              "    <tr>\n",
              "      <th>0</th>\n",
              "      <td>4</td>\n",
              "      <td>14</td>\n",
              "      <td>2009-01-06 00:00:00</td>\n",
              "      <td>8210 111 ST NW</td>\n",
              "      <td>Edmonton</td>\n",
              "      <td>AB</td>\n",
              "      <td>Canada</td>\n",
              "      <td>T6G 2C7</td>\n",
              "      <td>8.91</td>\n",
              "    </tr>\n",
              "    <tr>\n",
              "      <th>1</th>\n",
              "      <td>5</td>\n",
              "      <td>23</td>\n",
              "      <td>2009-01-11 00:00:00</td>\n",
              "      <td>69 Salem Street</td>\n",
              "      <td>Boston</td>\n",
              "      <td>MA</td>\n",
              "      <td>USA</td>\n",
              "      <td>2113</td>\n",
              "      <td>13.86</td>\n",
              "    </tr>\n",
              "    <tr>\n",
              "      <th>2</th>\n",
              "      <td>10</td>\n",
              "      <td>46</td>\n",
              "      <td>2009-02-03 00:00:00</td>\n",
              "      <td>3 Chatham Street</td>\n",
              "      <td>Dublin</td>\n",
              "      <td>Dublin</td>\n",
              "      <td>Ireland</td>\n",
              "      <td>None</td>\n",
              "      <td>5.94</td>\n",
              "    </tr>\n",
              "    <tr>\n",
              "      <th>3</th>\n",
              "      <td>13</td>\n",
              "      <td>16</td>\n",
              "      <td>2009-02-19 00:00:00</td>\n",
              "      <td>1600 Amphitheatre Parkway</td>\n",
              "      <td>Mountain View</td>\n",
              "      <td>CA</td>\n",
              "      <td>USA</td>\n",
              "      <td>94043-1351</td>\n",
              "      <td>0.99</td>\n",
              "    </tr>\n",
              "    <tr>\n",
              "      <th>4</th>\n",
              "      <td>14</td>\n",
              "      <td>17</td>\n",
              "      <td>2009-03-04 00:00:00</td>\n",
              "      <td>1 Microsoft Way</td>\n",
              "      <td>Redmond</td>\n",
              "      <td>WA</td>\n",
              "      <td>USA</td>\n",
              "      <td>98052-8300</td>\n",
              "      <td>1.98</td>\n",
              "    </tr>\n",
              "  </tbody>\n",
              "</table>\n",
              "</div>"
            ],
            "text/plain": [
              "   InvoiceId  CustomerId  ... BillingPostalCode  Total\n",
              "0          4          14  ...           T6G 2C7   8.91\n",
              "1          5          23  ...              2113  13.86\n",
              "2         10          46  ...              None   5.94\n",
              "3         13          16  ...        94043-1351   0.99\n",
              "4         14          17  ...        98052-8300   1.98\n",
              "\n",
              "[5 rows x 9 columns]"
            ]
          },
          "metadata": {
            "tags": []
          },
          "execution_count": 106
        }
      ]
    },
    {
      "cell_type": "markdown",
      "metadata": {
        "id": "ZwTeSkHHjV7H"
      },
      "source": [
        "## Join\r\n",
        "\r\n",
        "https://stackoverflow.com/questions/15425740/are-left-outer-joins-and-left-joins-the-same\r\n",
        "\r\n",
        "`INNER JOIN`: returns rows when there is a match in both tables.\r\n",
        "\r\n",
        "`LEFT JOIN / LEFT OUTER JOIN`: returns all rows from the left table, even if there are no matches in the right table.\r\n",
        "\r\n",
        "`RIGHT JOIN / RIGHT OUTER JOIN`: returns all rows from the right table, even if there are no matches in the left table.\r\n",
        "\r\n",
        "`FULL JOIN / FULL OUTER JOIN / OUTER JOIN`: returns rows when there is a match in one of the tables.\r\n",
        "\r\n",
        "`SELF JOIN`: is used to join a table to itself, as if the table were two tables, temporarily renaming at least one table in the SQL statement.\r\n",
        "\r\n",
        "`CARTESIAN JOIN`: returns the cartesian product of the sets of records from the two or more joined tables.\r\n",
        "\r\n",
        "\r\n",
        "The `self join` is actually not a `special join`. It just reflects the fact that you can join a table with itself. Doing so you must alias it in order to address the fact that it appears more than once in the same statement.\r\n",
        "\r\n",
        "The `cartesian join` can be considered as an `inner join` without a restricting condition. Or you may view an `inner join` as a `cartesian join` with an added restriction (the join condition)."
      ]
    },
    {
      "cell_type": "markdown",
      "metadata": {
        "id": "0duHXWGAiT7z"
      },
      "source": [
        "![](https://cdn.sqlitetutorial.net/wp-content/uploads/2015/11/sqlite-sample-database-color.jpg)"
      ]
    },
    {
      "cell_type": "code",
      "metadata": {
        "colab": {
          "base_uri": "https://localhost:8080/",
          "height": 197
        },
        "id": "VMxvjOBbSolw",
        "outputId": "8854a7d4-c0c0-4778-9564-9892b05a8296"
      },
      "source": [
        "with sqlite3.connect('chinook.db') as db:\r\n",
        "    query = \"SELECT * FROM artists\"\r\n",
        "    df = pd.read_sql_query(query, db)\r\n",
        "df.head()"
      ],
      "execution_count": 107,
      "outputs": [
        {
          "output_type": "execute_result",
          "data": {
            "text/html": [
              "<div>\n",
              "<style scoped>\n",
              "    .dataframe tbody tr th:only-of-type {\n",
              "        vertical-align: middle;\n",
              "    }\n",
              "\n",
              "    .dataframe tbody tr th {\n",
              "        vertical-align: top;\n",
              "    }\n",
              "\n",
              "    .dataframe thead th {\n",
              "        text-align: right;\n",
              "    }\n",
              "</style>\n",
              "<table border=\"1\" class=\"dataframe\">\n",
              "  <thead>\n",
              "    <tr style=\"text-align: right;\">\n",
              "      <th></th>\n",
              "      <th>ArtistId</th>\n",
              "      <th>Name</th>\n",
              "    </tr>\n",
              "  </thead>\n",
              "  <tbody>\n",
              "    <tr>\n",
              "      <th>0</th>\n",
              "      <td>1</td>\n",
              "      <td>AC/DC</td>\n",
              "    </tr>\n",
              "    <tr>\n",
              "      <th>1</th>\n",
              "      <td>2</td>\n",
              "      <td>Accept</td>\n",
              "    </tr>\n",
              "    <tr>\n",
              "      <th>2</th>\n",
              "      <td>3</td>\n",
              "      <td>Aerosmith</td>\n",
              "    </tr>\n",
              "    <tr>\n",
              "      <th>3</th>\n",
              "      <td>4</td>\n",
              "      <td>Alanis Morissette</td>\n",
              "    </tr>\n",
              "    <tr>\n",
              "      <th>4</th>\n",
              "      <td>5</td>\n",
              "      <td>Alice In Chains</td>\n",
              "    </tr>\n",
              "  </tbody>\n",
              "</table>\n",
              "</div>"
            ],
            "text/plain": [
              "   ArtistId               Name\n",
              "0         1              AC/DC\n",
              "1         2             Accept\n",
              "2         3          Aerosmith\n",
              "3         4  Alanis Morissette\n",
              "4         5    Alice In Chains"
            ]
          },
          "metadata": {
            "tags": []
          },
          "execution_count": 107
        }
      ]
    },
    {
      "cell_type": "code",
      "metadata": {
        "colab": {
          "base_uri": "https://localhost:8080/",
          "height": 77
        },
        "id": "GBLHlJhijlHv",
        "outputId": "3e944ba3-5e83-424d-af5f-0f541845ea88"
      },
      "source": [
        "with sqlite3.connect('chinook.db') as db:\r\n",
        "    query = \"SELECT COUNT() AS artists FROM artists\"\r\n",
        "    df = pd.read_sql_query(query, db)\r\n",
        "df.head()"
      ],
      "execution_count": 108,
      "outputs": [
        {
          "output_type": "execute_result",
          "data": {
            "text/html": [
              "<div>\n",
              "<style scoped>\n",
              "    .dataframe tbody tr th:only-of-type {\n",
              "        vertical-align: middle;\n",
              "    }\n",
              "\n",
              "    .dataframe tbody tr th {\n",
              "        vertical-align: top;\n",
              "    }\n",
              "\n",
              "    .dataframe thead th {\n",
              "        text-align: right;\n",
              "    }\n",
              "</style>\n",
              "<table border=\"1\" class=\"dataframe\">\n",
              "  <thead>\n",
              "    <tr style=\"text-align: right;\">\n",
              "      <th></th>\n",
              "      <th>artists</th>\n",
              "    </tr>\n",
              "  </thead>\n",
              "  <tbody>\n",
              "    <tr>\n",
              "      <th>0</th>\n",
              "      <td>275</td>\n",
              "    </tr>\n",
              "  </tbody>\n",
              "</table>\n",
              "</div>"
            ],
            "text/plain": [
              "   artists\n",
              "0      275"
            ]
          },
          "metadata": {
            "tags": []
          },
          "execution_count": 108
        }
      ]
    },
    {
      "cell_type": "code",
      "metadata": {
        "colab": {
          "base_uri": "https://localhost:8080/",
          "height": 197
        },
        "id": "sLIqN186iZ6i",
        "outputId": "6d42f9d7-1b56-4ca5-cae0-f3222d5e9294"
      },
      "source": [
        "with sqlite3.connect('chinook.db') as db:\r\n",
        "    query = \"SELECT * FROM albums\"\r\n",
        "    df = pd.read_sql_query(query, db)\r\n",
        "df.head()"
      ],
      "execution_count": 109,
      "outputs": [
        {
          "output_type": "execute_result",
          "data": {
            "text/html": [
              "<div>\n",
              "<style scoped>\n",
              "    .dataframe tbody tr th:only-of-type {\n",
              "        vertical-align: middle;\n",
              "    }\n",
              "\n",
              "    .dataframe tbody tr th {\n",
              "        vertical-align: top;\n",
              "    }\n",
              "\n",
              "    .dataframe thead th {\n",
              "        text-align: right;\n",
              "    }\n",
              "</style>\n",
              "<table border=\"1\" class=\"dataframe\">\n",
              "  <thead>\n",
              "    <tr style=\"text-align: right;\">\n",
              "      <th></th>\n",
              "      <th>AlbumId</th>\n",
              "      <th>Title</th>\n",
              "      <th>ArtistId</th>\n",
              "    </tr>\n",
              "  </thead>\n",
              "  <tbody>\n",
              "    <tr>\n",
              "      <th>0</th>\n",
              "      <td>1</td>\n",
              "      <td>For Those About To Rock We Salute You</td>\n",
              "      <td>1</td>\n",
              "    </tr>\n",
              "    <tr>\n",
              "      <th>1</th>\n",
              "      <td>2</td>\n",
              "      <td>Balls to the Wall</td>\n",
              "      <td>2</td>\n",
              "    </tr>\n",
              "    <tr>\n",
              "      <th>2</th>\n",
              "      <td>3</td>\n",
              "      <td>Restless and Wild</td>\n",
              "      <td>2</td>\n",
              "    </tr>\n",
              "    <tr>\n",
              "      <th>3</th>\n",
              "      <td>4</td>\n",
              "      <td>Let There Be Rock</td>\n",
              "      <td>1</td>\n",
              "    </tr>\n",
              "    <tr>\n",
              "      <th>4</th>\n",
              "      <td>5</td>\n",
              "      <td>Big Ones</td>\n",
              "      <td>3</td>\n",
              "    </tr>\n",
              "  </tbody>\n",
              "</table>\n",
              "</div>"
            ],
            "text/plain": [
              "   AlbumId                                  Title  ArtistId\n",
              "0        1  For Those About To Rock We Salute You         1\n",
              "1        2                      Balls to the Wall         2\n",
              "2        3                      Restless and Wild         2\n",
              "3        4                      Let There Be Rock         1\n",
              "4        5                               Big Ones         3"
            ]
          },
          "metadata": {
            "tags": []
          },
          "execution_count": 109
        }
      ]
    },
    {
      "cell_type": "code",
      "metadata": {
        "colab": {
          "base_uri": "https://localhost:8080/",
          "height": 77
        },
        "id": "i5nXDc90jrzj",
        "outputId": "fa201120-e16b-488c-e9a1-01d8bbd79053"
      },
      "source": [
        "with sqlite3.connect('chinook.db') as db:\r\n",
        "    query = \"SELECT COUNT() AS albums FROM albums\"\r\n",
        "    df = pd.read_sql_query(query, db)\r\n",
        "df.head()"
      ],
      "execution_count": 110,
      "outputs": [
        {
          "output_type": "execute_result",
          "data": {
            "text/html": [
              "<div>\n",
              "<style scoped>\n",
              "    .dataframe tbody tr th:only-of-type {\n",
              "        vertical-align: middle;\n",
              "    }\n",
              "\n",
              "    .dataframe tbody tr th {\n",
              "        vertical-align: top;\n",
              "    }\n",
              "\n",
              "    .dataframe thead th {\n",
              "        text-align: right;\n",
              "    }\n",
              "</style>\n",
              "<table border=\"1\" class=\"dataframe\">\n",
              "  <thead>\n",
              "    <tr style=\"text-align: right;\">\n",
              "      <th></th>\n",
              "      <th>albums</th>\n",
              "    </tr>\n",
              "  </thead>\n",
              "  <tbody>\n",
              "    <tr>\n",
              "      <th>0</th>\n",
              "      <td>347</td>\n",
              "    </tr>\n",
              "  </tbody>\n",
              "</table>\n",
              "</div>"
            ],
            "text/plain": [
              "   albums\n",
              "0     347"
            ]
          },
          "metadata": {
            "tags": []
          },
          "execution_count": 110
        }
      ]
    },
    {
      "cell_type": "markdown",
      "metadata": {
        "id": "f3pRjYHljYjD"
      },
      "source": [
        "### Inner Join\r\n",
        "* only the common records from LEFT and from RIGHT"
      ]
    },
    {
      "cell_type": "code",
      "metadata": {
        "colab": {
          "base_uri": "https://localhost:8080/",
          "height": 347
        },
        "id": "BYM_useziZ4J",
        "outputId": "aa7f470d-47de-4db1-a45d-8935d9c7d17c"
      },
      "source": [
        "with sqlite3.connect('chinook.db') as db:\r\n",
        "    query = \"\"\"\r\n",
        "    SELECT art.Name, alb.Title\r\n",
        "    FROM artists AS art\r\n",
        "    INNER JOIN albums AS alb\r\n",
        "    ON art.ArtistId = alb.ArtistId\r\n",
        "    \"\"\"\r\n",
        "    df = pd.read_sql_query(query, db)\r\n",
        "df.head(10)"
      ],
      "execution_count": 111,
      "outputs": [
        {
          "output_type": "execute_result",
          "data": {
            "text/html": [
              "<div>\n",
              "<style scoped>\n",
              "    .dataframe tbody tr th:only-of-type {\n",
              "        vertical-align: middle;\n",
              "    }\n",
              "\n",
              "    .dataframe tbody tr th {\n",
              "        vertical-align: top;\n",
              "    }\n",
              "\n",
              "    .dataframe thead th {\n",
              "        text-align: right;\n",
              "    }\n",
              "</style>\n",
              "<table border=\"1\" class=\"dataframe\">\n",
              "  <thead>\n",
              "    <tr style=\"text-align: right;\">\n",
              "      <th></th>\n",
              "      <th>Name</th>\n",
              "      <th>Title</th>\n",
              "    </tr>\n",
              "  </thead>\n",
              "  <tbody>\n",
              "    <tr>\n",
              "      <th>0</th>\n",
              "      <td>AC/DC</td>\n",
              "      <td>For Those About To Rock We Salute You</td>\n",
              "    </tr>\n",
              "    <tr>\n",
              "      <th>1</th>\n",
              "      <td>Accept</td>\n",
              "      <td>Balls to the Wall</td>\n",
              "    </tr>\n",
              "    <tr>\n",
              "      <th>2</th>\n",
              "      <td>Accept</td>\n",
              "      <td>Restless and Wild</td>\n",
              "    </tr>\n",
              "    <tr>\n",
              "      <th>3</th>\n",
              "      <td>AC/DC</td>\n",
              "      <td>Let There Be Rock</td>\n",
              "    </tr>\n",
              "    <tr>\n",
              "      <th>4</th>\n",
              "      <td>Aerosmith</td>\n",
              "      <td>Big Ones</td>\n",
              "    </tr>\n",
              "    <tr>\n",
              "      <th>5</th>\n",
              "      <td>Alanis Morissette</td>\n",
              "      <td>Jagged Little Pill</td>\n",
              "    </tr>\n",
              "    <tr>\n",
              "      <th>6</th>\n",
              "      <td>Alice In Chains</td>\n",
              "      <td>Facelift</td>\n",
              "    </tr>\n",
              "    <tr>\n",
              "      <th>7</th>\n",
              "      <td>Antônio Carlos Jobim</td>\n",
              "      <td>Warner 25 Anos</td>\n",
              "    </tr>\n",
              "    <tr>\n",
              "      <th>8</th>\n",
              "      <td>Apocalyptica</td>\n",
              "      <td>Plays Metallica By Four Cellos</td>\n",
              "    </tr>\n",
              "    <tr>\n",
              "      <th>9</th>\n",
              "      <td>Audioslave</td>\n",
              "      <td>Audioslave</td>\n",
              "    </tr>\n",
              "  </tbody>\n",
              "</table>\n",
              "</div>"
            ],
            "text/plain": [
              "                   Name                                  Title\n",
              "0                 AC/DC  For Those About To Rock We Salute You\n",
              "1                Accept                      Balls to the Wall\n",
              "2                Accept                      Restless and Wild\n",
              "3                 AC/DC                      Let There Be Rock\n",
              "4             Aerosmith                               Big Ones\n",
              "5     Alanis Morissette                     Jagged Little Pill\n",
              "6       Alice In Chains                               Facelift\n",
              "7  Antônio Carlos Jobim                         Warner 25 Anos\n",
              "8          Apocalyptica         Plays Metallica By Four Cellos\n",
              "9            Audioslave                             Audioslave"
            ]
          },
          "metadata": {
            "tags": []
          },
          "execution_count": 111
        }
      ]
    },
    {
      "cell_type": "code",
      "metadata": {
        "colab": {
          "base_uri": "https://localhost:8080/"
        },
        "id": "1Dy7xCAMlmGk",
        "outputId": "696e08e6-888d-4467-da44-5cf3a4864191"
      },
      "source": [
        "df.isna().sum()"
      ],
      "execution_count": 112,
      "outputs": [
        {
          "output_type": "execute_result",
          "data": {
            "text/plain": [
              "Name     0\n",
              "Title    0\n",
              "dtype: int64"
            ]
          },
          "metadata": {
            "tags": []
          },
          "execution_count": 112
        }
      ]
    },
    {
      "cell_type": "code",
      "metadata": {
        "colab": {
          "base_uri": "https://localhost:8080/",
          "height": 347
        },
        "id": "Lrl_4yqLlC5G",
        "outputId": "198f7f21-ff21-4c78-d2ee-24287eac7d57"
      },
      "source": [
        "df.tail(10)"
      ],
      "execution_count": 113,
      "outputs": [
        {
          "output_type": "execute_result",
          "data": {
            "text/html": [
              "<div>\n",
              "<style scoped>\n",
              "    .dataframe tbody tr th:only-of-type {\n",
              "        vertical-align: middle;\n",
              "    }\n",
              "\n",
              "    .dataframe tbody tr th {\n",
              "        vertical-align: top;\n",
              "    }\n",
              "\n",
              "    .dataframe thead th {\n",
              "        text-align: right;\n",
              "    }\n",
              "</style>\n",
              "<table border=\"1\" class=\"dataframe\">\n",
              "  <thead>\n",
              "    <tr style=\"text-align: right;\">\n",
              "      <th></th>\n",
              "      <th>Name</th>\n",
              "      <th>Title</th>\n",
              "    </tr>\n",
              "  </thead>\n",
              "  <tbody>\n",
              "    <tr>\n",
              "      <th>337</th>\n",
              "      <td>Göteborgs Symfoniker &amp; Neeme Järvi</td>\n",
              "      <td>Nielsen: The Six Symphonies</td>\n",
              "    </tr>\n",
              "    <tr>\n",
              "      <th>338</th>\n",
              "      <td>Itzhak Perlman</td>\n",
              "      <td>Great Recordings of the Century: Paganini's 24...</td>\n",
              "    </tr>\n",
              "    <tr>\n",
              "      <th>339</th>\n",
              "      <td>Michele Campanella</td>\n",
              "      <td>Liszt - 12 Études D'Execution Transcendante</td>\n",
              "    </tr>\n",
              "    <tr>\n",
              "      <th>340</th>\n",
              "      <td>Gerald Moore</td>\n",
              "      <td>Great Recordings of the Century - Shubert: Sch...</td>\n",
              "    </tr>\n",
              "    <tr>\n",
              "      <th>341</th>\n",
              "      <td>Mela Tenenbaum, Pro Musica Prague &amp; Richard Kapp</td>\n",
              "      <td>Locatelli: Concertos for Violin, Strings and C...</td>\n",
              "    </tr>\n",
              "    <tr>\n",
              "      <th>342</th>\n",
              "      <td>Eugene Ormandy</td>\n",
              "      <td>Respighi:Pines of Rome</td>\n",
              "    </tr>\n",
              "    <tr>\n",
              "      <th>343</th>\n",
              "      <td>Emerson String Quartet</td>\n",
              "      <td>Schubert: The Late String Quartets &amp; String Qu...</td>\n",
              "    </tr>\n",
              "    <tr>\n",
              "      <th>344</th>\n",
              "      <td>C. Monteverdi, Nigel Rogers - Chiaroscuro; Lon...</td>\n",
              "      <td>Monteverdi: L'Orfeo</td>\n",
              "    </tr>\n",
              "    <tr>\n",
              "      <th>345</th>\n",
              "      <td>Nash Ensemble</td>\n",
              "      <td>Mozart: Chamber Music</td>\n",
              "    </tr>\n",
              "    <tr>\n",
              "      <th>346</th>\n",
              "      <td>Philip Glass Ensemble</td>\n",
              "      <td>Koyaanisqatsi (Soundtrack from the Motion Pict...</td>\n",
              "    </tr>\n",
              "  </tbody>\n",
              "</table>\n",
              "</div>"
            ],
            "text/plain": [
              "                                                  Name                                              Title\n",
              "337                 Göteborgs Symfoniker & Neeme Järvi                        Nielsen: The Six Symphonies\n",
              "338                                     Itzhak Perlman  Great Recordings of the Century: Paganini's 24...\n",
              "339                                 Michele Campanella        Liszt - 12 Études D'Execution Transcendante\n",
              "340                                       Gerald Moore  Great Recordings of the Century - Shubert: Sch...\n",
              "341   Mela Tenenbaum, Pro Musica Prague & Richard Kapp  Locatelli: Concertos for Violin, Strings and C...\n",
              "342                                     Eugene Ormandy                             Respighi:Pines of Rome\n",
              "343                             Emerson String Quartet  Schubert: The Late String Quartets & String Qu...\n",
              "344  C. Monteverdi, Nigel Rogers - Chiaroscuro; Lon...                                Monteverdi: L'Orfeo\n",
              "345                                      Nash Ensemble                              Mozart: Chamber Music\n",
              "346                              Philip Glass Ensemble  Koyaanisqatsi (Soundtrack from the Motion Pict..."
            ]
          },
          "metadata": {
            "tags": []
          },
          "execution_count": 113
        }
      ]
    },
    {
      "cell_type": "code",
      "metadata": {
        "colab": {
          "base_uri": "https://localhost:8080/",
          "height": 77
        },
        "id": "as1XIKrmiZ04",
        "outputId": "1874d90f-33ed-460c-b3f3-ce1217add042"
      },
      "source": [
        "with sqlite3.connect('chinook.db') as db:\r\n",
        "    query = \"\"\"\r\n",
        "    SELECT COUNT() AS inner_join\r\n",
        "    FROM artists AS art\r\n",
        "    INNER JOIN albums AS alb\r\n",
        "    ON art.ArtistId = alb.ArtistId\r\n",
        "    \"\"\"\r\n",
        "    df = pd.read_sql_query(query, db)\r\n",
        "df.head(10)\r\n",
        "\r\n"
      ],
      "execution_count": 114,
      "outputs": [
        {
          "output_type": "execute_result",
          "data": {
            "text/html": [
              "<div>\n",
              "<style scoped>\n",
              "    .dataframe tbody tr th:only-of-type {\n",
              "        vertical-align: middle;\n",
              "    }\n",
              "\n",
              "    .dataframe tbody tr th {\n",
              "        vertical-align: top;\n",
              "    }\n",
              "\n",
              "    .dataframe thead th {\n",
              "        text-align: right;\n",
              "    }\n",
              "</style>\n",
              "<table border=\"1\" class=\"dataframe\">\n",
              "  <thead>\n",
              "    <tr style=\"text-align: right;\">\n",
              "      <th></th>\n",
              "      <th>inner_join</th>\n",
              "    </tr>\n",
              "  </thead>\n",
              "  <tbody>\n",
              "    <tr>\n",
              "      <th>0</th>\n",
              "      <td>347</td>\n",
              "    </tr>\n",
              "  </tbody>\n",
              "</table>\n",
              "</div>"
            ],
            "text/plain": [
              "   inner_join\n",
              "0         347"
            ]
          },
          "metadata": {
            "tags": []
          },
          "execution_count": 114
        }
      ]
    },
    {
      "cell_type": "markdown",
      "metadata": {
        "id": "eRdTp-p0kdBz"
      },
      "source": [
        "### Left (outer) Join\r\n",
        "* all records from LEFT"
      ]
    },
    {
      "cell_type": "code",
      "metadata": {
        "colab": {
          "base_uri": "https://localhost:8080/",
          "height": 347
        },
        "id": "-eeU9mwEj5Rw",
        "outputId": "21d32e60-9a20-4470-e564-825228796c07"
      },
      "source": [
        "with sqlite3.connect('chinook.db') as db:\r\n",
        "    query = \"\"\"\r\n",
        "    SELECT art.Name, alb.Title\r\n",
        "    FROM artists AS art\r\n",
        "    LEFT OUTER JOIN albums AS alb\r\n",
        "    ON art.ArtistId = alb.ArtistId\r\n",
        "    \"\"\"\r\n",
        "    df = pd.read_sql_query(query, db)\r\n",
        "df.head(10)"
      ],
      "execution_count": 115,
      "outputs": [
        {
          "output_type": "execute_result",
          "data": {
            "text/html": [
              "<div>\n",
              "<style scoped>\n",
              "    .dataframe tbody tr th:only-of-type {\n",
              "        vertical-align: middle;\n",
              "    }\n",
              "\n",
              "    .dataframe tbody tr th {\n",
              "        vertical-align: top;\n",
              "    }\n",
              "\n",
              "    .dataframe thead th {\n",
              "        text-align: right;\n",
              "    }\n",
              "</style>\n",
              "<table border=\"1\" class=\"dataframe\">\n",
              "  <thead>\n",
              "    <tr style=\"text-align: right;\">\n",
              "      <th></th>\n",
              "      <th>Name</th>\n",
              "      <th>Title</th>\n",
              "    </tr>\n",
              "  </thead>\n",
              "  <tbody>\n",
              "    <tr>\n",
              "      <th>0</th>\n",
              "      <td>AC/DC</td>\n",
              "      <td>For Those About To Rock We Salute You</td>\n",
              "    </tr>\n",
              "    <tr>\n",
              "      <th>1</th>\n",
              "      <td>AC/DC</td>\n",
              "      <td>Let There Be Rock</td>\n",
              "    </tr>\n",
              "    <tr>\n",
              "      <th>2</th>\n",
              "      <td>Accept</td>\n",
              "      <td>Balls to the Wall</td>\n",
              "    </tr>\n",
              "    <tr>\n",
              "      <th>3</th>\n",
              "      <td>Accept</td>\n",
              "      <td>Restless and Wild</td>\n",
              "    </tr>\n",
              "    <tr>\n",
              "      <th>4</th>\n",
              "      <td>Aerosmith</td>\n",
              "      <td>Big Ones</td>\n",
              "    </tr>\n",
              "    <tr>\n",
              "      <th>5</th>\n",
              "      <td>Alanis Morissette</td>\n",
              "      <td>Jagged Little Pill</td>\n",
              "    </tr>\n",
              "    <tr>\n",
              "      <th>6</th>\n",
              "      <td>Alice In Chains</td>\n",
              "      <td>Facelift</td>\n",
              "    </tr>\n",
              "    <tr>\n",
              "      <th>7</th>\n",
              "      <td>Antônio Carlos Jobim</td>\n",
              "      <td>Warner 25 Anos</td>\n",
              "    </tr>\n",
              "    <tr>\n",
              "      <th>8</th>\n",
              "      <td>Antônio Carlos Jobim</td>\n",
              "      <td>Chill: Brazil (Disc 2)</td>\n",
              "    </tr>\n",
              "    <tr>\n",
              "      <th>9</th>\n",
              "      <td>Apocalyptica</td>\n",
              "      <td>Plays Metallica By Four Cellos</td>\n",
              "    </tr>\n",
              "  </tbody>\n",
              "</table>\n",
              "</div>"
            ],
            "text/plain": [
              "                   Name                                  Title\n",
              "0                 AC/DC  For Those About To Rock We Salute You\n",
              "1                 AC/DC                      Let There Be Rock\n",
              "2                Accept                      Balls to the Wall\n",
              "3                Accept                      Restless and Wild\n",
              "4             Aerosmith                               Big Ones\n",
              "5     Alanis Morissette                     Jagged Little Pill\n",
              "6       Alice In Chains                               Facelift\n",
              "7  Antônio Carlos Jobim                         Warner 25 Anos\n",
              "8  Antônio Carlos Jobim                 Chill: Brazil (Disc 2)\n",
              "9          Apocalyptica         Plays Metallica By Four Cellos"
            ]
          },
          "metadata": {
            "tags": []
          },
          "execution_count": 115
        }
      ]
    },
    {
      "cell_type": "code",
      "metadata": {
        "colab": {
          "base_uri": "https://localhost:8080/"
        },
        "id": "ZBEzxO6jlpQF",
        "outputId": "75107bc3-a771-45c1-88f8-8c775a8916c6"
      },
      "source": [
        "df.isna().sum()"
      ],
      "execution_count": 116,
      "outputs": [
        {
          "output_type": "execute_result",
          "data": {
            "text/plain": [
              "Name      0\n",
              "Title    71\n",
              "dtype: int64"
            ]
          },
          "metadata": {
            "tags": []
          },
          "execution_count": 116
        }
      ]
    },
    {
      "cell_type": "code",
      "metadata": {
        "colab": {
          "base_uri": "https://localhost:8080/",
          "height": 347
        },
        "id": "VMQBuP8ik5l8",
        "outputId": "6a66e16b-e520-44ce-e316-a302ec880670"
      },
      "source": [
        "df.tail(10)"
      ],
      "execution_count": 117,
      "outputs": [
        {
          "output_type": "execute_result",
          "data": {
            "text/html": [
              "<div>\n",
              "<style scoped>\n",
              "    .dataframe tbody tr th:only-of-type {\n",
              "        vertical-align: middle;\n",
              "    }\n",
              "\n",
              "    .dataframe tbody tr th {\n",
              "        vertical-align: top;\n",
              "    }\n",
              "\n",
              "    .dataframe thead th {\n",
              "        text-align: right;\n",
              "    }\n",
              "</style>\n",
              "<table border=\"1\" class=\"dataframe\">\n",
              "  <thead>\n",
              "    <tr style=\"text-align: right;\">\n",
              "      <th></th>\n",
              "      <th>Name</th>\n",
              "      <th>Title</th>\n",
              "    </tr>\n",
              "  </thead>\n",
              "  <tbody>\n",
              "    <tr>\n",
              "      <th>408</th>\n",
              "      <td>Martin Roscoe</td>\n",
              "      <td>Szymanowski: Piano Works, Vol. 1</td>\n",
              "    </tr>\n",
              "    <tr>\n",
              "      <th>409</th>\n",
              "      <td>Göteborgs Symfoniker &amp; Neeme Järvi</td>\n",
              "      <td>Nielsen: The Six Symphonies</td>\n",
              "    </tr>\n",
              "    <tr>\n",
              "      <th>410</th>\n",
              "      <td>Itzhak Perlman</td>\n",
              "      <td>Great Recordings of the Century: Paganini's 24...</td>\n",
              "    </tr>\n",
              "    <tr>\n",
              "      <th>411</th>\n",
              "      <td>Michele Campanella</td>\n",
              "      <td>Liszt - 12 Études D'Execution Transcendante</td>\n",
              "    </tr>\n",
              "    <tr>\n",
              "      <th>412</th>\n",
              "      <td>Gerald Moore</td>\n",
              "      <td>Great Recordings of the Century - Shubert: Sch...</td>\n",
              "    </tr>\n",
              "    <tr>\n",
              "      <th>413</th>\n",
              "      <td>Mela Tenenbaum, Pro Musica Prague &amp; Richard Kapp</td>\n",
              "      <td>Locatelli: Concertos for Violin, Strings and C...</td>\n",
              "    </tr>\n",
              "    <tr>\n",
              "      <th>414</th>\n",
              "      <td>Emerson String Quartet</td>\n",
              "      <td>Schubert: The Late String Quartets &amp; String Qu...</td>\n",
              "    </tr>\n",
              "    <tr>\n",
              "      <th>415</th>\n",
              "      <td>C. Monteverdi, Nigel Rogers - Chiaroscuro; Lon...</td>\n",
              "      <td>Monteverdi: L'Orfeo</td>\n",
              "    </tr>\n",
              "    <tr>\n",
              "      <th>416</th>\n",
              "      <td>Nash Ensemble</td>\n",
              "      <td>Mozart: Chamber Music</td>\n",
              "    </tr>\n",
              "    <tr>\n",
              "      <th>417</th>\n",
              "      <td>Philip Glass Ensemble</td>\n",
              "      <td>Koyaanisqatsi (Soundtrack from the Motion Pict...</td>\n",
              "    </tr>\n",
              "  </tbody>\n",
              "</table>\n",
              "</div>"
            ],
            "text/plain": [
              "                                                  Name                                              Title\n",
              "408                                      Martin Roscoe                   Szymanowski: Piano Works, Vol. 1\n",
              "409                 Göteborgs Symfoniker & Neeme Järvi                        Nielsen: The Six Symphonies\n",
              "410                                     Itzhak Perlman  Great Recordings of the Century: Paganini's 24...\n",
              "411                                 Michele Campanella        Liszt - 12 Études D'Execution Transcendante\n",
              "412                                       Gerald Moore  Great Recordings of the Century - Shubert: Sch...\n",
              "413   Mela Tenenbaum, Pro Musica Prague & Richard Kapp  Locatelli: Concertos for Violin, Strings and C...\n",
              "414                             Emerson String Quartet  Schubert: The Late String Quartets & String Qu...\n",
              "415  C. Monteverdi, Nigel Rogers - Chiaroscuro; Lon...                                Monteverdi: L'Orfeo\n",
              "416                                      Nash Ensemble                              Mozart: Chamber Music\n",
              "417                              Philip Glass Ensemble  Koyaanisqatsi (Soundtrack from the Motion Pict..."
            ]
          },
          "metadata": {
            "tags": []
          },
          "execution_count": 117
        }
      ]
    },
    {
      "cell_type": "code",
      "metadata": {
        "colab": {
          "base_uri": "https://localhost:8080/",
          "height": 77
        },
        "id": "8uNS2pZ3kn8x",
        "outputId": "41b70ed2-9952-4ed0-8a64-0c7b70642dc2"
      },
      "source": [
        "with sqlite3.connect('chinook.db') as db:\r\n",
        "    query = \"\"\"\r\n",
        "    SELECT COUNT() AS left_outer_join\r\n",
        "    FROM artists AS art\r\n",
        "    LEFT OUTER JOIN albums AS alb\r\n",
        "    ON art.ArtistId = alb.ArtistId\r\n",
        "    \"\"\"\r\n",
        "    df = pd.read_sql_query(query, db)\r\n",
        "df.head(10)"
      ],
      "execution_count": 118,
      "outputs": [
        {
          "output_type": "execute_result",
          "data": {
            "text/html": [
              "<div>\n",
              "<style scoped>\n",
              "    .dataframe tbody tr th:only-of-type {\n",
              "        vertical-align: middle;\n",
              "    }\n",
              "\n",
              "    .dataframe tbody tr th {\n",
              "        vertical-align: top;\n",
              "    }\n",
              "\n",
              "    .dataframe thead th {\n",
              "        text-align: right;\n",
              "    }\n",
              "</style>\n",
              "<table border=\"1\" class=\"dataframe\">\n",
              "  <thead>\n",
              "    <tr style=\"text-align: right;\">\n",
              "      <th></th>\n",
              "      <th>left_outer_join</th>\n",
              "    </tr>\n",
              "  </thead>\n",
              "  <tbody>\n",
              "    <tr>\n",
              "      <th>0</th>\n",
              "      <td>418</td>\n",
              "    </tr>\n",
              "  </tbody>\n",
              "</table>\n",
              "</div>"
            ],
            "text/plain": [
              "   left_outer_join\n",
              "0              418"
            ]
          },
          "metadata": {
            "tags": []
          },
          "execution_count": 118
        }
      ]
    },
    {
      "cell_type": "markdown",
      "metadata": {
        "id": "UJK38OxLmgBs"
      },
      "source": [
        "### Right (outer) join\r\n",
        "* all records from RIGHT\r\n",
        "* sqlite: `RIGHT` and `FULL OUTER JOIN`s are not currently supported\r\n",
        "* `RIGHT OUTER JOIN` = `LEFT OUTER JOIN` with swapped tables"
      ]
    },
    {
      "cell_type": "code",
      "metadata": {
        "colab": {
          "base_uri": "https://localhost:8080/",
          "height": 347
        },
        "id": "y3i98MbNl571",
        "outputId": "fd80d15b-9859-4e5b-9963-1f8e55f36e48"
      },
      "source": [
        "with sqlite3.connect('chinook.db') as db:\r\n",
        "    query = \"\"\"\r\n",
        "    SELECT art.Name, alb.Title\r\n",
        "    FROM albums AS alb\r\n",
        "    LEFT OUTER JOIN artists AS art\r\n",
        "    ON art.ArtistId = alb.ArtistId\r\n",
        "    \"\"\"\r\n",
        "    df = pd.read_sql_query(query, db)\r\n",
        "df.head(10)"
      ],
      "execution_count": 119,
      "outputs": [
        {
          "output_type": "execute_result",
          "data": {
            "text/html": [
              "<div>\n",
              "<style scoped>\n",
              "    .dataframe tbody tr th:only-of-type {\n",
              "        vertical-align: middle;\n",
              "    }\n",
              "\n",
              "    .dataframe tbody tr th {\n",
              "        vertical-align: top;\n",
              "    }\n",
              "\n",
              "    .dataframe thead th {\n",
              "        text-align: right;\n",
              "    }\n",
              "</style>\n",
              "<table border=\"1\" class=\"dataframe\">\n",
              "  <thead>\n",
              "    <tr style=\"text-align: right;\">\n",
              "      <th></th>\n",
              "      <th>Name</th>\n",
              "      <th>Title</th>\n",
              "    </tr>\n",
              "  </thead>\n",
              "  <tbody>\n",
              "    <tr>\n",
              "      <th>0</th>\n",
              "      <td>AC/DC</td>\n",
              "      <td>For Those About To Rock We Salute You</td>\n",
              "    </tr>\n",
              "    <tr>\n",
              "      <th>1</th>\n",
              "      <td>Accept</td>\n",
              "      <td>Balls to the Wall</td>\n",
              "    </tr>\n",
              "    <tr>\n",
              "      <th>2</th>\n",
              "      <td>Accept</td>\n",
              "      <td>Restless and Wild</td>\n",
              "    </tr>\n",
              "    <tr>\n",
              "      <th>3</th>\n",
              "      <td>AC/DC</td>\n",
              "      <td>Let There Be Rock</td>\n",
              "    </tr>\n",
              "    <tr>\n",
              "      <th>4</th>\n",
              "      <td>Aerosmith</td>\n",
              "      <td>Big Ones</td>\n",
              "    </tr>\n",
              "    <tr>\n",
              "      <th>5</th>\n",
              "      <td>Alanis Morissette</td>\n",
              "      <td>Jagged Little Pill</td>\n",
              "    </tr>\n",
              "    <tr>\n",
              "      <th>6</th>\n",
              "      <td>Alice In Chains</td>\n",
              "      <td>Facelift</td>\n",
              "    </tr>\n",
              "    <tr>\n",
              "      <th>7</th>\n",
              "      <td>Antônio Carlos Jobim</td>\n",
              "      <td>Warner 25 Anos</td>\n",
              "    </tr>\n",
              "    <tr>\n",
              "      <th>8</th>\n",
              "      <td>Apocalyptica</td>\n",
              "      <td>Plays Metallica By Four Cellos</td>\n",
              "    </tr>\n",
              "    <tr>\n",
              "      <th>9</th>\n",
              "      <td>Audioslave</td>\n",
              "      <td>Audioslave</td>\n",
              "    </tr>\n",
              "  </tbody>\n",
              "</table>\n",
              "</div>"
            ],
            "text/plain": [
              "                   Name                                  Title\n",
              "0                 AC/DC  For Those About To Rock We Salute You\n",
              "1                Accept                      Balls to the Wall\n",
              "2                Accept                      Restless and Wild\n",
              "3                 AC/DC                      Let There Be Rock\n",
              "4             Aerosmith                               Big Ones\n",
              "5     Alanis Morissette                     Jagged Little Pill\n",
              "6       Alice In Chains                               Facelift\n",
              "7  Antônio Carlos Jobim                         Warner 25 Anos\n",
              "8          Apocalyptica         Plays Metallica By Four Cellos\n",
              "9            Audioslave                             Audioslave"
            ]
          },
          "metadata": {
            "tags": []
          },
          "execution_count": 119
        }
      ]
    },
    {
      "cell_type": "code",
      "metadata": {
        "colab": {
          "base_uri": "https://localhost:8080/"
        },
        "id": "NMU9tATKkqWg",
        "outputId": "4008e54f-cac5-4c19-b628-1c61f459406d"
      },
      "source": [
        "df.isna().sum()"
      ],
      "execution_count": 120,
      "outputs": [
        {
          "output_type": "execute_result",
          "data": {
            "text/plain": [
              "Name     0\n",
              "Title    0\n",
              "dtype: int64"
            ]
          },
          "metadata": {
            "tags": []
          },
          "execution_count": 120
        }
      ]
    },
    {
      "cell_type": "code",
      "metadata": {
        "colab": {
          "base_uri": "https://localhost:8080/",
          "height": 77
        },
        "id": "MgoA3AyIlzFJ",
        "outputId": "bbba2405-918b-4c43-c208-fe69f2a94479"
      },
      "source": [
        "with sqlite3.connect('chinook.db') as db:\r\n",
        "    query = \"\"\"\r\n",
        "    SELECT COUNT() AS left_outer_join\r\n",
        "    FROM albums AS alb\r\n",
        "    LEFT OUTER JOIN artists AS art\r\n",
        "    ON art.ArtistId = alb.ArtistId\r\n",
        "    \"\"\"\r\n",
        "    df = pd.read_sql_query(query, db)\r\n",
        "df.head(10)"
      ],
      "execution_count": 121,
      "outputs": [
        {
          "output_type": "execute_result",
          "data": {
            "text/html": [
              "<div>\n",
              "<style scoped>\n",
              "    .dataframe tbody tr th:only-of-type {\n",
              "        vertical-align: middle;\n",
              "    }\n",
              "\n",
              "    .dataframe tbody tr th {\n",
              "        vertical-align: top;\n",
              "    }\n",
              "\n",
              "    .dataframe thead th {\n",
              "        text-align: right;\n",
              "    }\n",
              "</style>\n",
              "<table border=\"1\" class=\"dataframe\">\n",
              "  <thead>\n",
              "    <tr style=\"text-align: right;\">\n",
              "      <th></th>\n",
              "      <th>left_outer_join</th>\n",
              "    </tr>\n",
              "  </thead>\n",
              "  <tbody>\n",
              "    <tr>\n",
              "      <th>0</th>\n",
              "      <td>347</td>\n",
              "    </tr>\n",
              "  </tbody>\n",
              "</table>\n",
              "</div>"
            ],
            "text/plain": [
              "   left_outer_join\n",
              "0              347"
            ]
          },
          "metadata": {
            "tags": []
          },
          "execution_count": 121
        }
      ]
    },
    {
      "cell_type": "markdown",
      "metadata": {
        "id": "_Ji6UMupnxpb"
      },
      "source": [
        "### Full outer join\r\n",
        "* all records from LEFT and all records from RIGHT\r\n",
        "\r\n",
        "https://www.sqlitetutorial.net/sqlite-full-outer-join/\r\n",
        "\r\n",
        "* sqlite: `RIGHT` and `FULL OUTER JOIN`s are not currently supported\r\n",
        "* `FULL OUTER JOIN` = `UNION ALL` and `LEFT JOIN`\r\n",
        "\r\n",
        "\r\n"
      ]
    },
    {
      "cell_type": "code",
      "metadata": {
        "colab": {
          "base_uri": "https://localhost:8080/"
        },
        "id": "JdZ5ozXAou-8",
        "outputId": "165c811d-39e4-4944-d86c-6d695512900e"
      },
      "source": [
        "connection = create_connection(\"E:\\\\sm_app.sqlite\")"
      ],
      "execution_count": 122,
      "outputs": [
        {
          "output_type": "stream",
          "text": [
            "Connection to SQLite DB successful\n"
          ],
          "name": "stdout"
        }
      ]
    },
    {
      "cell_type": "code",
      "metadata": {
        "colab": {
          "base_uri": "https://localhost:8080/"
        },
        "id": "35Nh_d9llzCK",
        "outputId": "c6ec0004-724c-42f0-b1a6-8913fb18a3b6"
      },
      "source": [
        "query = \"\"\"\r\n",
        "-- create and insert data into the dogs table\r\n",
        "CREATE TABLE dogs (\r\n",
        "    type       TEXT,\r\n",
        "    color TEXT\r\n",
        ");\r\n",
        "\"\"\"\r\n",
        "execute_query(connection, query) \r\n",
        "\r\n",
        "query = \"\"\"\r\n",
        "INSERT INTO dogs(type, color) \r\n",
        "VALUES('Hunting','Black'), ('Guard','Brown');\r\n",
        "\"\"\"\r\n",
        "execute_query(connection, query) \r\n",
        "\r\n",
        "query = \"\"\"\r\n",
        "-- create and insert data into the cats table\r\n",
        "CREATE TABLE cats (\r\n",
        "    type       TEXT,\r\n",
        "    color TEXT\r\n",
        ");\r\n",
        "\"\"\"\r\n",
        "execute_query(connection, query) \r\n",
        "\r\n",
        "query = \"\"\"\r\n",
        "INSERT INTO cats(type,color) \r\n",
        "VALUES('Indoor','White'), \r\n",
        "      ('Outdoor','Black');\r\n",
        "\"\"\"\r\n",
        "execute_query(connection, query) "
      ],
      "execution_count": 123,
      "outputs": [
        {
          "output_type": "stream",
          "text": [
            "Query executed successfully\n",
            "Query executed successfully\n",
            "Query executed successfully\n",
            "Query executed successfully\n"
          ],
          "name": "stdout"
        }
      ]
    },
    {
      "cell_type": "code",
      "metadata": {
        "colab": {
          "base_uri": "https://localhost:8080/"
        },
        "id": "7746QIPoly_Y",
        "outputId": "495e3384-3f61-4e50-cadb-fb6b62b00480"
      },
      "source": [
        "query = \"\"\"\r\n",
        "SELECT * from dogs\r\n",
        "\"\"\"\r\n",
        "lines = execute_read_query(connection, query)\r\n",
        "\r\n",
        "for line in lines:\r\n",
        "    print(line)"
      ],
      "execution_count": 124,
      "outputs": [
        {
          "output_type": "stream",
          "text": [
            "('Hunting', 'Black')\n",
            "('Guard', 'Brown')\n"
          ],
          "name": "stdout"
        }
      ]
    },
    {
      "cell_type": "code",
      "metadata": {
        "colab": {
          "base_uri": "https://localhost:8080/"
        },
        "id": "DqPHBKEnpowf",
        "outputId": "2e8aaf93-6cb9-48f8-a06e-33e08785ae6d"
      },
      "source": [
        "query = \"\"\"\r\n",
        "SELECT * from cats\r\n",
        "\"\"\"\r\n",
        "lines = execute_read_query(connection, query)\r\n",
        "\r\n",
        "for line in lines:\r\n",
        "    print(line)"
      ],
      "execution_count": 125,
      "outputs": [
        {
          "output_type": "stream",
          "text": [
            "('Indoor', 'White')\n",
            "('Outdoor', 'Black')\n"
          ],
          "name": "stdout"
        }
      ]
    },
    {
      "cell_type": "code",
      "metadata": {
        "colab": {
          "base_uri": "https://localhost:8080/"
        },
        "id": "4H9YfA3cr7WS",
        "outputId": "cd2cdb77-4bc2-4bf8-8dd1-07a3da775f9f"
      },
      "source": [
        "query = \"\"\"\r\n",
        "SELECT d.type,\r\n",
        "         d.color,\r\n",
        "         c.type,\r\n",
        "         c.color\r\n",
        "FROM dogs d\r\n",
        "LEFT JOIN cats c USING(color);\r\n",
        "\"\"\"\r\n",
        "\r\n",
        "with create_connection(\"E:\\\\sm_app.sqlite\") as connection:\r\n",
        "    lines = execute_read_query(connection, query)\r\n",
        "\r\n",
        "for line in lines:\r\n",
        "    print(line)"
      ],
      "execution_count": 126,
      "outputs": [
        {
          "output_type": "stream",
          "text": [
            "Connection to SQLite DB successful\n",
            "('Hunting', 'Black', 'Outdoor', 'Black')\n",
            "('Guard', 'Brown', None, None)\n"
          ],
          "name": "stdout"
        }
      ]
    },
    {
      "cell_type": "code",
      "metadata": {
        "colab": {
          "base_uri": "https://localhost:8080/"
        },
        "id": "zRr7uqttr7TT",
        "outputId": "6b26ae9d-a26a-4cd4-e48e-f3565ce7fd18"
      },
      "source": [
        "query = \"\"\"\r\n",
        "SELECT d.type,\r\n",
        "         d.color,\r\n",
        "         c.type,\r\n",
        "         c.color\r\n",
        "FROM cats c\r\n",
        "LEFT JOIN dogs d USING(color)\r\n",
        "WHERE d.color IS NULL;\r\n",
        "\"\"\"\r\n",
        "\r\n",
        "with create_connection(\"E:\\\\sm_app.sqlite\") as connection:\r\n",
        "    lines = execute_read_query(connection, query)\r\n",
        "\r\n",
        "for line in lines:\r\n",
        "    print(line)"
      ],
      "execution_count": 127,
      "outputs": [
        {
          "output_type": "stream",
          "text": [
            "Connection to SQLite DB successful\n",
            "(None, None, 'Indoor', 'White')\n"
          ],
          "name": "stdout"
        }
      ]
    },
    {
      "cell_type": "code",
      "metadata": {
        "colab": {
          "base_uri": "https://localhost:8080/"
        },
        "id": "ZD6sKgZ6qLzm",
        "outputId": "f65f57a1-83f9-4186-a9ee-3ded67a767a4"
      },
      "source": [
        "query = \"\"\"\r\n",
        "SELECT d.type,\r\n",
        "         d.color,\r\n",
        "         c.type,\r\n",
        "         c.color\r\n",
        "FROM dogs d\r\n",
        "LEFT JOIN cats c USING(color)\r\n",
        "UNION ALL\r\n",
        "SELECT d.type,\r\n",
        "         d.color,\r\n",
        "         c.type,\r\n",
        "         c.color\r\n",
        "FROM cats c\r\n",
        "LEFT JOIN dogs d USING(color)\r\n",
        "WHERE d.color IS NULL;\r\n",
        "\"\"\"\r\n",
        "lines = execute_read_query(connection, query)\r\n",
        "\r\n",
        "for line in lines:\r\n",
        "    print(line)"
      ],
      "execution_count": 128,
      "outputs": [
        {
          "output_type": "stream",
          "text": [
            "('Hunting', 'Black', 'Outdoor', 'Black')\n",
            "('Guard', 'Brown', None, None)\n",
            "(None, None, 'Indoor', 'White')\n"
          ],
          "name": "stdout"
        }
      ]
    },
    {
      "cell_type": "code",
      "metadata": {
        "id": "dNc39Pyd34_Y"
      },
      "source": [
        "# sqlite doesn't support full outer join\r\n",
        "query = \"\"\"\r\n",
        "SELECT d.type,\r\n",
        "         d.color,\r\n",
        "         c.type,\r\n",
        "         c.color\r\n",
        "FROM dogs d\r\n",
        "FULL OUTER JOIN cats c\r\n",
        "USING(color);\r\n",
        "\"\"\""
      ],
      "execution_count": 129,
      "outputs": []
    },
    {
      "cell_type": "code",
      "metadata": {
        "id": "6cnIpLjoqLw7"
      },
      "source": [
        "connection.close()"
      ],
      "execution_count": 130,
      "outputs": []
    },
    {
      "cell_type": "markdown",
      "metadata": {
        "id": "vyVyKNgg3bpf"
      },
      "source": [
        "## Agregate and Grouping"
      ]
    },
    {
      "cell_type": "markdown",
      "metadata": {
        "id": "eWhZl_PfkTeB"
      },
      "source": [
        "### Count"
      ]
    },
    {
      "cell_type": "code",
      "metadata": {
        "colab": {
          "base_uri": "https://localhost:8080/",
          "height": 197
        },
        "id": "d0OatIN3jzNJ",
        "outputId": "7516ed04-4f10-47b6-8e43-9b0b148a8360"
      },
      "source": [
        "with sqlite3.connect('chinook.db') as db:\r\n",
        "    query = \"SELECT * FROM artists\"\r\n",
        "    df = pd.read_sql_query(query, db)\r\n",
        "df.head()"
      ],
      "execution_count": 141,
      "outputs": [
        {
          "output_type": "execute_result",
          "data": {
            "text/html": [
              "<div>\n",
              "<style scoped>\n",
              "    .dataframe tbody tr th:only-of-type {\n",
              "        vertical-align: middle;\n",
              "    }\n",
              "\n",
              "    .dataframe tbody tr th {\n",
              "        vertical-align: top;\n",
              "    }\n",
              "\n",
              "    .dataframe thead th {\n",
              "        text-align: right;\n",
              "    }\n",
              "</style>\n",
              "<table border=\"1\" class=\"dataframe\">\n",
              "  <thead>\n",
              "    <tr style=\"text-align: right;\">\n",
              "      <th></th>\n",
              "      <th>ArtistId</th>\n",
              "      <th>Name</th>\n",
              "    </tr>\n",
              "  </thead>\n",
              "  <tbody>\n",
              "    <tr>\n",
              "      <th>0</th>\n",
              "      <td>1</td>\n",
              "      <td>AC/DC</td>\n",
              "    </tr>\n",
              "    <tr>\n",
              "      <th>1</th>\n",
              "      <td>2</td>\n",
              "      <td>Accept</td>\n",
              "    </tr>\n",
              "    <tr>\n",
              "      <th>2</th>\n",
              "      <td>3</td>\n",
              "      <td>Aerosmith</td>\n",
              "    </tr>\n",
              "    <tr>\n",
              "      <th>3</th>\n",
              "      <td>4</td>\n",
              "      <td>Alanis Morissette</td>\n",
              "    </tr>\n",
              "    <tr>\n",
              "      <th>4</th>\n",
              "      <td>5</td>\n",
              "      <td>Alice In Chains</td>\n",
              "    </tr>\n",
              "  </tbody>\n",
              "</table>\n",
              "</div>"
            ],
            "text/plain": [
              "   ArtistId               Name\n",
              "0         1              AC/DC\n",
              "1         2             Accept\n",
              "2         3          Aerosmith\n",
              "3         4  Alanis Morissette\n",
              "4         5    Alice In Chains"
            ]
          },
          "metadata": {
            "tags": []
          },
          "execution_count": 141
        }
      ]
    },
    {
      "cell_type": "code",
      "metadata": {
        "colab": {
          "base_uri": "https://localhost:8080/",
          "height": 77
        },
        "id": "JCrLDrCDkWE0",
        "outputId": "c434cbb1-51e1-4e39-e168-af312990bb8d"
      },
      "source": [
        "with sqlite3.connect('chinook.db') as db:\r\n",
        "    query = \"SELECT COUNT() FROM artists\"\r\n",
        "    df = pd.read_sql_query(query, db)\r\n",
        "df"
      ],
      "execution_count": 131,
      "outputs": [
        {
          "output_type": "execute_result",
          "data": {
            "text/html": [
              "<div>\n",
              "<style scoped>\n",
              "    .dataframe tbody tr th:only-of-type {\n",
              "        vertical-align: middle;\n",
              "    }\n",
              "\n",
              "    .dataframe tbody tr th {\n",
              "        vertical-align: top;\n",
              "    }\n",
              "\n",
              "    .dataframe thead th {\n",
              "        text-align: right;\n",
              "    }\n",
              "</style>\n",
              "<table border=\"1\" class=\"dataframe\">\n",
              "  <thead>\n",
              "    <tr style=\"text-align: right;\">\n",
              "      <th></th>\n",
              "      <th>artists</th>\n",
              "    </tr>\n",
              "  </thead>\n",
              "  <tbody>\n",
              "    <tr>\n",
              "      <th>0</th>\n",
              "      <td>275</td>\n",
              "    </tr>\n",
              "  </tbody>\n",
              "</table>\n",
              "</div>"
            ],
            "text/plain": [
              "   artists\n",
              "0      275"
            ]
          },
          "metadata": {
            "tags": []
          },
          "execution_count": 131
        }
      ]
    },
    {
      "cell_type": "code",
      "metadata": {
        "colab": {
          "base_uri": "https://localhost:8080/",
          "height": 77
        },
        "id": "i6_OuvXEkO--",
        "outputId": "5959720e-ab7c-443c-9c24-763727cfa6da"
      },
      "source": [
        "with sqlite3.connect('chinook.db') as db:\r\n",
        "    query = \"SELECT COUNT() FROM invoices\"\r\n",
        "    df = pd.read_sql_query(query, db)\r\n",
        "df"
      ],
      "execution_count": 143,
      "outputs": [
        {
          "output_type": "execute_result",
          "data": {
            "text/html": [
              "<div>\n",
              "<style scoped>\n",
              "    .dataframe tbody tr th:only-of-type {\n",
              "        vertical-align: middle;\n",
              "    }\n",
              "\n",
              "    .dataframe tbody tr th {\n",
              "        vertical-align: top;\n",
              "    }\n",
              "\n",
              "    .dataframe thead th {\n",
              "        text-align: right;\n",
              "    }\n",
              "</style>\n",
              "<table border=\"1\" class=\"dataframe\">\n",
              "  <thead>\n",
              "    <tr style=\"text-align: right;\">\n",
              "      <th></th>\n",
              "      <th>COUNT()</th>\n",
              "    </tr>\n",
              "  </thead>\n",
              "  <tbody>\n",
              "    <tr>\n",
              "      <th>0</th>\n",
              "      <td>412</td>\n",
              "    </tr>\n",
              "  </tbody>\n",
              "</table>\n",
              "</div>"
            ],
            "text/plain": [
              "   COUNT()\n",
              "0      412"
            ]
          },
          "metadata": {
            "tags": []
          },
          "execution_count": 143
        }
      ]
    },
    {
      "cell_type": "code",
      "metadata": {
        "colab": {
          "base_uri": "https://localhost:8080/",
          "height": 77
        },
        "id": "2yVTdAAoju6q",
        "outputId": "97e02c11-8d64-4288-ef36-96f1cf2d82a1"
      },
      "source": [
        "with sqlite3.connect('chinook.db') as db:\r\n",
        "    query = \"SELECT COUNT(DISTINCT BillingState) FROM invoices\"\r\n",
        "    df = pd.read_sql_query(query, db)\r\n",
        "df"
      ],
      "execution_count": 144,
      "outputs": [
        {
          "output_type": "execute_result",
          "data": {
            "text/html": [
              "<div>\n",
              "<style scoped>\n",
              "    .dataframe tbody tr th:only-of-type {\n",
              "        vertical-align: middle;\n",
              "    }\n",
              "\n",
              "    .dataframe tbody tr th {\n",
              "        vertical-align: top;\n",
              "    }\n",
              "\n",
              "    .dataframe thead th {\n",
              "        text-align: right;\n",
              "    }\n",
              "</style>\n",
              "<table border=\"1\" class=\"dataframe\">\n",
              "  <thead>\n",
              "    <tr style=\"text-align: right;\">\n",
              "      <th></th>\n",
              "      <th>COUNT(DISTINCT BillingState)</th>\n",
              "    </tr>\n",
              "  </thead>\n",
              "  <tbody>\n",
              "    <tr>\n",
              "      <th>0</th>\n",
              "      <td>25</td>\n",
              "    </tr>\n",
              "  </tbody>\n",
              "</table>\n",
              "</div>"
            ],
            "text/plain": [
              "   COUNT(DISTINCT BillingState)\n",
              "0                            25"
            ]
          },
          "metadata": {
            "tags": []
          },
          "execution_count": 144
        }
      ]
    },
    {
      "cell_type": "code",
      "metadata": {
        "colab": {
          "base_uri": "https://localhost:8080/",
          "height": 406
        },
        "id": "usCfKOmCktPF",
        "outputId": "590914a4-405b-4058-8a49-2e4b771d9dfe"
      },
      "source": [
        "with sqlite3.connect('chinook.db') as db:\r\n",
        "    query = \"SELECT * FROM tracks\"\r\n",
        "    df = pd.read_sql_query(query, db)\r\n",
        "df"
      ],
      "execution_count": 146,
      "outputs": [
        {
          "output_type": "execute_result",
          "data": {
            "text/html": [
              "<div>\n",
              "<style scoped>\n",
              "    .dataframe tbody tr th:only-of-type {\n",
              "        vertical-align: middle;\n",
              "    }\n",
              "\n",
              "    .dataframe tbody tr th {\n",
              "        vertical-align: top;\n",
              "    }\n",
              "\n",
              "    .dataframe thead th {\n",
              "        text-align: right;\n",
              "    }\n",
              "</style>\n",
              "<table border=\"1\" class=\"dataframe\">\n",
              "  <thead>\n",
              "    <tr style=\"text-align: right;\">\n",
              "      <th></th>\n",
              "      <th>TrackId</th>\n",
              "      <th>Name</th>\n",
              "      <th>AlbumId</th>\n",
              "      <th>MediaTypeId</th>\n",
              "      <th>GenreId</th>\n",
              "      <th>Composer</th>\n",
              "      <th>Milliseconds</th>\n",
              "      <th>Bytes</th>\n",
              "      <th>UnitPrice</th>\n",
              "    </tr>\n",
              "  </thead>\n",
              "  <tbody>\n",
              "    <tr>\n",
              "      <th>0</th>\n",
              "      <td>1</td>\n",
              "      <td>For Those About To Rock (We Salute You)</td>\n",
              "      <td>1</td>\n",
              "      <td>1</td>\n",
              "      <td>1</td>\n",
              "      <td>Angus Young, Malcolm Young, Brian Johnson</td>\n",
              "      <td>343719</td>\n",
              "      <td>11170334</td>\n",
              "      <td>0.99</td>\n",
              "    </tr>\n",
              "    <tr>\n",
              "      <th>1</th>\n",
              "      <td>2</td>\n",
              "      <td>Balls to the Wall</td>\n",
              "      <td>2</td>\n",
              "      <td>2</td>\n",
              "      <td>1</td>\n",
              "      <td>None</td>\n",
              "      <td>342562</td>\n",
              "      <td>5510424</td>\n",
              "      <td>0.99</td>\n",
              "    </tr>\n",
              "    <tr>\n",
              "      <th>2</th>\n",
              "      <td>3</td>\n",
              "      <td>Fast As a Shark</td>\n",
              "      <td>3</td>\n",
              "      <td>2</td>\n",
              "      <td>1</td>\n",
              "      <td>F. Baltes, S. Kaufman, U. Dirkscneider &amp; W. Ho...</td>\n",
              "      <td>230619</td>\n",
              "      <td>3990994</td>\n",
              "      <td>0.99</td>\n",
              "    </tr>\n",
              "    <tr>\n",
              "      <th>3</th>\n",
              "      <td>4</td>\n",
              "      <td>Restless and Wild</td>\n",
              "      <td>3</td>\n",
              "      <td>2</td>\n",
              "      <td>1</td>\n",
              "      <td>F. Baltes, R.A. Smith-Diesel, S. Kaufman, U. D...</td>\n",
              "      <td>252051</td>\n",
              "      <td>4331779</td>\n",
              "      <td>0.99</td>\n",
              "    </tr>\n",
              "    <tr>\n",
              "      <th>4</th>\n",
              "      <td>5</td>\n",
              "      <td>Princess of the Dawn</td>\n",
              "      <td>3</td>\n",
              "      <td>2</td>\n",
              "      <td>1</td>\n",
              "      <td>Deaffy &amp; R.A. Smith-Diesel</td>\n",
              "      <td>375418</td>\n",
              "      <td>6290521</td>\n",
              "      <td>0.99</td>\n",
              "    </tr>\n",
              "    <tr>\n",
              "      <th>...</th>\n",
              "      <td>...</td>\n",
              "      <td>...</td>\n",
              "      <td>...</td>\n",
              "      <td>...</td>\n",
              "      <td>...</td>\n",
              "      <td>...</td>\n",
              "      <td>...</td>\n",
              "      <td>...</td>\n",
              "      <td>...</td>\n",
              "    </tr>\n",
              "    <tr>\n",
              "      <th>3498</th>\n",
              "      <td>3499</td>\n",
              "      <td>Pini Di Roma (Pinien Von Rom) \\ I Pini Della V...</td>\n",
              "      <td>343</td>\n",
              "      <td>2</td>\n",
              "      <td>24</td>\n",
              "      <td>None</td>\n",
              "      <td>286741</td>\n",
              "      <td>4718950</td>\n",
              "      <td>0.99</td>\n",
              "    </tr>\n",
              "    <tr>\n",
              "      <th>3499</th>\n",
              "      <td>3500</td>\n",
              "      <td>String Quartet No. 12 in C Minor, D. 703 \"Quar...</td>\n",
              "      <td>344</td>\n",
              "      <td>2</td>\n",
              "      <td>24</td>\n",
              "      <td>Franz Schubert</td>\n",
              "      <td>139200</td>\n",
              "      <td>2283131</td>\n",
              "      <td>0.99</td>\n",
              "    </tr>\n",
              "    <tr>\n",
              "      <th>3500</th>\n",
              "      <td>3501</td>\n",
              "      <td>L'orfeo, Act 3, Sinfonia (Orchestra)</td>\n",
              "      <td>345</td>\n",
              "      <td>2</td>\n",
              "      <td>24</td>\n",
              "      <td>Claudio Monteverdi</td>\n",
              "      <td>66639</td>\n",
              "      <td>1189062</td>\n",
              "      <td>0.99</td>\n",
              "    </tr>\n",
              "    <tr>\n",
              "      <th>3501</th>\n",
              "      <td>3502</td>\n",
              "      <td>Quintet for Horn, Violin, 2 Violas, and Cello ...</td>\n",
              "      <td>346</td>\n",
              "      <td>2</td>\n",
              "      <td>24</td>\n",
              "      <td>Wolfgang Amadeus Mozart</td>\n",
              "      <td>221331</td>\n",
              "      <td>3665114</td>\n",
              "      <td>0.99</td>\n",
              "    </tr>\n",
              "    <tr>\n",
              "      <th>3502</th>\n",
              "      <td>3503</td>\n",
              "      <td>Koyaanisqatsi</td>\n",
              "      <td>347</td>\n",
              "      <td>2</td>\n",
              "      <td>10</td>\n",
              "      <td>Philip Glass</td>\n",
              "      <td>206005</td>\n",
              "      <td>3305164</td>\n",
              "      <td>0.99</td>\n",
              "    </tr>\n",
              "  </tbody>\n",
              "</table>\n",
              "<p>3503 rows × 9 columns</p>\n",
              "</div>"
            ],
            "text/plain": [
              "      TrackId  ... UnitPrice\n",
              "0           1  ...      0.99\n",
              "1           2  ...      0.99\n",
              "2           3  ...      0.99\n",
              "3           4  ...      0.99\n",
              "4           5  ...      0.99\n",
              "...       ...  ...       ...\n",
              "3498     3499  ...      0.99\n",
              "3499     3500  ...      0.99\n",
              "3500     3501  ...      0.99\n",
              "3501     3502  ...      0.99\n",
              "3502     3503  ...      0.99\n",
              "\n",
              "[3503 rows x 9 columns]"
            ]
          },
          "metadata": {
            "tags": []
          },
          "execution_count": 146
        }
      ]
    },
    {
      "cell_type": "markdown",
      "metadata": {
        "id": "VuMWh3kIixO0"
      },
      "source": [
        "### Avg\r\n",
        "* only for numeric"
      ]
    },
    {
      "cell_type": "code",
      "metadata": {
        "id": "h6rP5dTY3a8b",
        "colab": {
          "base_uri": "https://localhost:8080/",
          "height": 77
        },
        "outputId": "556c0964-9741-4c61-aa91-57bcf35c8210"
      },
      "source": [
        "with sqlite3.connect('chinook.db') as db:\r\n",
        "    query = \"SELECT AVG(Milliseconds)/60000 FROM tracks\"\r\n",
        "    df = pd.read_sql_query(query, db)\r\n",
        "df"
      ],
      "execution_count": 151,
      "outputs": [
        {
          "output_type": "execute_result",
          "data": {
            "text/html": [
              "<div>\n",
              "<style scoped>\n",
              "    .dataframe tbody tr th:only-of-type {\n",
              "        vertical-align: middle;\n",
              "    }\n",
              "\n",
              "    .dataframe tbody tr th {\n",
              "        vertical-align: top;\n",
              "    }\n",
              "\n",
              "    .dataframe thead th {\n",
              "        text-align: right;\n",
              "    }\n",
              "</style>\n",
              "<table border=\"1\" class=\"dataframe\">\n",
              "  <thead>\n",
              "    <tr style=\"text-align: right;\">\n",
              "      <th></th>\n",
              "      <th>AVG(Milliseconds)/60000</th>\n",
              "    </tr>\n",
              "  </thead>\n",
              "  <tbody>\n",
              "    <tr>\n",
              "      <th>0</th>\n",
              "      <td>6.559987</td>\n",
              "    </tr>\n",
              "  </tbody>\n",
              "</table>\n",
              "</div>"
            ],
            "text/plain": [
              "   AVG(Milliseconds)/60000\n",
              "0                 6.559987"
            ]
          },
          "metadata": {
            "tags": []
          },
          "execution_count": 151
        }
      ]
    },
    {
      "cell_type": "markdown",
      "metadata": {
        "id": "OOiX3R6ZixzE"
      },
      "source": [
        "### Max\r\n",
        "\r\n",
        "* ignore NULL"
      ]
    },
    {
      "cell_type": "code",
      "metadata": {
        "id": "jycy0SXq3a4g",
        "colab": {
          "base_uri": "https://localhost:8080/",
          "height": 77
        },
        "outputId": "017ce011-93ea-4f74-fa6a-78ac431d78a6"
      },
      "source": [
        "with sqlite3.connect('chinook.db') as db:\r\n",
        "    query = \"SELECT MAX(Milliseconds)/60000 FROM tracks\"\r\n",
        "    df = pd.read_sql_query(query, db)\r\n",
        "df"
      ],
      "execution_count": 152,
      "outputs": [
        {
          "output_type": "execute_result",
          "data": {
            "text/html": [
              "<div>\n",
              "<style scoped>\n",
              "    .dataframe tbody tr th:only-of-type {\n",
              "        vertical-align: middle;\n",
              "    }\n",
              "\n",
              "    .dataframe tbody tr th {\n",
              "        vertical-align: top;\n",
              "    }\n",
              "\n",
              "    .dataframe thead th {\n",
              "        text-align: right;\n",
              "    }\n",
              "</style>\n",
              "<table border=\"1\" class=\"dataframe\">\n",
              "  <thead>\n",
              "    <tr style=\"text-align: right;\">\n",
              "      <th></th>\n",
              "      <th>MAX(Milliseconds)/60000</th>\n",
              "    </tr>\n",
              "  </thead>\n",
              "  <tbody>\n",
              "    <tr>\n",
              "      <th>0</th>\n",
              "      <td>88</td>\n",
              "    </tr>\n",
              "  </tbody>\n",
              "</table>\n",
              "</div>"
            ],
            "text/plain": [
              "   MAX(Milliseconds)/60000\n",
              "0                       88"
            ]
          },
          "metadata": {
            "tags": []
          },
          "execution_count": 152
        }
      ]
    },
    {
      "cell_type": "markdown",
      "metadata": {
        "id": "Rt3Ut4y2i25h"
      },
      "source": [
        "### Min\r\n",
        "\r\n",
        "* ignore NULL"
      ]
    },
    {
      "cell_type": "code",
      "metadata": {
        "id": "k2pxE9taqLuU",
        "colab": {
          "base_uri": "https://localhost:8080/",
          "height": 77
        },
        "outputId": "99f348b2-7b21-411b-a90d-f3437c3c6aa5"
      },
      "source": [
        "# track with 1 second ????\r\n",
        "\r\n",
        "with sqlite3.connect('chinook.db') as db:\r\n",
        "    query = \"SELECT MIN(Milliseconds) FROM tracks\"\r\n",
        "    df = pd.read_sql_query(query, db)\r\n",
        "df"
      ],
      "execution_count": 157,
      "outputs": [
        {
          "output_type": "execute_result",
          "data": {
            "text/html": [
              "<div>\n",
              "<style scoped>\n",
              "    .dataframe tbody tr th:only-of-type {\n",
              "        vertical-align: middle;\n",
              "    }\n",
              "\n",
              "    .dataframe tbody tr th {\n",
              "        vertical-align: top;\n",
              "    }\n",
              "\n",
              "    .dataframe thead th {\n",
              "        text-align: right;\n",
              "    }\n",
              "</style>\n",
              "<table border=\"1\" class=\"dataframe\">\n",
              "  <thead>\n",
              "    <tr style=\"text-align: right;\">\n",
              "      <th></th>\n",
              "      <th>MIN(Milliseconds)</th>\n",
              "    </tr>\n",
              "  </thead>\n",
              "  <tbody>\n",
              "    <tr>\n",
              "      <th>0</th>\n",
              "      <td>1071</td>\n",
              "    </tr>\n",
              "  </tbody>\n",
              "</table>\n",
              "</div>"
            ],
            "text/plain": [
              "   MIN(Milliseconds)\n",
              "0               1071"
            ]
          },
          "metadata": {
            "tags": []
          },
          "execution_count": 157
        }
      ]
    },
    {
      "cell_type": "code",
      "metadata": {
        "colab": {
          "base_uri": "https://localhost:8080/",
          "height": 197
        },
        "id": "3FSWwky6mBEE",
        "outputId": "ac0ea845-28cf-4155-916f-50ba4478290e"
      },
      "source": [
        "with sqlite3.connect('chinook.db') as db:\r\n",
        "    query = \"SELECT * FROM tracks ORDER BY Milliseconds LIMIT 5;\"\r\n",
        "    df = pd.read_sql_query(query, db)\r\n",
        "df"
      ],
      "execution_count": 161,
      "outputs": [
        {
          "output_type": "execute_result",
          "data": {
            "text/html": [
              "<div>\n",
              "<style scoped>\n",
              "    .dataframe tbody tr th:only-of-type {\n",
              "        vertical-align: middle;\n",
              "    }\n",
              "\n",
              "    .dataframe tbody tr th {\n",
              "        vertical-align: top;\n",
              "    }\n",
              "\n",
              "    .dataframe thead th {\n",
              "        text-align: right;\n",
              "    }\n",
              "</style>\n",
              "<table border=\"1\" class=\"dataframe\">\n",
              "  <thead>\n",
              "    <tr style=\"text-align: right;\">\n",
              "      <th></th>\n",
              "      <th>TrackId</th>\n",
              "      <th>Name</th>\n",
              "      <th>AlbumId</th>\n",
              "      <th>MediaTypeId</th>\n",
              "      <th>GenreId</th>\n",
              "      <th>Composer</th>\n",
              "      <th>Milliseconds</th>\n",
              "      <th>Bytes</th>\n",
              "      <th>UnitPrice</th>\n",
              "    </tr>\n",
              "  </thead>\n",
              "  <tbody>\n",
              "    <tr>\n",
              "      <th>0</th>\n",
              "      <td>2461</td>\n",
              "      <td>É Uma Partida De Futebol</td>\n",
              "      <td>200</td>\n",
              "      <td>1</td>\n",
              "      <td>1</td>\n",
              "      <td>Samuel Rosa</td>\n",
              "      <td>1071</td>\n",
              "      <td>38747</td>\n",
              "      <td>0.99</td>\n",
              "    </tr>\n",
              "    <tr>\n",
              "      <th>1</th>\n",
              "      <td>168</td>\n",
              "      <td>Now Sports</td>\n",
              "      <td>18</td>\n",
              "      <td>1</td>\n",
              "      <td>4</td>\n",
              "      <td>None</td>\n",
              "      <td>4884</td>\n",
              "      <td>161266</td>\n",
              "      <td>0.99</td>\n",
              "    </tr>\n",
              "    <tr>\n",
              "      <th>2</th>\n",
              "      <td>170</td>\n",
              "      <td>A Statistic</td>\n",
              "      <td>18</td>\n",
              "      <td>1</td>\n",
              "      <td>4</td>\n",
              "      <td>None</td>\n",
              "      <td>6373</td>\n",
              "      <td>211997</td>\n",
              "      <td>0.99</td>\n",
              "    </tr>\n",
              "    <tr>\n",
              "      <th>3</th>\n",
              "      <td>178</td>\n",
              "      <td>Oprah</td>\n",
              "      <td>18</td>\n",
              "      <td>1</td>\n",
              "      <td>4</td>\n",
              "      <td>None</td>\n",
              "      <td>6635</td>\n",
              "      <td>224313</td>\n",
              "      <td>0.99</td>\n",
              "    </tr>\n",
              "    <tr>\n",
              "      <th>4</th>\n",
              "      <td>3304</td>\n",
              "      <td>Commercial 1</td>\n",
              "      <td>258</td>\n",
              "      <td>1</td>\n",
              "      <td>17</td>\n",
              "      <td>L. Muggerud</td>\n",
              "      <td>7941</td>\n",
              "      <td>319888</td>\n",
              "      <td>0.99</td>\n",
              "    </tr>\n",
              "  </tbody>\n",
              "</table>\n",
              "</div>"
            ],
            "text/plain": [
              "   TrackId                      Name  AlbumId  ...  Milliseconds   Bytes UnitPrice\n",
              "0     2461  É Uma Partida De Futebol      200  ...          1071   38747      0.99\n",
              "1      168                Now Sports       18  ...          4884  161266      0.99\n",
              "2      170               A Statistic       18  ...          6373  211997      0.99\n",
              "3      178                     Oprah       18  ...          6635  224313      0.99\n",
              "4     3304              Commercial 1      258  ...          7941  319888      0.99\n",
              "\n",
              "[5 rows x 9 columns]"
            ]
          },
          "metadata": {
            "tags": []
          },
          "execution_count": 161
        }
      ]
    },
    {
      "cell_type": "code",
      "metadata": {
        "colab": {
          "base_uri": "https://localhost:8080/",
          "height": 77
        },
        "id": "ZhWiGwmom0Gl",
        "outputId": "e6671206-acc7-45ad-c21b-eca153f15086"
      },
      "source": [
        "with sqlite3.connect('chinook.db') as db:\r\n",
        "    query = \"SELECT MIN(Name) FROM tracks\"\r\n",
        "    df = pd.read_sql_query(query, db)\r\n",
        "df"
      ],
      "execution_count": 163,
      "outputs": [
        {
          "output_type": "execute_result",
          "data": {
            "text/html": [
              "<div>\n",
              "<style scoped>\n",
              "    .dataframe tbody tr th:only-of-type {\n",
              "        vertical-align: middle;\n",
              "    }\n",
              "\n",
              "    .dataframe tbody tr th {\n",
              "        vertical-align: top;\n",
              "    }\n",
              "\n",
              "    .dataframe thead th {\n",
              "        text-align: right;\n",
              "    }\n",
              "</style>\n",
              "<table border=\"1\" class=\"dataframe\">\n",
              "  <thead>\n",
              "    <tr style=\"text-align: right;\">\n",
              "      <th></th>\n",
              "      <th>MIN(Name)</th>\n",
              "    </tr>\n",
              "  </thead>\n",
              "  <tbody>\n",
              "    <tr>\n",
              "      <th>0</th>\n",
              "      <td>\"40\"</td>\n",
              "    </tr>\n",
              "  </tbody>\n",
              "</table>\n",
              "</div>"
            ],
            "text/plain": [
              "  MIN(Name)\n",
              "0      \"40\""
            ]
          },
          "metadata": {
            "tags": []
          },
          "execution_count": 163
        }
      ]
    },
    {
      "cell_type": "code",
      "metadata": {
        "colab": {
          "base_uri": "https://localhost:8080/",
          "height": 197
        },
        "id": "-tBn1wvcmOoq",
        "outputId": "e67ec1cc-b2cb-4a0f-9d23-fa27fd6e69f5"
      },
      "source": [
        "with sqlite3.connect('chinook.db') as db:\r\n",
        "    query = \"SELECT * FROM tracks ORDER BY Milliseconds DESC LIMIT 5;\"\r\n",
        "    df = pd.read_sql_query(query, db)\r\n",
        "df"
      ],
      "execution_count": 162,
      "outputs": [
        {
          "output_type": "execute_result",
          "data": {
            "text/html": [
              "<div>\n",
              "<style scoped>\n",
              "    .dataframe tbody tr th:only-of-type {\n",
              "        vertical-align: middle;\n",
              "    }\n",
              "\n",
              "    .dataframe tbody tr th {\n",
              "        vertical-align: top;\n",
              "    }\n",
              "\n",
              "    .dataframe thead th {\n",
              "        text-align: right;\n",
              "    }\n",
              "</style>\n",
              "<table border=\"1\" class=\"dataframe\">\n",
              "  <thead>\n",
              "    <tr style=\"text-align: right;\">\n",
              "      <th></th>\n",
              "      <th>TrackId</th>\n",
              "      <th>Name</th>\n",
              "      <th>AlbumId</th>\n",
              "      <th>MediaTypeId</th>\n",
              "      <th>GenreId</th>\n",
              "      <th>Composer</th>\n",
              "      <th>Milliseconds</th>\n",
              "      <th>Bytes</th>\n",
              "      <th>UnitPrice</th>\n",
              "    </tr>\n",
              "  </thead>\n",
              "  <tbody>\n",
              "    <tr>\n",
              "      <th>0</th>\n",
              "      <td>2820</td>\n",
              "      <td>Occupation / Precipice</td>\n",
              "      <td>227</td>\n",
              "      <td>3</td>\n",
              "      <td>19</td>\n",
              "      <td>None</td>\n",
              "      <td>5286953</td>\n",
              "      <td>1054423946</td>\n",
              "      <td>1.99</td>\n",
              "    </tr>\n",
              "    <tr>\n",
              "      <th>1</th>\n",
              "      <td>3224</td>\n",
              "      <td>Through a Looking Glass</td>\n",
              "      <td>229</td>\n",
              "      <td>3</td>\n",
              "      <td>21</td>\n",
              "      <td>None</td>\n",
              "      <td>5088838</td>\n",
              "      <td>1059546140</td>\n",
              "      <td>1.99</td>\n",
              "    </tr>\n",
              "    <tr>\n",
              "      <th>2</th>\n",
              "      <td>3244</td>\n",
              "      <td>Greetings from Earth, Pt. 1</td>\n",
              "      <td>253</td>\n",
              "      <td>3</td>\n",
              "      <td>20</td>\n",
              "      <td>None</td>\n",
              "      <td>2960293</td>\n",
              "      <td>536824558</td>\n",
              "      <td>1.99</td>\n",
              "    </tr>\n",
              "    <tr>\n",
              "      <th>3</th>\n",
              "      <td>3242</td>\n",
              "      <td>The Man With Nine Lives</td>\n",
              "      <td>253</td>\n",
              "      <td>3</td>\n",
              "      <td>20</td>\n",
              "      <td>None</td>\n",
              "      <td>2956998</td>\n",
              "      <td>577829804</td>\n",
              "      <td>1.99</td>\n",
              "    </tr>\n",
              "    <tr>\n",
              "      <th>4</th>\n",
              "      <td>3227</td>\n",
              "      <td>Battlestar Galactica, Pt. 2</td>\n",
              "      <td>253</td>\n",
              "      <td>3</td>\n",
              "      <td>20</td>\n",
              "      <td>None</td>\n",
              "      <td>2956081</td>\n",
              "      <td>521387924</td>\n",
              "      <td>1.99</td>\n",
              "    </tr>\n",
              "  </tbody>\n",
              "</table>\n",
              "</div>"
            ],
            "text/plain": [
              "   TrackId                         Name  ...       Bytes  UnitPrice\n",
              "0     2820       Occupation / Precipice  ...  1054423946       1.99\n",
              "1     3224      Through a Looking Glass  ...  1059546140       1.99\n",
              "2     3244  Greetings from Earth, Pt. 1  ...   536824558       1.99\n",
              "3     3242      The Man With Nine Lives  ...   577829804       1.99\n",
              "4     3227  Battlestar Galactica, Pt. 2  ...   521387924       1.99\n",
              "\n",
              "[5 rows x 9 columns]"
            ]
          },
          "metadata": {
            "tags": []
          },
          "execution_count": 162
        }
      ]
    },
    {
      "cell_type": "markdown",
      "metadata": {
        "id": "FqoVMYuji4uI"
      },
      "source": [
        "### Sum\r\n",
        "\r\n",
        "* only for numeric"
      ]
    },
    {
      "cell_type": "code",
      "metadata": {
        "id": "9vLbAhLwpvJg",
        "colab": {
          "base_uri": "https://localhost:8080/",
          "height": 77
        },
        "outputId": "f338e806-a27b-451c-fd10-4e4cb2dc9024"
      },
      "source": [
        "with sqlite3.connect('chinook.db') as db:\r\n",
        "    query = \"SELECT SUM(Total) FROM invoices\"\r\n",
        "    df = pd.read_sql_query(query, db)\r\n",
        "df"
      ],
      "execution_count": 139,
      "outputs": [
        {
          "output_type": "execute_result",
          "data": {
            "text/html": [
              "<div>\n",
              "<style scoped>\n",
              "    .dataframe tbody tr th:only-of-type {\n",
              "        vertical-align: middle;\n",
              "    }\n",
              "\n",
              "    .dataframe tbody tr th {\n",
              "        vertical-align: top;\n",
              "    }\n",
              "\n",
              "    .dataframe thead th {\n",
              "        text-align: right;\n",
              "    }\n",
              "</style>\n",
              "<table border=\"1\" class=\"dataframe\">\n",
              "  <thead>\n",
              "    <tr style=\"text-align: right;\">\n",
              "      <th></th>\n",
              "      <th>SUM(Total)</th>\n",
              "    </tr>\n",
              "  </thead>\n",
              "  <tbody>\n",
              "    <tr>\n",
              "      <th>0</th>\n",
              "      <td>2328.6</td>\n",
              "    </tr>\n",
              "  </tbody>\n",
              "</table>\n",
              "</div>"
            ],
            "text/plain": [
              "   SUM(Total)\n",
              "0      2328.6"
            ]
          },
          "metadata": {
            "tags": []
          },
          "execution_count": 139
        }
      ]
    },
    {
      "cell_type": "code",
      "metadata": {
        "id": "11oaNj9Gp9IR",
        "colab": {
          "base_uri": "https://localhost:8080/",
          "height": 77
        },
        "outputId": "f8a8476a-701b-4319-bfd4-a523a916eaba"
      },
      "source": [
        "with sqlite3.connect('chinook.db') as db:\r\n",
        "    query = \"SELECT SUM(Name) FROM tracks\"\r\n",
        "    df = pd.read_sql_query(query, db)\r\n",
        "df"
      ],
      "execution_count": 164,
      "outputs": [
        {
          "output_type": "execute_result",
          "data": {
            "text/html": [
              "<div>\n",
              "<style scoped>\n",
              "    .dataframe tbody tr th:only-of-type {\n",
              "        vertical-align: middle;\n",
              "    }\n",
              "\n",
              "    .dataframe tbody tr th {\n",
              "        vertical-align: top;\n",
              "    }\n",
              "\n",
              "    .dataframe thead th {\n",
              "        text-align: right;\n",
              "    }\n",
              "</style>\n",
              "<table border=\"1\" class=\"dataframe\">\n",
              "  <thead>\n",
              "    <tr style=\"text-align: right;\">\n",
              "      <th></th>\n",
              "      <th>SUM(Name)</th>\n",
              "    </tr>\n",
              "  </thead>\n",
              "  <tbody>\n",
              "    <tr>\n",
              "      <th>0</th>\n",
              "      <td>4674.22</td>\n",
              "    </tr>\n",
              "  </tbody>\n",
              "</table>\n",
              "</div>"
            ],
            "text/plain": [
              "   SUM(Name)\n",
              "0    4674.22"
            ]
          },
          "metadata": {
            "tags": []
          },
          "execution_count": 164
        }
      ]
    },
    {
      "cell_type": "code",
      "metadata": {
        "colab": {
          "base_uri": "https://localhost:8080/"
        },
        "id": "66T7MFzQm7kK",
        "outputId": "74811b34-2cf0-4ef8-bf92-7a0281441246"
      },
      "source": [
        "with create_connection(\"E:\\\\sm_app.sqlite\") as connection:\r\n",
        "    query = \"SELECT color FROM cats\"\r\n",
        "    lines = execute_read_query(connection, query)\r\n",
        "\r\n",
        "for line in lines:\r\n",
        "    print(line)"
      ],
      "execution_count": 169,
      "outputs": [
        {
          "output_type": "stream",
          "text": [
            "Connection to SQLite DB successful\n",
            "('White',)\n",
            "('Black',)\n"
          ],
          "name": "stdout"
        }
      ]
    },
    {
      "cell_type": "code",
      "metadata": {
        "colab": {
          "base_uri": "https://localhost:8080/"
        },
        "id": "WZVqbnaPnP8y",
        "outputId": "9b27183b-ec5e-4350-d784-748adf28b553"
      },
      "source": [
        "with create_connection(\"E:\\\\sm_app.sqlite\") as connection:\r\n",
        "    query = \"SELECT MIN(color) FROM cats\"\r\n",
        "    lines = execute_read_query(connection, query)\r\n",
        "\r\n",
        "for line in lines:\r\n",
        "    print(line)"
      ],
      "execution_count": 170,
      "outputs": [
        {
          "output_type": "stream",
          "text": [
            "Connection to SQLite DB successful\n",
            "('Black',)\n"
          ],
          "name": "stdout"
        }
      ]
    },
    {
      "cell_type": "code",
      "metadata": {
        "colab": {
          "base_uri": "https://localhost:8080/"
        },
        "id": "X-cSWv9Hnc4S",
        "outputId": "25d5234a-841d-43db-aea7-bfca8a36281c"
      },
      "source": [
        "with create_connection(\"E:\\\\sm_app.sqlite\") as connection:\r\n",
        "    query = \"SELECT MAX(color) FROM cats\"\r\n",
        "    lines = execute_read_query(connection, query)\r\n",
        "\r\n",
        "for line in lines:\r\n",
        "    print(line)"
      ],
      "execution_count": 171,
      "outputs": [
        {
          "output_type": "stream",
          "text": [
            "Connection to SQLite DB successful\n",
            "('White',)\n"
          ],
          "name": "stdout"
        }
      ]
    },
    {
      "cell_type": "code",
      "metadata": {
        "colab": {
          "base_uri": "https://localhost:8080/"
        },
        "id": "EVEo7gT5nfFZ",
        "outputId": "3e625a13-3549-40a2-919e-e3ceeef49337"
      },
      "source": [
        "with create_connection(\"E:\\\\sm_app.sqlite\") as connection:\r\n",
        "    query = \"SELECT AVG(color) FROM cats\"\r\n",
        "    lines = execute_read_query(connection, query)\r\n",
        "\r\n",
        "for line in lines:\r\n",
        "    print(line)"
      ],
      "execution_count": 172,
      "outputs": [
        {
          "output_type": "stream",
          "text": [
            "Connection to SQLite DB successful\n",
            "(0.0,)\n"
          ],
          "name": "stdout"
        }
      ]
    },
    {
      "cell_type": "code",
      "metadata": {
        "colab": {
          "base_uri": "https://localhost:8080/"
        },
        "id": "r4gL-u9YniCq",
        "outputId": "a436b493-9b47-44b5-b212-c5c3e67037bd"
      },
      "source": [
        "with create_connection(\"E:\\\\sm_app.sqlite\") as connection:\r\n",
        "    query = \"SELECT SUM(color) FROM cats\"\r\n",
        "    lines = execute_read_query(connection, query)\r\n",
        "\r\n",
        "for line in lines:\r\n",
        "    print(line)"
      ],
      "execution_count": 173,
      "outputs": [
        {
          "output_type": "stream",
          "text": [
            "Connection to SQLite DB successful\n",
            "(0.0,)\n"
          ],
          "name": "stdout"
        }
      ]
    },
    {
      "cell_type": "code",
      "metadata": {
        "colab": {
          "base_uri": "https://localhost:8080/",
          "height": 77
        },
        "id": "WIrV3qOKnj2C",
        "outputId": "335d4a18-f66c-422e-d70a-775f7d71f61f"
      },
      "source": [
        "with sqlite3.connect('chinook.db') as db:\r\n",
        "    query = \"\"\"\r\n",
        "    SELECT MIN(Milliseconds)/60000 AS 'min_minutes',\r\n",
        "    MAX(Milliseconds)/60000 AS 'max_minutes',\r\n",
        "    AVG(Milliseconds)/60000 AS 'avg_minutes',\r\n",
        "    SUM(Milliseconds)/60000 AS 'sum_minutes',\r\n",
        "    MAX(Composer) AS 'last_composer_abc_order',\r\n",
        "    MIN(Composer) AS 'fist_composer_abc_order'\r\n",
        "    FROM tracks\r\n",
        "    \"\"\"\r\n",
        "    df = pd.read_sql_query(query, db)\r\n",
        "df"
      ],
      "execution_count": 178,
      "outputs": [
        {
          "output_type": "execute_result",
          "data": {
            "text/html": [
              "<div>\n",
              "<style scoped>\n",
              "    .dataframe tbody tr th:only-of-type {\n",
              "        vertical-align: middle;\n",
              "    }\n",
              "\n",
              "    .dataframe tbody tr th {\n",
              "        vertical-align: top;\n",
              "    }\n",
              "\n",
              "    .dataframe thead th {\n",
              "        text-align: right;\n",
              "    }\n",
              "</style>\n",
              "<table border=\"1\" class=\"dataframe\">\n",
              "  <thead>\n",
              "    <tr style=\"text-align: right;\">\n",
              "      <th></th>\n",
              "      <th>min_minutes</th>\n",
              "      <th>max_minutes</th>\n",
              "      <th>avg_minutes</th>\n",
              "      <th>sum_minutes</th>\n",
              "      <th>last_composer_abc_order</th>\n",
              "      <th>fist_composer_abc_order</th>\n",
              "    </tr>\n",
              "  </thead>\n",
              "  <tbody>\n",
              "    <tr>\n",
              "      <th>0</th>\n",
              "      <td>0</td>\n",
              "      <td>88</td>\n",
              "      <td>6.559987</td>\n",
              "      <td>22979</td>\n",
              "      <td>roger glover</td>\n",
              "      <td>A. F. Iommi, W. Ward, T. Butler, J. Osbourne</td>\n",
              "    </tr>\n",
              "  </tbody>\n",
              "</table>\n",
              "</div>"
            ],
            "text/plain": [
              "   min_minutes  ...                       fist_composer_abc_order\n",
              "0            0  ...  A. F. Iommi, W. Ward, T. Butler, J. Osbourne\n",
              "\n",
              "[1 rows x 6 columns]"
            ]
          },
          "metadata": {
            "tags": []
          },
          "execution_count": 178
        }
      ]
    },
    {
      "cell_type": "markdown",
      "metadata": {
        "id": "MEbPRFV5oq8V"
      },
      "source": [
        "### Group by"
      ]
    },
    {
      "cell_type": "code",
      "metadata": {
        "colab": {
          "base_uri": "https://localhost:8080/",
          "height": 406
        },
        "id": "6o41QaHNo-Qx",
        "outputId": "c831d3bd-0d5b-4952-c0ba-5f68f6cf4902"
      },
      "source": [
        "with sqlite3.connect('chinook.db') as db:\r\n",
        "    query = \"\"\"\r\n",
        "    SELECT *\r\n",
        "    FROM tracks\r\n",
        "    \"\"\"\r\n",
        "    df = pd.read_sql_query(query, db)\r\n",
        "df"
      ],
      "execution_count": 179,
      "outputs": [
        {
          "output_type": "execute_result",
          "data": {
            "text/html": [
              "<div>\n",
              "<style scoped>\n",
              "    .dataframe tbody tr th:only-of-type {\n",
              "        vertical-align: middle;\n",
              "    }\n",
              "\n",
              "    .dataframe tbody tr th {\n",
              "        vertical-align: top;\n",
              "    }\n",
              "\n",
              "    .dataframe thead th {\n",
              "        text-align: right;\n",
              "    }\n",
              "</style>\n",
              "<table border=\"1\" class=\"dataframe\">\n",
              "  <thead>\n",
              "    <tr style=\"text-align: right;\">\n",
              "      <th></th>\n",
              "      <th>TrackId</th>\n",
              "      <th>Name</th>\n",
              "      <th>AlbumId</th>\n",
              "      <th>MediaTypeId</th>\n",
              "      <th>GenreId</th>\n",
              "      <th>Composer</th>\n",
              "      <th>Milliseconds</th>\n",
              "      <th>Bytes</th>\n",
              "      <th>UnitPrice</th>\n",
              "    </tr>\n",
              "  </thead>\n",
              "  <tbody>\n",
              "    <tr>\n",
              "      <th>0</th>\n",
              "      <td>1</td>\n",
              "      <td>For Those About To Rock (We Salute You)</td>\n",
              "      <td>1</td>\n",
              "      <td>1</td>\n",
              "      <td>1</td>\n",
              "      <td>Angus Young, Malcolm Young, Brian Johnson</td>\n",
              "      <td>343719</td>\n",
              "      <td>11170334</td>\n",
              "      <td>0.99</td>\n",
              "    </tr>\n",
              "    <tr>\n",
              "      <th>1</th>\n",
              "      <td>2</td>\n",
              "      <td>Balls to the Wall</td>\n",
              "      <td>2</td>\n",
              "      <td>2</td>\n",
              "      <td>1</td>\n",
              "      <td>None</td>\n",
              "      <td>342562</td>\n",
              "      <td>5510424</td>\n",
              "      <td>0.99</td>\n",
              "    </tr>\n",
              "    <tr>\n",
              "      <th>2</th>\n",
              "      <td>3</td>\n",
              "      <td>Fast As a Shark</td>\n",
              "      <td>3</td>\n",
              "      <td>2</td>\n",
              "      <td>1</td>\n",
              "      <td>F. Baltes, S. Kaufman, U. Dirkscneider &amp; W. Ho...</td>\n",
              "      <td>230619</td>\n",
              "      <td>3990994</td>\n",
              "      <td>0.99</td>\n",
              "    </tr>\n",
              "    <tr>\n",
              "      <th>3</th>\n",
              "      <td>4</td>\n",
              "      <td>Restless and Wild</td>\n",
              "      <td>3</td>\n",
              "      <td>2</td>\n",
              "      <td>1</td>\n",
              "      <td>F. Baltes, R.A. Smith-Diesel, S. Kaufman, U. D...</td>\n",
              "      <td>252051</td>\n",
              "      <td>4331779</td>\n",
              "      <td>0.99</td>\n",
              "    </tr>\n",
              "    <tr>\n",
              "      <th>4</th>\n",
              "      <td>5</td>\n",
              "      <td>Princess of the Dawn</td>\n",
              "      <td>3</td>\n",
              "      <td>2</td>\n",
              "      <td>1</td>\n",
              "      <td>Deaffy &amp; R.A. Smith-Diesel</td>\n",
              "      <td>375418</td>\n",
              "      <td>6290521</td>\n",
              "      <td>0.99</td>\n",
              "    </tr>\n",
              "    <tr>\n",
              "      <th>...</th>\n",
              "      <td>...</td>\n",
              "      <td>...</td>\n",
              "      <td>...</td>\n",
              "      <td>...</td>\n",
              "      <td>...</td>\n",
              "      <td>...</td>\n",
              "      <td>...</td>\n",
              "      <td>...</td>\n",
              "      <td>...</td>\n",
              "    </tr>\n",
              "    <tr>\n",
              "      <th>3498</th>\n",
              "      <td>3499</td>\n",
              "      <td>Pini Di Roma (Pinien Von Rom) \\ I Pini Della V...</td>\n",
              "      <td>343</td>\n",
              "      <td>2</td>\n",
              "      <td>24</td>\n",
              "      <td>None</td>\n",
              "      <td>286741</td>\n",
              "      <td>4718950</td>\n",
              "      <td>0.99</td>\n",
              "    </tr>\n",
              "    <tr>\n",
              "      <th>3499</th>\n",
              "      <td>3500</td>\n",
              "      <td>String Quartet No. 12 in C Minor, D. 703 \"Quar...</td>\n",
              "      <td>344</td>\n",
              "      <td>2</td>\n",
              "      <td>24</td>\n",
              "      <td>Franz Schubert</td>\n",
              "      <td>139200</td>\n",
              "      <td>2283131</td>\n",
              "      <td>0.99</td>\n",
              "    </tr>\n",
              "    <tr>\n",
              "      <th>3500</th>\n",
              "      <td>3501</td>\n",
              "      <td>L'orfeo, Act 3, Sinfonia (Orchestra)</td>\n",
              "      <td>345</td>\n",
              "      <td>2</td>\n",
              "      <td>24</td>\n",
              "      <td>Claudio Monteverdi</td>\n",
              "      <td>66639</td>\n",
              "      <td>1189062</td>\n",
              "      <td>0.99</td>\n",
              "    </tr>\n",
              "    <tr>\n",
              "      <th>3501</th>\n",
              "      <td>3502</td>\n",
              "      <td>Quintet for Horn, Violin, 2 Violas, and Cello ...</td>\n",
              "      <td>346</td>\n",
              "      <td>2</td>\n",
              "      <td>24</td>\n",
              "      <td>Wolfgang Amadeus Mozart</td>\n",
              "      <td>221331</td>\n",
              "      <td>3665114</td>\n",
              "      <td>0.99</td>\n",
              "    </tr>\n",
              "    <tr>\n",
              "      <th>3502</th>\n",
              "      <td>3503</td>\n",
              "      <td>Koyaanisqatsi</td>\n",
              "      <td>347</td>\n",
              "      <td>2</td>\n",
              "      <td>10</td>\n",
              "      <td>Philip Glass</td>\n",
              "      <td>206005</td>\n",
              "      <td>3305164</td>\n",
              "      <td>0.99</td>\n",
              "    </tr>\n",
              "  </tbody>\n",
              "</table>\n",
              "<p>3503 rows × 9 columns</p>\n",
              "</div>"
            ],
            "text/plain": [
              "      TrackId  ... UnitPrice\n",
              "0           1  ...      0.99\n",
              "1           2  ...      0.99\n",
              "2           3  ...      0.99\n",
              "3           4  ...      0.99\n",
              "4           5  ...      0.99\n",
              "...       ...  ...       ...\n",
              "3498     3499  ...      0.99\n",
              "3499     3500  ...      0.99\n",
              "3500     3501  ...      0.99\n",
              "3501     3502  ...      0.99\n",
              "3502     3503  ...      0.99\n",
              "\n",
              "[3503 rows x 9 columns]"
            ]
          },
          "metadata": {
            "tags": []
          },
          "execution_count": 179
        }
      ]
    },
    {
      "cell_type": "code",
      "metadata": {
        "colab": {
          "base_uri": "https://localhost:8080/",
          "height": 406
        },
        "id": "M8k0EK9FoImc",
        "outputId": "5ea659fc-0459-416e-e8ea-9e87999a8e05"
      },
      "source": [
        "with sqlite3.connect('chinook.db') as db:\r\n",
        "    query = \"\"\"\r\n",
        "    SELECT Composer, COUNT(*)\r\n",
        "    FROM tracks\r\n",
        "    -- WHERE Composer IS NOT NULL \r\n",
        "    GROUP BY Composer\r\n",
        "    ORDER BY Composer \r\n",
        "    \"\"\"\r\n",
        "    df = pd.read_sql_query(query, db)\r\n",
        "df"
      ],
      "execution_count": 187,
      "outputs": [
        {
          "output_type": "execute_result",
          "data": {
            "text/html": [
              "<div>\n",
              "<style scoped>\n",
              "    .dataframe tbody tr th:only-of-type {\n",
              "        vertical-align: middle;\n",
              "    }\n",
              "\n",
              "    .dataframe tbody tr th {\n",
              "        vertical-align: top;\n",
              "    }\n",
              "\n",
              "    .dataframe thead th {\n",
              "        text-align: right;\n",
              "    }\n",
              "</style>\n",
              "<table border=\"1\" class=\"dataframe\">\n",
              "  <thead>\n",
              "    <tr style=\"text-align: right;\">\n",
              "      <th></th>\n",
              "      <th>Composer</th>\n",
              "      <th>COUNT(*)</th>\n",
              "    </tr>\n",
              "  </thead>\n",
              "  <tbody>\n",
              "    <tr>\n",
              "      <th>0</th>\n",
              "      <td>None</td>\n",
              "      <td>978</td>\n",
              "    </tr>\n",
              "    <tr>\n",
              "      <th>1</th>\n",
              "      <td>A. F. Iommi, W. Ward, T. Butler, J. Osbourne</td>\n",
              "      <td>3</td>\n",
              "    </tr>\n",
              "    <tr>\n",
              "      <th>2</th>\n",
              "      <td>A. Jamal</td>\n",
              "      <td>1</td>\n",
              "    </tr>\n",
              "    <tr>\n",
              "      <th>3</th>\n",
              "      <td>A.Bouchard/J.Bouchard/S.Pearlman</td>\n",
              "      <td>1</td>\n",
              "    </tr>\n",
              "    <tr>\n",
              "      <th>4</th>\n",
              "      <td>A.Isbell/A.Jones/O.Redding</td>\n",
              "      <td>1</td>\n",
              "    </tr>\n",
              "    <tr>\n",
              "      <th>...</th>\n",
              "      <td>...</td>\n",
              "      <td>...</td>\n",
              "    </tr>\n",
              "    <tr>\n",
              "      <th>848</th>\n",
              "      <td>jon lord/roger glover</td>\n",
              "      <td>2</td>\n",
              "    </tr>\n",
              "    <tr>\n",
              "      <th>849</th>\n",
              "      <td>lorenz hart/richard rodgers</td>\n",
              "      <td>1</td>\n",
              "    </tr>\n",
              "    <tr>\n",
              "      <th>850</th>\n",
              "      <td>orlando murden/ronald miller</td>\n",
              "      <td>1</td>\n",
              "    </tr>\n",
              "    <tr>\n",
              "      <th>851</th>\n",
              "      <td>rod mckuen</td>\n",
              "      <td>1</td>\n",
              "    </tr>\n",
              "    <tr>\n",
              "      <th>852</th>\n",
              "      <td>roger glover</td>\n",
              "      <td>7</td>\n",
              "    </tr>\n",
              "  </tbody>\n",
              "</table>\n",
              "<p>853 rows × 2 columns</p>\n",
              "</div>"
            ],
            "text/plain": [
              "                                         Composer  COUNT(*)\n",
              "0                                            None       978\n",
              "1    A. F. Iommi, W. Ward, T. Butler, J. Osbourne         3\n",
              "2                                        A. Jamal         1\n",
              "3                A.Bouchard/J.Bouchard/S.Pearlman         1\n",
              "4                      A.Isbell/A.Jones/O.Redding         1\n",
              "..                                            ...       ...\n",
              "848                         jon lord/roger glover         2\n",
              "849                   lorenz hart/richard rodgers         1\n",
              "850                  orlando murden/ronald miller         1\n",
              "851                                    rod mckuen         1\n",
              "852                                  roger glover         7\n",
              "\n",
              "[853 rows x 2 columns]"
            ]
          },
          "metadata": {
            "tags": []
          },
          "execution_count": 187
        }
      ]
    },
    {
      "cell_type": "markdown",
      "metadata": {
        "id": "IrO2JOPkq5rk"
      },
      "source": [
        "#  Google databases\r\n",
        "https://code.google.com/archive/p/northwindextended/downloads"
      ]
    },
    {
      "cell_type": "markdown",
      "metadata": {
        "id": "S9ExLoJ-q_Se"
      },
      "source": [
        "## Northwind database\r\n",
        "https://github.com/jpwhite3/northwind-SQLite3"
      ]
    },
    {
      "cell_type": "markdown",
      "metadata": {
        "id": "WQcUypI7wi5N"
      },
      "source": [
        "![](https://raw.githubusercontent.com/jpwhite3/northwind-SQLite3/master/Northwind_ERD.png)"
      ]
    },
    {
      "cell_type": "code",
      "metadata": {
        "colab": {
          "base_uri": "https://localhost:8080/"
        },
        "id": "cHIJYhoDq-wU",
        "outputId": "e6fa9aca-c7ec-4439-c884-95273c1609a5"
      },
      "source": [
        "# !curl -o Northwind.Sqlite3.sql https://storage.googleapis.com/google-code-archive-downloads/v2/code.google.com/northwindextended/Northwind.Sqlite3.sql\r\n",
        "# https://stackoverflow.com/questions/10172327/linux-curl-save-as-utf-8/10730057\r\n",
        "# bad encoding issue\r\n",
        "!curl -H \"Accept-Charset: ISO-8859-1,utf-8;q=0.7,*;q=0.7\" \\\r\n",
        "https://storage.googleapis.com/google-code-archive-downloads/v2/code.google.com/northwindextended/Northwind.Sqlite3.sql \\\r\n",
        "| iconv -f iso8859-1 -t utf-8 > Northwind.Sqlite3.sql\r\n",
        "\r\n",
        "# !curl -o Northwind.Sqlite3.sql https://raw.githubusercontent.com/jpwhite3/northwind-SQLite3/master/Northwind.Sqlite3.create.sql"
      ],
      "execution_count": 234,
      "outputs": [
        {
          "output_type": "stream",
          "text": [
            "  % Total    % Received % Xferd  Average Speed   Time    Time     Time  Current\n",
            "                                 Dload  Upload   Total   Spent    Left  Speed\n",
            "\r  0     0    0     0    0     0      0      0 --:--:-- --:--:-- --:--:--     0\r 11  886k   11  102k    0     0   547k      0  0:00:01 --:--:--  0:00:01  544k\r100  886k  100  886k    0     0  4568k      0 --:--:-- --:--:-- --:--:-- 4545k\n"
          ],
          "name": "stdout"
        }
      ]
    },
    {
      "cell_type": "code",
      "metadata": {
        "id": "eEMt5PyFq5BC"
      },
      "source": [
        "connection = create_connection(\"northwind.db\")\r\n",
        "\r\n",
        "f = open(\"Northwind.Sqlite3.sql\")\r\n",
        "full_sql = f.read()\r\n",
        "sql_commands = full_sql.split(';')[:-1]\r\n",
        "\r\n",
        "for query in sql_commands: \r\n",
        "  execute_query(connection, query)\r\n",
        "\r\n",
        "connection.close()"
      ],
      "execution_count": null,
      "outputs": []
    },
    {
      "cell_type": "code",
      "metadata": {
        "colab": {
          "base_uri": "https://localhost:8080/",
          "height": 1000
        },
        "id": "K_ARMYuapJmc",
        "outputId": "4fb85599-62c6-4c05-e76d-a48eacd35d0c"
      },
      "source": [
        "with sqlite3.connect('northwind.db') as db:\r\n",
        "    query = \"\"\"\r\n",
        "    SELECT *\r\n",
        "    FROM Employees\r\n",
        "    \"\"\"\r\n",
        "    df = pd.read_sql_query(query, db)\r\n",
        "df"
      ],
      "execution_count": 235,
      "outputs": [
        {
          "output_type": "execute_result",
          "data": {
            "text/html": [
              "<div>\n",
              "<style scoped>\n",
              "    .dataframe tbody tr th:only-of-type {\n",
              "        vertical-align: middle;\n",
              "    }\n",
              "\n",
              "    .dataframe tbody tr th {\n",
              "        vertical-align: top;\n",
              "    }\n",
              "\n",
              "    .dataframe thead th {\n",
              "        text-align: right;\n",
              "    }\n",
              "</style>\n",
              "<table border=\"1\" class=\"dataframe\">\n",
              "  <thead>\n",
              "    <tr style=\"text-align: right;\">\n",
              "      <th></th>\n",
              "      <th>EmployeeID</th>\n",
              "      <th>LastName</th>\n",
              "      <th>FirstName</th>\n",
              "      <th>Title</th>\n",
              "      <th>TitleOfCourtesy</th>\n",
              "      <th>BirthDate</th>\n",
              "      <th>HireDate</th>\n",
              "      <th>Address</th>\n",
              "      <th>City</th>\n",
              "      <th>Region</th>\n",
              "      <th>PostalCode</th>\n",
              "      <th>Country</th>\n",
              "      <th>HomePhone</th>\n",
              "      <th>Extension</th>\n",
              "      <th>Photo</th>\n",
              "      <th>Notes</th>\n",
              "      <th>ReportsTo</th>\n",
              "      <th>PhotoPath</th>\n",
              "    </tr>\n",
              "  </thead>\n",
              "  <tbody>\n",
              "    <tr>\n",
              "      <th>0</th>\n",
              "      <td>1</td>\n",
              "      <td>Davolio</td>\n",
              "      <td>Nancy</td>\n",
              "      <td>Sales Representative</td>\n",
              "      <td>Ms.</td>\n",
              "      <td>1948-12-08</td>\n",
              "      <td>1992-05-01</td>\n",
              "      <td>507 - 20th Ave. E.Apt. 2A</td>\n",
              "      <td>Seattle</td>\n",
              "      <td>WA</td>\n",
              "      <td>98122</td>\n",
              "      <td>USA</td>\n",
              "      <td>(206) 555-9857</td>\n",
              "      <td>5467</td>\n",
              "      <td>b'\\xff\\xd8\\xff\\xe0\\x00\\x10JFIF\\x00\\x01\\x02\\x00...</td>\n",
              "      <td>Education includes a BA in psychology from Col...</td>\n",
              "      <td>2.0</td>\n",
              "      <td>http://accweb/emmployees/davolio.bmp</td>\n",
              "    </tr>\n",
              "    <tr>\n",
              "      <th>1</th>\n",
              "      <td>2</td>\n",
              "      <td>Fuller</td>\n",
              "      <td>Andrew</td>\n",
              "      <td>Vice President, Sales</td>\n",
              "      <td>Dr.</td>\n",
              "      <td>1952-02-19</td>\n",
              "      <td>1992-08-14</td>\n",
              "      <td>908 W. Capital Way</td>\n",
              "      <td>Tacoma</td>\n",
              "      <td>WA</td>\n",
              "      <td>98401</td>\n",
              "      <td>USA</td>\n",
              "      <td>(206) 555-9482</td>\n",
              "      <td>3457</td>\n",
              "      <td>b'\\xff\\xd8\\xff\\xe0\\x00\\x10JFIF\\x00\\x01\\x02\\x00...</td>\n",
              "      <td>Andrew received his BTS commercial in 1974 and...</td>\n",
              "      <td>NaN</td>\n",
              "      <td>http://accweb/emmployees/fuller.bmp</td>\n",
              "    </tr>\n",
              "    <tr>\n",
              "      <th>2</th>\n",
              "      <td>3</td>\n",
              "      <td>Leverling</td>\n",
              "      <td>Janet</td>\n",
              "      <td>Sales Representative</td>\n",
              "      <td>Ms.</td>\n",
              "      <td>1963-08-30</td>\n",
              "      <td>1992-04-01</td>\n",
              "      <td>722 Moss Bay Blvd.</td>\n",
              "      <td>Kirkland</td>\n",
              "      <td>WA</td>\n",
              "      <td>98033</td>\n",
              "      <td>USA</td>\n",
              "      <td>(206) 555-3412</td>\n",
              "      <td>3355</td>\n",
              "      <td>b'\\xff\\xd8\\xff\\xe0\\x00\\x10JFIF\\x00\\x01\\x02\\x00...</td>\n",
              "      <td>Janet has a BS degree in chemistry from Boston...</td>\n",
              "      <td>2.0</td>\n",
              "      <td>http://accweb/emmployees/leverling.bmp</td>\n",
              "    </tr>\n",
              "    <tr>\n",
              "      <th>3</th>\n",
              "      <td>4</td>\n",
              "      <td>Peacock</td>\n",
              "      <td>Margaret</td>\n",
              "      <td>Sales Representative</td>\n",
              "      <td>Mrs.</td>\n",
              "      <td>1937-09-19</td>\n",
              "      <td>1993-05-03</td>\n",
              "      <td>4110 Old Redmond Rd.</td>\n",
              "      <td>Redmond</td>\n",
              "      <td>WA</td>\n",
              "      <td>98052</td>\n",
              "      <td>USA</td>\n",
              "      <td>(206) 555-8122</td>\n",
              "      <td>5176</td>\n",
              "      <td>b'\\xff\\xd8\\xff\\xe0\\x00\\x10JFIF\\x00\\x01\\x02\\x00...</td>\n",
              "      <td>Margaret holds a BA in English literature from...</td>\n",
              "      <td>2.0</td>\n",
              "      <td>http://accweb/emmployees/peacock.bmp</td>\n",
              "    </tr>\n",
              "    <tr>\n",
              "      <th>4</th>\n",
              "      <td>5</td>\n",
              "      <td>Buchanan</td>\n",
              "      <td>Steven</td>\n",
              "      <td>Sales Manager</td>\n",
              "      <td>Mr.</td>\n",
              "      <td>1955-03-04</td>\n",
              "      <td>1993-10-17</td>\n",
              "      <td>14 Garrett Hill</td>\n",
              "      <td>London</td>\n",
              "      <td>None</td>\n",
              "      <td>SW1 8JR</td>\n",
              "      <td>UK</td>\n",
              "      <td>(71) 555-4848</td>\n",
              "      <td>3453</td>\n",
              "      <td>b'\\xff\\xd8\\xff\\xe0\\x00\\x10JFIF\\x00\\x01\\x02\\x00...</td>\n",
              "      <td>Steven Buchanan graduated from St. Andrews Uni...</td>\n",
              "      <td>2.0</td>\n",
              "      <td>http://accweb/emmployees/buchanan.bmp</td>\n",
              "    </tr>\n",
              "    <tr>\n",
              "      <th>5</th>\n",
              "      <td>6</td>\n",
              "      <td>Suyama</td>\n",
              "      <td>Michael</td>\n",
              "      <td>Sales Representative</td>\n",
              "      <td>Mr.</td>\n",
              "      <td>1963-07-02</td>\n",
              "      <td>1993-10-17</td>\n",
              "      <td>Coventry House\\nMiner Rd.</td>\n",
              "      <td>London</td>\n",
              "      <td>None</td>\n",
              "      <td>EC2 7JR</td>\n",
              "      <td>UK</td>\n",
              "      <td>(71) 555-7773</td>\n",
              "      <td>428</td>\n",
              "      <td>b'\\xff\\xd8\\xff\\xe0\\x00\\x10JFIF\\x00\\x01\\x02\\x00...</td>\n",
              "      <td>Michael is a graduate of Sussex University (MA...</td>\n",
              "      <td>5.0</td>\n",
              "      <td>http://accweb/emmployees/davolio.bmp</td>\n",
              "    </tr>\n",
              "    <tr>\n",
              "      <th>6</th>\n",
              "      <td>7</td>\n",
              "      <td>King</td>\n",
              "      <td>Robert</td>\n",
              "      <td>Sales Representative</td>\n",
              "      <td>Mr.</td>\n",
              "      <td>1960-05-29</td>\n",
              "      <td>1994-01-02</td>\n",
              "      <td>Edgeham Hollow\\nWinchester Way</td>\n",
              "      <td>London</td>\n",
              "      <td>None</td>\n",
              "      <td>RG1 9SP</td>\n",
              "      <td>UK</td>\n",
              "      <td>(71) 555-5598</td>\n",
              "      <td>465</td>\n",
              "      <td>b'\\xff\\xd8\\xff\\xe0\\x00\\x10JFIF\\x00\\x01\\x02\\x00...</td>\n",
              "      <td>Robert King served in the Peace Corps and trav...</td>\n",
              "      <td>5.0</td>\n",
              "      <td>http://accweb/emmployees/davolio.bmp</td>\n",
              "    </tr>\n",
              "    <tr>\n",
              "      <th>7</th>\n",
              "      <td>8</td>\n",
              "      <td>Callahan</td>\n",
              "      <td>Laura</td>\n",
              "      <td>Inside Sales Coordinator</td>\n",
              "      <td>Ms.</td>\n",
              "      <td>1958-01-09</td>\n",
              "      <td>1994-03-05</td>\n",
              "      <td>4726 - 11th Ave. N.E.</td>\n",
              "      <td>Seattle</td>\n",
              "      <td>WA</td>\n",
              "      <td>98105</td>\n",
              "      <td>USA</td>\n",
              "      <td>(206) 555-1189</td>\n",
              "      <td>2344</td>\n",
              "      <td>b'\\xff\\xd8\\xff\\xe0\\x00\\x10JFIF\\x00\\x01\\x02\\x00...</td>\n",
              "      <td>Laura received a BA in psychology from the Uni...</td>\n",
              "      <td>2.0</td>\n",
              "      <td>http://accweb/emmployees/davolio.bmp</td>\n",
              "    </tr>\n",
              "    <tr>\n",
              "      <th>8</th>\n",
              "      <td>9</td>\n",
              "      <td>Dodsworth</td>\n",
              "      <td>Anne</td>\n",
              "      <td>Sales Representative</td>\n",
              "      <td>Ms.</td>\n",
              "      <td>1966-01-27</td>\n",
              "      <td>1994-11-15</td>\n",
              "      <td>7 Houndstooth Rd.</td>\n",
              "      <td>London</td>\n",
              "      <td>None</td>\n",
              "      <td>WG2 7LT</td>\n",
              "      <td>UK</td>\n",
              "      <td>(71) 555-4444</td>\n",
              "      <td>452</td>\n",
              "      <td>b'\\xff\\xd8\\xff\\xe0\\x00\\x10JFIF\\x00\\x01\\x02\\x00...</td>\n",
              "      <td>Anne has a BA degree in English from St. Lawre...</td>\n",
              "      <td>5.0</td>\n",
              "      <td>http://accweb/emmployees/davolio.bmp</td>\n",
              "    </tr>\n",
              "  </tbody>\n",
              "</table>\n",
              "</div>"
            ],
            "text/plain": [
              "   EmployeeID   LastName  ... ReportsTo                               PhotoPath\n",
              "0           1    Davolio  ...       2.0    http://accweb/emmployees/davolio.bmp\n",
              "1           2     Fuller  ...       NaN     http://accweb/emmployees/fuller.bmp\n",
              "2           3  Leverling  ...       2.0  http://accweb/emmployees/leverling.bmp\n",
              "3           4    Peacock  ...       2.0    http://accweb/emmployees/peacock.bmp\n",
              "4           5   Buchanan  ...       2.0   http://accweb/emmployees/buchanan.bmp\n",
              "5           6     Suyama  ...       5.0    http://accweb/emmployees/davolio.bmp\n",
              "6           7       King  ...       5.0    http://accweb/emmployees/davolio.bmp\n",
              "7           8   Callahan  ...       2.0    http://accweb/emmployees/davolio.bmp\n",
              "8           9  Dodsworth  ...       5.0    http://accweb/emmployees/davolio.bmp\n",
              "\n",
              "[9 rows x 18 columns]"
            ]
          },
          "metadata": {
            "tags": []
          },
          "execution_count": 235
        }
      ]
    },
    {
      "cell_type": "code",
      "metadata": {
        "colab": {
          "base_uri": "https://localhost:8080/"
        },
        "id": "BEy4N3qQyrZ-",
        "outputId": "6931d734-a922-41a5-c501-a31889771a04"
      },
      "source": [
        "with sqlite3.connect('northwind.db') as db:\r\n",
        "    printSchema(db)"
      ],
      "execution_count": 220,
      "outputs": [
        {
          "output_type": "stream",
          "text": [
            "Categories:\n",
            "  0: CategoryID(INTEGER) *1\n",
            "  1: CategoryName(TEXT)\n",
            "  2: Description(TEXT)\n",
            "  3: Picture(BLOB)\n",
            "CustomerCustomerDemo:\n",
            "  0: CustomerID(TEXT) not null *1\n",
            "  1: CustomerTypeID(TEXT) not null *2\n",
            "CustomerDemographics:\n",
            "  0: CustomerTypeID(TEXT) not null *1\n",
            "  1: CustomerDesc(TEXT)\n",
            "Customers:\n",
            "  0: CustomerID(TEXT) *1\n",
            "  1: CompanyName(TEXT)\n",
            "  2: ContactName(TEXT)\n",
            "  3: ContactTitle(TEXT)\n",
            "  4: Address(TEXT)\n",
            "  5: City(TEXT)\n",
            "  6: Region(TEXT)\n",
            "  7: PostalCode(TEXT)\n",
            "  8: Country(TEXT)\n",
            "  9: Phone(TEXT)\n",
            "  10: Fax(TEXT)\n",
            "EmployeeTerritories:\n",
            "  0: EmployeeID(INTEGER) not null *1\n",
            "  1: TerritoryID(TEXT) not null *2\n",
            "Employees:\n",
            "  0: EmployeeID(INTEGER) *1\n",
            "  1: LastName(TEXT)\n",
            "  2: FirstName(TEXT)\n",
            "  3: Title(TEXT)\n",
            "  4: TitleOfCourtesy(TEXT)\n",
            "  5: BirthDate(DATE)\n",
            "  6: HireDate(DATE)\n",
            "  7: Address(TEXT)\n",
            "  8: City(TEXT)\n",
            "  9: Region(TEXT)\n",
            "  10: PostalCode(TEXT)\n",
            "  11: Country(TEXT)\n",
            "  12: HomePhone(TEXT)\n",
            "  13: Extension(TEXT)\n",
            "  14: Photo(BLOB)\n",
            "  15: Notes(TEXT)\n",
            "  16: ReportsTo(INTEGER)\n",
            "  17: PhotoPath(TEXT)\n",
            "Order Details:\n",
            "  0: OrderID(INTEGER) not null *1\n",
            "  1: ProductID(INTEGER) not null *2\n",
            "  2: UnitPrice(NUMERIC) not null [0]\n",
            "  3: Quantity(INTEGER) not null [1]\n",
            "  4: Discount(REAL) not null [0]\n",
            "Orders:\n",
            "  0: OrderID(INTEGER) not null *1\n",
            "  1: CustomerID(TEXT)\n",
            "  2: EmployeeID(INTEGER)\n",
            "  3: OrderDate(DATETIME)\n",
            "  4: RequiredDate(DATETIME)\n",
            "  5: ShippedDate(DATETIME)\n",
            "  6: ShipVia(INTEGER)\n",
            "  7: Freight(NUMERIC) [0]\n",
            "  8: ShipName(TEXT)\n",
            "  9: ShipAddress(TEXT)\n",
            "  10: ShipCity(TEXT)\n",
            "  11: ShipRegion(TEXT)\n",
            "  12: ShipPostalCode(TEXT)\n",
            "  13: ShipCountry(TEXT)\n",
            "Products:\n",
            "  0: ProductID(INTEGER) not null *1\n",
            "  1: ProductName(TEXT) not null\n",
            "  2: SupplierID(INTEGER)\n",
            "  3: CategoryID(INTEGER)\n",
            "  4: QuantityPerUnit(TEXT)\n",
            "  5: UnitPrice(NUMERIC) [0]\n",
            "  6: UnitsInStock(INTEGER) [0]\n",
            "  7: UnitsOnOrder(INTEGER) [0]\n",
            "  8: ReorderLevel(INTEGER) [0]\n",
            "  9: Discontinued(TEXT) not null ['0']\n",
            "Regions:\n",
            "  0: RegionID(INTEGER) not null *1\n",
            "  1: RegionDescription(TEXT) not null\n",
            "Shippers:\n",
            "  0: ShipperID(INTEGER) not null *1\n",
            "  1: CompanyName(TEXT) not null\n",
            "  2: Phone(TEXT)\n",
            "Suppliers:\n",
            "  0: SupplierID(INTEGER) not null *1\n",
            "  1: CompanyName(TEXT) not null\n",
            "  2: ContactName(TEXT)\n",
            "  3: ContactTitle(TEXT)\n",
            "  4: Address(TEXT)\n",
            "  5: City(TEXT)\n",
            "  6: Region(TEXT)\n",
            "  7: PostalCode(TEXT)\n",
            "  8: Country(TEXT)\n",
            "  9: Phone(TEXT)\n",
            "  10: Fax(TEXT)\n",
            "  11: HomePage(TEXT)\n",
            "Territories:\n",
            "  0: TerritoryID(TEXT) not null *1\n",
            "  1: TerritoryDescription(TEXT) not null\n",
            "  2: RegionID(INTEGER) not null\n",
            "sqlite_sequence:\n",
            "  0: name()\n",
            "  1: seq()\n"
          ],
          "name": "stdout"
        }
      ]
    },
    {
      "cell_type": "code",
      "metadata": {
        "id": "o4Fnd0-X3WVP"
      },
      "source": [
        ""
      ],
      "execution_count": null,
      "outputs": []
    }
  ]
}