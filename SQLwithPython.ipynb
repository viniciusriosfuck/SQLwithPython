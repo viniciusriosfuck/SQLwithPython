{
  "nbformat": 4,
  "nbformat_minor": 0,
  "metadata": {
    "colab": {
      "name": "SQLwithPython.ipynb",
      "provenance": [],
      "toc_visible": true,
      "authorship_tag": "ABX9TyMEw508Uv3A7e9m3KOJUbVe",
      "include_colab_link": true
    },
    "kernelspec": {
      "name": "python3",
      "display_name": "Python 3"
    }
  },
  "cells": [
    {
      "cell_type": "markdown",
      "metadata": {
        "id": "view-in-github",
        "colab_type": "text"
      },
      "source": [
        "<a href=\"https://colab.research.google.com/github/viniciusriosfuck/SQLwithPython/blob/main/SQLwithPython.ipynb\" target=\"_parent\"><img src=\"https://colab.research.google.com/assets/colab-badge.svg\" alt=\"Open In Colab\"/></a>"
      ]
    },
    {
      "cell_type": "markdown",
      "metadata": {
        "id": "Lhd3prrKn9RR"
      },
      "source": [
        "# SQL with Python\r\n",
        "\r\n",
        "\r\n",
        "\r\n",
        "\r\n"
      ]
    },
    {
      "cell_type": "markdown",
      "metadata": {
        "id": "oq1rN2mjpWKP"
      },
      "source": [
        "## General stuff\r\n",
        "\r\n",
        "https://www.udemy.com/course/learn-microsoft-sql-t-sql-beginner-to-expert/\r\n",
        "\r\n",
        "ANSI: American National Standards Institute\r\n",
        "\r\n",
        "T-SQL: Transact SQL (Microsoft): declarative\r\n",
        "\r\n",
        "PL/SQL: (Oracle)\r\n",
        "\r\n",
        "\r\n",
        "RDBMS: Relation Database Management System\r\n",
        "\r\n",
        "SQL Server (Microsoft): RDBMS\r\n",
        "\r\n",
        "Oracle, MySQL, PostgreSQL\r\n",
        "\r\n",
        "Normalization Levels: Forms (1,2,3NF)\r\n",
        "* avoid data redundancy with use of Foreign Keys\r\n",
        "* 1NF\r\n",
        "    * elimante repeating groups of entities into individual tables\r\n",
        "* 2NF\r\n",
        "    * create separate tables for sets of values that apply to multiple records\r\n",
        "* 3NF\r\n",
        "    * Eliminates fields that does not depende on the PK"
      ]
    },
    {
      "cell_type": "markdown",
      "metadata": {
        "id": "WubRBEZUs4SN"
      },
      "source": [
        "## Pandas as SQL"
      ]
    },
    {
      "cell_type": "markdown",
      "metadata": {
        "id": "V3dB60sE8iET"
      },
      "source": [
        "https://towardsdatascience.com/using-the-pandas-data-frame-as-a-database-282edec5a3ab"
      ]
    },
    {
      "cell_type": "code",
      "metadata": {
        "colab": {
          "base_uri": "https://localhost:8080/",
          "height": 197
        },
        "id": "ek03s7g-n8Fb",
        "outputId": "1ca637a9-f336-455e-82f5-51e89b13887a"
      },
      "source": [
        "import pandas as pd\r\n",
        "\r\n",
        "df = pd.DataFrame({'Company Name':['Google', 'Microsoft', 'SpaceX', 'Amazon', 'Samsung'], \r\n",
        "                   'Founders':['Larry Page, Sergey Brin', 'Bill Gates, Paul Allen','Elon Musk','Jeff Bezos', 'Lee Byung-chul'], \r\n",
        "                   'Founded': [1998, 1975, 2002, 1994, 1938], \r\n",
        "                   'Number of Employees': ['103,459', '144,106', '6,500', '647,500', '320,671']})\r\n",
        "df\r\n"
      ],
      "execution_count": 1,
      "outputs": [
        {
          "output_type": "execute_result",
          "data": {
            "text/html": [
              "<div>\n",
              "<style scoped>\n",
              "    .dataframe tbody tr th:only-of-type {\n",
              "        vertical-align: middle;\n",
              "    }\n",
              "\n",
              "    .dataframe tbody tr th {\n",
              "        vertical-align: top;\n",
              "    }\n",
              "\n",
              "    .dataframe thead th {\n",
              "        text-align: right;\n",
              "    }\n",
              "</style>\n",
              "<table border=\"1\" class=\"dataframe\">\n",
              "  <thead>\n",
              "    <tr style=\"text-align: right;\">\n",
              "      <th></th>\n",
              "      <th>Company Name</th>\n",
              "      <th>Founders</th>\n",
              "      <th>Founded</th>\n",
              "      <th>Number of Employees</th>\n",
              "    </tr>\n",
              "  </thead>\n",
              "  <tbody>\n",
              "    <tr>\n",
              "      <th>0</th>\n",
              "      <td>Google</td>\n",
              "      <td>Larry Page, Sergey Brin</td>\n",
              "      <td>1998</td>\n",
              "      <td>103,459</td>\n",
              "    </tr>\n",
              "    <tr>\n",
              "      <th>1</th>\n",
              "      <td>Microsoft</td>\n",
              "      <td>Bill Gates, Paul Allen</td>\n",
              "      <td>1975</td>\n",
              "      <td>144,106</td>\n",
              "    </tr>\n",
              "    <tr>\n",
              "      <th>2</th>\n",
              "      <td>SpaceX</td>\n",
              "      <td>Elon Musk</td>\n",
              "      <td>2002</td>\n",
              "      <td>6,500</td>\n",
              "    </tr>\n",
              "    <tr>\n",
              "      <th>3</th>\n",
              "      <td>Amazon</td>\n",
              "      <td>Jeff Bezos</td>\n",
              "      <td>1994</td>\n",
              "      <td>647,500</td>\n",
              "    </tr>\n",
              "    <tr>\n",
              "      <th>4</th>\n",
              "      <td>Samsung</td>\n",
              "      <td>Lee Byung-chul</td>\n",
              "      <td>1938</td>\n",
              "      <td>320,671</td>\n",
              "    </tr>\n",
              "  </tbody>\n",
              "</table>\n",
              "</div>"
            ],
            "text/plain": [
              "  Company Name                 Founders  Founded Number of Employees\n",
              "0       Google  Larry Page, Sergey Brin     1998             103,459\n",
              "1    Microsoft   Bill Gates, Paul Allen     1975             144,106\n",
              "2       SpaceX                Elon Musk     2002               6,500\n",
              "3       Amazon               Jeff Bezos     1994             647,500\n",
              "4      Samsung           Lee Byung-chul     1938             320,671"
            ]
          },
          "metadata": {
            "tags": []
          },
          "execution_count": 1
        }
      ]
    },
    {
      "cell_type": "markdown",
      "metadata": {
        "id": "8_Yd6JlRqaHF"
      },
      "source": [
        "### Insert / Append"
      ]
    },
    {
      "cell_type": "code",
      "metadata": {
        "colab": {
          "base_uri": "https://localhost:8080/",
          "height": 227
        },
        "id": "143C1Cx2qXA_",
        "outputId": "a1e247eb-35eb-4dc5-ad22-af6c23340bc3"
      },
      "source": [
        "df1 = pd.DataFrame({'Company Name':['WhatsApp'], 'Founders':['Jan Koum, Brian Acton'], 'Founded': [2009], 'Number of Employees': ['50'] })\r\n",
        "\r\n",
        "df = df.append(df1, ignore_index=True)\r\n",
        "df"
      ],
      "execution_count": 2,
      "outputs": [
        {
          "output_type": "execute_result",
          "data": {
            "text/html": [
              "<div>\n",
              "<style scoped>\n",
              "    .dataframe tbody tr th:only-of-type {\n",
              "        vertical-align: middle;\n",
              "    }\n",
              "\n",
              "    .dataframe tbody tr th {\n",
              "        vertical-align: top;\n",
              "    }\n",
              "\n",
              "    .dataframe thead th {\n",
              "        text-align: right;\n",
              "    }\n",
              "</style>\n",
              "<table border=\"1\" class=\"dataframe\">\n",
              "  <thead>\n",
              "    <tr style=\"text-align: right;\">\n",
              "      <th></th>\n",
              "      <th>Company Name</th>\n",
              "      <th>Founders</th>\n",
              "      <th>Founded</th>\n",
              "      <th>Number of Employees</th>\n",
              "    </tr>\n",
              "  </thead>\n",
              "  <tbody>\n",
              "    <tr>\n",
              "      <th>0</th>\n",
              "      <td>Google</td>\n",
              "      <td>Larry Page, Sergey Brin</td>\n",
              "      <td>1998</td>\n",
              "      <td>103,459</td>\n",
              "    </tr>\n",
              "    <tr>\n",
              "      <th>1</th>\n",
              "      <td>Microsoft</td>\n",
              "      <td>Bill Gates, Paul Allen</td>\n",
              "      <td>1975</td>\n",
              "      <td>144,106</td>\n",
              "    </tr>\n",
              "    <tr>\n",
              "      <th>2</th>\n",
              "      <td>SpaceX</td>\n",
              "      <td>Elon Musk</td>\n",
              "      <td>2002</td>\n",
              "      <td>6,500</td>\n",
              "    </tr>\n",
              "    <tr>\n",
              "      <th>3</th>\n",
              "      <td>Amazon</td>\n",
              "      <td>Jeff Bezos</td>\n",
              "      <td>1994</td>\n",
              "      <td>647,500</td>\n",
              "    </tr>\n",
              "    <tr>\n",
              "      <th>4</th>\n",
              "      <td>Samsung</td>\n",
              "      <td>Lee Byung-chul</td>\n",
              "      <td>1938</td>\n",
              "      <td>320,671</td>\n",
              "    </tr>\n",
              "    <tr>\n",
              "      <th>5</th>\n",
              "      <td>WhatsApp</td>\n",
              "      <td>Jan Koum, Brian Acton</td>\n",
              "      <td>2009</td>\n",
              "      <td>50</td>\n",
              "    </tr>\n",
              "  </tbody>\n",
              "</table>\n",
              "</div>"
            ],
            "text/plain": [
              "  Company Name                 Founders  Founded Number of Employees\n",
              "0       Google  Larry Page, Sergey Brin     1998             103,459\n",
              "1    Microsoft   Bill Gates, Paul Allen     1975             144,106\n",
              "2       SpaceX                Elon Musk     2002               6,500\n",
              "3       Amazon               Jeff Bezos     1994             647,500\n",
              "4      Samsung           Lee Byung-chul     1938             320,671\n",
              "5     WhatsApp    Jan Koum, Brian Acton     2009                  50"
            ]
          },
          "metadata": {
            "tags": []
          },
          "execution_count": 2
        }
      ]
    },
    {
      "cell_type": "markdown",
      "metadata": {
        "id": "750xiUUlqoFN"
      },
      "source": [
        "### Delete / Drop"
      ]
    },
    {
      "cell_type": "code",
      "metadata": {
        "colab": {
          "base_uri": "https://localhost:8080/",
          "height": 197
        },
        "id": "h8qxvVDwqqku",
        "outputId": "70017a84-f628-433c-88f6-2baf1b2dac3c"
      },
      "source": [
        "df = df.drop([df.index[5]])\r\n",
        "df"
      ],
      "execution_count": 3,
      "outputs": [
        {
          "output_type": "execute_result",
          "data": {
            "text/html": [
              "<div>\n",
              "<style scoped>\n",
              "    .dataframe tbody tr th:only-of-type {\n",
              "        vertical-align: middle;\n",
              "    }\n",
              "\n",
              "    .dataframe tbody tr th {\n",
              "        vertical-align: top;\n",
              "    }\n",
              "\n",
              "    .dataframe thead th {\n",
              "        text-align: right;\n",
              "    }\n",
              "</style>\n",
              "<table border=\"1\" class=\"dataframe\">\n",
              "  <thead>\n",
              "    <tr style=\"text-align: right;\">\n",
              "      <th></th>\n",
              "      <th>Company Name</th>\n",
              "      <th>Founders</th>\n",
              "      <th>Founded</th>\n",
              "      <th>Number of Employees</th>\n",
              "    </tr>\n",
              "  </thead>\n",
              "  <tbody>\n",
              "    <tr>\n",
              "      <th>0</th>\n",
              "      <td>Google</td>\n",
              "      <td>Larry Page, Sergey Brin</td>\n",
              "      <td>1998</td>\n",
              "      <td>103,459</td>\n",
              "    </tr>\n",
              "    <tr>\n",
              "      <th>1</th>\n",
              "      <td>Microsoft</td>\n",
              "      <td>Bill Gates, Paul Allen</td>\n",
              "      <td>1975</td>\n",
              "      <td>144,106</td>\n",
              "    </tr>\n",
              "    <tr>\n",
              "      <th>2</th>\n",
              "      <td>SpaceX</td>\n",
              "      <td>Elon Musk</td>\n",
              "      <td>2002</td>\n",
              "      <td>6,500</td>\n",
              "    </tr>\n",
              "    <tr>\n",
              "      <th>3</th>\n",
              "      <td>Amazon</td>\n",
              "      <td>Jeff Bezos</td>\n",
              "      <td>1994</td>\n",
              "      <td>647,500</td>\n",
              "    </tr>\n",
              "    <tr>\n",
              "      <th>4</th>\n",
              "      <td>Samsung</td>\n",
              "      <td>Lee Byung-chul</td>\n",
              "      <td>1938</td>\n",
              "      <td>320,671</td>\n",
              "    </tr>\n",
              "  </tbody>\n",
              "</table>\n",
              "</div>"
            ],
            "text/plain": [
              "  Company Name                 Founders  Founded Number of Employees\n",
              "0       Google  Larry Page, Sergey Brin     1998             103,459\n",
              "1    Microsoft   Bill Gates, Paul Allen     1975             144,106\n",
              "2       SpaceX                Elon Musk     2002               6,500\n",
              "3       Amazon               Jeff Bezos     1994             647,500\n",
              "4      Samsung           Lee Byung-chul     1938             320,671"
            ]
          },
          "metadata": {
            "tags": []
          },
          "execution_count": 3
        }
      ]
    },
    {
      "cell_type": "code",
      "metadata": {
        "colab": {
          "base_uri": "https://localhost:8080/",
          "height": 167
        },
        "id": "V2SYOXvqqsG9",
        "outputId": "192f7ff9-2a20-4e66-8ae9-a5a400301fc2"
      },
      "source": [
        "df = df[df.Founders != 'Larry Page, Sergey Brin']\r\n",
        "df"
      ],
      "execution_count": 4,
      "outputs": [
        {
          "output_type": "execute_result",
          "data": {
            "text/html": [
              "<div>\n",
              "<style scoped>\n",
              "    .dataframe tbody tr th:only-of-type {\n",
              "        vertical-align: middle;\n",
              "    }\n",
              "\n",
              "    .dataframe tbody tr th {\n",
              "        vertical-align: top;\n",
              "    }\n",
              "\n",
              "    .dataframe thead th {\n",
              "        text-align: right;\n",
              "    }\n",
              "</style>\n",
              "<table border=\"1\" class=\"dataframe\">\n",
              "  <thead>\n",
              "    <tr style=\"text-align: right;\">\n",
              "      <th></th>\n",
              "      <th>Company Name</th>\n",
              "      <th>Founders</th>\n",
              "      <th>Founded</th>\n",
              "      <th>Number of Employees</th>\n",
              "    </tr>\n",
              "  </thead>\n",
              "  <tbody>\n",
              "    <tr>\n",
              "      <th>1</th>\n",
              "      <td>Microsoft</td>\n",
              "      <td>Bill Gates, Paul Allen</td>\n",
              "      <td>1975</td>\n",
              "      <td>144,106</td>\n",
              "    </tr>\n",
              "    <tr>\n",
              "      <th>2</th>\n",
              "      <td>SpaceX</td>\n",
              "      <td>Elon Musk</td>\n",
              "      <td>2002</td>\n",
              "      <td>6,500</td>\n",
              "    </tr>\n",
              "    <tr>\n",
              "      <th>3</th>\n",
              "      <td>Amazon</td>\n",
              "      <td>Jeff Bezos</td>\n",
              "      <td>1994</td>\n",
              "      <td>647,500</td>\n",
              "    </tr>\n",
              "    <tr>\n",
              "      <th>4</th>\n",
              "      <td>Samsung</td>\n",
              "      <td>Lee Byung-chul</td>\n",
              "      <td>1938</td>\n",
              "      <td>320,671</td>\n",
              "    </tr>\n",
              "  </tbody>\n",
              "</table>\n",
              "</div>"
            ],
            "text/plain": [
              "  Company Name                Founders  Founded Number of Employees\n",
              "1    Microsoft  Bill Gates, Paul Allen     1975             144,106\n",
              "2       SpaceX               Elon Musk     2002               6,500\n",
              "3       Amazon              Jeff Bezos     1994             647,500\n",
              "4      Samsung          Lee Byung-chul     1938             320,671"
            ]
          },
          "metadata": {
            "tags": []
          },
          "execution_count": 4
        }
      ]
    },
    {
      "cell_type": "markdown",
      "metadata": {
        "id": "P0JxBM9QqvMQ"
      },
      "source": [
        "### Select / loc / iloc"
      ]
    },
    {
      "cell_type": "code",
      "metadata": {
        "colab": {
          "base_uri": "https://localhost:8080/"
        },
        "id": "X2m_p6w5quqn",
        "outputId": "5d472c89-e078-4867-8d73-507470678104"
      },
      "source": [
        "df.loc[2]"
      ],
      "execution_count": 5,
      "outputs": [
        {
          "output_type": "execute_result",
          "data": {
            "text/plain": [
              "Company Name              SpaceX\n",
              "Founders               Elon Musk\n",
              "Founded                     2002\n",
              "Number of Employees        6,500\n",
              "Name: 2, dtype: object"
            ]
          },
          "metadata": {
            "tags": []
          },
          "execution_count": 5
        }
      ]
    },
    {
      "cell_type": "markdown",
      "metadata": {
        "id": "qV1s7lyWq1VX"
      },
      "source": [
        "### Update / at"
      ]
    },
    {
      "cell_type": "code",
      "metadata": {
        "colab": {
          "base_uri": "https://localhost:8080/",
          "height": 167
        },
        "id": "ftzQM_U7q0xJ",
        "outputId": "06cc7e7d-12b1-4c75-8a17-a98999990da3"
      },
      "source": [
        "df.at[1, 'Number of Employees'] = '200,000'\r\n",
        "df # This is after the change of value (Microsoft)"
      ],
      "execution_count": 6,
      "outputs": [
        {
          "output_type": "execute_result",
          "data": {
            "text/html": [
              "<div>\n",
              "<style scoped>\n",
              "    .dataframe tbody tr th:only-of-type {\n",
              "        vertical-align: middle;\n",
              "    }\n",
              "\n",
              "    .dataframe tbody tr th {\n",
              "        vertical-align: top;\n",
              "    }\n",
              "\n",
              "    .dataframe thead th {\n",
              "        text-align: right;\n",
              "    }\n",
              "</style>\n",
              "<table border=\"1\" class=\"dataframe\">\n",
              "  <thead>\n",
              "    <tr style=\"text-align: right;\">\n",
              "      <th></th>\n",
              "      <th>Company Name</th>\n",
              "      <th>Founders</th>\n",
              "      <th>Founded</th>\n",
              "      <th>Number of Employees</th>\n",
              "    </tr>\n",
              "  </thead>\n",
              "  <tbody>\n",
              "    <tr>\n",
              "      <th>1</th>\n",
              "      <td>Microsoft</td>\n",
              "      <td>Bill Gates, Paul Allen</td>\n",
              "      <td>1975</td>\n",
              "      <td>200,000</td>\n",
              "    </tr>\n",
              "    <tr>\n",
              "      <th>2</th>\n",
              "      <td>SpaceX</td>\n",
              "      <td>Elon Musk</td>\n",
              "      <td>2002</td>\n",
              "      <td>6,500</td>\n",
              "    </tr>\n",
              "    <tr>\n",
              "      <th>3</th>\n",
              "      <td>Amazon</td>\n",
              "      <td>Jeff Bezos</td>\n",
              "      <td>1994</td>\n",
              "      <td>647,500</td>\n",
              "    </tr>\n",
              "    <tr>\n",
              "      <th>4</th>\n",
              "      <td>Samsung</td>\n",
              "      <td>Lee Byung-chul</td>\n",
              "      <td>1938</td>\n",
              "      <td>320,671</td>\n",
              "    </tr>\n",
              "  </tbody>\n",
              "</table>\n",
              "</div>"
            ],
            "text/plain": [
              "  Company Name                Founders  Founded Number of Employees\n",
              "1    Microsoft  Bill Gates, Paul Allen     1975             200,000\n",
              "2       SpaceX               Elon Musk     2002               6,500\n",
              "3       Amazon              Jeff Bezos     1994             647,500\n",
              "4      Samsung          Lee Byung-chul     1938             320,671"
            ]
          },
          "metadata": {
            "tags": []
          },
          "execution_count": 6
        }
      ]
    },
    {
      "cell_type": "code",
      "metadata": {
        "colab": {
          "base_uri": "https://localhost:8080/",
          "height": 274
        },
        "id": "3G5-EMExrG7F",
        "outputId": "01653934-bb9f-4fdb-9696-0715161756f5"
      },
      "source": [
        "df.iloc[3] = ['YouTube', 'Chad Hurley, Steve Chen, Jawed Karim', 2005, '2,800']\r\n",
        "df"
      ],
      "execution_count": 7,
      "outputs": [
        {
          "output_type": "stream",
          "text": [
            "/usr/local/lib/python3.7/dist-packages/pandas/core/indexing.py:1758: SettingWithCopyWarning: \n",
            "A value is trying to be set on a copy of a slice from a DataFrame.\n",
            "Try using .loc[row_indexer,col_indexer] = value instead\n",
            "\n",
            "See the caveats in the documentation: https://pandas.pydata.org/pandas-docs/stable/user_guide/indexing.html#returning-a-view-versus-a-copy\n",
            "  isetter(loc, v)\n"
          ],
          "name": "stderr"
        },
        {
          "output_type": "execute_result",
          "data": {
            "text/html": [
              "<div>\n",
              "<style scoped>\n",
              "    .dataframe tbody tr th:only-of-type {\n",
              "        vertical-align: middle;\n",
              "    }\n",
              "\n",
              "    .dataframe tbody tr th {\n",
              "        vertical-align: top;\n",
              "    }\n",
              "\n",
              "    .dataframe thead th {\n",
              "        text-align: right;\n",
              "    }\n",
              "</style>\n",
              "<table border=\"1\" class=\"dataframe\">\n",
              "  <thead>\n",
              "    <tr style=\"text-align: right;\">\n",
              "      <th></th>\n",
              "      <th>Company Name</th>\n",
              "      <th>Founders</th>\n",
              "      <th>Founded</th>\n",
              "      <th>Number of Employees</th>\n",
              "    </tr>\n",
              "  </thead>\n",
              "  <tbody>\n",
              "    <tr>\n",
              "      <th>1</th>\n",
              "      <td>Microsoft</td>\n",
              "      <td>Bill Gates, Paul Allen</td>\n",
              "      <td>1975</td>\n",
              "      <td>200,000</td>\n",
              "    </tr>\n",
              "    <tr>\n",
              "      <th>2</th>\n",
              "      <td>SpaceX</td>\n",
              "      <td>Elon Musk</td>\n",
              "      <td>2002</td>\n",
              "      <td>6,500</td>\n",
              "    </tr>\n",
              "    <tr>\n",
              "      <th>3</th>\n",
              "      <td>Amazon</td>\n",
              "      <td>Jeff Bezos</td>\n",
              "      <td>1994</td>\n",
              "      <td>647,500</td>\n",
              "    </tr>\n",
              "    <tr>\n",
              "      <th>4</th>\n",
              "      <td>YouTube</td>\n",
              "      <td>Chad Hurley, Steve Chen, Jawed Karim</td>\n",
              "      <td>2005</td>\n",
              "      <td>2,800</td>\n",
              "    </tr>\n",
              "  </tbody>\n",
              "</table>\n",
              "</div>"
            ],
            "text/plain": [
              "  Company Name  ... Number of Employees\n",
              "1    Microsoft  ...             200,000\n",
              "2       SpaceX  ...               6,500\n",
              "3       Amazon  ...             647,500\n",
              "4      YouTube  ...               2,800\n",
              "\n",
              "[4 rows x 4 columns]"
            ]
          },
          "metadata": {
            "tags": []
          },
          "execution_count": 7
        }
      ]
    },
    {
      "cell_type": "markdown",
      "metadata": {
        "id": "SrKKVtZJs6uV"
      },
      "source": [
        "## SQL in Pandas (sqlalchemy)\r\n",
        "\r\n",
        "https://stackoverflow.com/questions/12047193/how-to-convert-sql-query-result-to-pandas-data-structure"
      ]
    },
    {
      "cell_type": "markdown",
      "metadata": {
        "id": "gsb_IiWzsX3m"
      },
      "source": [
        "### df to SQL"
      ]
    },
    {
      "cell_type": "code",
      "metadata": {
        "colab": {
          "base_uri": "https://localhost:8080/"
        },
        "id": "InHsOl9-sbei",
        "outputId": "3e4abf72-ab77-4021-8af1-dd0d14bdbfab"
      },
      "source": [
        "from sqlalchemy import create_engine\r\n",
        "engine = create_engine('sqlite://', echo=False)\r\n",
        "\r\n",
        "df = pd.DataFrame({'name' : ['User 1', 'User 2', 'User 3']})\r\n",
        "df.to_sql('users', con=engine)\r\n",
        "engine.execute(\"SELECT * FROM users\").fetchall()\r\n"
      ],
      "execution_count": 8,
      "outputs": [
        {
          "output_type": "execute_result",
          "data": {
            "text/plain": [
              "[(0, 'User 1'), (1, 'User 2'), (2, 'User 3')]"
            ]
          },
          "metadata": {
            "tags": []
          },
          "execution_count": 8
        }
      ]
    },
    {
      "cell_type": "code",
      "metadata": {
        "colab": {
          "base_uri": "https://localhost:8080/"
        },
        "id": "FMu6PJFnsenn",
        "outputId": "d190371d-e764-44d6-9d21-84b21d3184dd"
      },
      "source": [
        "with engine.begin() as connection:\r\n",
        "    df1 = pd.DataFrame({'name' : ['User 4', 'User 5']})\r\n",
        "    df1.to_sql('users', con=connection, if_exists='append')\r\n",
        "engine.execute(\"SELECT * FROM users\").fetchall()"
      ],
      "execution_count": 9,
      "outputs": [
        {
          "output_type": "execute_result",
          "data": {
            "text/plain": [
              "[(0, 'User 1'), (1, 'User 2'), (2, 'User 3'), (0, 'User 4'), (1, 'User 5')]"
            ]
          },
          "metadata": {
            "tags": []
          },
          "execution_count": 9
        }
      ]
    },
    {
      "cell_type": "code",
      "metadata": {
        "colab": {
          "base_uri": "https://localhost:8080/"
        },
        "id": "Gl5GupIKq0uY",
        "outputId": "8db69131-a304-4da2-f6ad-16c8b7404529"
      },
      "source": [
        "df2 = pd.DataFrame({'name' : ['User 6', 'User 7']})\r\n",
        "df2.to_sql('users', con=engine, if_exists='append')\r\n",
        "engine.execute(\"SELECT * FROM users\").fetchall()"
      ],
      "execution_count": 10,
      "outputs": [
        {
          "output_type": "execute_result",
          "data": {
            "text/plain": [
              "[(0, 'User 1'),\n",
              " (1, 'User 2'),\n",
              " (2, 'User 3'),\n",
              " (0, 'User 4'),\n",
              " (1, 'User 5'),\n",
              " (0, 'User 6'),\n",
              " (1, 'User 7')]"
            ]
          },
          "metadata": {
            "tags": []
          },
          "execution_count": 10
        }
      ]
    },
    {
      "cell_type": "code",
      "metadata": {
        "colab": {
          "base_uri": "https://localhost:8080/"
        },
        "id": "P0WGGr1Mq0rX",
        "outputId": "9ae6dc6b-3c81-4148-86ec-016513f06781"
      },
      "source": [
        "df2.to_sql('users', con=engine, if_exists='replace',\r\n",
        "           index_label='id')\r\n",
        "engine.execute(\"SELECT * FROM users\").fetchall()"
      ],
      "execution_count": 11,
      "outputs": [
        {
          "output_type": "execute_result",
          "data": {
            "text/plain": [
              "[(0, 'User 6'), (1, 'User 7')]"
            ]
          },
          "metadata": {
            "tags": []
          },
          "execution_count": 11
        }
      ]
    },
    {
      "cell_type": "code",
      "metadata": {
        "colab": {
          "base_uri": "https://localhost:8080/"
        },
        "id": "WPwmBpXBsuDN",
        "outputId": "db944bc7-2714-42f5-bd56-f60f7cc91262"
      },
      "source": [
        "df = pd.DataFrame({\"A\": [1, None, 2]})\r\n",
        "from sqlalchemy.types import Integer\r\n",
        "df.to_sql('integers', con=engine, index=False,\r\n",
        "          dtype={\"A\": Integer()})\r\n",
        "engine.execute(\"SELECT * FROM integers\").fetchall()"
      ],
      "execution_count": 12,
      "outputs": [
        {
          "output_type": "execute_result",
          "data": {
            "text/plain": [
              "[(1,), (None,), (2,)]"
            ]
          },
          "metadata": {
            "tags": []
          },
          "execution_count": 12
        }
      ]
    },
    {
      "cell_type": "markdown",
      "metadata": {
        "id": "EnUlyW90uBWm"
      },
      "source": [
        "https://docs.sqlalchemy.org/en/14/core/metadata.html"
      ]
    },
    {
      "cell_type": "code",
      "metadata": {
        "colab": {
          "base_uri": "https://localhost:8080/"
        },
        "id": "yQNbXsBSsxUW",
        "outputId": "9794a6bb-c64d-4943-862e-a3f88cc7f37b"
      },
      "source": [
        "from sqlalchemy import *\r\n",
        "\r\n",
        "metadata = MetaData()\r\n",
        "\r\n",
        "user = Table('user', metadata,\r\n",
        "    Column('user_id', Integer, primary_key=True),\r\n",
        "    Column('user_name', String(16), nullable=False),\r\n",
        "    Column('email_address', String(60)),\r\n",
        "    Column('nickname', String(50), nullable=False)\r\n",
        ")\r\n",
        "\r\n",
        "for t in metadata.sorted_tables:\r\n",
        "    print(t.name)"
      ],
      "execution_count": 13,
      "outputs": [
        {
          "output_type": "stream",
          "text": [
            "user\n"
          ],
          "name": "stdout"
        }
      ]
    },
    {
      "cell_type": "code",
      "metadata": {
        "id": "5RReFt2lth3m"
      },
      "source": [
        "employees = Table('employees', metadata,\r\n",
        "    Column('employee_id', Integer, primary_key=True),\r\n",
        "    Column('employee_name', String(60), nullable=False),\r\n",
        "    Column('employee_dept', Integer, ForeignKey(\"departments.department_id\"))\r\n",
        ")"
      ],
      "execution_count": 14,
      "outputs": []
    },
    {
      "cell_type": "code",
      "metadata": {
        "colab": {
          "base_uri": "https://localhost:8080/"
        },
        "id": "vesLkGceuOKs",
        "outputId": "7147b74c-1999-4dd3-8d39-25f8a4d6dcca"
      },
      "source": [
        "# access the column \"EMPLOYEE_ID\":\r\n",
        "employees.columns.employee_id\r\n",
        "\r\n",
        "# or just\r\n",
        "employees.c.employee_id\r\n",
        "\r\n",
        "# via string\r\n",
        "employees.c['employee_id']\r\n",
        "\r\n",
        "# iterate through all columns\r\n",
        "for c in employees.c:\r\n",
        "    print(c)\r\n",
        "\r\n",
        "# get the table's primary key columns\r\n",
        "for primary_key in employees.primary_key:\r\n",
        "    print(primary_key)\r\n",
        "\r\n",
        "# get the table's foreign key objects:\r\n",
        "for fkey in employees.foreign_keys:\r\n",
        "    print(fkey)\r\n",
        "\r\n",
        "# access the table's MetaData:\r\n",
        "employees.metadata\r\n",
        "\r\n",
        "# access the table's bound Engine or Connection, if its MetaData is bound:\r\n",
        "employees.bind\r\n",
        "\r\n",
        "# access a column's name, type, nullable, primary key, foreign key\r\n",
        "employees.c.employee_id.name\r\n",
        "employees.c.employee_id.type\r\n",
        "employees.c.employee_id.nullable\r\n",
        "employees.c.employee_id.primary_key\r\n",
        "employees.c.employee_dept.foreign_keys\r\n",
        "\r\n",
        "# get the \"key\" of a column, which defaults to its name, but can\r\n",
        "# be any user-defined string:\r\n",
        "employees.c.employee_name.key\r\n",
        "\r\n",
        "# access a column's table:\r\n",
        "employees.c.employee_id.table is employees\r\n",
        "\r\n",
        "# get the table related by a foreign key\r\n",
        "# list(employees.c.employee_dept.foreign_keys)[0].column.table"
      ],
      "execution_count": 15,
      "outputs": [
        {
          "output_type": "stream",
          "text": [
            "employees.employee_id\n",
            "employees.employee_name\n",
            "employees.employee_dept\n",
            "employees.employee_id\n",
            "ForeignKey('departments.department_id')\n"
          ],
          "name": "stdout"
        },
        {
          "output_type": "execute_result",
          "data": {
            "text/plain": [
              "True"
            ]
          },
          "metadata": {
            "tags": []
          },
          "execution_count": 15
        }
      ]
    },
    {
      "cell_type": "code",
      "metadata": {
        "id": "xg7aEX_4uPLm"
      },
      "source": [
        "engine = create_engine('sqlite:///:memory:')\r\n",
        "\r\n",
        "metadata = MetaData()\r\n",
        "\r\n",
        "user = Table('user', metadata,\r\n",
        "    Column('user_id', Integer, primary_key=True),\r\n",
        "    Column('user_name', String(16), nullable=False),\r\n",
        "    Column('email_address', String(60), key='email'),\r\n",
        "    Column('nickname', String(50), nullable=False)\r\n",
        ")\r\n",
        "\r\n",
        "user_prefs = Table('user_prefs', metadata,\r\n",
        "    Column('pref_id', Integer, primary_key=True),\r\n",
        "    Column('user_id', Integer, ForeignKey(\"user.user_id\"), nullable=False),\r\n",
        "    Column('pref_name', String(40), nullable=False),\r\n",
        "    Column('pref_value', String(100))\r\n",
        ")\r\n",
        "\r\n",
        "metadata.create_all(engine)"
      ],
      "execution_count": 16,
      "outputs": []
    },
    {
      "cell_type": "code",
      "metadata": {
        "id": "kQZV0v1cujJu"
      },
      "source": [
        "engine = create_engine('sqlite:///:memory:')\r\n",
        "\r\n",
        "meta = MetaData()\r\n",
        "\r\n",
        "employees = Table('employees', meta,\r\n",
        "    Column('employee_id', Integer, primary_key=True),\r\n",
        "    Column('employee_name', String(60), nullable=False, key='name'),\r\n",
        "    # Column('employee_dept', Integer, ForeignKey(\"departments.department_id\"))\r\n",
        ")\r\n",
        "employees.create(engine)"
      ],
      "execution_count": 17,
      "outputs": []
    },
    {
      "cell_type": "code",
      "metadata": {
        "id": "AoOO1mWcun3G"
      },
      "source": [
        "employees.drop(engine)"
      ],
      "execution_count": 18,
      "outputs": []
    },
    {
      "cell_type": "code",
      "metadata": {
        "id": "zRvkCipTutm9"
      },
      "source": [
        "employees.create(engine, checkfirst=True)\r\n",
        "employees.drop(engine, checkfirst=False)"
      ],
      "execution_count": 19,
      "outputs": []
    },
    {
      "cell_type": "code",
      "metadata": {
        "id": "5N278hPguu_l"
      },
      "source": [
        "metadata = MetaData()\r\n",
        "\r\n",
        "financial_info = Table(\r\n",
        "    'financial_info',\r\n",
        "    metadata,\r\n",
        "    Column('id', Integer, primary_key=True),\r\n",
        "    Column('value', String(100), nullable=False),\r\n",
        "    schema='remote_banks'\r\n",
        ")"
      ],
      "execution_count": 20,
      "outputs": []
    },
    {
      "cell_type": "code",
      "metadata": {
        "id": "Sr8m44zluxdF"
      },
      "source": [
        "# print(select(financial_info))"
      ],
      "execution_count": 21,
      "outputs": []
    },
    {
      "cell_type": "code",
      "metadata": {
        "colab": {
          "base_uri": "https://localhost:8080/"
        },
        "id": "iwe0Kcq7uzNt",
        "outputId": "db355404-537a-4b99-fd02-8611e3e670b9"
      },
      "source": [
        "metadata.tables['remote_banks.financial_info']"
      ],
      "execution_count": 22,
      "outputs": [
        {
          "output_type": "execute_result",
          "data": {
            "text/plain": [
              "Table('financial_info', MetaData(bind=None), Column('id', Integer(), table=<financial_info>, primary_key=True, nullable=False), Column('value', String(length=100), table=<financial_info>, nullable=False), schema='remote_banks')"
            ]
          },
          "metadata": {
            "tags": []
          },
          "execution_count": 22
        }
      ]
    },
    {
      "cell_type": "code",
      "metadata": {
        "id": "quFI4Rf_u-UF"
      },
      "source": [
        "customer = Table(\r\n",
        "    \"customer\",\r\n",
        "    metadata,\r\n",
        "    Column('id', Integer, primary_key=True),\r\n",
        "    Column('financial_info_id', ForeignKey(\"remote_banks.financial_info.id\")),\r\n",
        "    schema='remote_banks'\r\n",
        ")"
      ],
      "execution_count": 23,
      "outputs": []
    },
    {
      "cell_type": "code",
      "metadata": {
        "id": "YjHZA-WMvBR1"
      },
      "source": [
        "schema=\"dbo.scott\""
      ],
      "execution_count": 24,
      "outputs": []
    },
    {
      "cell_type": "code",
      "metadata": {
        "id": "TC3RvVF8vC2u"
      },
      "source": [
        "metadata = MetaData(schema=\"remote_banks\")\r\n",
        "\r\n",
        "financial_info = Table(\r\n",
        "    'financial_info',\r\n",
        "    metadata,\r\n",
        "    Column('id', Integer, primary_key=True),\r\n",
        "    Column('value', String(100), nullable=False),\r\n",
        ")"
      ],
      "execution_count": 25,
      "outputs": []
    },
    {
      "cell_type": "code",
      "metadata": {
        "id": "NYGIDg49vE_d"
      },
      "source": [
        "# either will work:\r\n",
        "\r\n",
        "refers_to_financial_info = Table(\r\n",
        "    'refers_to_financial_info',\r\n",
        "    metadata,\r\n",
        "    Column('id', Integer, primary_key=True),\r\n",
        "    Column('fiid', ForeignKey('financial_info.id')),\r\n",
        ")\r\n",
        "\r\n",
        "\r\n",
        "# or\r\n",
        "\r\n",
        "# refers_to_financial_info = Table(\r\n",
        "#     'refers_to_financial_info',\r\n",
        "#     metadata,\r\n",
        "#     Column('id', Integer, primary_key=True),\r\n",
        "#     Column('fiid', ForeignKey('remote_banks.financial_info.id')),\r\n",
        "# )"
      ],
      "execution_count": 26,
      "outputs": []
    },
    {
      "cell_type": "code",
      "metadata": {
        "id": "GEqhhdYQvGrO"
      },
      "source": [
        "from sqlalchemy import BLANK_SCHEMA\r\n",
        "\r\n",
        "metadata = MetaData(schema=\"remote_banks\")\r\n",
        "\r\n",
        "financial_info = Table(\r\n",
        "    'financial_info',\r\n",
        "    metadata,\r\n",
        "    Column('id', Integer, primary_key=True),\r\n",
        "    Column('value', String(100), nullable=False),\r\n",
        "    schema=BLANK_SCHEMA  # will not use \"remote_banks\"\r\n",
        ")"
      ],
      "execution_count": 27,
      "outputs": []
    },
    {
      "cell_type": "code",
      "metadata": {
        "id": "exALY8FGvSit"
      },
      "source": [
        "addresses = Table('engine_email_addresses', meta,\r\n",
        "    Column('address_id', Integer, primary_key=True),\r\n",
        "    # Column('remote_user_id', Integer, ForeignKey(users.c.user_id)),\r\n",
        "    Column('email_address', String(20)),\r\n",
        "    mysql_engine='InnoDB'\r\n",
        ")"
      ],
      "execution_count": 28,
      "outputs": []
    },
    {
      "cell_type": "code",
      "metadata": {
        "colab": {
          "base_uri": "https://localhost:8080/"
        },
        "id": "lPUcEPeYvXfG",
        "outputId": "9a8d1e5e-7844-4f5d-b9b4-40b4c14f0406"
      },
      "source": [
        "for t in metadata.sorted_tables:\r\n",
        "    print(t.name)"
      ],
      "execution_count": 29,
      "outputs": [
        {
          "output_type": "stream",
          "text": [
            "financial_info\n"
          ],
          "name": "stdout"
        }
      ]
    },
    {
      "cell_type": "markdown",
      "metadata": {
        "id": "1QiA8EKpxcVy"
      },
      "source": [
        "# PandasSQL\r\n",
        "\r\n",
        "https://pypi.org/project/pandasql/\r\n",
        "\r\n",
        "https://www.kdnuggets.com/2017/02/python-speak-sql-pandasql.html"
      ]
    },
    {
      "cell_type": "code",
      "metadata": {
        "colab": {
          "base_uri": "https://localhost:8080/"
        },
        "id": "QZN9ducLxjKR",
        "outputId": "d90e0a9b-e3ef-4ad2-a5b1-00e10a7a7a64"
      },
      "source": [
        "!pip install pandasql"
      ],
      "execution_count": 30,
      "outputs": [
        {
          "output_type": "stream",
          "text": [
            "Requirement already satisfied: pandasql in /usr/local/lib/python3.7/dist-packages (0.7.3)\n",
            "Requirement already satisfied: numpy in /usr/local/lib/python3.7/dist-packages (from pandasql) (1.19.5)\n",
            "Requirement already satisfied: sqlalchemy in /usr/local/lib/python3.7/dist-packages (from pandasql) (1.3.23)\n",
            "Requirement already satisfied: pandas in /usr/local/lib/python3.7/dist-packages (from pandasql) (1.1.5)\n",
            "Requirement already satisfied: python-dateutil>=2.7.3 in /usr/local/lib/python3.7/dist-packages (from pandas->pandasql) (2.8.1)\n",
            "Requirement already satisfied: pytz>=2017.2 in /usr/local/lib/python3.7/dist-packages (from pandas->pandasql) (2018.9)\n",
            "Requirement already satisfied: six>=1.5 in /usr/local/lib/python3.7/dist-packages (from python-dateutil>=2.7.3->pandas->pandasql) (1.15.0)\n"
          ],
          "name": "stdout"
        }
      ]
    },
    {
      "cell_type": "code",
      "metadata": {
        "colab": {
          "base_uri": "https://localhost:8080/",
          "height": 340
        },
        "id": "sQmxMCl1vcC1",
        "outputId": "0a5c270c-4a59-42c5-ecc0-fcb0c678b6e6"
      },
      "source": [
        "#Checking out meat and birth data\r\n",
        "from pandasql import sqldf\r\n",
        "from pandasql import load_meat, load_births\r\n",
        "\r\n",
        "meat = load_meat()\r\n",
        "births = load_births()\r\n",
        "\r\n",
        "#You can inspect the dataframes directly if you're using Rodeo\r\n",
        "#These print statements are here just in case you want to check out your data in the editor, too\r\n",
        "print(meat.head())\r\n",
        "births.head()"
      ],
      "execution_count": 31,
      "outputs": [
        {
          "output_type": "stream",
          "text": [
            "        date   beef   veal  ...  broilers  other_chicken  turkey\n",
            "0 1944-01-01  751.0   85.0  ...       NaN            NaN     NaN\n",
            "1 1944-02-01  713.0   77.0  ...       NaN            NaN     NaN\n",
            "2 1944-03-01  741.0   90.0  ...       NaN            NaN     NaN\n",
            "3 1944-04-01  650.0   89.0  ...       NaN            NaN     NaN\n",
            "4 1944-05-01  681.0  106.0  ...       NaN            NaN     NaN\n",
            "\n",
            "[5 rows x 8 columns]\n"
          ],
          "name": "stdout"
        },
        {
          "output_type": "execute_result",
          "data": {
            "text/html": [
              "<div>\n",
              "<style scoped>\n",
              "    .dataframe tbody tr th:only-of-type {\n",
              "        vertical-align: middle;\n",
              "    }\n",
              "\n",
              "    .dataframe tbody tr th {\n",
              "        vertical-align: top;\n",
              "    }\n",
              "\n",
              "    .dataframe thead th {\n",
              "        text-align: right;\n",
              "    }\n",
              "</style>\n",
              "<table border=\"1\" class=\"dataframe\">\n",
              "  <thead>\n",
              "    <tr style=\"text-align: right;\">\n",
              "      <th></th>\n",
              "      <th>date</th>\n",
              "      <th>births</th>\n",
              "    </tr>\n",
              "  </thead>\n",
              "  <tbody>\n",
              "    <tr>\n",
              "      <th>0</th>\n",
              "      <td>1975-01-01</td>\n",
              "      <td>265775</td>\n",
              "    </tr>\n",
              "    <tr>\n",
              "      <th>1</th>\n",
              "      <td>1975-02-01</td>\n",
              "      <td>241045</td>\n",
              "    </tr>\n",
              "    <tr>\n",
              "      <th>2</th>\n",
              "      <td>1975-03-01</td>\n",
              "      <td>268849</td>\n",
              "    </tr>\n",
              "    <tr>\n",
              "      <th>3</th>\n",
              "      <td>1975-04-01</td>\n",
              "      <td>247455</td>\n",
              "    </tr>\n",
              "    <tr>\n",
              "      <th>4</th>\n",
              "      <td>1975-05-01</td>\n",
              "      <td>254545</td>\n",
              "    </tr>\n",
              "  </tbody>\n",
              "</table>\n",
              "</div>"
            ],
            "text/plain": [
              "        date  births\n",
              "0 1975-01-01  265775\n",
              "1 1975-02-01  241045\n",
              "2 1975-03-01  268849\n",
              "3 1975-04-01  247455\n",
              "4 1975-05-01  254545"
            ]
          },
          "metadata": {
            "tags": []
          },
          "execution_count": 31
        }
      ]
    },
    {
      "cell_type": "code",
      "metadata": {
        "colab": {
          "base_uri": "https://localhost:8080/",
          "height": 294
        },
        "id": "ESA-q65uwyC-",
        "outputId": "7db7c8f6-f124-4d83-ddca-ff9f22689531"
      },
      "source": [
        "# Let's make a graph to visualize the data\r\n",
        "# Bet you haven't had a title quite like this before\r\n",
        "import matplotlib.pyplot as plt\r\n",
        "from pandasql import *\r\n",
        "import pandas as pd\r\n",
        "\r\n",
        "pysqldf = lambda q: sqldf(q, globals())\r\n",
        "\r\n",
        "q  = \"\"\"\r\n",
        "SELECT\r\n",
        "  m.date\r\n",
        "  , m.beef\r\n",
        "  , b.births\r\n",
        "FROM\r\n",
        "  meat m\r\n",
        "LEFT JOIN\r\n",
        "  births b\r\n",
        "    ON m.date = b.date\r\n",
        "WHERE\r\n",
        "    m.date > '1974-12-31';\r\n",
        "\"\"\"\r\n",
        "\r\n",
        "meat = load_meat()\r\n",
        "births = load_births()\r\n",
        "\r\n",
        "df = pysqldf(q)\r\n",
        "df.births = df.births.fillna(method='backfill')\r\n",
        "\r\n",
        "fig = plt.figure()\r\n",
        "ax1 = fig.add_subplot(111)\r\n",
        "ax1.plot(df[['beef']].rolling(12).mean(), color='b')\r\n",
        "ax1.set_xlabel('months since 1975')\r\n",
        "ax1.set_ylabel('cattle slaughtered', color='b')\r\n",
        "\r\n",
        "ax2 = ax1.twinx()\r\n",
        "ax2.plot(df[['births']].rolling(12).mean(), color='r')\r\n",
        "ax2.set_ylabel('babies born', color='r')\r\n",
        "plt.title(\"Beef Consumption and the Birth Rate\")\r\n",
        "plt.show()"
      ],
      "execution_count": 32,
      "outputs": [
        {
          "output_type": "display_data",
          "data": {
            "image/png": "[encoded data removed]",
            "text/plain": [
              "<Figure size 432x288 with 2 Axes>"
            ]
          },
          "metadata": {
            "tags": [],
            "needs_background": "light"
          }
        }
      ]
    },
    {
      "cell_type": "code",
      "metadata": {
        "colab": {
          "base_uri": "https://localhost:8080/"
        },
        "id": "W-qX1ESExqdF",
        "outputId": "d318ccc7-ea20-45ff-e6ec-cdf2846ddd75"
      },
      "source": [
        "q = \"\"\"\r\n",
        "    SELECT\r\n",
        "        *\r\n",
        "    FROM\r\n",
        "        meat\r\n",
        "    LIMIT 10;\"\"\"\r\n",
        "\r\n",
        "print(sqldf(q, locals()))"
      ],
      "execution_count": 33,
      "outputs": [
        {
          "output_type": "stream",
          "text": [
            "                         date   beef   veal  ...  broilers  other_chicken turkey\n",
            "0  1944-01-01 00:00:00.000000  751.0   85.0  ...      None           None   None\n",
            "1  1944-02-01 00:00:00.000000  713.0   77.0  ...      None           None   None\n",
            "2  1944-03-01 00:00:00.000000  741.0   90.0  ...      None           None   None\n",
            "3  1944-04-01 00:00:00.000000  650.0   89.0  ...      None           None   None\n",
            "4  1944-05-01 00:00:00.000000  681.0  106.0  ...      None           None   None\n",
            "5  1944-06-01 00:00:00.000000  658.0  125.0  ...      None           None   None\n",
            "6  1944-07-01 00:00:00.000000  662.0  142.0  ...      None           None   None\n",
            "7  1944-08-01 00:00:00.000000  787.0  175.0  ...      None           None   None\n",
            "8  1944-09-01 00:00:00.000000  774.0  182.0  ...      None           None   None\n",
            "9  1944-10-01 00:00:00.000000  834.0  215.0  ...      None           None   None\n",
            "\n",
            "[10 rows x 8 columns]\n"
          ],
          "name": "stdout"
        }
      ]
    },
    {
      "cell_type": "code",
      "metadata": {
        "colab": {
          "base_uri": "https://localhost:8080/"
        },
        "id": "sPtqzvI0yCKl",
        "outputId": "500dffb6-d732-4127-94b7-05adc68f7e82"
      },
      "source": [
        "# births per year\r\n",
        "q = \"\"\"\r\n",
        "    SELECT\r\n",
        "        strftime(\"%Y\", date)\r\n",
        "        , SUM(births)\r\n",
        "    FROM births\r\n",
        "    GROUP BY 1\r\n",
        "    ORDER BY 1;\r\n",
        "            \"\"\"\r\n",
        "\r\n",
        "print( sqldf(q, locals()))"
      ],
      "execution_count": 34,
      "outputs": [
        {
          "output_type": "stream",
          "text": [
            "   strftime(\"%Y\", date)  SUM(births)\n",
            "0                  1975      3136965\n",
            "1                  1976      6304156\n",
            "2                  1979      3333279\n",
            "3                  1982      3612258\n",
            "4                  1983      7333238\n",
            "5                  1986      7308074\n",
            "6                  1987      3760561\n",
            "7                  1988      3756547\n",
            "8                  1990      7718904\n",
            "9                  1991     11714356\n",
            "10                 1993      8194907\n",
            "11                 1995      4000240\n",
            "12                 1996      3952767\n",
            "13                 1997      3899589\n",
            "14                 1998      3891494\n",
            "15                 1999      3880894\n",
            "16                 2000      3941553\n",
            "17                 2001      8018231\n",
            "18                 2002      4025933\n",
            "19                 2003      4021726\n",
            "20                 2005      8210950\n",
            "21                 2007      4138349\n",
            "22                 2008      4265555\n",
            "23                 2011      4247694\n",
            "24                 2012      4130665\n"
          ],
          "name": "stdout"
        }
      ]
    },
    {
      "cell_type": "code",
      "metadata": {
        "colab": {
          "base_uri": "https://localhost:8080/"
        },
        "id": "CZvcqmwKyXRG",
        "outputId": "f2e3ef09-320f-4770-b99c-e3f3a946e36b"
      },
      "source": [
        "def pysqldf(q):\r\n",
        "    return sqldf(q, globals())\r\n",
        "\r\n",
        "q = \"\"\"\r\n",
        "    SELECT\r\n",
        "        *\r\n",
        "    FROM\r\n",
        "        births\r\n",
        "    LIMIT 10;\"\"\"\r\n",
        "\r\n",
        "print(pysqldf(q))"
      ],
      "execution_count": 35,
      "outputs": [
        {
          "output_type": "stream",
          "text": [
            "                         date  births\n",
            "0  1975-01-01 00:00:00.000000  265775\n",
            "1  1975-02-01 00:00:00.000000  241045\n",
            "2  1975-03-01 00:00:00.000000  268849\n",
            "3  1975-04-01 00:00:00.000000  247455\n",
            "4  1975-05-01 00:00:00.000000  254545\n",
            "5  1975-06-01 00:00:00.000000  254096\n",
            "6  1975-07-01 00:00:00.000000  275163\n",
            "7  1975-08-01 00:00:00.000000  281300\n",
            "8  1975-09-01 00:00:00.000000  270738\n",
            "9  1975-10-01 00:00:00.000000  265494\n"
          ],
          "name": "stdout"
        }
      ]
    },
    {
      "cell_type": "code",
      "metadata": {
        "colab": {
          "base_uri": "https://localhost:8080/"
        },
        "id": "UPaPxsiGybCm",
        "outputId": "9cc2c80b-3576-418e-e344-1685c257039e"
      },
      "source": [
        "# joining meats + births on date\r\n",
        "q = \"\"\"\r\n",
        "    SELECT\r\n",
        "        m.date\r\n",
        "        , b.births\r\n",
        "        , m.beef\r\n",
        "    FROM\r\n",
        "        meat m\r\n",
        "    INNER JOIN\r\n",
        "        births b\r\n",
        "            on m.date = b.date\r\n",
        "    ORDER BY\r\n",
        "        m.date\r\n",
        "    LIMIT 100;\r\n",
        "    \"\"\"\r\n",
        "\r\n",
        "joined = pysqldf(q)\r\n",
        "print(joined.head())"
      ],
      "execution_count": 36,
      "outputs": [
        {
          "output_type": "stream",
          "text": [
            "                         date  births    beef\n",
            "0  1975-01-01 00:00:00.000000  265775  2106.0\n",
            "1  1975-02-01 00:00:00.000000  241045  1845.0\n",
            "2  1975-03-01 00:00:00.000000  268849  1891.0\n",
            "3  1975-04-01 00:00:00.000000  247455  1895.0\n",
            "4  1975-05-01 00:00:00.000000  254545  1849.0\n"
          ],
          "name": "stdout"
        }
      ]
    },
    {
      "cell_type": "code",
      "metadata": {
        "colab": {
          "base_uri": "https://localhost:8080/"
        },
        "id": "GmsT01tyyfL-",
        "outputId": "57f725fe-cfea-4f8f-b27e-d61b70904b76"
      },
      "source": [
        "q = \"\"\"\r\n",
        "    SELECT\r\n",
        "        date\r\n",
        "        , beef\r\n",
        "        , veal\r\n",
        "        , pork\r\n",
        "        , lamb_and_mutton\r\n",
        "    FROM\r\n",
        "        meat\r\n",
        "    WHERE\r\n",
        "        lamb_and_mutton >= veal\r\n",
        "    ORDER BY date DESC\r\n",
        "    LIMIT 10;\r\n",
        "    \"\"\"\r\n",
        "\r\n",
        "print(pysqldf(q))"
      ],
      "execution_count": 37,
      "outputs": [
        {
          "output_type": "stream",
          "text": [
            "                         date    beef  veal    pork  lamb_and_mutton\n",
            "0  2012-11-01 00:00:00.000000  2206.6  10.1  2078.7             12.4\n",
            "1  2012-10-01 00:00:00.000000  2343.7  10.3  2210.4             14.2\n",
            "2  2012-09-01 00:00:00.000000  2016.0   8.8  1911.0             12.5\n",
            "3  2012-08-01 00:00:00.000000  2367.5  10.1  1997.9             14.2\n",
            "4  2012-07-01 00:00:00.000000  2200.8   9.5  1721.8             12.5\n",
            "5  2012-06-01 00:00:00.000000  2252.1   8.9  1750.4             12.4\n",
            "6  2012-05-01 00:00:00.000000  2232.0  10.4  1926.8             13.6\n",
            "7  2012-04-01 00:00:00.000000  1990.6   9.9  1841.7             12.9\n",
            "8  2012-03-01 00:00:00.000000  2159.8  10.0  1987.9             14.2\n",
            "9  2012-02-01 00:00:00.000000  2009.0   9.8  1882.9             12.3\n"
          ],
          "name": "stdout"
        }
      ]
    },
    {
      "cell_type": "code",
      "metadata": {
        "colab": {
          "base_uri": "https://localhost:8080/"
        },
        "id": "8ljlAYxNyi3O",
        "outputId": "01e4f601-81ab-46b5-c3a2-e3c575ee77f2"
      },
      "source": [
        "#################################################\r\n",
        "# SQL FUNCTIONS\r\n",
        "# e.g. `RANDOM()`\r\n",
        "#################################################\r\n",
        "q = \"\"\"SELECT\r\n",
        "    *\r\n",
        "    FROM\r\n",
        "        meat\r\n",
        "    ORDER BY RANDOM()\r\n",
        "    LIMIT 10;\"\"\"\r\n",
        "print(pysqldf(q))\r\n",
        "#                   date  beef  veal  pork  lamb_and_mutton  broilers other_chicken  turkey\r\n",
        "# 0  1967-03-01 00:00:00  1693    65  1136               61     472.0          None    26.5\r\n",
        "# 1  1944-12-01 00:00:00   764   146  1013               91       NaN          None     NaN\r\n",
        "# 2  1969-06-01 00:00:00  1666    50   964               42     573.9          None    85.4\r\n",
        "# 3  1983-03-01 00:00:00  1892    37  1303               36    1106.2          None   182.7\r\n"
      ],
      "execution_count": 38,
      "outputs": [
        {
          "output_type": "stream",
          "text": [
            "                         date    beef  veal  ...  broilers  other_chicken  turkey\n",
            "0  1966-10-01 00:00:00.000000  1668.0  76.0  ...     497.1            NaN   271.9\n",
            "1  1969-10-01 00:00:00.000000  1995.0  61.0  ...     610.5            NaN   266.5\n",
            "2  1968-10-01 00:00:00.000000  1917.0  67.0  ...     572.0            NaN   277.2\n",
            "3  1968-04-01 00:00:00.000000  1638.0  56.0  ...     484.9            NaN    25.9\n",
            "4  1990-11-01 00:00:00.000000  1842.0  28.0  ...    1566.9            NaN   446.2\n",
            "5  1987-01-01 00:00:00.000000  2102.0  39.0  ...    1275.7            NaN   215.4\n",
            "6  1967-06-01 00:00:00.000000  1748.0  60.0  ...     548.0            NaN   102.4\n",
            "7  2004-05-01 00:00:00.000000  2070.0  13.7  ...    2771.4           39.2   449.1\n",
            "8  2009-08-01 00:00:00.000000  2184.2  10.6  ...    3012.1           44.8   463.4\n",
            "9  1994-09-01 00:00:00.000000  2135.0  23.0  ...    2079.1            NaN   447.7\n",
            "\n",
            "[10 rows x 8 columns]\n"
          ],
          "name": "stdout"
        }
      ]
    },
    {
      "cell_type": "code",
      "metadata": {
        "colab": {
          "base_uri": "https://localhost:8080/"
        },
        "id": "SHVU-Lsuyr1J",
        "outputId": "ac137826-b2ff-47c3-e0d0-e900889fcc76"
      },
      "source": [
        "\r\n",
        "#################################################\r\n",
        "# UNION ALL\r\n",
        "#################################################\r\n",
        "q = \"\"\"\r\n",
        "        SELECT\r\n",
        "            date\r\n",
        "            , 'beef' AS meat_type\r\n",
        "            , beef AS value\r\n",
        "        FROM meat\r\n",
        "        UNION ALL\r\n",
        "        SELECT\r\n",
        "            date\r\n",
        "            , 'veal' AS meat_type\r\n",
        "            , veal AS value\r\n",
        "        FROM meat\r\n",
        "        UNION ALL\r\n",
        "        SELECT\r\n",
        "            date\r\n",
        "            , 'pork' AS meat_type\r\n",
        "            , pork AS value\r\n",
        "        FROM meat\r\n",
        "        UNION ALL\r\n",
        "        SELECT\r\n",
        "            date\r\n",
        "            , 'lamb_and_mutton' AS meat_type\r\n",
        "            , lamb_and_mutton AS value\r\n",
        "        FROM meat\r\n",
        "        ORDER BY 1\r\n",
        "    \"\"\"\r\n",
        "print(pysqldf(q).head(20))\r\n",
        "#                    date        meat_type  value\r\n",
        "# 0   1944-01-01 00:00:00             beef    751\r\n",
        "# 1   1944-01-01 00:00:00             veal     85\r\n",
        "# 2   1944-01-01 00:00:00             pork   1280\r\n",
        "# 3   1944-01-01 00:00:00  lamb_and_mutton     89\r\n"
      ],
      "execution_count": 39,
      "outputs": [
        {
          "output_type": "stream",
          "text": [
            "                          date        meat_type   value\n",
            "0   1944-01-01 00:00:00.000000             beef   751.0\n",
            "1   1944-01-01 00:00:00.000000             veal    85.0\n",
            "2   1944-01-01 00:00:00.000000             pork  1280.0\n",
            "3   1944-01-01 00:00:00.000000  lamb_and_mutton    89.0\n",
            "4   1944-02-01 00:00:00.000000             beef   713.0\n",
            "5   1944-02-01 00:00:00.000000             veal    77.0\n",
            "6   1944-02-01 00:00:00.000000             pork  1169.0\n",
            "7   1944-02-01 00:00:00.000000  lamb_and_mutton    72.0\n",
            "8   1944-03-01 00:00:00.000000             beef   741.0\n",
            "9   1944-03-01 00:00:00.000000             veal    90.0\n",
            "10  1944-03-01 00:00:00.000000             pork  1128.0\n",
            "11  1944-03-01 00:00:00.000000  lamb_and_mutton    75.0\n",
            "12  1944-04-01 00:00:00.000000             beef   650.0\n",
            "13  1944-04-01 00:00:00.000000             veal    89.0\n",
            "14  1944-04-01 00:00:00.000000             pork   978.0\n",
            "15  1944-04-01 00:00:00.000000  lamb_and_mutton    66.0\n",
            "16  1944-05-01 00:00:00.000000             beef   681.0\n",
            "17  1944-05-01 00:00:00.000000             veal   106.0\n",
            "18  1944-05-01 00:00:00.000000             pork  1029.0\n",
            "19  1944-05-01 00:00:00.000000  lamb_and_mutton    78.0\n"
          ],
          "name": "stdout"
        }
      ]
    },
    {
      "cell_type": "code",
      "metadata": {
        "colab": {
          "base_uri": "https://localhost:8080/"
        },
        "id": "v3lFfxGJyvQN",
        "outputId": "7bf2e87b-400d-4b6f-cec8-9cd9a64c99b6"
      },
      "source": [
        "#################################################\r\n",
        "# subqueries\r\n",
        "# fancy!\r\n",
        "#################################################\r\n",
        "q = \"\"\"\r\n",
        "    SELECT\r\n",
        "        m1.date\r\n",
        "        , m1.beef\r\n",
        "    FROM\r\n",
        "        meat m1\r\n",
        "    WHERE m1.date IN\r\n",
        "        (SELECT\r\n",
        "            date\r\n",
        "        FROM meat\r\n",
        "        WHERE\r\n",
        "            beef >= broilers\r\n",
        "        ORDER BY date)\r\n",
        "\"\"\"\r\n",
        "\r\n",
        "more_beef_than_broilers = pysqldf(q)\r\n",
        "print(more_beef_than_broilers.head(10))\r\n",
        "#                   date  beef\r\n",
        "# 0  1960-01-01 00:00:00  1196\r\n",
        "# 1  1960-02-01 00:00:00  1089\r\n",
        "# 2  1960-03-01 00:00:00  1201\r\n",
        "# 3  1960-04-01 00:00:00  1066"
      ],
      "execution_count": 40,
      "outputs": [
        {
          "output_type": "stream",
          "text": [
            "                         date    beef\n",
            "0  1960-01-01 00:00:00.000000  1196.0\n",
            "1  1960-02-01 00:00:00.000000  1089.0\n",
            "2  1960-03-01 00:00:00.000000  1201.0\n",
            "3  1960-04-01 00:00:00.000000  1066.0\n",
            "4  1960-05-01 00:00:00.000000  1202.0\n",
            "5  1960-06-01 00:00:00.000000  1247.0\n",
            "6  1960-07-01 00:00:00.000000  1166.0\n",
            "7  1960-08-01 00:00:00.000000  1307.0\n",
            "8  1960-09-01 00:00:00.000000  1298.0\n",
            "9  1960-10-01 00:00:00.000000  1263.0\n"
          ],
          "name": "stdout"
        }
      ]
    },
    {
      "cell_type": "markdown",
      "metadata": {
        "id": "dERBs-N8AI6A"
      },
      "source": [
        "# SQLite in Python\r\n",
        "\r\n",
        "https://realpython.com/python-sql-libraries/"
      ]
    },
    {
      "cell_type": "code",
      "metadata": {
        "colab": {
          "base_uri": "https://localhost:8080/"
        },
        "id": "onPnjmENFYw4",
        "outputId": "909e829a-47d9-4d96-c521-68e88a3d34b9"
      },
      "source": [
        "# Import pandas\r\n",
        "import pandas as pd \r\n",
        "\r\n",
        "# Import Twitter data as DataFrame: df\r\n",
        "# df = pd.read_csv('tweets.csv') \r\n",
        "df = pd.DataFrame(\r\n",
        "    data=[\r\n",
        "          'en',  # 1st row\r\n",
        "          'en',  # 2nd row\r\n",
        "          'und', # 3rd row\r\n",
        "          'et',  # 4th row\r\n",
        "          'und'  # 5th row\r\n",
        "          ],\r\n",
        "    columns=['lang']\r\n",
        ")\r\n",
        "\r\n",
        "# Initialize an empty dictionary: langs_count\r\n",
        "langs_count = {}\r\n",
        "\r\n",
        "# Extract column from DataFrame: col\r\n",
        "col = df['lang']\r\n",
        "\r\n",
        "print('before the loop, langs_count is an empty dict')\r\n",
        "print(langs_count, '\\n')\r\n",
        "# Iterate over lang column in DataFrame\r\n",
        "for ii, entry in enumerate(col):\r\n",
        "\r\n",
        "    # If the language is in langs_count, add 1 \r\n",
        "    if entry in langs_count.keys():\r\n",
        "        print(f'{ii}\\nif: the key \"{col.iloc[ii]}\" exists, so adds 1 to value')\r\n",
        "        langs_count[entry] += 1\r\n",
        "    # Else add the language to langs_count, set the value to 1\r\n",
        "    else:\r\n",
        "        print(f'{ii}\\nelse: the key \"{col.iloc[ii]}\" does not exist, so create it with value 1')\r\n",
        "        langs_count[entry] = 1\r\n",
        "    print(langs_count, '\\n')\r\n",
        "\r\n",
        "# Print the populated dictionary\r\n",
        "# print(langs_count)\r\n",
        "#{'en': 97, 'et': 1, 'und': 2}\r\n",
        "\r\n",
        "# the same could be reached through\r\n",
        "# without the need of loop or if / else\r\n",
        "print('value_counts solution')\r\n",
        "df['lang'].value_counts().to_dict()"
      ],
      "execution_count": 41,
      "outputs": [
        {
          "output_type": "stream",
          "text": [
            "before the loop, langs_count is an empty dict\n",
            "{} \n",
            "\n",
            "0\n",
            "else: the key \"en\" does not exist, so create it with value 1\n",
            "{'en': 1} \n",
            "\n",
            "1\n",
            "if: the key \"en\" exists, so adds 1 to value\n",
            "{'en': 2} \n",
            "\n",
            "2\n",
            "else: the key \"und\" does not exist, so create it with value 1\n",
            "{'en': 2, 'und': 1} \n",
            "\n",
            "3\n",
            "else: the key \"et\" does not exist, so create it with value 1\n",
            "{'en': 2, 'und': 1, 'et': 1} \n",
            "\n",
            "4\n",
            "if: the key \"und\" exists, so adds 1 to value\n",
            "{'en': 2, 'und': 2, 'et': 1} \n",
            "\n",
            "value_counts solution\n"
          ],
          "name": "stdout"
        },
        {
          "output_type": "execute_result",
          "data": {
            "text/plain": [
              "{'en': 2, 'et': 1, 'und': 2}"
            ]
          },
          "metadata": {
            "tags": []
          },
          "execution_count": 41
        }
      ]
    },
    {
      "cell_type": "code",
      "metadata": {
        "colab": {
          "base_uri": "https://localhost:8080/"
        },
        "id": "Cap8MK4932-f",
        "outputId": "0bb93934-e241-41c5-954b-bf272c84d194"
      },
      "source": [
        "import sqlite3\r\n",
        "from sqlite3 import Error\r\n",
        "\r\n",
        "def create_connection(path):\r\n",
        "    connection = None\r\n",
        "    try:\r\n",
        "        connection = sqlite3.connect(path)\r\n",
        "        print(\"Connection to SQLite DB successful\")\r\n",
        "    except Error as e:\r\n",
        "        print(f\"The error '{e}' occurred\")\r\n",
        "\r\n",
        "    return connection\r\n",
        "\r\n",
        "\r\n",
        "def execute_query(connection, query):\r\n",
        "    cursor = connection.cursor()\r\n",
        "    try:\r\n",
        "        cursor.execute(query)\r\n",
        "        connection.commit()\r\n",
        "        print(\"Query executed successfully\")\r\n",
        "    except Error as e:\r\n",
        "        print(f\"The error '{e}' occurred\")\r\n",
        "\r\n",
        "\r\n",
        "def execute_read_query(connection, query):\r\n",
        "    # Select\r\n",
        "    cursor = connection.cursor()\r\n",
        "    result = None\r\n",
        "    try:\r\n",
        "        cursor.execute(query)\r\n",
        "        result = cursor.fetchall()\r\n",
        "        return result\r\n",
        "    except Error as e:\r\n",
        "        print(f\"The error '{e}' occurred\")\r\n",
        "\r\n",
        "\r\n",
        "connection = create_connection(\"E:\\\\sm_app.sqlite\")"
      ],
      "execution_count": 42,
      "outputs": [
        {
          "output_type": "stream",
          "text": [
            "Connection to SQLite DB successful\n"
          ],
          "name": "stdout"
        }
      ]
    },
    {
      "cell_type": "markdown",
      "metadata": {
        "id": "YWpHyr8RCBrv"
      },
      "source": [
        "### Create"
      ]
    },
    {
      "cell_type": "code",
      "metadata": {
        "colab": {
          "base_uri": "https://localhost:8080/"
        },
        "id": "SMsUYuYqA2dw",
        "outputId": "573b152c-9d40-46fc-b9c5-d6497883f03c"
      },
      "source": [
        "create_users_table = \"\"\"\r\n",
        "CREATE TABLE IF NOT EXISTS users (\r\n",
        "  id INTEGER PRIMARY KEY AUTOINCREMENT,\r\n",
        "  name TEXT NOT NULL,\r\n",
        "  age INTEGER,\r\n",
        "  gender TEXT,\r\n",
        "  nationality TEXT\r\n",
        ");\r\n",
        "\"\"\"\r\n",
        "\r\n",
        "create_posts_table = \"\"\"\r\n",
        "CREATE TABLE IF NOT EXISTS posts(\r\n",
        "  id INTEGER PRIMARY KEY AUTOINCREMENT, \r\n",
        "  title TEXT NOT NULL, \r\n",
        "  description TEXT NOT NULL, \r\n",
        "  user_id INTEGER NOT NULL, \r\n",
        "  FOREIGN KEY (user_id) REFERENCES users (id)\r\n",
        ");\r\n",
        "\"\"\"\r\n",
        "\r\n",
        "create_comments_table = \"\"\"\r\n",
        "CREATE TABLE IF NOT EXISTS comments (\r\n",
        "  id INTEGER PRIMARY KEY AUTOINCREMENT, \r\n",
        "  text TEXT NOT NULL, \r\n",
        "  user_id INTEGER NOT NULL, \r\n",
        "  post_id INTEGER NOT NULL, \r\n",
        "  FOREIGN KEY (user_id) REFERENCES users (id) FOREIGN KEY (post_id) REFERENCES posts (id)\r\n",
        ");\r\n",
        "\"\"\"\r\n",
        "\r\n",
        "create_likes_table = \"\"\"\r\n",
        "CREATE TABLE IF NOT EXISTS likes (\r\n",
        "  id INTEGER PRIMARY KEY AUTOINCREMENT, \r\n",
        "  user_id INTEGER NOT NULL, \r\n",
        "  post_id integer NOT NULL, \r\n",
        "  FOREIGN KEY (user_id) REFERENCES users (id) FOREIGN KEY (post_id) REFERENCES posts (id)\r\n",
        ");\r\n",
        "\"\"\"\r\n",
        "\r\n",
        "execute_query(connection, create_users_table) \r\n",
        "execute_query(connection, create_posts_table)\r\n",
        "execute_query(connection, create_comments_table)  \r\n",
        "execute_query(connection, create_likes_table) "
      ],
      "execution_count": 43,
      "outputs": [
        {
          "output_type": "stream",
          "text": [
            "Query executed successfully\n",
            "Query executed successfully\n",
            "Query executed successfully\n",
            "Query executed successfully\n"
          ],
          "name": "stdout"
        }
      ]
    },
    {
      "cell_type": "markdown",
      "metadata": {
        "id": "1KQ_wgybB_Z4"
      },
      "source": [
        "### Insert"
      ]
    },
    {
      "cell_type": "code",
      "metadata": {
        "colab": {
          "base_uri": "https://localhost:8080/"
        },
        "id": "N6MDq_z7A2n_",
        "outputId": "23b8114b-8253-4cf8-c619-9f50ff37e652"
      },
      "source": [
        "create_users = \"\"\"\r\n",
        "INSERT INTO\r\n",
        "  users (name, age, gender, nationality)\r\n",
        "VALUES\r\n",
        "  ('James', 25, 'male', 'USA'),\r\n",
        "  ('Leila', 32, 'female', 'France'),\r\n",
        "  ('Brigitte', 35, 'female', 'England'),\r\n",
        "  ('Mike', 40, 'male', 'Denmark'),\r\n",
        "  ('Elizabeth', 21, 'female', 'Canada');\r\n",
        "\"\"\"\r\n",
        "\r\n",
        "create_posts = \"\"\"\r\n",
        "INSERT INTO\r\n",
        "  posts (title, description, user_id)\r\n",
        "VALUES\r\n",
        "  (\"Happy\", \"I am feeling very happy today\", 1),\r\n",
        "  (\"Hot Weather\", \"The weather is very hot today\", 2),\r\n",
        "  (\"Help\", \"I need some help with my work\", 2),\r\n",
        "  (\"Great News\", \"I am getting married\", 1),\r\n",
        "  (\"Interesting Game\", \"It was a fantastic game of tennis\", 5),\r\n",
        "  (\"Party\", \"Anyone up for a late-night party today?\", 3);\r\n",
        "\"\"\"\r\n",
        "\r\n",
        "create_comments = \"\"\"\r\n",
        "INSERT INTO\r\n",
        "  comments (text, user_id, post_id)\r\n",
        "VALUES\r\n",
        "  ('Count me in', 1, 6),\r\n",
        "  ('What sort of help?', 5, 3),\r\n",
        "  ('Congrats buddy', 2, 4),\r\n",
        "  ('I was rooting for Nadal though', 4, 5),\r\n",
        "  ('Help with your thesis?', 2, 3),\r\n",
        "  ('Many congratulations', 5, 4);\r\n",
        "\"\"\"\r\n",
        "\r\n",
        "create_likes = \"\"\"\r\n",
        "INSERT INTO\r\n",
        "  likes (user_id, post_id)\r\n",
        "VALUES\r\n",
        "  (1, 6),\r\n",
        "  (2, 3),\r\n",
        "  (1, 5),\r\n",
        "  (5, 4),\r\n",
        "  (2, 4),\r\n",
        "  (4, 2),\r\n",
        "  (3, 6);\r\n",
        "\"\"\"\r\n",
        "\r\n",
        "execute_query(connection, create_users) \r\n",
        "execute_query(connection, create_posts)\r\n",
        "execute_query(connection, create_comments)\r\n",
        "execute_query(connection, create_likes)  "
      ],
      "execution_count": 44,
      "outputs": [
        {
          "output_type": "stream",
          "text": [
            "Query executed successfully\n",
            "Query executed successfully\n",
            "Query executed successfully\n",
            "Query executed successfully\n"
          ],
          "name": "stdout"
        }
      ]
    },
    {
      "cell_type": "markdown",
      "metadata": {
        "id": "g0anWxWBCN9_"
      },
      "source": [
        "### Select"
      ]
    },
    {
      "cell_type": "code",
      "metadata": {
        "colab": {
          "base_uri": "https://localhost:8080/"
        },
        "id": "ufE-ytMOA2qg",
        "outputId": "94de637f-daca-4d39-95b9-913009fcd2c0"
      },
      "source": [
        "select_users = \"SELECT * from users\"\r\n",
        "users = execute_read_query(connection, select_users)\r\n",
        "\r\n",
        "for user in users:\r\n",
        "    print(user)"
      ],
      "execution_count": 45,
      "outputs": [
        {
          "output_type": "stream",
          "text": [
            "(1, 'James', 25, 'male', 'USA')\n",
            "(2, 'Leila', 32, 'female', 'France')\n",
            "(3, 'Brigitte', 35, 'female', 'England')\n",
            "(4, 'Mike', 40, 'male', 'Denmark')\n",
            "(5, 'Elizabeth', 21, 'female', 'Canada')\n",
            "(6, 'James', 25, 'male', 'USA')\n",
            "(7, 'Leila', 32, 'female', 'France')\n",
            "(8, 'Brigitte', 35, 'female', 'England')\n",
            "(9, 'Mike', 40, 'male', 'Denmark')\n",
            "(10, 'Elizabeth', 21, 'female', 'Canada')\n",
            "(11, 'James', 25, 'male', 'USA')\n",
            "(12, 'Leila', 32, 'female', 'France')\n",
            "(13, 'Brigitte', 35, 'female', 'England')\n",
            "(14, 'Mike', 40, 'male', 'Denmark')\n",
            "(15, 'Elizabeth', 21, 'female', 'Canada')\n"
          ],
          "name": "stdout"
        }
      ]
    },
    {
      "cell_type": "markdown",
      "metadata": {
        "id": "bWwhdMy71yDy"
      },
      "source": [
        "#### Alias"
      ]
    },
    {
      "cell_type": "code",
      "metadata": {
        "colab": {
          "base_uri": "https://localhost:8080/"
        },
        "id": "g3o8c49b1oWF",
        "outputId": "bd44252f-a621-46a2-f9a6-40a404a47ea5"
      },
      "source": [
        "select_users = \"SELECT name AS nm FROM users AS u\"\r\n",
        "users = execute_read_query(connection, select_users)\r\n",
        "\r\n",
        "for user in users:\r\n",
        "    print(user)"
      ],
      "execution_count": 46,
      "outputs": [
        {
          "output_type": "stream",
          "text": [
            "('James',)\n",
            "('Leila',)\n",
            "('Brigitte',)\n",
            "('Mike',)\n",
            "('Elizabeth',)\n",
            "('James',)\n",
            "('Leila',)\n",
            "('Brigitte',)\n",
            "('Mike',)\n",
            "('Elizabeth',)\n",
            "('James',)\n",
            "('Leila',)\n",
            "('Brigitte',)\n",
            "('Mike',)\n",
            "('Elizabeth',)\n"
          ],
          "name": "stdout"
        }
      ]
    },
    {
      "cell_type": "code",
      "metadata": {
        "colab": {
          "base_uri": "https://localhost:8080/"
        },
        "id": "mMDH0UxAAsNX",
        "outputId": "003e09dd-d305-4836-ed86-7210ec6b4dd8"
      },
      "source": [
        "select_posts = \"SELECT * FROM posts\"\r\n",
        "posts = execute_read_query(connection, select_posts)\r\n",
        "\r\n",
        "for post in posts:\r\n",
        "    print(post)"
      ],
      "execution_count": 47,
      "outputs": [
        {
          "output_type": "stream",
          "text": [
            "(1, 'Happy', 'I am feeling very happy today', 1)\n",
            "(2, 'Hot Weather', 'The weather has become pleasant now', 2)\n",
            "(3, 'Help', 'I need some help with my work', 2)\n",
            "(4, 'Great News', 'I am getting married', 1)\n",
            "(5, 'Interesting Game', 'It was a fantastic game of tennis', 5)\n",
            "(6, 'Party', 'Anyone up for a late-night party today?', 3)\n",
            "(7, 'Happy', 'I am feeling very happy today', 1)\n",
            "(8, 'Hot Weather', 'The weather is very hot today', 2)\n",
            "(9, 'Help', 'I need some help with my work', 2)\n",
            "(10, 'Great News', 'I am getting married', 1)\n",
            "(11, 'Interesting Game', 'It was a fantastic game of tennis', 5)\n",
            "(12, 'Party', 'Anyone up for a late-night party today?', 3)\n",
            "(13, 'Happy', 'I am feeling very happy today', 1)\n",
            "(14, 'Hot Weather', 'The weather is very hot today', 2)\n",
            "(15, 'Help', 'I need some help with my work', 2)\n",
            "(16, 'Great News', 'I am getting married', 1)\n",
            "(17, 'Interesting Game', 'It was a fantastic game of tennis', 5)\n",
            "(18, 'Party', 'Anyone up for a late-night party today?', 3)\n"
          ],
          "name": "stdout"
        }
      ]
    },
    {
      "cell_type": "markdown",
      "metadata": {
        "id": "S0MYiKQiCWlu"
      },
      "source": [
        "### Join"
      ]
    },
    {
      "cell_type": "code",
      "metadata": {
        "colab": {
          "base_uri": "https://localhost:8080/"
        },
        "id": "V0_RSiIKCUZG",
        "outputId": "0025c66e-17c8-4e2b-9c70-f6f6e1cdc0ef"
      },
      "source": [
        "select_users_posts = \"\"\"\r\n",
        "SELECT\r\n",
        "  users.id,\r\n",
        "  users.name,\r\n",
        "  posts.description\r\n",
        "FROM\r\n",
        "  posts\r\n",
        "  INNER JOIN users ON users.id = posts.user_id\r\n",
        "\"\"\"\r\n",
        "\r\n",
        "users_posts = execute_read_query(connection, select_users_posts)\r\n",
        "\r\n",
        "for users_post in users_posts:\r\n",
        "    print(users_post)"
      ],
      "execution_count": 48,
      "outputs": [
        {
          "output_type": "stream",
          "text": [
            "(1, 'James', 'I am feeling very happy today')\n",
            "(2, 'Leila', 'The weather has become pleasant now')\n",
            "(2, 'Leila', 'I need some help with my work')\n",
            "(1, 'James', 'I am getting married')\n",
            "(5, 'Elizabeth', 'It was a fantastic game of tennis')\n",
            "(3, 'Brigitte', 'Anyone up for a late-night party today?')\n",
            "(1, 'James', 'I am feeling very happy today')\n",
            "(2, 'Leila', 'The weather is very hot today')\n",
            "(2, 'Leila', 'I need some help with my work')\n",
            "(1, 'James', 'I am getting married')\n",
            "(5, 'Elizabeth', 'It was a fantastic game of tennis')\n",
            "(3, 'Brigitte', 'Anyone up for a late-night party today?')\n",
            "(1, 'James', 'I am feeling very happy today')\n",
            "(2, 'Leila', 'The weather is very hot today')\n",
            "(2, 'Leila', 'I need some help with my work')\n",
            "(1, 'James', 'I am getting married')\n",
            "(5, 'Elizabeth', 'It was a fantastic game of tennis')\n",
            "(3, 'Brigitte', 'Anyone up for a late-night party today?')\n"
          ],
          "name": "stdout"
        }
      ]
    },
    {
      "cell_type": "code",
      "metadata": {
        "colab": {
          "base_uri": "https://localhost:8080/"
        },
        "id": "WRZOQlBcCZgu",
        "outputId": "47060419-57f3-455e-ebc5-57aa7f4079e4"
      },
      "source": [
        "select_posts_comments_users = \"\"\"\r\n",
        "SELECT\r\n",
        "  posts.description as post,\r\n",
        "  text as comment,\r\n",
        "  name\r\n",
        "FROM\r\n",
        "  posts\r\n",
        "  INNER JOIN comments ON posts.id = comments.post_id\r\n",
        "  INNER JOIN users ON users.id = comments.user_id\r\n",
        "\"\"\"\r\n",
        "\r\n",
        "posts_comments_users = execute_read_query(\r\n",
        "    connection, select_posts_comments_users\r\n",
        ")\r\n",
        "\r\n",
        "for posts_comments_user in posts_comments_users:\r\n",
        "    print(posts_comments_user)"
      ],
      "execution_count": 49,
      "outputs": [
        {
          "output_type": "stream",
          "text": [
            "('Anyone up for a late-night party today?', 'Count me in', 'James')\n",
            "('I need some help with my work', 'What sort of help?', 'Elizabeth')\n",
            "('I am getting married', 'Congrats buddy', 'Leila')\n",
            "('It was a fantastic game of tennis', 'I was rooting for Nadal though', 'Mike')\n",
            "('I am getting married', 'Many congratulations', 'Elizabeth')\n",
            "('Anyone up for a late-night party today?', 'Count me in', 'James')\n",
            "('I need some help with my work', 'What sort of help?', 'Elizabeth')\n",
            "('I am getting married', 'Congrats buddy', 'Leila')\n",
            "('It was a fantastic game of tennis', 'I was rooting for Nadal though', 'Mike')\n",
            "('I need some help with my work', 'Help with your thesis?', 'Leila')\n",
            "('I am getting married', 'Many congratulations', 'Elizabeth')\n",
            "('Anyone up for a late-night party today?', 'Count me in', 'James')\n",
            "('I need some help with my work', 'What sort of help?', 'Elizabeth')\n",
            "('I am getting married', 'Congrats buddy', 'Leila')\n",
            "('It was a fantastic game of tennis', 'I was rooting for Nadal though', 'Mike')\n",
            "('I need some help with my work', 'Help with your thesis?', 'Leila')\n",
            "('I am getting married', 'Many congratulations', 'Elizabeth')\n"
          ],
          "name": "stdout"
        }
      ]
    },
    {
      "cell_type": "code",
      "metadata": {
        "colab": {
          "base_uri": "https://localhost:8080/"
        },
        "id": "1KAm3R0gCdqC",
        "outputId": "c65c1598-1628-4fdb-8fba-cc7cf4b4ed97"
      },
      "source": [
        "cursor = connection.cursor()\r\n",
        "cursor.execute(select_posts_comments_users)\r\n",
        "cursor.fetchall()\r\n",
        "\r\n",
        "column_names = [description[0] for description in cursor.description]\r\n",
        "print(column_names)"
      ],
      "execution_count": 50,
      "outputs": [
        {
          "output_type": "stream",
          "text": [
            "['post', 'comment', 'name']\n"
          ],
          "name": "stdout"
        }
      ]
    },
    {
      "cell_type": "markdown",
      "metadata": {
        "id": "_ezFP8E_CmIn"
      },
      "source": [
        "### Where"
      ]
    },
    {
      "cell_type": "code",
      "metadata": {
        "colab": {
          "base_uri": "https://localhost:8080/"
        },
        "id": "GcWyCR9nCguW",
        "outputId": "0dc2fd48-e221-4708-a36e-15d8682189de"
      },
      "source": [
        "select_post_likes = \"\"\"\r\n",
        "SELECT\r\n",
        "  description as Post,\r\n",
        "  COUNT(likes.id) as Likes\r\n",
        "FROM\r\n",
        "  likes,\r\n",
        "  posts\r\n",
        "WHERE\r\n",
        "  posts.id = likes.post_id\r\n",
        "GROUP BY\r\n",
        "  likes.post_id\r\n",
        "\"\"\"\r\n",
        "\r\n",
        "post_likes = execute_read_query(connection, select_post_likes)\r\n",
        "\r\n",
        "for post_like in post_likes:\r\n",
        "    print(post_like)"
      ],
      "execution_count": 51,
      "outputs": [
        {
          "output_type": "stream",
          "text": [
            "('The weather has become pleasant now', 3)\n",
            "('I need some help with my work', 3)\n",
            "('I am getting married', 6)\n",
            "('It was a fantastic game of tennis', 3)\n",
            "('Anyone up for a late-night party today?', 6)\n"
          ],
          "name": "stdout"
        }
      ]
    },
    {
      "cell_type": "markdown",
      "metadata": {
        "id": "Rq5diGfFCr5U"
      },
      "source": [
        "### Update"
      ]
    },
    {
      "cell_type": "code",
      "metadata": {
        "colab": {
          "base_uri": "https://localhost:8080/"
        },
        "id": "DConh-FTCpXR",
        "outputId": "91ff30ea-e226-4e67-957f-a8065ae64e55"
      },
      "source": [
        "select_post_description = \"SELECT description FROM posts WHERE id = 2\"\r\n",
        "\r\n",
        "post_description = execute_read_query(connection, select_post_description)\r\n",
        "\r\n",
        "for description in post_description:\r\n",
        "    print(description)"
      ],
      "execution_count": 52,
      "outputs": [
        {
          "output_type": "stream",
          "text": [
            "('The weather has become pleasant now',)\n"
          ],
          "name": "stdout"
        }
      ]
    },
    {
      "cell_type": "code",
      "metadata": {
        "colab": {
          "base_uri": "https://localhost:8080/"
        },
        "id": "qgUAQMBfCtUn",
        "outputId": "5a64fc85-e238-4ef7-ca5f-6cfa0b3af25c"
      },
      "source": [
        "update_post_description = \"\"\"\r\n",
        "UPDATE\r\n",
        "  posts\r\n",
        "SET\r\n",
        "  description = \"The weather has become pleasant now\"\r\n",
        "WHERE\r\n",
        "  id = 2\r\n",
        "\"\"\"\r\n",
        "\r\n",
        "execute_query(connection, update_post_description)"
      ],
      "execution_count": 53,
      "outputs": [
        {
          "output_type": "stream",
          "text": [
            "Query executed successfully\n"
          ],
          "name": "stdout"
        }
      ]
    },
    {
      "cell_type": "code",
      "metadata": {
        "colab": {
          "base_uri": "https://localhost:8080/"
        },
        "id": "D0Yh6aQQCvWo",
        "outputId": "d4a95082-0347-4bcf-b7fe-7d747401dd4a"
      },
      "source": [
        "post_description = execute_read_query(connection, select_post_description)\r\n",
        "\r\n",
        "for description in post_description:\r\n",
        "    print(description)"
      ],
      "execution_count": 54,
      "outputs": [
        {
          "output_type": "stream",
          "text": [
            "('The weather has become pleasant now',)\n"
          ],
          "name": "stdout"
        }
      ]
    },
    {
      "cell_type": "markdown",
      "metadata": {
        "id": "TZn17KAcC2GK"
      },
      "source": [
        "### Delete"
      ]
    },
    {
      "cell_type": "code",
      "metadata": {
        "colab": {
          "base_uri": "https://localhost:8080/"
        },
        "id": "rPYFE2JICy8n",
        "outputId": "dddad2b5-9933-4c49-a120-5b40d64d17b4"
      },
      "source": [
        "delete_comment = \"DELETE FROM comments WHERE id = 5\"\r\n",
        "execute_query(connection, delete_comment)"
      ],
      "execution_count": 55,
      "outputs": [
        {
          "output_type": "stream",
          "text": [
            "Query executed successfully\n"
          ],
          "name": "stdout"
        }
      ]
    },
    {
      "cell_type": "code",
      "metadata": {
        "colab": {
          "base_uri": "https://localhost:8080/"
        },
        "id": "lQ4KbMAlC4Pw",
        "outputId": "eb771a8e-8619-40f1-b9f6-a89ed1a6b94e"
      },
      "source": [
        "select_comments = \"SELECT * from comments\"\r\n",
        "\r\n",
        "comments = execute_read_query(connection, select_comments)\r\n",
        "\r\n",
        "for comment in comments:\r\n",
        "    print(comment)"
      ],
      "execution_count": 56,
      "outputs": [
        {
          "output_type": "stream",
          "text": [
            "(1, 'Count me in', 1, 6)\n",
            "(2, 'What sort of help?', 5, 3)\n",
            "(3, 'Congrats buddy', 2, 4)\n",
            "(4, 'I was rooting for Nadal though', 4, 5)\n",
            "(6, 'Many congratulations', 5, 4)\n",
            "(7, 'Count me in', 1, 6)\n",
            "(8, 'What sort of help?', 5, 3)\n",
            "(9, 'Congrats buddy', 2, 4)\n",
            "(10, 'I was rooting for Nadal though', 4, 5)\n",
            "(11, 'Help with your thesis?', 2, 3)\n",
            "(12, 'Many congratulations', 5, 4)\n",
            "(13, 'Count me in', 1, 6)\n",
            "(14, 'What sort of help?', 5, 3)\n",
            "(15, 'Congrats buddy', 2, 4)\n",
            "(16, 'I was rooting for Nadal though', 4, 5)\n",
            "(17, 'Help with your thesis?', 2, 3)\n",
            "(18, 'Many congratulations', 5, 4)\n"
          ],
          "name": "stdout"
        }
      ]
    },
    {
      "cell_type": "markdown",
      "metadata": {
        "id": "VfwV_12n3I4-"
      },
      "source": [
        "### Case"
      ]
    },
    {
      "cell_type": "code",
      "metadata": {
        "id": "1Zf1Wp_fDQey",
        "colab": {
          "base_uri": "https://localhost:8080/"
        },
        "outputId": "405e9f8b-d791-46fe-d29f-07bcfa92035e"
      },
      "source": [
        "print(create_users_table)"
      ],
      "execution_count": 57,
      "outputs": [
        {
          "output_type": "stream",
          "text": [
            "\n",
            "CREATE TABLE IF NOT EXISTS users (\n",
            "  id INTEGER PRIMARY KEY AUTOINCREMENT,\n",
            "  name TEXT NOT NULL,\n",
            "  age INTEGER,\n",
            "  gender TEXT,\n",
            "  nationality TEXT\n",
            ");\n",
            "\n"
          ],
          "name": "stdout"
        }
      ]
    },
    {
      "cell_type": "code",
      "metadata": {
        "colab": {
          "base_uri": "https://localhost:8080/"
        },
        "id": "O5ChIDw93LET",
        "outputId": "2e0cc23d-ddf8-4b46-c769-9787212e3100"
      },
      "source": [
        "select_users = \"\"\"\r\n",
        "SELECT name,\r\n",
        "CASE gender\r\n",
        "    WHEN 'male' THEN 'm'\r\n",
        "    WHEN 'female' THEN 'f'\r\n",
        "    ELSE 'unknown gender'\r\n",
        "END\r\n",
        "FROM Users;\r\n",
        "\"\"\"\r\n",
        "\r\n",
        "users = execute_read_query(connection, select_users)\r\n",
        "\r\n",
        "for user in users:\r\n",
        "    print(user)"
      ],
      "execution_count": 58,
      "outputs": [
        {
          "output_type": "stream",
          "text": [
            "('James', 'm')\n",
            "('Leila', 'f')\n",
            "('Brigitte', 'f')\n",
            "('Mike', 'm')\n",
            "('Elizabeth', 'f')\n",
            "('James', 'm')\n",
            "('Leila', 'f')\n",
            "('Brigitte', 'f')\n",
            "('Mike', 'm')\n",
            "('Elizabeth', 'f')\n",
            "('James', 'm')\n",
            "('Leila', 'f')\n",
            "('Brigitte', 'f')\n",
            "('Mike', 'm')\n",
            "('Elizabeth', 'f')\n"
          ],
          "name": "stdout"
        }
      ]
    },
    {
      "cell_type": "markdown",
      "metadata": {
        "id": "GOBKxLP_7YkR"
      },
      "source": [
        "##  From a DB file\r\n",
        "\r\n",
        "https://www.sqlitetutorial.net/sqlite-sample-database/\r\n",
        "\r\n"
      ]
    },
    {
      "cell_type": "markdown",
      "metadata": {
        "id": "RkXUcz1H71Hl"
      },
      "source": [
        "![](https://cdn.sqlitetutorial.net/wp-content/uploads/2015/11/sqlite-sample-database-color.jpg)"
      ]
    },
    {
      "cell_type": "code",
      "metadata": {
        "colab": {
          "base_uri": "https://localhost:8080/"
        },
        "id": "kUuJ9lhX6rWf",
        "outputId": "dea6ec66-c5b6-415e-a5e1-9ca4373c1e2b"
      },
      "source": [
        "!curl -o chinook.zip https://cdn.sqlitetutorial.net/wp-content/uploads/2018/03/chinook.zip"
      ],
      "execution_count": 59,
      "outputs": [
        {
          "output_type": "stream",
          "text": [
            "  % Total    % Received % Xferd  Average Speed   Time    Time     Time  Current\n",
            "                                 Dload  Upload   Total   Spent    Left  Speed\n",
            "\r  0     0    0     0    0     0      0      0 --:--:-- --:--:-- --:--:--     0curl: (6) Could not resolve host: cdn.sqlitetutorial.net\n"
          ],
          "name": "stdout"
        }
      ]
    },
    {
      "cell_type": "code",
      "metadata": {
        "colab": {
          "base_uri": "https://localhost:8080/"
        },
        "id": "nPdkJ9Kt-Lm6",
        "outputId": "34b39544-6236-49dd-b94e-82fe5c4dab3f"
      },
      "source": [
        "!unzip chinook.zip"
      ],
      "execution_count": 60,
      "outputs": [
        {
          "output_type": "stream",
          "text": [
            "Archive:  chinook.zip\n",
            "replace chinook.db? [y]es, [n]o, [A]ll, [N]one, [r]ename: n\n"
          ],
          "name": "stdout"
        }
      ]
    },
    {
      "cell_type": "code",
      "metadata": {
        "colab": {
          "base_uri": "https://localhost:8080/"
        },
        "id": "LX1iXjwl8PBu",
        "outputId": "7b952ee3-36eb-45fa-d042-3d2160c66318"
      },
      "source": [
        "import sqlite3\r\n",
        "con = sqlite3.connect('chinook.db')\r\n",
        "cur = con.cursor()\r\n",
        "\r\n",
        "query = \"\"\" \r\n",
        "SELECT * FROM genres;\r\n",
        "\"\"\"\r\n",
        "\r\n",
        "for row in cur.execute(query):\r\n",
        "    print(row)\r\n",
        "\r\n",
        "con.close()"
      ],
      "execution_count": 61,
      "outputs": [
        {
          "output_type": "stream",
          "text": [
            "(1, 'Rock')\n",
            "(2, 'Jazz')\n",
            "(3, 'Metal')\n",
            "(4, 'Alternative & Punk')\n",
            "(5, 'Rock And Roll')\n",
            "(6, 'Blues')\n",
            "(7, 'Latin')\n",
            "(8, 'Reggae')\n",
            "(9, 'Pop')\n",
            "(10, 'Soundtrack')\n",
            "(11, 'Bossa Nova')\n",
            "(12, 'Easy Listening')\n",
            "(13, 'Heavy Metal')\n",
            "(14, 'R&B/Soul')\n",
            "(15, 'Electronica/Dance')\n",
            "(16, 'World')\n",
            "(17, 'Hip Hop/Rap')\n",
            "(18, 'Science Fiction')\n",
            "(19, 'TV Shows')\n",
            "(20, 'Sci Fi & Fantasy')\n",
            "(21, 'Drama')\n",
            "(22, 'Comedy')\n",
            "(23, 'Alternative')\n",
            "(24, 'Classical')\n",
            "(25, 'Opera')\n"
          ],
          "name": "stdout"
        }
      ]
    },
    {
      "cell_type": "code",
      "metadata": {
        "colab": {
          "base_uri": "https://localhost:8080/",
          "height": 197
        },
        "id": "81MMtZUx8U_t",
        "outputId": "fde529e1-25da-4fe2-daa9-00d604eb3161"
      },
      "source": [
        "import pandas as pd\r\n",
        "import sqlite3\r\n",
        "\r\n",
        "# Read sqlite query results into a pandas DataFrame\r\n",
        "con = sqlite3.connect('chinook.db')\r\n",
        "df = pd.read_sql_query(\"SELECT * FROM genres\", con)\r\n",
        "\r\n",
        "con.close()\r\n",
        "df.head()"
      ],
      "execution_count": 62,
      "outputs": [
        {
          "output_type": "execute_result",
          "data": {
            "text/html": [
              "<div>\n",
              "<style scoped>\n",
              "    .dataframe tbody tr th:only-of-type {\n",
              "        vertical-align: middle;\n",
              "    }\n",
              "\n",
              "    .dataframe tbody tr th {\n",
              "        vertical-align: top;\n",
              "    }\n",
              "\n",
              "    .dataframe thead th {\n",
              "        text-align: right;\n",
              "    }\n",
              "</style>\n",
              "<table border=\"1\" class=\"dataframe\">\n",
              "  <thead>\n",
              "    <tr style=\"text-align: right;\">\n",
              "      <th></th>\n",
              "      <th>GenreId</th>\n",
              "      <th>Name</th>\n",
              "    </tr>\n",
              "  </thead>\n",
              "  <tbody>\n",
              "    <tr>\n",
              "      <th>0</th>\n",
              "      <td>1</td>\n",
              "      <td>Rock</td>\n",
              "    </tr>\n",
              "    <tr>\n",
              "      <th>1</th>\n",
              "      <td>2</td>\n",
              "      <td>Jazz</td>\n",
              "    </tr>\n",
              "    <tr>\n",
              "      <th>2</th>\n",
              "      <td>3</td>\n",
              "      <td>Metal</td>\n",
              "    </tr>\n",
              "    <tr>\n",
              "      <th>3</th>\n",
              "      <td>4</td>\n",
              "      <td>Alternative &amp; Punk</td>\n",
              "    </tr>\n",
              "    <tr>\n",
              "      <th>4</th>\n",
              "      <td>5</td>\n",
              "      <td>Rock And Roll</td>\n",
              "    </tr>\n",
              "  </tbody>\n",
              "</table>\n",
              "</div>"
            ],
            "text/plain": [
              "   GenreId                Name\n",
              "0        1                Rock\n",
              "1        2                Jazz\n",
              "2        3               Metal\n",
              "3        4  Alternative & Punk\n",
              "4        5       Rock And Roll"
            ]
          },
          "metadata": {
            "tags": []
          },
          "execution_count": 62
        }
      ]
    },
    {
      "cell_type": "markdown",
      "metadata": {
        "id": "c75rL4p0AGDU"
      },
      "source": [
        "## Dump all tables from db as csv\r\n",
        "\r\n",
        "https://stackoverflow.com/questions/305378/list-of-tables-db-schema-dump-etc-using-the-python-sqlite3-api"
      ]
    },
    {
      "cell_type": "code",
      "metadata": {
        "colab": {
          "base_uri": "https://localhost:8080/"
        },
        "id": "nXo38MoJ92f2",
        "outputId": "3d616e64-5703-41fc-8f2a-e8d586d8100f"
      },
      "source": [
        "import sqlite3\r\n",
        "con = sqlite3.connect('chinook.db')\r\n",
        "cursor = con.cursor()\r\n",
        "cursor.execute(\"SELECT name FROM sqlite_master WHERE type='table';\")\r\n",
        "\r\n",
        "for table in cursor.fetchall():\r\n",
        "    print(table)\r\n",
        "\r\n",
        "cursor.close()\r\n",
        "con.close()"
      ],
      "execution_count": 63,
      "outputs": [
        {
          "output_type": "stream",
          "text": [
            "('albums',)\n",
            "('sqlite_sequence',)\n",
            "('artists',)\n",
            "('customers',)\n",
            "('employees',)\n",
            "('genres',)\n",
            "('invoices',)\n",
            "('invoice_items',)\n",
            "('media_types',)\n",
            "('playlists',)\n",
            "('playlist_track',)\n",
            "('tracks',)\n",
            "('sqlite_stat1',)\n"
          ],
          "name": "stdout"
        }
      ]
    },
    {
      "cell_type": "code",
      "metadata": {
        "colab": {
          "base_uri": "https://localhost:8080/",
          "height": 428
        },
        "id": "SfTsC93H_Zdq",
        "outputId": "03aef52d-fed2-4eab-b235-c90f24214ce5"
      },
      "source": [
        "# https://stackoverflow.com/questions/305378/list-of-tables-db-schema-dump-etc-using-the-python-sqlite3-api\r\n",
        "import sqlite3\r\n",
        "import pandas as pd\r\n",
        "\r\n",
        "def to_csv():\r\n",
        "    \r\n",
        "    db = sqlite3.connect('chinook.db')\r\n",
        "    cursor = db.cursor()\r\n",
        "    cursor.execute(\"SELECT name FROM sqlite_master WHERE type='table';\")\r\n",
        "    tables = cursor.fetchall()\r\n",
        "    dct_tables = {}\r\n",
        "    for table_name in tables:\r\n",
        "        table_name = table_name[0]\r\n",
        "        table = pd.read_sql_query(\"SELECT * from %s\" % table_name, db)\r\n",
        "        table.to_csv(table_name + '.csv', index_label='index')\r\n",
        "        dct_tables[table_name] = table\r\n",
        "    cursor.close()\r\n",
        "    db.close()\r\n",
        "    return dct_tables\r\n",
        "\r\n",
        "dct_tables = to_csv()\r\n",
        "\r\n",
        "for table_name, df in dct_tables.items():\r\n",
        "    print(table_name, list(df.columns))\r\n",
        "\r\n",
        "dct_tables['albums'].head()"
      ],
      "execution_count": 64,
      "outputs": [
        {
          "output_type": "stream",
          "text": [
            "albums ['AlbumId', 'Title', 'ArtistId']\n",
            "sqlite_sequence ['name', 'seq']\n",
            "artists ['ArtistId', 'Name']\n",
            "customers ['CustomerId', 'FirstName', 'LastName', 'Company', 'Address', 'City', 'State', 'Country', 'PostalCode', 'Phone', 'Fax', 'Email', 'SupportRepId']\n",
            "employees ['EmployeeId', 'LastName', 'FirstName', 'Title', 'ReportsTo', 'BirthDate', 'HireDate', 'Address', 'City', 'State', 'Country', 'PostalCode', 'Phone', 'Fax', 'Email']\n",
            "genres ['GenreId', 'Name']\n",
            "invoices ['InvoiceId', 'CustomerId', 'InvoiceDate', 'BillingAddress', 'BillingCity', 'BillingState', 'BillingCountry', 'BillingPostalCode', 'Total']\n",
            "invoice_items ['InvoiceLineId', 'InvoiceId', 'TrackId', 'UnitPrice', 'Quantity']\n",
            "media_types ['MediaTypeId', 'Name']\n",
            "playlists ['PlaylistId', 'Name']\n",
            "playlist_track ['PlaylistId', 'TrackId']\n",
            "tracks ['TrackId', 'Name', 'AlbumId', 'MediaTypeId', 'GenreId', 'Composer', 'Milliseconds', 'Bytes', 'UnitPrice']\n",
            "sqlite_stat1 ['tbl', 'idx', 'stat']\n"
          ],
          "name": "stdout"
        },
        {
          "output_type": "execute_result",
          "data": {
            "text/html": [
              "<div>\n",
              "<style scoped>\n",
              "    .dataframe tbody tr th:only-of-type {\n",
              "        vertical-align: middle;\n",
              "    }\n",
              "\n",
              "    .dataframe tbody tr th {\n",
              "        vertical-align: top;\n",
              "    }\n",
              "\n",
              "    .dataframe thead th {\n",
              "        text-align: right;\n",
              "    }\n",
              "</style>\n",
              "<table border=\"1\" class=\"dataframe\">\n",
              "  <thead>\n",
              "    <tr style=\"text-align: right;\">\n",
              "      <th></th>\n",
              "      <th>AlbumId</th>\n",
              "      <th>Title</th>\n",
              "      <th>ArtistId</th>\n",
              "    </tr>\n",
              "  </thead>\n",
              "  <tbody>\n",
              "    <tr>\n",
              "      <th>0</th>\n",
              "      <td>1</td>\n",
              "      <td>For Those About To Rock We Salute You</td>\n",
              "      <td>1</td>\n",
              "    </tr>\n",
              "    <tr>\n",
              "      <th>1</th>\n",
              "      <td>2</td>\n",
              "      <td>Balls to the Wall</td>\n",
              "      <td>2</td>\n",
              "    </tr>\n",
              "    <tr>\n",
              "      <th>2</th>\n",
              "      <td>3</td>\n",
              "      <td>Restless and Wild</td>\n",
              "      <td>2</td>\n",
              "    </tr>\n",
              "    <tr>\n",
              "      <th>3</th>\n",
              "      <td>4</td>\n",
              "      <td>Let There Be Rock</td>\n",
              "      <td>1</td>\n",
              "    </tr>\n",
              "    <tr>\n",
              "      <th>4</th>\n",
              "      <td>5</td>\n",
              "      <td>Big Ones</td>\n",
              "      <td>3</td>\n",
              "    </tr>\n",
              "  </tbody>\n",
              "</table>\n",
              "</div>"
            ],
            "text/plain": [
              "   AlbumId                                  Title  ArtistId\n",
              "0        1  For Those About To Rock We Salute You         1\n",
              "1        2                      Balls to the Wall         2\n",
              "2        3                      Restless and Wild         2\n",
              "3        4                      Let There Be Rock         1\n",
              "4        5                               Big Ones         3"
            ]
          },
          "metadata": {
            "tags": []
          },
          "execution_count": 64
        }
      ]
    },
    {
      "cell_type": "markdown",
      "metadata": {
        "id": "qw5Pq4_g5heb"
      },
      "source": [
        "### Get schema"
      ]
    },
    {
      "cell_type": "code",
      "metadata": {
        "colab": {
          "base_uri": "https://localhost:8080/"
        },
        "id": "u6iC-Ky_EO8w",
        "outputId": "89fb238a-fb50-4d77-e9b1-f151214added"
      },
      "source": [
        "# https://stackoverflow.com/questions/11996394/is-there-a-way-to-get-a-schema-of-a-database-from-within-python\r\n",
        "def printSchema(connection):\r\n",
        "    for (tableName,) in connection.execute(\r\n",
        "        \"\"\"\r\n",
        "        select NAME from SQLITE_MASTER where TYPE='table' order by NAME;\r\n",
        "        \"\"\"\r\n",
        "    ):\r\n",
        "        print(\"{}:\".format(tableName))\r\n",
        "        for (\r\n",
        "            columnID, columnName, columnType,\r\n",
        "            columnNotNull, columnDefault, columnPK,\r\n",
        "        ) in connection.execute(\"pragma table_info('{}');\".format(tableName)):\r\n",
        "            print(\"  {id}: {name}({type}){null}{default}{pk}\".format(\r\n",
        "                id=columnID,\r\n",
        "                name=columnName,\r\n",
        "                type=columnType,\r\n",
        "                null=\" not null\" if columnNotNull else \"\",\r\n",
        "                default=\" [{}]\".format(columnDefault) if columnDefault else \"\",\r\n",
        "                pk=\" *{}\".format(columnPK) if columnPK else \"\",\r\n",
        "            ))\r\n",
        "with sqlite3.connect('chinook.db') as db:\r\n",
        "    printSchema(db)"
      ],
      "execution_count": 65,
      "outputs": [
        {
          "output_type": "stream",
          "text": [
            "albums:\n",
            "  0: AlbumId(INTEGER) not null *1\n",
            "  1: Title(NVARCHAR(160)) not null\n",
            "  2: ArtistId(INTEGER) not null\n",
            "artists:\n",
            "  0: ArtistId(INTEGER) not null *1\n",
            "  1: Name(NVARCHAR(120))\n",
            "customers:\n",
            "  0: CustomerId(INTEGER) not null *1\n",
            "  1: FirstName(NVARCHAR(40)) not null\n",
            "  2: LastName(NVARCHAR(20)) not null\n",
            "  3: Company(NVARCHAR(80))\n",
            "  4: Address(NVARCHAR(70))\n",
            "  5: City(NVARCHAR(40))\n",
            "  6: State(NVARCHAR(40))\n",
            "  7: Country(NVARCHAR(40))\n",
            "  8: PostalCode(NVARCHAR(10))\n",
            "  9: Phone(NVARCHAR(24))\n",
            "  10: Fax(NVARCHAR(24))\n",
            "  11: Email(NVARCHAR(60)) not null\n",
            "  12: SupportRepId(INTEGER)\n",
            "employees:\n",
            "  0: EmployeeId(INTEGER) not null *1\n",
            "  1: LastName(NVARCHAR(20)) not null\n",
            "  2: FirstName(NVARCHAR(20)) not null\n",
            "  3: Title(NVARCHAR(30))\n",
            "  4: ReportsTo(INTEGER)\n",
            "  5: BirthDate(DATETIME)\n",
            "  6: HireDate(DATETIME)\n",
            "  7: Address(NVARCHAR(70))\n",
            "  8: City(NVARCHAR(40))\n",
            "  9: State(NVARCHAR(40))\n",
            "  10: Country(NVARCHAR(40))\n",
            "  11: PostalCode(NVARCHAR(10))\n",
            "  12: Phone(NVARCHAR(24))\n",
            "  13: Fax(NVARCHAR(24))\n",
            "  14: Email(NVARCHAR(60))\n",
            "genres:\n",
            "  0: GenreId(INTEGER) not null *1\n",
            "  1: Name(NVARCHAR(120))\n",
            "invoice_items:\n",
            "  0: InvoiceLineId(INTEGER) not null *1\n",
            "  1: InvoiceId(INTEGER) not null\n",
            "  2: TrackId(INTEGER) not null\n",
            "  3: UnitPrice(NUMERIC(10,2)) not null\n",
            "  4: Quantity(INTEGER) not null\n",
            "invoices:\n",
            "  0: InvoiceId(INTEGER) not null *1\n",
            "  1: CustomerId(INTEGER) not null\n",
            "  2: InvoiceDate(DATETIME) not null\n",
            "  3: BillingAddress(NVARCHAR(70))\n",
            "  4: BillingCity(NVARCHAR(40))\n",
            "  5: BillingState(NVARCHAR(40))\n",
            "  6: BillingCountry(NVARCHAR(40))\n",
            "  7: BillingPostalCode(NVARCHAR(10))\n",
            "  8: Total(NUMERIC(10,2)) not null\n",
            "media_types:\n",
            "  0: MediaTypeId(INTEGER) not null *1\n",
            "  1: Name(NVARCHAR(120))\n",
            "playlist_track:\n",
            "  0: PlaylistId(INTEGER) not null *1\n",
            "  1: TrackId(INTEGER) not null *2\n",
            "playlists:\n",
            "  0: PlaylistId(INTEGER) not null *1\n",
            "  1: Name(NVARCHAR(120))\n",
            "sqlite_sequence:\n",
            "  0: name()\n",
            "  1: seq()\n",
            "sqlite_stat1:\n",
            "  0: tbl()\n",
            "  1: idx()\n",
            "  2: stat()\n",
            "tracks:\n",
            "  0: TrackId(INTEGER) not null *1\n",
            "  1: Name(NVARCHAR(200)) not null\n",
            "  2: AlbumId(INTEGER)\n",
            "  3: MediaTypeId(INTEGER) not null\n",
            "  4: GenreId(INTEGER)\n",
            "  5: Composer(NVARCHAR(220))\n",
            "  6: Milliseconds(INTEGER) not null\n",
            "  7: Bytes(INTEGER)\n",
            "  8: UnitPrice(NUMERIC(10,2)) not null\n"
          ],
          "name": "stdout"
        }
      ]
    },
    {
      "cell_type": "code",
      "metadata": {
        "colab": {
          "base_uri": "https://localhost:8080/"
        },
        "id": "1DYXlF6FPEt1",
        "outputId": "e2c6a49d-0584-4432-c9ed-b11f67e223b3"
      },
      "source": [
        "# https://stackoverflow.com/questions/54412977/sqlite3-python-get-list-of-primary-and-foreign-keys\r\n",
        "with sqlite3.connect('chinook.db') as db:\r\n",
        "    rows = db.execute(\"SELECT name FROM sqlite_master WHERE type = 'table'\")\r\n",
        "tables = [row[0] for row in rows]\r\n",
        "\r\n",
        "def sql_identifier(s):\r\n",
        "    return '\"' + s.replace('\"', '\"\"') + '\"'\r\n",
        "\r\n",
        "def parse_fk(fk):\r\n",
        "    \"\"\"\r\n",
        "    https://www.oreilly.com/library/view/using-sqlite/9781449394592/re176.html\r\n",
        "\r\n",
        "\r\n",
        "    | Column name | Column type | Meaning                             |\r\n",
        "    |-------------|-------------|-------------------------------------|\r\n",
        "    | id          | Integer     | Foreign key ID number               |\r\n",
        "    | seq         | Integer     | Column sequence number for this key |\r\n",
        "    | table       | Text        | Name of foreign table               |\r\n",
        "    | from        | Text        | Local column name                   |\r\n",
        "    | to          | Text        | Foreign column name                 |\r\n",
        "    | on_update   | Text        | ON UPDATE action                    |\r\n",
        "    | on_delete   | Text        | ON DELETE action                    |\r\n",
        "    | match       | Text        | Always NONE                         |\r\n",
        "    \"\"\"\r\n",
        "    lst_col_fk = ['id', 'seq', 'table', 'from', 'to', \r\n",
        "                  'on_update', 'on_delete', 'match']\r\n",
        "\r\n",
        "    return list(zip(lst_col_fk, fk))\r\n",
        "\r\n",
        "def parse_info(info):   \r\n",
        "    \"\"\"\r\n",
        "    https://www.oreilly.com/library/view/using-sqlite/9781449394592/re205.html\r\n",
        "\r\n",
        "    | Column name | Column type | Meaning                    |\r\n",
        "    |-------------|-------------|----------------------------|\r\n",
        "    | cid         | Integer     | Column index               |\r\n",
        "    | name        | Text        | Column name                |\r\n",
        "    | type        | Text        | Column type, as given      |\r\n",
        "    | notnull     | Integer     | Has a NOT NULL constraint  |\r\n",
        "    | dflt_value  | Text        | DEFAULT value              |\r\n",
        "    | pk          | Integer     | Is part of the PRIMARY KEY |\r\n",
        "\r\n",
        "\r\n",
        "    https://www.sqlite.org/pragma.html#pragma_table_info\r\n",
        "\r\n",
        "    pk\r\n",
        "     if is not part of the primary key:  0\r\n",
        "     else:                               index of the column in the primary key\r\n",
        "\r\n",
        "    \"\"\"\r\n",
        "    lst_col_info = ['cid', 'name', 'type', 'notnull', 'dflt_value', 'pk']\r\n",
        "\r\n",
        "    return list(zip(lst_col_info, info))\r\n",
        "\r\n",
        "dct_tables = {}\r\n",
        "for table in tables:#  [-2:-1]:\r\n",
        "    print(\"table: \" + table)\r\n",
        "    with sqlite3.connect('chinook.db') as db:\r\n",
        "        info = db.execute(\"PRAGMA table_info({})\".format(sql_identifier(table)))\r\n",
        "        fk = db.execute(\"PRAGMA foreign_key_list({})\".format(sql_identifier(table)))\r\n",
        "    dct_tables[table] = {\"info\": [parse_info(tupla) for tupla in info.fetchall()]}\r\n",
        "    dct_tables[table]['fk'] = [parse_fk(tupla) for tupla in fk.fetchall()]\r\n",
        "#dct_tables"
      ],
      "execution_count": 66,
      "outputs": [
        {
          "output_type": "stream",
          "text": [
            "table: albums\n",
            "table: sqlite_sequence\n",
            "table: artists\n",
            "table: customers\n",
            "table: employees\n",
            "table: genres\n",
            "table: invoices\n",
            "table: invoice_items\n",
            "table: media_types\n",
            "table: playlists\n",
            "table: playlist_track\n",
            "table: tracks\n",
            "table: sqlite_stat1\n"
          ],
          "name": "stdout"
        }
      ]
    },
    {
      "cell_type": "code",
      "metadata": {
        "colab": {
          "base_uri": "https://localhost:8080/"
        },
        "id": "E6TtRxldPErL",
        "outputId": "b01950a6-9e33-4300-f765-6d5b6ff8f325"
      },
      "source": [
        "# Foreign keys\r\n",
        "dct_df_fk = {}\r\n",
        "for table, dct in dct_tables.items():\r\n",
        "    df_fk = pd.DataFrame.from_dict([dict(lst) for lst in dct['fk']])\r\n",
        "    if not df_fk.empty:\r\n",
        "        dct_df_fk[table] = df_fk\r\n",
        "        print(f\"\\n{table}\\n{dct_df_fk[table]}\\n\")\r\n",
        "# dct_df_fk"
      ],
      "execution_count": 67,
      "outputs": [
        {
          "output_type": "stream",
          "text": [
            "\n",
            "albums\n",
            "   id  seq    table      from        to  on_update  on_delete match\n",
            "0   0    0  artists  ArtistId  ArtistId  NO ACTION  NO ACTION  NONE\n",
            "\n",
            "\n",
            "customers\n",
            "   id  seq      table          from          to  on_update  on_delete match\n",
            "0   0    0  employees  SupportRepId  EmployeeId  NO ACTION  NO ACTION  NONE\n",
            "\n",
            "\n",
            "employees\n",
            "   id  seq      table       from          to  on_update  on_delete match\n",
            "0   0    0  employees  ReportsTo  EmployeeId  NO ACTION  NO ACTION  NONE\n",
            "\n",
            "\n",
            "invoices\n",
            "   id  seq      table        from          to  on_update  on_delete match\n",
            "0   0    0  customers  CustomerId  CustomerId  NO ACTION  NO ACTION  NONE\n",
            "\n",
            "\n",
            "invoice_items\n",
            "   id  seq     table       from         to  on_update  on_delete match\n",
            "0   0    0    tracks    TrackId    TrackId  NO ACTION  NO ACTION  NONE\n",
            "1   1    0  invoices  InvoiceId  InvoiceId  NO ACTION  NO ACTION  NONE\n",
            "\n",
            "\n",
            "playlist_track\n",
            "   id  seq      table        from          to  on_update  on_delete match\n",
            "0   0    0     tracks     TrackId     TrackId  NO ACTION  NO ACTION  NONE\n",
            "1   1    0  playlists  PlaylistId  PlaylistId  NO ACTION  NO ACTION  NONE\n",
            "\n",
            "\n",
            "tracks\n",
            "   id  seq        table         from           to  on_update  on_delete match\n",
            "0   0    0  media_types  MediaTypeId  MediaTypeId  NO ACTION  NO ACTION  NONE\n",
            "1   1    0       genres      GenreId      GenreId  NO ACTION  NO ACTION  NONE\n",
            "2   2    0       albums      AlbumId      AlbumId  NO ACTION  NO ACTION  NONE\n",
            "\n"
          ],
          "name": "stdout"
        }
      ]
    },
    {
      "cell_type": "code",
      "metadata": {
        "colab": {
          "base_uri": "https://localhost:8080/"
        },
        "id": "ISecZ1KuPEor",
        "outputId": "2260dfa1-0bc3-496f-f2de-bc33e3a5e899"
      },
      "source": [
        "# info\r\n",
        "\r\n",
        "dct_df_info = {}\r\n",
        "for table, dct in dct_tables.items():\r\n",
        "    df_info = pd.DataFrame.from_dict([dict(lst) for lst in dct['info']])\r\n",
        "    if not df_info.empty:\r\n",
        "        dct_df_info[table] = df_info\r\n",
        "        print(f\"\\n{table}\\n{dct_df_info[table]}\\n\")\r\n",
        "# dct_df_info"
      ],
      "execution_count": 68,
      "outputs": [
        {
          "output_type": "stream",
          "text": [
            "\n",
            "albums\n",
            "   cid      name           type  notnull dflt_value  pk\n",
            "0    0   AlbumId        INTEGER        1       None   1\n",
            "1    1     Title  NVARCHAR(160)        1       None   0\n",
            "2    2  ArtistId        INTEGER        1       None   0\n",
            "\n",
            "\n",
            "sqlite_sequence\n",
            "   cid  name type  notnull dflt_value  pk\n",
            "0    0  name             0       None   0\n",
            "1    1   seq             0       None   0\n",
            "\n",
            "\n",
            "artists\n",
            "   cid      name           type  notnull dflt_value  pk\n",
            "0    0  ArtistId        INTEGER        1       None   1\n",
            "1    1      Name  NVARCHAR(120)        0       None   0\n",
            "\n",
            "\n",
            "customers\n",
            "    cid          name          type  notnull dflt_value  pk\n",
            "0     0    CustomerId       INTEGER        1       None   1\n",
            "1     1     FirstName  NVARCHAR(40)        1       None   0\n",
            "2     2      LastName  NVARCHAR(20)        1       None   0\n",
            "3     3       Company  NVARCHAR(80)        0       None   0\n",
            "4     4       Address  NVARCHAR(70)        0       None   0\n",
            "5     5          City  NVARCHAR(40)        0       None   0\n",
            "6     6         State  NVARCHAR(40)        0       None   0\n",
            "7     7       Country  NVARCHAR(40)        0       None   0\n",
            "8     8    PostalCode  NVARCHAR(10)        0       None   0\n",
            "9     9         Phone  NVARCHAR(24)        0       None   0\n",
            "10   10           Fax  NVARCHAR(24)        0       None   0\n",
            "11   11         Email  NVARCHAR(60)        1       None   0\n",
            "12   12  SupportRepId       INTEGER        0       None   0\n",
            "\n",
            "\n",
            "employees\n",
            "    cid        name          type  notnull dflt_value  pk\n",
            "0     0  EmployeeId       INTEGER        1       None   1\n",
            "1     1    LastName  NVARCHAR(20)        1       None   0\n",
            "2     2   FirstName  NVARCHAR(20)        1       None   0\n",
            "3     3       Title  NVARCHAR(30)        0       None   0\n",
            "4     4   ReportsTo       INTEGER        0       None   0\n",
            "5     5   BirthDate      DATETIME        0       None   0\n",
            "6     6    HireDate      DATETIME        0       None   0\n",
            "7     7     Address  NVARCHAR(70)        0       None   0\n",
            "8     8        City  NVARCHAR(40)        0       None   0\n",
            "9     9       State  NVARCHAR(40)        0       None   0\n",
            "10   10     Country  NVARCHAR(40)        0       None   0\n",
            "11   11  PostalCode  NVARCHAR(10)        0       None   0\n",
            "12   12       Phone  NVARCHAR(24)        0       None   0\n",
            "13   13         Fax  NVARCHAR(24)        0       None   0\n",
            "14   14       Email  NVARCHAR(60)        0       None   0\n",
            "\n",
            "\n",
            "genres\n",
            "   cid     name           type  notnull dflt_value  pk\n",
            "0    0  GenreId        INTEGER        1       None   1\n",
            "1    1     Name  NVARCHAR(120)        0       None   0\n",
            "\n",
            "\n",
            "invoices\n",
            "   cid               name           type  notnull dflt_value  pk\n",
            "0    0          InvoiceId        INTEGER        1       None   1\n",
            "1    1         CustomerId        INTEGER        1       None   0\n",
            "2    2        InvoiceDate       DATETIME        1       None   0\n",
            "3    3     BillingAddress   NVARCHAR(70)        0       None   0\n",
            "4    4        BillingCity   NVARCHAR(40)        0       None   0\n",
            "5    5       BillingState   NVARCHAR(40)        0       None   0\n",
            "6    6     BillingCountry   NVARCHAR(40)        0       None   0\n",
            "7    7  BillingPostalCode   NVARCHAR(10)        0       None   0\n",
            "8    8              Total  NUMERIC(10,2)        1       None   0\n",
            "\n",
            "\n",
            "invoice_items\n",
            "   cid           name           type  notnull dflt_value  pk\n",
            "0    0  InvoiceLineId        INTEGER        1       None   1\n",
            "1    1      InvoiceId        INTEGER        1       None   0\n",
            "2    2        TrackId        INTEGER        1       None   0\n",
            "3    3      UnitPrice  NUMERIC(10,2)        1       None   0\n",
            "4    4       Quantity        INTEGER        1       None   0\n",
            "\n",
            "\n",
            "media_types\n",
            "   cid         name           type  notnull dflt_value  pk\n",
            "0    0  MediaTypeId        INTEGER        1       None   1\n",
            "1    1         Name  NVARCHAR(120)        0       None   0\n",
            "\n",
            "\n",
            "playlists\n",
            "   cid        name           type  notnull dflt_value  pk\n",
            "0    0  PlaylistId        INTEGER        1       None   1\n",
            "1    1        Name  NVARCHAR(120)        0       None   0\n",
            "\n",
            "\n",
            "playlist_track\n",
            "   cid        name     type  notnull dflt_value  pk\n",
            "0    0  PlaylistId  INTEGER        1       None   1\n",
            "1    1     TrackId  INTEGER        1       None   2\n",
            "\n",
            "\n",
            "tracks\n",
            "   cid          name           type  notnull dflt_value  pk\n",
            "0    0       TrackId        INTEGER        1       None   1\n",
            "1    1          Name  NVARCHAR(200)        1       None   0\n",
            "2    2       AlbumId        INTEGER        0       None   0\n",
            "3    3   MediaTypeId        INTEGER        1       None   0\n",
            "4    4       GenreId        INTEGER        0       None   0\n",
            "5    5      Composer  NVARCHAR(220)        0       None   0\n",
            "6    6  Milliseconds        INTEGER        1       None   0\n",
            "7    7         Bytes        INTEGER        0       None   0\n",
            "8    8     UnitPrice  NUMERIC(10,2)        1       None   0\n",
            "\n",
            "\n",
            "sqlite_stat1\n",
            "   cid  name type  notnull dflt_value  pk\n",
            "0    0   tbl             0       None   0\n",
            "1    1   idx             0       None   0\n",
            "2    2  stat             0       None   0\n",
            "\n"
          ],
          "name": "stdout"
        }
      ]
    },
    {
      "cell_type": "code",
      "metadata": {
        "colab": {
          "base_uri": "https://localhost:8080/",
          "height": 437
        },
        "id": "rTKQqqjV_jlX",
        "outputId": "8d4fbf8d-93aa-4e0d-8a0d-e75e5b29132c"
      },
      "source": [
        "# tables\r\n",
        "import pandas as pd\r\n",
        "import sqlite3\r\n",
        "with sqlite3.connect('chinook.db') as db:\r\n",
        "    query = \"SELECT name FROM sqlite_master WHERE type='table'\"\r\n",
        "    tables = pd.read_sql_query(query, db)\r\n",
        "tables"
      ],
      "execution_count": 69,
      "outputs": [
        {
          "output_type": "execute_result",
          "data": {
            "text/html": [
              "<div>\n",
              "<style scoped>\n",
              "    .dataframe tbody tr th:only-of-type {\n",
              "        vertical-align: middle;\n",
              "    }\n",
              "\n",
              "    .dataframe tbody tr th {\n",
              "        vertical-align: top;\n",
              "    }\n",
              "\n",
              "    .dataframe thead th {\n",
              "        text-align: right;\n",
              "    }\n",
              "</style>\n",
              "<table border=\"1\" class=\"dataframe\">\n",
              "  <thead>\n",
              "    <tr style=\"text-align: right;\">\n",
              "      <th></th>\n",
              "      <th>name</th>\n",
              "    </tr>\n",
              "  </thead>\n",
              "  <tbody>\n",
              "    <tr>\n",
              "      <th>0</th>\n",
              "      <td>albums</td>\n",
              "    </tr>\n",
              "    <tr>\n",
              "      <th>1</th>\n",
              "      <td>sqlite_sequence</td>\n",
              "    </tr>\n",
              "    <tr>\n",
              "      <th>2</th>\n",
              "      <td>artists</td>\n",
              "    </tr>\n",
              "    <tr>\n",
              "      <th>3</th>\n",
              "      <td>customers</td>\n",
              "    </tr>\n",
              "    <tr>\n",
              "      <th>4</th>\n",
              "      <td>employees</td>\n",
              "    </tr>\n",
              "    <tr>\n",
              "      <th>5</th>\n",
              "      <td>genres</td>\n",
              "    </tr>\n",
              "    <tr>\n",
              "      <th>6</th>\n",
              "      <td>invoices</td>\n",
              "    </tr>\n",
              "    <tr>\n",
              "      <th>7</th>\n",
              "      <td>invoice_items</td>\n",
              "    </tr>\n",
              "    <tr>\n",
              "      <th>8</th>\n",
              "      <td>media_types</td>\n",
              "    </tr>\n",
              "    <tr>\n",
              "      <th>9</th>\n",
              "      <td>playlists</td>\n",
              "    </tr>\n",
              "    <tr>\n",
              "      <th>10</th>\n",
              "      <td>playlist_track</td>\n",
              "    </tr>\n",
              "    <tr>\n",
              "      <th>11</th>\n",
              "      <td>tracks</td>\n",
              "    </tr>\n",
              "    <tr>\n",
              "      <th>12</th>\n",
              "      <td>sqlite_stat1</td>\n",
              "    </tr>\n",
              "  </tbody>\n",
              "</table>\n",
              "</div>"
            ],
            "text/plain": [
              "               name\n",
              "0            albums\n",
              "1   sqlite_sequence\n",
              "2           artists\n",
              "3         customers\n",
              "4         employees\n",
              "5            genres\n",
              "6          invoices\n",
              "7     invoice_items\n",
              "8       media_types\n",
              "9         playlists\n",
              "10   playlist_track\n",
              "11           tracks\n",
              "12     sqlite_stat1"
            ]
          },
          "metadata": {
            "tags": []
          },
          "execution_count": 69
        }
      ]
    },
    {
      "cell_type": "code",
      "metadata": {
        "id": "H5NedBmyDDXB"
      },
      "source": [
        ""
      ],
      "execution_count": 69,
      "outputs": []
    }
  ]
}